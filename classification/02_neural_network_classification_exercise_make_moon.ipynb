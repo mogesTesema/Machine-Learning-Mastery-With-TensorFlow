{
 "cells": [
  {
   "cell_type": "markdown",
   "metadata": {
    "id": "CMnGDRZNqO9g"
   },
   "source": [
    "### Moon Data set classification\n",
    "We are gonna classify moon data using neural network"
   ]
  },
  {
   "cell_type": "code",
   "execution_count": null,
   "metadata": {
    "colab": {
     "base_uri": "https://localhost:8080/"
    },
    "executionInfo": {
     "elapsed": 17,
     "status": "ok",
     "timestamp": 1758096605707,
     "user": {
      "displayName": "Moges Tesema",
      "userId": "14633968793904231207"
     },
     "user_tz": -180
    },
    "id": "p_n2T_KeiZu6",
    "outputId": "238362a4-41cc-4db8-c272-b344f871d942"
   },
   "outputs": [],
   "source": [
    "# import data sets\n",
    "import tensorflow as tf\n",
    "from sklearn.datasets import make_moons\n",
    "import pandas as pd\n",
    "n_sample = 1000\n",
    "moon_data = make_moons(n_samples=n_sample,shuffle=True,noise=0.03)\n",
    "X, y = moon_data\n",
    "# Convert loaded data to Dataframe, colum-major data retrieval framwork\n",
    "moon_dataFrame = pd.DataFrame({\"X0\":X[:,0],\"X1\":X[:,1],\"y\":y})\n",
    "# Visualize row data\n",
    "print(moon_dataFrame)\n"
   ]
  },
  {
   "cell_type": "code",
   "execution_count": null,
   "metadata": {
    "colab": {
     "base_uri": "https://localhost:8080/",
     "height": 447
    },
    "executionInfo": {
     "elapsed": 228,
     "status": "ok",
     "timestamp": 1758095841190,
     "user": {
      "displayName": "Moges Tesema",
      "userId": "14633968793904231207"
     },
     "user_tz": -180
    },
    "id": "MjwzUiN8l0G1",
    "outputId": "e21d511f-fa96-4cab-cea8-94f4472a55dc"
   },
   "outputs": [],
   "source": [
    "# visualize data\n",
    "import matplotlib.pyplot as plt\n",
    "# plt.figure(figsize=(10,10))\n",
    "# plt.plot(moon_dataFrame[\"X1\"],moon_dataFrame[\"X0\"])\n",
    "# # plt.plot(y,moon_dataFrame[\"X1\"],color=\"green\",label=\"X1\")\n",
    "# plt.legend()\n",
    "plt.scatter(moon_dataFrame[\"X0\"],moon_dataFrame[\"X1\"],c=moon_dataFrame[\"y\"],cmap=plt.cm.RdYlBu)"
   ]
  },
  {
   "cell_type": "markdown",
   "metadata": {
    "id": "FwxUMKd3rwlh"
   },
   "source": [
    "### We are gonna to classify two point of x as upper moon or lower moon are they belong\n",
    "To do so, we have classify data into:\n",
    "*training Data*- about 80% *validation data*- about 13% and *test data*-about 7% of total data."
   ]
  },
  {
   "cell_type": "code",
   "execution_count": null,
   "metadata": {
    "id": "knsyZDurskft"
   },
   "outputs": [],
   "source": [
    "# classify data to for training and testing/validation\n",
    "from sklearn.model_selection import train_test_split\n",
    "X_train,X_test_validate,y_train, y_test_validate =train_test_split(X,y, train_size=0.8)\n",
    "\n"
   ]
  },
  {
   "cell_type": "code",
   "execution_count": null,
   "metadata": {
    "id": "TD6Z1XOAv3kI"
   },
   "outputs": [],
   "source": [
    "# classify data for testing and validation\n",
    "X_test,X_validate,y_test,y_validate = train_test_split(X_test_validate,y_test_validate,train_size=0.45)\n"
   ]
  },
  {
   "cell_type": "markdown",
   "metadata": {
    "id": "WmtTSA04xBk6"
   },
   "source": [
    "### let's build a neural network to find pattern on those data\n",
    "\n",
    "\n",
    "*   input layer two neurans with Relu activation function\n",
    "*   about 2 hidden layers four neurons per layer with Relu activation function\n",
    "* output layer with on neurons with Relu activation function\n",
    "* Adam optimizer\n",
    "* Accuracy metrics\n",
    "\n"
   ]
  },
  {
   "cell_type": "code",
   "execution_count": null,
   "metadata": {
    "colab": {
     "base_uri": "https://localhost:8080/"
    },
    "executionInfo": {
     "elapsed": 29676,
     "status": "ok",
     "timestamp": 1758098650959,
     "user": {
      "displayName": "Moges Tesema",
      "userId": "14633968793904231207"
     },
     "user_tz": -180
    },
    "id": "wLW4edfdwlYl",
    "outputId": "9f58bee2-7685-4282-ede2-78c21de786c7"
   },
   "outputs": [],
   "source": [
    "# Set random seed\n",
    "tf.random.set_seed(42)\n",
    "\n",
    "# Create a model\n",
    "model_1 = tf.keras.Sequential([\n",
    "    tf.keras.layers.Dense(2,activation=\"relu\"),\n",
    "    tf.keras.layers.Dense(4,activation=\"relu\"),\n",
    "    tf.keras.layers.Dense(4,activation=\"relu\"),\n",
    "    tf.keras.layers.Dense(1,activation=\"sigmoid\")\n",
    "\n",
    "])\n",
    "# Compile the model\n",
    "model_1.compile(loss=tf.keras.losses.BinaryCrossentropy(),\n",
    "                optimizer=tf.keras.optimizers.Adam(),\n",
    "                metrics=[\"accuracy\"])\n",
    "# Fit the model\n",
    "print(X_train,y_train)\n",
    "history_model_1 = model_1.fit(X_train,y_train, epochs=200)"
   ]
  },
  {
   "cell_type": "code",
   "execution_count": null,
   "metadata": {
    "colab": {
     "base_uri": "https://localhost:8080/",
     "height": 489
    },
    "executionInfo": {
     "elapsed": 357,
     "status": "ok",
     "timestamp": 1758098696592,
     "user": {
      "displayName": "Moges Tesema",
      "userId": "14633968793904231207"
     },
     "user_tz": -180
    },
    "id": "f8pKyRvq05Tf",
    "outputId": "1392ee84-9a64-42a7-f1c5-31237837d0db"
   },
   "outputs": [],
   "source": [
    "plt.plot(range(len(history_model_1.history[\"accuracy\"])),history_model_1.history[\"accuracy\"] ,color=\"green\", label=\"accuracy\")\n",
    "plt.plot(range(len(history_model_1.history[\"loss\"])),history_model_1.history[\"loss\"],color=\"red\",label=\"loss\")\n",
    "plt.title(\"moon_data classification model accuracy and loss result with respect to epochs\")\n",
    "plt.xlabel(\"epochs\")\n",
    "plt.ylabel(\"loss and accuracy\")\n",
    "plt.legend()\n",
    "\n"
   ]
  },
  {
   "cell_type": "code",
   "execution_count": null,
   "metadata": {
    "colab": {
     "base_uri": "https://localhost:8080/"
    },
    "executionInfo": {
     "elapsed": 135,
     "status": "ok",
     "timestamp": 1758098794336,
     "user": {
      "displayName": "Moges Tesema",
      "userId": "14633968793904231207"
     },
     "user_tz": -180
    },
    "id": "6tHDbryB2Zl3",
    "outputId": "18983cb6-786c-4ce3-cfe6-5f3e2084f9ae"
   },
   "outputs": [],
   "source": [
    "model_1.evaluate(X_validate,y_validate)"
   ]
  },
  {
   "cell_type": "code",
   "execution_count": null,
   "metadata": {
    "colab": {
     "base_uri": "https://localhost:8080/"
    },
    "executionInfo": {
     "elapsed": 149,
     "status": "ok",
     "timestamp": 1758099550008,
     "user": {
      "displayName": "Moges Tesema",
      "userId": "14633968793904231207"
     },
     "user_tz": -180
    },
    "id": "4b3e0NBo2qWe",
    "outputId": "859437ef-dce1-431c-b49c-d757e82b4767"
   },
   "outputs": [],
   "source": [
    "y_pred = model_1.predict(X_test)\n",
    "y_pred = tf.round(tf.squeeze(y_pred))\n",
    "result = y_pred == y_test\n",
    "true_result = [yeah for yeah in result if yeah]\n",
    "print(f\"{(len(true_result)/len(result))*100:.2f}\")\n",
    "\n"
   ]
  }
 ],
 "metadata": {
  "colab": {
   "authorship_tag": "ABX9TyPv8f5aXSsLN0U13eiLeVF0",
   "provenance": []
  },
  "kernelspec": {
   "display_name": "Python 3",
   "name": "python3"
  },
  "language_info": {
   "name": "python"
  }
 },
 "nbformat": 4,
 "nbformat_minor": 0
}
