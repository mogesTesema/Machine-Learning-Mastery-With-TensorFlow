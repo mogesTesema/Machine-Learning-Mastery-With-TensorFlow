{
 "cells": [
  {
   "cell_type": "markdown",
   "id": "73c46659",
   "metadata": {
    "papermill": {
     "duration": 0.001716,
     "end_time": "2025-10-23T11:47:50.631487",
     "exception": false,
     "start_time": "2025-10-23T11:47:50.629771",
     "status": "completed"
    },
    "tags": []
   },
   "source": [
    "# Milestone Project 1: Food Vision Big\n"
   ]
  },
  {
   "cell_type": "code",
   "execution_count": 1,
   "id": "fab26735",
   "metadata": {
    "execution": {
     "iopub.execute_input": "2025-10-23T11:47:50.635909Z",
     "iopub.status.busy": "2025-10-23T11:47:50.635277Z",
     "iopub.status.idle": "2025-10-23T11:47:50.779064Z",
     "shell.execute_reply": "2025-10-23T11:47:50.778307Z"
    },
    "papermill": {
     "duration": 0.147386,
     "end_time": "2025-10-23T11:47:50.780469",
     "exception": false,
     "start_time": "2025-10-23T11:47:50.633083",
     "status": "completed"
    },
    "tags": []
   },
   "outputs": [
    {
     "name": "stdout",
     "output_type": "stream",
     "text": [
      "GPU 0: Tesla T4 (UUID: GPU-a7ba7d26-5f3c-76a2-a07b-68784f9a8035)\r\n",
      "GPU 1: Tesla T4 (UUID: GPU-3bd21e00-fa63-79b3-eae8-6003a2fffca4)\r\n"
     ]
    }
   ],
   "source": [
    "!nvidia-smi -L"
   ]
  },
  {
   "cell_type": "code",
   "execution_count": 2,
   "id": "4d2e8031",
   "metadata": {
    "execution": {
     "iopub.execute_input": "2025-10-23T11:47:50.784133Z",
     "iopub.status.busy": "2025-10-23T11:47:50.783889Z",
     "iopub.status.idle": "2025-10-23T11:47:51.084768Z",
     "shell.execute_reply": "2025-10-23T11:47:51.083839Z"
    },
    "papermill": {
     "duration": 0.304217,
     "end_time": "2025-10-23T11:47:51.086155",
     "exception": false,
     "start_time": "2025-10-23T11:47:50.781938",
     "status": "completed"
    },
    "tags": []
   },
   "outputs": [
    {
     "name": "stdout",
     "output_type": "stream",
     "text": [
      "--2025-10-23 11:47:50--  https://raw.githubusercontent.com/mrdbourke/tensorflow-deep-learning/refs/heads/main/extras/helper_functions.py\r\n",
      "Resolving raw.githubusercontent.com (raw.githubusercontent.com)... 185.199.109.133, 185.199.110.133, 185.199.111.133, ...\r\n",
      "Connecting to raw.githubusercontent.com (raw.githubusercontent.com)|185.199.109.133|:443... connected.\r\n",
      "HTTP request sent, awaiting response... 200 OK\r\n",
      "Length: 10246 (10K) [text/plain]\r\n",
      "Saving to: ‘helper_functions.py’\r\n",
      "\r\n",
      "helper_functions.py 100%[===================>]  10.01K  --.-KB/s    in 0.001s  \r\n",
      "\r\n",
      "2025-10-23 11:47:50 (14.7 MB/s) - ‘helper_functions.py’ saved [10246/10246]\r\n",
      "\r\n"
     ]
    }
   ],
   "source": [
    "!wget https://raw.githubusercontent.com/mrdbourke/tensorflow-deep-learning/refs/heads/main/extras/helper_functions.py"
   ]
  },
  {
   "cell_type": "code",
   "execution_count": null,
   "id": "3548ed43",
   "metadata": {
    "papermill": {
     "duration": 0.001176,
     "end_time": "2025-10-23T11:47:51.088855",
     "exception": false,
     "start_time": "2025-10-23T11:47:51.087679",
     "status": "completed"
    },
    "tags": []
   },
   "outputs": [],
   "source": []
  }
 ],
 "metadata": {
  "kaggle": {
   "accelerator": "nvidiaTeslaT4",
   "dataSources": [],
   "dockerImageVersionId": 31154,
   "isGpuEnabled": true,
   "isInternetEnabled": true,
   "language": "python",
   "sourceType": "notebook"
  },
  "kernelspec": {
   "display_name": "Python 3",
   "language": "python",
   "name": "python3"
  },
  "language_info": {
   "codemirror_mode": {
    "name": "ipython",
    "version": 3
   },
   "file_extension": ".py",
   "mimetype": "text/x-python",
   "name": "python",
   "nbconvert_exporter": "python",
   "pygments_lexer": "ipython3",
   "version": "3.11.13"
  },
  "papermill": {
   "default_parameters": {},
   "duration": 4.266234,
   "end_time": "2025-10-23T11:47:51.306701",
   "environment_variables": {},
   "exception": null,
   "input_path": "__notebook__.ipynb",
   "output_path": "__notebook__.ipynb",
   "parameters": {},
   "start_time": "2025-10-23T11:47:47.040467",
   "version": "2.6.0"
  }
 },
 "nbformat": 4,
 "nbformat_minor": 5
}
