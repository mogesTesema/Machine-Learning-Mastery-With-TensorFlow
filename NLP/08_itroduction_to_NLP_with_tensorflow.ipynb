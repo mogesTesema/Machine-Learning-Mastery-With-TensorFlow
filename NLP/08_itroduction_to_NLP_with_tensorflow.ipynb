{
 "cells": [
  {
   "cell_type": "markdown",
   "id": "480da98a",
   "metadata": {
    "papermill": {
     "duration": 0.009422,
     "end_time": "2025-10-29T12:59:59.343956",
     "exception": false,
     "start_time": "2025-10-29T12:59:59.334534",
     "status": "completed"
    },
    "tags": []
   },
   "source": [
    "# Introduction to NLP Fundematals in TensorFlow\n",
    "NLP has the goal of deriving information out of natural language(could be sequences text or speech)\n",
    "Another common term for NLP problems is sequence to squence problems(seq2seq)"
   ]
  },
  {
   "cell_type": "code",
   "execution_count": 1,
   "id": "16233f66",
   "metadata": {
    "execution": {
     "iopub.execute_input": "2025-10-29T12:59:59.361140Z",
     "iopub.status.busy": "2025-10-29T12:59:59.360933Z",
     "iopub.status.idle": "2025-10-29T12:59:59.503592Z",
     "shell.execute_reply": "2025-10-29T12:59:59.502697Z"
    },
    "papermill": {
     "duration": 0.152489,
     "end_time": "2025-10-29T12:59:59.504781",
     "exception": false,
     "start_time": "2025-10-29T12:59:59.352292",
     "status": "completed"
    },
    "tags": []
   },
   "outputs": [
    {
     "name": "stdout",
     "output_type": "stream",
     "text": [
      "GPU 0: Tesla T4 (UUID: GPU-a6d7f4a0-63de-17ca-650a-b2af20a0988a)\r\n",
      "GPU 1: Tesla T4 (UUID: GPU-90befa94-1d5d-6e8a-f26c-c6663fba0d8a)\r\n"
     ]
    }
   ],
   "source": [
    "!nvidia-smi -L"
   ]
  },
  {
   "cell_type": "markdown",
   "id": "09c34d9a",
   "metadata": {
    "papermill": {
     "duration": 0.007899,
     "end_time": "2025-10-29T12:59:59.520933",
     "exception": false,
     "start_time": "2025-10-29T12:59:59.513034",
     "status": "completed"
    },
    "tags": []
   },
   "source": []
  },
  {
   "cell_type": "markdown",
   "id": "c2e49dde",
   "metadata": {
    "papermill": {
     "duration": 0.0079,
     "end_time": "2025-10-29T12:59:59.537138",
     "exception": false,
     "start_time": "2025-10-29T12:59:59.529238",
     "status": "completed"
    },
    "tags": []
   },
   "source": [
    "## Get helper functions"
   ]
  },
  {
   "cell_type": "code",
   "execution_count": 2,
   "id": "855afbb8",
   "metadata": {
    "execution": {
     "iopub.execute_input": "2025-10-29T12:59:59.554119Z",
     "iopub.status.busy": "2025-10-29T12:59:59.553891Z",
     "iopub.status.idle": "2025-10-29T12:59:59.833547Z",
     "shell.execute_reply": "2025-10-29T12:59:59.832857Z"
    },
    "papermill": {
     "duration": 0.289562,
     "end_time": "2025-10-29T12:59:59.834664",
     "exception": false,
     "start_time": "2025-10-29T12:59:59.545102",
     "status": "completed"
    },
    "tags": []
   },
   "outputs": [
    {
     "name": "stdout",
     "output_type": "stream",
     "text": [
      "--2025-10-29 12:59:59--  https://raw.githubusercontent.com/mrdbourke/tensorflow-deep-learning/refs/heads/main/extras/helper_functions.py\r\n",
      "Resolving raw.githubusercontent.com (raw.githubusercontent.com)... 185.199.109.133, 185.199.108.133, 185.199.110.133, ...\r\n",
      "Connecting to raw.githubusercontent.com (raw.githubusercontent.com)|185.199.109.133|:443... connected.\r\n",
      "HTTP request sent, awaiting response... 200 OK\r\n",
      "Length: 10246 (10K) [text/plain]\r\n",
      "Saving to: ‘helper_functions.py’\r\n",
      "\r\n",
      "helper_functions.py 100%[===================>]  10.01K  --.-KB/s    in 0s      \r\n",
      "\r\n",
      "2025-10-29 12:59:59 (87.2 MB/s) - ‘helper_functions.py’ saved [10246/10246]\r\n",
      "\r\n"
     ]
    }
   ],
   "source": [
    "!wget https://raw.githubusercontent.com/mrdbourke/tensorflow-deep-learning/refs/heads/main/extras/helper_functions.py"
   ]
  },
  {
   "cell_type": "code",
   "execution_count": 3,
   "id": "bc6b9e59",
   "metadata": {
    "execution": {
     "iopub.execute_input": "2025-10-29T12:59:59.852667Z",
     "iopub.status.busy": "2025-10-29T12:59:59.852092Z",
     "iopub.status.idle": "2025-10-29T13:00:14.698139Z",
     "shell.execute_reply": "2025-10-29T13:00:14.697531Z"
    },
    "papermill": {
     "duration": 14.856406,
     "end_time": "2025-10-29T13:00:14.699567",
     "exception": false,
     "start_time": "2025-10-29T12:59:59.843161",
     "status": "completed"
    },
    "tags": []
   },
   "outputs": [
    {
     "name": "stderr",
     "output_type": "stream",
     "text": [
      "2025-10-29 13:00:01.396706: E external/local_xla/xla/stream_executor/cuda/cuda_fft.cc:477] Unable to register cuFFT factory: Attempting to register factory for plugin cuFFT when one has already been registered\n",
      "WARNING: All log messages before absl::InitializeLog() is called are written to STDERR\n",
      "E0000 00:00:1761742801.591264      19 cuda_dnn.cc:8310] Unable to register cuDNN factory: Attempting to register factory for plugin cuDNN when one has already been registered\n",
      "E0000 00:00:1761742801.652006      19 cuda_blas.cc:1418] Unable to register cuBLAS factory: Attempting to register factory for plugin cuBLAS when one has already been registered\n"
     ]
    }
   ],
   "source": [
    "from helper_functions import create_tensorboard_callback,unzip_data,plot_loss_curves,compare_historys"
   ]
  },
  {
   "cell_type": "markdown",
   "id": "c2287705",
   "metadata": {
    "papermill": {
     "duration": 0.008278,
     "end_time": "2025-10-29T13:00:14.716677",
     "exception": false,
     "start_time": "2025-10-29T13:00:14.708399",
     "status": "completed"
    },
    "tags": []
   },
   "source": [
    "## Get a text dataset\n",
    "the dataset we're going to be using is Kaggle's introduction to NLP dataset(text samples of tweets labelled as diaster or not diaster)."
   ]
  },
  {
   "cell_type": "code",
   "execution_count": 4,
   "id": "94b7f768",
   "metadata": {
    "execution": {
     "iopub.execute_input": "2025-10-29T13:00:14.734641Z",
     "iopub.status.busy": "2025-10-29T13:00:14.734146Z",
     "iopub.status.idle": "2025-10-29T13:00:14.982056Z",
     "shell.execute_reply": "2025-10-29T13:00:14.981274Z"
    },
    "papermill": {
     "duration": 0.25825,
     "end_time": "2025-10-29T13:00:14.983399",
     "exception": false,
     "start_time": "2025-10-29T13:00:14.725149",
     "status": "completed"
    },
    "tags": []
   },
   "outputs": [
    {
     "name": "stdout",
     "output_type": "stream",
     "text": [
      "--2025-10-29 13:00:14--  https://storage.googleapis.com/ztm_tf_course/nlp_getting_started.zip\r\n",
      "Resolving storage.googleapis.com (storage.googleapis.com)... 142.250.99.207, 74.125.199.207, 142.251.188.207, ...\r\n",
      "Connecting to storage.googleapis.com (storage.googleapis.com)|142.250.99.207|:443... connected.\r\n",
      "HTTP request sent, awaiting response... 200 OK\r\n",
      "Length: 607343 (593K) [application/zip]\r\n",
      "Saving to: ‘nlp_getting_started.zip’\r\n",
      "\r\n",
      "nlp_getting_started 100%[===================>] 593.11K  --.-KB/s    in 0.006s  \r\n",
      "\r\n",
      "2025-10-29 13:00:14 (92.5 MB/s) - ‘nlp_getting_started.zip’ saved [607343/607343]\r\n",
      "\r\n"
     ]
    }
   ],
   "source": [
    "!wget https://storage.googleapis.com/ztm_tf_course/nlp_getting_started.zip"
   ]
  },
  {
   "cell_type": "code",
   "execution_count": 5,
   "id": "600b812c",
   "metadata": {
    "execution": {
     "iopub.execute_input": "2025-10-29T13:00:15.010929Z",
     "iopub.status.busy": "2025-10-29T13:00:15.010648Z",
     "iopub.status.idle": "2025-10-29T13:00:15.027287Z",
     "shell.execute_reply": "2025-10-29T13:00:15.026476Z"
    },
    "papermill": {
     "duration": 0.028202,
     "end_time": "2025-10-29T13:00:15.028666",
     "exception": false,
     "start_time": "2025-10-29T13:00:15.000464",
     "status": "completed"
    },
    "tags": []
   },
   "outputs": [],
   "source": [
    "# unzip the data\n",
    "unzip_data(\"nlp_getting_started.zip\")"
   ]
  },
  {
   "cell_type": "code",
   "execution_count": 6,
   "id": "7cbf7e79",
   "metadata": {
    "execution": {
     "iopub.execute_input": "2025-10-29T13:00:15.047105Z",
     "iopub.status.busy": "2025-10-29T13:00:15.046868Z",
     "iopub.status.idle": "2025-10-29T13:00:15.050059Z",
     "shell.execute_reply": "2025-10-29T13:00:15.049548Z"
    },
    "papermill": {
     "duration": 0.013411,
     "end_time": "2025-10-29T13:00:15.051055",
     "exception": false,
     "start_time": "2025-10-29T13:00:15.037644",
     "status": "completed"
    },
    "tags": []
   },
   "outputs": [],
   "source": [
    "import tensorflow as tf\n",
    "import pandas as pd\n"
   ]
  },
  {
   "cell_type": "code",
   "execution_count": 7,
   "id": "b21f2e2c",
   "metadata": {
    "execution": {
     "iopub.execute_input": "2025-10-29T13:00:15.069079Z",
     "iopub.status.busy": "2025-10-29T13:00:15.068661Z",
     "iopub.status.idle": "2025-10-29T13:00:15.106913Z",
     "shell.execute_reply": "2025-10-29T13:00:15.106335Z"
    },
    "papermill": {
     "duration": 0.04853,
     "end_time": "2025-10-29T13:00:15.108090",
     "exception": false,
     "start_time": "2025-10-29T13:00:15.059560",
     "status": "completed"
    },
    "tags": []
   },
   "outputs": [],
   "source": [
    "train_df = pd.read_csv(\"train.csv\")\n",
    "test_df = pd.read_csv(\"test.csv\")"
   ]
  },
  {
   "cell_type": "code",
   "execution_count": 8,
   "id": "0d5f2ed4",
   "metadata": {
    "execution": {
     "iopub.execute_input": "2025-10-29T13:00:15.126263Z",
     "iopub.status.busy": "2025-10-29T13:00:15.125893Z",
     "iopub.status.idle": "2025-10-29T13:00:15.147829Z",
     "shell.execute_reply": "2025-10-29T13:00:15.147251Z"
    },
    "papermill": {
     "duration": 0.032053,
     "end_time": "2025-10-29T13:00:15.148913",
     "exception": false,
     "start_time": "2025-10-29T13:00:15.116860",
     "status": "completed"
    },
    "tags": []
   },
   "outputs": [
    {
     "data": {
      "text/html": [
       "<div>\n",
       "<style scoped>\n",
       "    .dataframe tbody tr th:only-of-type {\n",
       "        vertical-align: middle;\n",
       "    }\n",
       "\n",
       "    .dataframe tbody tr th {\n",
       "        vertical-align: top;\n",
       "    }\n",
       "\n",
       "    .dataframe thead th {\n",
       "        text-align: right;\n",
       "    }\n",
       "</style>\n",
       "<table border=\"1\" class=\"dataframe\">\n",
       "  <thead>\n",
       "    <tr style=\"text-align: right;\">\n",
       "      <th></th>\n",
       "      <th>id</th>\n",
       "      <th>keyword</th>\n",
       "      <th>location</th>\n",
       "      <th>text</th>\n",
       "      <th>target</th>\n",
       "    </tr>\n",
       "  </thead>\n",
       "  <tbody>\n",
       "    <tr>\n",
       "      <th>0</th>\n",
       "      <td>1</td>\n",
       "      <td>NaN</td>\n",
       "      <td>NaN</td>\n",
       "      <td>Our Deeds are the Reason of this #earthquake M...</td>\n",
       "      <td>1</td>\n",
       "    </tr>\n",
       "    <tr>\n",
       "      <th>1</th>\n",
       "      <td>4</td>\n",
       "      <td>NaN</td>\n",
       "      <td>NaN</td>\n",
       "      <td>Forest fire near La Ronge Sask. Canada</td>\n",
       "      <td>1</td>\n",
       "    </tr>\n",
       "    <tr>\n",
       "      <th>2</th>\n",
       "      <td>5</td>\n",
       "      <td>NaN</td>\n",
       "      <td>NaN</td>\n",
       "      <td>All residents asked to 'shelter in place' are ...</td>\n",
       "      <td>1</td>\n",
       "    </tr>\n",
       "    <tr>\n",
       "      <th>3</th>\n",
       "      <td>6</td>\n",
       "      <td>NaN</td>\n",
       "      <td>NaN</td>\n",
       "      <td>13,000 people receive #wildfires evacuation or...</td>\n",
       "      <td>1</td>\n",
       "    </tr>\n",
       "    <tr>\n",
       "      <th>4</th>\n",
       "      <td>7</td>\n",
       "      <td>NaN</td>\n",
       "      <td>NaN</td>\n",
       "      <td>Just got sent this photo from Ruby #Alaska as ...</td>\n",
       "      <td>1</td>\n",
       "    </tr>\n",
       "  </tbody>\n",
       "</table>\n",
       "</div>"
      ],
      "text/plain": [
       "   id keyword location                                               text  \\\n",
       "0   1     NaN      NaN  Our Deeds are the Reason of this #earthquake M...   \n",
       "1   4     NaN      NaN             Forest fire near La Ronge Sask. Canada   \n",
       "2   5     NaN      NaN  All residents asked to 'shelter in place' are ...   \n",
       "3   6     NaN      NaN  13,000 people receive #wildfires evacuation or...   \n",
       "4   7     NaN      NaN  Just got sent this photo from Ruby #Alaska as ...   \n",
       "\n",
       "   target  \n",
       "0       1  \n",
       "1       1  \n",
       "2       1  \n",
       "3       1  \n",
       "4       1  "
      ]
     },
     "execution_count": 8,
     "metadata": {},
     "output_type": "execute_result"
    }
   ],
   "source": [
    "train_df.head()"
   ]
  },
  {
   "cell_type": "code",
   "execution_count": 9,
   "id": "47a8f349",
   "metadata": {
    "execution": {
     "iopub.execute_input": "2025-10-29T13:00:15.167294Z",
     "iopub.status.busy": "2025-10-29T13:00:15.166894Z",
     "iopub.status.idle": "2025-10-29T13:00:15.175139Z",
     "shell.execute_reply": "2025-10-29T13:00:15.174427Z"
    },
    "papermill": {
     "duration": 0.018686,
     "end_time": "2025-10-29T13:00:15.176267",
     "exception": false,
     "start_time": "2025-10-29T13:00:15.157581",
     "status": "completed"
    },
    "tags": []
   },
   "outputs": [],
   "source": [
    "# shuffle training dataframe\n",
    "train_df_shuffled = train_df.sample(frac=1,random_state=42)"
   ]
  },
  {
   "cell_type": "code",
   "execution_count": 10,
   "id": "91f5bd76",
   "metadata": {
    "execution": {
     "iopub.execute_input": "2025-10-29T13:00:15.194325Z",
     "iopub.status.busy": "2025-10-29T13:00:15.193837Z",
     "iopub.status.idle": "2025-10-29T13:00:15.201714Z",
     "shell.execute_reply": "2025-10-29T13:00:15.201027Z"
    },
    "papermill": {
     "duration": 0.018038,
     "end_time": "2025-10-29T13:00:15.202839",
     "exception": false,
     "start_time": "2025-10-29T13:00:15.184801",
     "status": "completed"
    },
    "tags": []
   },
   "outputs": [
    {
     "data": {
      "text/html": [
       "<div>\n",
       "<style scoped>\n",
       "    .dataframe tbody tr th:only-of-type {\n",
       "        vertical-align: middle;\n",
       "    }\n",
       "\n",
       "    .dataframe tbody tr th {\n",
       "        vertical-align: top;\n",
       "    }\n",
       "\n",
       "    .dataframe thead th {\n",
       "        text-align: right;\n",
       "    }\n",
       "</style>\n",
       "<table border=\"1\" class=\"dataframe\">\n",
       "  <thead>\n",
       "    <tr style=\"text-align: right;\">\n",
       "      <th></th>\n",
       "      <th>id</th>\n",
       "      <th>keyword</th>\n",
       "      <th>location</th>\n",
       "      <th>text</th>\n",
       "      <th>target</th>\n",
       "    </tr>\n",
       "  </thead>\n",
       "  <tbody>\n",
       "    <tr>\n",
       "      <th>2644</th>\n",
       "      <td>3796</td>\n",
       "      <td>destruction</td>\n",
       "      <td>NaN</td>\n",
       "      <td>So you have a new weapon that can cause un-ima...</td>\n",
       "      <td>1</td>\n",
       "    </tr>\n",
       "    <tr>\n",
       "      <th>2227</th>\n",
       "      <td>3185</td>\n",
       "      <td>deluge</td>\n",
       "      <td>NaN</td>\n",
       "      <td>The f$&amp;amp;@ing things I do for #GISHWHES Just...</td>\n",
       "      <td>0</td>\n",
       "    </tr>\n",
       "    <tr>\n",
       "      <th>5448</th>\n",
       "      <td>7769</td>\n",
       "      <td>police</td>\n",
       "      <td>UK</td>\n",
       "      <td>DT @georgegalloway: RT @Galloway4Mayor: ÛÏThe...</td>\n",
       "      <td>1</td>\n",
       "    </tr>\n",
       "    <tr>\n",
       "      <th>132</th>\n",
       "      <td>191</td>\n",
       "      <td>aftershock</td>\n",
       "      <td>NaN</td>\n",
       "      <td>Aftershock back to school kick off was great. ...</td>\n",
       "      <td>0</td>\n",
       "    </tr>\n",
       "    <tr>\n",
       "      <th>6845</th>\n",
       "      <td>9810</td>\n",
       "      <td>trauma</td>\n",
       "      <td>Montgomery County, MD</td>\n",
       "      <td>in response to trauma Children of Addicts deve...</td>\n",
       "      <td>0</td>\n",
       "    </tr>\n",
       "  </tbody>\n",
       "</table>\n",
       "</div>"
      ],
      "text/plain": [
       "        id      keyword               location  \\\n",
       "2644  3796  destruction                    NaN   \n",
       "2227  3185       deluge                    NaN   \n",
       "5448  7769       police                     UK   \n",
       "132    191   aftershock                    NaN   \n",
       "6845  9810       trauma  Montgomery County, MD   \n",
       "\n",
       "                                                   text  target  \n",
       "2644  So you have a new weapon that can cause un-ima...       1  \n",
       "2227  The f$&amp;@ing things I do for #GISHWHES Just...       0  \n",
       "5448  DT @georgegalloway: RT @Galloway4Mayor: ÛÏThe...       1  \n",
       "132   Aftershock back to school kick off was great. ...       0  \n",
       "6845  in response to trauma Children of Addicts deve...       0  "
      ]
     },
     "execution_count": 10,
     "metadata": {},
     "output_type": "execute_result"
    }
   ],
   "source": [
    "train_df_shuffled.head()"
   ]
  },
  {
   "cell_type": "code",
   "execution_count": 11,
   "id": "084c2237",
   "metadata": {
    "execution": {
     "iopub.execute_input": "2025-10-29T13:00:15.222430Z",
     "iopub.status.busy": "2025-10-29T13:00:15.221850Z",
     "iopub.status.idle": "2025-10-29T13:00:15.229978Z",
     "shell.execute_reply": "2025-10-29T13:00:15.229338Z"
    },
    "papermill": {
     "duration": 0.01912,
     "end_time": "2025-10-29T13:00:15.231060",
     "exception": false,
     "start_time": "2025-10-29T13:00:15.211940",
     "status": "completed"
    },
    "tags": []
   },
   "outputs": [
    {
     "data": {
      "text/html": [
       "<div>\n",
       "<style scoped>\n",
       "    .dataframe tbody tr th:only-of-type {\n",
       "        vertical-align: middle;\n",
       "    }\n",
       "\n",
       "    .dataframe tbody tr th {\n",
       "        vertical-align: top;\n",
       "    }\n",
       "\n",
       "    .dataframe thead th {\n",
       "        text-align: right;\n",
       "    }\n",
       "</style>\n",
       "<table border=\"1\" class=\"dataframe\">\n",
       "  <thead>\n",
       "    <tr style=\"text-align: right;\">\n",
       "      <th></th>\n",
       "      <th>id</th>\n",
       "      <th>keyword</th>\n",
       "      <th>location</th>\n",
       "      <th>text</th>\n",
       "    </tr>\n",
       "  </thead>\n",
       "  <tbody>\n",
       "    <tr>\n",
       "      <th>0</th>\n",
       "      <td>0</td>\n",
       "      <td>NaN</td>\n",
       "      <td>NaN</td>\n",
       "      <td>Just happened a terrible car crash</td>\n",
       "    </tr>\n",
       "    <tr>\n",
       "      <th>1</th>\n",
       "      <td>2</td>\n",
       "      <td>NaN</td>\n",
       "      <td>NaN</td>\n",
       "      <td>Heard about #earthquake is different cities, s...</td>\n",
       "    </tr>\n",
       "    <tr>\n",
       "      <th>2</th>\n",
       "      <td>3</td>\n",
       "      <td>NaN</td>\n",
       "      <td>NaN</td>\n",
       "      <td>there is a forest fire at spot pond, geese are...</td>\n",
       "    </tr>\n",
       "    <tr>\n",
       "      <th>3</th>\n",
       "      <td>9</td>\n",
       "      <td>NaN</td>\n",
       "      <td>NaN</td>\n",
       "      <td>Apocalypse lighting. #Spokane #wildfires</td>\n",
       "    </tr>\n",
       "    <tr>\n",
       "      <th>4</th>\n",
       "      <td>11</td>\n",
       "      <td>NaN</td>\n",
       "      <td>NaN</td>\n",
       "      <td>Typhoon Soudelor kills 28 in China and Taiwan</td>\n",
       "    </tr>\n",
       "  </tbody>\n",
       "</table>\n",
       "</div>"
      ],
      "text/plain": [
       "   id keyword location                                               text\n",
       "0   0     NaN      NaN                 Just happened a terrible car crash\n",
       "1   2     NaN      NaN  Heard about #earthquake is different cities, s...\n",
       "2   3     NaN      NaN  there is a forest fire at spot pond, geese are...\n",
       "3   9     NaN      NaN           Apocalypse lighting. #Spokane #wildfires\n",
       "4  11     NaN      NaN      Typhoon Soudelor kills 28 in China and Taiwan"
      ]
     },
     "execution_count": 11,
     "metadata": {},
     "output_type": "execute_result"
    }
   ],
   "source": [
    "# what does the tesst dataframe look like\n",
    "test_df.head()"
   ]
  },
  {
   "cell_type": "code",
   "execution_count": 12,
   "id": "505965dd",
   "metadata": {
    "execution": {
     "iopub.execute_input": "2025-10-29T13:00:15.250243Z",
     "iopub.status.busy": "2025-10-29T13:00:15.250038Z",
     "iopub.status.idle": "2025-10-29T13:00:15.259705Z",
     "shell.execute_reply": "2025-10-29T13:00:15.259103Z"
    },
    "papermill": {
     "duration": 0.020294,
     "end_time": "2025-10-29T13:00:15.260742",
     "exception": false,
     "start_time": "2025-10-29T13:00:15.240448",
     "status": "completed"
    },
    "tags": []
   },
   "outputs": [
    {
     "data": {
      "text/plain": [
       "target\n",
       "0    4342\n",
       "1    3271\n",
       "Name: count, dtype: int64"
      ]
     },
     "execution_count": 12,
     "metadata": {},
     "output_type": "execute_result"
    }
   ],
   "source": [
    "# how many examples of each class?\n",
    "train_df.target.value_counts()"
   ]
  },
  {
   "cell_type": "code",
   "execution_count": 13,
   "id": "65f4cf51",
   "metadata": {
    "execution": {
     "iopub.execute_input": "2025-10-29T13:00:15.279266Z",
     "iopub.status.busy": "2025-10-29T13:00:15.278890Z",
     "iopub.status.idle": "2025-10-29T13:00:15.283276Z",
     "shell.execute_reply": "2025-10-29T13:00:15.282604Z"
    },
    "papermill": {
     "duration": 0.014849,
     "end_time": "2025-10-29T13:00:15.284387",
     "exception": false,
     "start_time": "2025-10-29T13:00:15.269538",
     "status": "completed"
    },
    "tags": []
   },
   "outputs": [
    {
     "data": {
      "text/plain": [
       "(7613, 3263)"
      ]
     },
     "execution_count": 13,
     "metadata": {},
     "output_type": "execute_result"
    }
   ],
   "source": [
    "len(train_df),len(test_df)"
   ]
  },
  {
   "cell_type": "code",
   "execution_count": 14,
   "id": "30a5422b",
   "metadata": {
    "execution": {
     "iopub.execute_input": "2025-10-29T13:00:15.303359Z",
     "iopub.status.busy": "2025-10-29T13:00:15.303181Z",
     "iopub.status.idle": "2025-10-29T13:00:15.311765Z",
     "shell.execute_reply": "2025-10-29T13:00:15.311019Z"
    },
    "papermill": {
     "duration": 0.019536,
     "end_time": "2025-10-29T13:00:15.312896",
     "exception": false,
     "start_time": "2025-10-29T13:00:15.293360",
     "status": "completed"
    },
    "tags": []
   },
   "outputs": [
    {
     "name": "stdout",
     "output_type": "stream",
     "text": [
      "target: 0 (not real diaster)\n",
      "Text:\n",
      "JOBOOZOSO: USAT usatoday_nfl Michael Floyd's hand injury shouldn't devalue his fantasy stock http://t.co/DGkmUEoAxZ\n",
      "\n",
      "____________________ \n",
      "\n",
      "target: 1 (real diaster)\n",
      "Text:\n",
      "Iranian warship points weapon at American helicopter... http://t.co/cgFZk8Ha1R\n",
      "\n",
      "____________________ \n",
      "\n",
      "target: 0 (not real diaster)\n",
      "Text:\n",
      "'Why am I being constantly electrocuted?' 'I don't know. Are you by chance standing next to a cactus?'#Borderlands #Borderlands2 #OOCVG #FTW\n",
      "\n",
      "____________________ \n",
      "\n",
      "target: 1 (real diaster)\n",
      "Text:\n",
      "Ancient Mayan Tablet Found in Jungle Temple http://t.co/qp6q8RS8ON\n",
      "\n",
      "____________________ \n",
      "\n",
      "target: 1 (real diaster)\n",
      "Text:\n",
      "Another White mass murderer. #Antioch  https://t.co/OWpd7vcFS6\n",
      "\n",
      "____________________ \n",
      "\n"
     ]
    }
   ],
   "source": [
    "# Let's visualize some random training examples\n",
    "import random\n",
    "random_index = random.randint(0,len(train_df)-5)\n",
    "for row in train_df_shuffled[[\"text\",\"target\"]][random_index:random_index+5].itertuples():\n",
    "    _,text,target = row \n",
    "    print(f\"target: {target}\",\"(real diaster)\" if target > 0 else \"(not real diaster)\" )\n",
    "    print(f\"Text:\\n{text}\\n\")\n",
    "    print(10*\"__\",\"\\n\")"
   ]
  },
  {
   "cell_type": "markdown",
   "id": "6651aaab",
   "metadata": {
    "papermill": {
     "duration": 0.008735,
     "end_time": "2025-10-29T13:00:15.330786",
     "exception": false,
     "start_time": "2025-10-29T13:00:15.322051",
     "status": "completed"
    },
    "tags": []
   },
   "source": [
    "### Split data into training and validation datasets"
   ]
  },
  {
   "cell_type": "code",
   "execution_count": 15,
   "id": "ffb82b8f",
   "metadata": {
    "execution": {
     "iopub.execute_input": "2025-10-29T13:00:15.349787Z",
     "iopub.status.busy": "2025-10-29T13:00:15.349135Z",
     "iopub.status.idle": "2025-10-29T13:00:15.363760Z",
     "shell.execute_reply": "2025-10-29T13:00:15.363187Z"
    },
    "papermill": {
     "duration": 0.025239,
     "end_time": "2025-10-29T13:00:15.364930",
     "exception": false,
     "start_time": "2025-10-29T13:00:15.339691",
     "status": "completed"
    },
    "tags": []
   },
   "outputs": [],
   "source": [
    "from sklearn.model_selection import train_test_split"
   ]
  },
  {
   "cell_type": "code",
   "execution_count": 16,
   "id": "5ad5b99c",
   "metadata": {
    "execution": {
     "iopub.execute_input": "2025-10-29T13:00:15.384236Z",
     "iopub.status.busy": "2025-10-29T13:00:15.383856Z",
     "iopub.status.idle": "2025-10-29T13:00:15.388760Z",
     "shell.execute_reply": "2025-10-29T13:00:15.388196Z"
    },
    "papermill": {
     "duration": 0.015679,
     "end_time": "2025-10-29T13:00:15.389793",
     "exception": false,
     "start_time": "2025-10-29T13:00:15.374114",
     "status": "completed"
    },
    "tags": []
   },
   "outputs": [],
   "source": [
    "train_sentences, val_sentences, train_labels, val_labels = train_test_split(train_df_shuffled[\"text\"].to_numpy(),\n",
    "                                                                            train_df_shuffled[\"target\"].to_numpy(),\n",
    "                                                                           test_size=0.1,\n",
    "                                                                           random_state=42)"
   ]
  },
  {
   "cell_type": "code",
   "execution_count": 17,
   "id": "ffc683e9",
   "metadata": {
    "execution": {
     "iopub.execute_input": "2025-10-29T13:00:15.408535Z",
     "iopub.status.busy": "2025-10-29T13:00:15.408309Z",
     "iopub.status.idle": "2025-10-29T13:00:15.412551Z",
     "shell.execute_reply": "2025-10-29T13:00:15.412019Z"
    },
    "papermill": {
     "duration": 0.014794,
     "end_time": "2025-10-29T13:00:15.413547",
     "exception": false,
     "start_time": "2025-10-29T13:00:15.398753",
     "status": "completed"
    },
    "tags": []
   },
   "outputs": [
    {
     "data": {
      "text/plain": [
       "(6851, 6851, 762, 762)"
      ]
     },
     "execution_count": 17,
     "metadata": {},
     "output_type": "execute_result"
    }
   ],
   "source": [
    "len(train_sentences),len(train_labels),len(val_sentences),len(val_labels)"
   ]
  },
  {
   "cell_type": "code",
   "execution_count": 18,
   "id": "9648c7ef",
   "metadata": {
    "execution": {
     "iopub.execute_input": "2025-10-29T13:00:15.432442Z",
     "iopub.status.busy": "2025-10-29T13:00:15.432254Z",
     "iopub.status.idle": "2025-10-29T13:00:15.437063Z",
     "shell.execute_reply": "2025-10-29T13:00:15.436521Z"
    },
    "papermill": {
     "duration": 0.015316,
     "end_time": "2025-10-29T13:00:15.438030",
     "exception": false,
     "start_time": "2025-10-29T13:00:15.422714",
     "status": "completed"
    },
    "tags": []
   },
   "outputs": [
    {
     "data": {
      "text/plain": [
       "(array(['@mogacola @zamtriossu i screamed after hitting tweet',\n",
       "        'Imagine getting flattened by Kurt Zouma',\n",
       "        '@Gurmeetramrahim #MSGDoing111WelfareWorks Green S welfare force ke appx 65000 members har time disaster victim ki help ke liye tyar hai....',\n",
       "        \"@shakjn @C7 @Magnums im shaking in fear he's gonna hack the planet\",\n",
       "        'Somehow find you and I collide http://t.co/Ee8RpOahPk',\n",
       "        '@EvaHanderek @MarleyKnysh great times until the bus driver held us hostage in the mall parking lot lmfao',\n",
       "        'destroy the free fandom honestly',\n",
       "        'Weapons stolen from National Guard Armory in New Albany still missing #Gunsense http://t.co/lKNU8902JE',\n",
       "        '@wfaaweather Pete when will the heat wave pass? Is it really going to be mid month? Frisco Boy Scouts have a canoe trip in Okla.',\n",
       "        'Patient-reported outcomes in long-term survivors of metastatic colorectal cancer - British Journal of Surgery http://t.co/5Yl4DC1Tqt'],\n",
       "       dtype=object),\n",
       " array([0, 0, 1, 0, 0, 1, 1, 0, 1, 1]))"
      ]
     },
     "execution_count": 18,
     "metadata": {},
     "output_type": "execute_result"
    }
   ],
   "source": [
    "# check the first ten samples\n",
    "train_sentences[:10],train_labels[:10]"
   ]
  },
  {
   "cell_type": "markdown",
   "id": "35f70489",
   "metadata": {
    "papermill": {
     "duration": 0.009057,
     "end_time": "2025-10-29T13:00:15.456097",
     "exception": false,
     "start_time": "2025-10-29T13:00:15.447040",
     "status": "completed"
    },
    "tags": []
   },
   "source": [
    "## Converting text into number, machine learning don't know text.\n",
    "when dealing with a text problem, one of the first things you'll have to do before you can build a model is to convert your text to numbers.\n",
    "There are a few ways to do this, namely:\n",
    "* *Tokenization* - direct mapping of token (a token could be a word, a character or in between) to number.\n",
    "* *Embedding* - Create a matrix of feature vector for each token ( the size of the feature vector can be defined and this embedding can be learned)"
   ]
  },
  {
   "cell_type": "markdown",
   "id": "a37dd46e",
   "metadata": {
    "papermill": {
     "duration": 0.008905,
     "end_time": "2025-10-29T13:00:15.474061",
     "exception": false,
     "start_time": "2025-10-29T13:00:15.465156",
     "status": "completed"
    },
    "tags": []
   },
   "source": [
    "### Text vecorization(tokenization)"
   ]
  },
  {
   "cell_type": "code",
   "execution_count": 19,
   "id": "d68b77c3",
   "metadata": {
    "execution": {
     "iopub.execute_input": "2025-10-29T13:00:15.493145Z",
     "iopub.status.busy": "2025-10-29T13:00:15.492632Z",
     "iopub.status.idle": "2025-10-29T13:00:15.550102Z",
     "shell.execute_reply": "2025-10-29T13:00:15.549382Z"
    },
    "papermill": {
     "duration": 0.068206,
     "end_time": "2025-10-29T13:00:15.551284",
     "exception": false,
     "start_time": "2025-10-29T13:00:15.483078",
     "status": "completed"
    },
    "tags": []
   },
   "outputs": [],
   "source": [
    "import tensorflow as tf\n",
    "from tensorflow.keras.layers import TextVectorization"
   ]
  },
  {
   "cell_type": "code",
   "execution_count": 20,
   "id": "56881556",
   "metadata": {
    "execution": {
     "iopub.execute_input": "2025-10-29T13:00:15.570473Z",
     "iopub.status.busy": "2025-10-29T13:00:15.570275Z",
     "iopub.status.idle": "2025-10-29T13:00:16.471623Z",
     "shell.execute_reply": "2025-10-29T13:00:16.470741Z"
    },
    "papermill": {
     "duration": 0.912115,
     "end_time": "2025-10-29T13:00:16.472790",
     "exception": false,
     "start_time": "2025-10-29T13:00:15.560675",
     "status": "completed"
    },
    "tags": []
   },
   "outputs": [
    {
     "name": "stderr",
     "output_type": "stream",
     "text": [
      "I0000 00:00:1761742816.431569      19 gpu_device.cc:2022] Created device /job:localhost/replica:0/task:0/device:GPU:0 with 13942 MB memory:  -> device: 0, name: Tesla T4, pci bus id: 0000:00:04.0, compute capability: 7.5\n",
      "I0000 00:00:1761742816.432317      19 gpu_device.cc:2022] Created device /job:localhost/replica:0/task:0/device:GPU:1 with 13942 MB memory:  -> device: 1, name: Tesla T4, pci bus id: 0000:00:05.0, compute capability: 7.5\n"
     ]
    }
   ],
   "source": [
    "text_vectorizer = TextVectorization(max_tokens=None, # how many word in the vocablary (automatically add <OOV>\n",
    "                                    standardize=\"lower_and_strip_punctuation\",\n",
    "                                    split=\"whitespace\",\n",
    "                                    ngrams=None, # create groups of n-words\n",
    "                                    output_mode=\"int\", # how to map token to number\n",
    "                                    output_sequence_length=None ,# how long do you want your sequence to be\n",
    "                                    )"
   ]
  },
  {
   "cell_type": "code",
   "execution_count": 21,
   "id": "5c0f9c20",
   "metadata": {
    "execution": {
     "iopub.execute_input": "2025-10-29T13:00:16.492478Z",
     "iopub.status.busy": "2025-10-29T13:00:16.492219Z",
     "iopub.status.idle": "2025-10-29T13:00:16.503209Z",
     "shell.execute_reply": "2025-10-29T13:00:16.502628Z"
    },
    "papermill": {
     "duration": 0.021773,
     "end_time": "2025-10-29T13:00:16.504154",
     "exception": false,
     "start_time": "2025-10-29T13:00:16.482381",
     "status": "completed"
    },
    "tags": []
   },
   "outputs": [
    {
     "data": {
      "text/plain": [
       "14.901036345059115"
      ]
     },
     "execution_count": 21,
     "metadata": {},
     "output_type": "execute_result"
    }
   ],
   "source": [
    "# find the average number of tokens(words) in the training tweets\n",
    "round(sum([len(i.split()) for i in train_sentences]))/len(train_sentences)"
   ]
  },
  {
   "cell_type": "code",
   "execution_count": 22,
   "id": "7854879f",
   "metadata": {
    "execution": {
     "iopub.execute_input": "2025-10-29T13:00:16.523847Z",
     "iopub.status.busy": "2025-10-29T13:00:16.523627Z",
     "iopub.status.idle": "2025-10-29T13:00:16.526902Z",
     "shell.execute_reply": "2025-10-29T13:00:16.526383Z"
    },
    "papermill": {
     "duration": 0.014272,
     "end_time": "2025-10-29T13:00:16.527909",
     "exception": false,
     "start_time": "2025-10-29T13:00:16.513637",
     "status": "completed"
    },
    "tags": []
   },
   "outputs": [],
   "source": [
    "# setup  text vectorization variables\n",
    "max_vocab_length =10000 # max number of words to have in our vocablary\n",
    "max_length = 15 # max lenght our sequences will be ( e.g how many words from a tweet does a model see?)\n"
   ]
  },
  {
   "cell_type": "code",
   "execution_count": 23,
   "id": "686652e9",
   "metadata": {
    "execution": {
     "iopub.execute_input": "2025-10-29T13:00:16.547186Z",
     "iopub.status.busy": "2025-10-29T13:00:16.546976Z",
     "iopub.status.idle": "2025-10-29T13:00:16.553893Z",
     "shell.execute_reply": "2025-10-29T13:00:16.553334Z"
    },
    "papermill": {
     "duration": 0.017706,
     "end_time": "2025-10-29T13:00:16.554883",
     "exception": false,
     "start_time": "2025-10-29T13:00:16.537177",
     "status": "completed"
    },
    "tags": []
   },
   "outputs": [],
   "source": [
    "text_vectorizer = TextVectorization(max_tokens=max_vocab_length,\n",
    "                                    output_mode=\"int\",\n",
    "                                    output_sequence_length=max_length\n",
    "                                   )"
   ]
  },
  {
   "cell_type": "code",
   "execution_count": 24,
   "id": "ff0d0451",
   "metadata": {
    "execution": {
     "iopub.execute_input": "2025-10-29T13:00:16.573858Z",
     "iopub.status.busy": "2025-10-29T13:00:16.573655Z",
     "iopub.status.idle": "2025-10-29T13:00:16.732086Z",
     "shell.execute_reply": "2025-10-29T13:00:16.731481Z"
    },
    "papermill": {
     "duration": 0.16942,
     "end_time": "2025-10-29T13:00:16.733408",
     "exception": false,
     "start_time": "2025-10-29T13:00:16.563988",
     "status": "completed"
    },
    "tags": []
   },
   "outputs": [],
   "source": [
    "# Fit the text vectorizer to the training sentence\n",
    "text_vectorizer.adapt(train_sentences)"
   ]
  },
  {
   "cell_type": "code",
   "execution_count": 25,
   "id": "065abd45",
   "metadata": {
    "execution": {
     "iopub.execute_input": "2025-10-29T13:00:16.753415Z",
     "iopub.status.busy": "2025-10-29T13:00:16.753187Z",
     "iopub.status.idle": "2025-10-29T13:00:17.850790Z",
     "shell.execute_reply": "2025-10-29T13:00:17.850083Z"
    },
    "papermill": {
     "duration": 1.108715,
     "end_time": "2025-10-29T13:00:17.851974",
     "exception": false,
     "start_time": "2025-10-29T13:00:16.743259",
     "status": "completed"
    },
    "tags": []
   },
   "outputs": [
    {
     "data": {
      "text/plain": [
       "<tf.Tensor: shape=(1, 15), dtype=int64, numpy=\n",
       "array([[264,   3, 232,   4,  13, 698,   0,   0,   0,   0,   0,   0,   0,\n",
       "          0,   0]])>"
      ]
     },
     "execution_count": 25,
     "metadata": {},
     "output_type": "execute_result"
    }
   ],
   "source": [
    "# Create a sample sentence and tokenize it\n",
    "sample_sentence = \"There's a flood in my street!\"\n",
    "text_vectorizer([sample_sentence])"
   ]
  },
  {
   "cell_type": "code",
   "execution_count": 26,
   "id": "57526bea",
   "metadata": {
    "execution": {
     "iopub.execute_input": "2025-10-29T13:00:17.872373Z",
     "iopub.status.busy": "2025-10-29T13:00:17.871839Z",
     "iopub.status.idle": "2025-10-29T13:00:17.905147Z",
     "shell.execute_reply": "2025-10-29T13:00:17.904410Z"
    },
    "papermill": {
     "duration": 0.04424,
     "end_time": "2025-10-29T13:00:17.906169",
     "exception": false,
     "start_time": "2025-10-29T13:00:17.861929",
     "status": "completed"
    },
    "tags": []
   },
   "outputs": [
    {
     "name": "stdout",
     "output_type": "stream",
     "text": [
      "Original text:\n",
      " You can't watch 'Home Alone 2' without telling your kids \n",
      "'she used to be on Casualty'. \n",
      "#Homealone2 #film4 \n",
      "\n",
      "Vectorized Version: [  12   98  135  153  910   70  228 2659   33  573  191  493    5   21\n",
      "   11] \n"
     ]
    },
    {
     "data": {
      "text/plain": [
       "<tf.Tensor: shape=(15,), dtype=int64, numpy=\n",
       "array([  12,   98,  135,  153,  910,   70,  228, 2659,   33,  573,  191,\n",
       "        493,    5,   21,   11])>"
      ]
     },
     "execution_count": 26,
     "metadata": {},
     "output_type": "execute_result"
    }
   ],
   "source": [
    "# Choose a random sentece from the training dataset and tokenize it\n",
    "random_sentence = random.choice(train_sentences)\n",
    "print(f\"Original text:\\n {random_sentence} \\n\\nVectorized Version: {text_vectorizer(random_sentence)} \")\n",
    "text_vectorizer(random_sentence)"
   ]
  },
  {
   "cell_type": "code",
   "execution_count": 27,
   "id": "66ff7aea",
   "metadata": {
    "execution": {
     "iopub.execute_input": "2025-10-29T13:00:17.928955Z",
     "iopub.status.busy": "2025-10-29T13:00:17.928743Z",
     "iopub.status.idle": "2025-10-29T13:00:17.944879Z",
     "shell.execute_reply": "2025-10-29T13:00:17.944319Z"
    },
    "papermill": {
     "duration": 0.029593,
     "end_time": "2025-10-29T13:00:17.945812",
     "exception": false,
     "start_time": "2025-10-29T13:00:17.916219",
     "status": "completed"
    },
    "tags": []
   },
   "outputs": [
    {
     "data": {
      "text/plain": [
       "<tf.Tensor: shape=(15,), dtype=int64, numpy=\n",
       "array([2718,   22,    2,  149, 1102,    4, 5214, 5214,    1,    1,    0,\n",
       "          0,    0,    0,    0])>"
      ]
     },
     "execution_count": 27,
     "metadata": {},
     "output_type": "execute_result"
    }
   ],
   "source": [
    "# check if token is a sentence have the same int value across different sentences\n",
    "sample_sentence_two = \"schools are the best Western in Lit lit litterally.. LiTTErALLy..\"\n",
    "text_vectorizer(sample_sentence_two)"
   ]
  },
  {
   "cell_type": "code",
   "execution_count": 28,
   "id": "2bd0ee3b",
   "metadata": {
    "execution": {
     "iopub.execute_input": "2025-10-29T13:00:17.965477Z",
     "iopub.status.busy": "2025-10-29T13:00:17.965272Z",
     "iopub.status.idle": "2025-10-29T13:00:17.990242Z",
     "shell.execute_reply": "2025-10-29T13:00:17.989720Z"
    },
    "papermill": {
     "duration": 0.036037,
     "end_time": "2025-10-29T13:00:17.991209",
     "exception": false,
     "start_time": "2025-10-29T13:00:17.955172",
     "status": "completed"
    },
    "tags": []
   },
   "outputs": [
    {
     "data": {
      "text/plain": [
       "(['', '[UNK]', 'the', 'a', 'in'],\n",
       " ['pages', 'paeds', 'pads', 'padres', 'paddytomlinson1'],\n",
       " 10000)"
      ]
     },
     "execution_count": 28,
     "metadata": {},
     "output_type": "execute_result"
    }
   ],
   "source": [
    "# Get the unique words in the vocabulary\n",
    "words_in_vocab = text_vectorizer.get_vocabulary() # get all of the unique words in vocabulary\n",
    "top_5_words = words_in_vocab[:5] # get the most common word\n",
    "bottom_5_words = words_in_vocab[-5:] # get the least common word\n",
    "top_5_words,bottom_5_words,len(words_in_vocab)"
   ]
  },
  {
   "cell_type": "markdown",
   "id": "162ec998",
   "metadata": {
    "papermill": {
     "duration": 0.009335,
     "end_time": "2025-10-29T13:00:18.010134",
     "exception": false,
     "start_time": "2025-10-29T13:00:18.000799",
     "status": "completed"
    },
    "tags": []
   },
   "source": [
    "### Creating and Embedding using an Embedding Layer\n",
    "To make our embedding, we going to use tensorflow embedding layer\n",
    "The parameters we care most about for our embedding layer:\n",
    "* `input_dim` = the size of our vocabulary\n",
    "* `output_dim` = the size of the output embedding vector,for example, a value of 100 would mean each token gets represented by a vector 100 long\n",
    "*  `input_length` = length of the sequences being passed to the embedding layer"
   ]
  },
  {
   "cell_type": "code",
   "execution_count": 29,
   "id": "1cc6afb7",
   "metadata": {
    "execution": {
     "iopub.execute_input": "2025-10-29T13:00:18.030511Z",
     "iopub.status.busy": "2025-10-29T13:00:18.030112Z",
     "iopub.status.idle": "2025-10-29T13:00:18.035372Z",
     "shell.execute_reply": "2025-10-29T13:00:18.034647Z"
    },
    "papermill": {
     "duration": 0.016523,
     "end_time": "2025-10-29T13:00:18.036461",
     "exception": false,
     "start_time": "2025-10-29T13:00:18.019938",
     "status": "completed"
    },
    "tags": []
   },
   "outputs": [
    {
     "name": "stderr",
     "output_type": "stream",
     "text": [
      "/usr/local/lib/python3.11/dist-packages/keras/src/layers/core/embedding.py:90: UserWarning: Argument `input_length` is deprecated. Just remove it.\n",
      "  warnings.warn(\n"
     ]
    }
   ],
   "source": [
    " from tensorflow.keras import layers\n",
    "embedding = layers.Embedding(input_dim=max_vocab_length,\n",
    "                            output_dim=128,\n",
    "                             input_length=max_length\n",
    "                            )\n"
   ]
  },
  {
   "cell_type": "code",
   "execution_count": 30,
   "id": "4a956b45",
   "metadata": {
    "execution": {
     "iopub.execute_input": "2025-10-29T13:00:18.056585Z",
     "iopub.status.busy": "2025-10-29T13:00:18.056125Z",
     "iopub.status.idle": "2025-10-29T13:00:18.784427Z",
     "shell.execute_reply": "2025-10-29T13:00:18.783616Z"
    },
    "papermill": {
     "duration": 0.739695,
     "end_time": "2025-10-29T13:00:18.785777",
     "exception": false,
     "start_time": "2025-10-29T13:00:18.046082",
     "status": "completed"
    },
    "tags": []
   },
   "outputs": [
    {
     "name": "stdout",
     "output_type": "stream",
     "text": [
      "original text: \n",
      "@Demolition_d best grill u fkn pleb \n"
     ]
    },
    {
     "data": {
      "text/plain": [
       "(<tf.Tensor: shape=(15,), dtype=int64, numpy=\n",
       " array([   1,  149, 1668,  142, 3842, 9726,    0,    0,    0,    0,    0,\n",
       "           0,    0,    0,    0])>,\n",
       " <tf.Tensor: shape=(15, 128), dtype=float32, numpy=\n",
       " array([[-0.04182904,  0.01427479,  0.01421604, ..., -0.02418927,\n",
       "          0.04629946,  0.00202718],\n",
       "        [ 0.00886082, -0.03919638,  0.03158324, ...,  0.012109  ,\n",
       "         -0.02506085,  0.03977683],\n",
       "        [ 0.00474454,  0.02342897,  0.03969396, ..., -0.02044863,\n",
       "         -0.04193031, -0.01763206],\n",
       "        ...,\n",
       "        [ 0.03904584,  0.047642  , -0.02328141, ..., -0.0349227 ,\n",
       "         -0.01319171, -0.00386123],\n",
       "        [ 0.03904584,  0.047642  , -0.02328141, ..., -0.0349227 ,\n",
       "         -0.01319171, -0.00386123],\n",
       "        [ 0.03904584,  0.047642  , -0.02328141, ..., -0.0349227 ,\n",
       "         -0.01319171, -0.00386123]], dtype=float32)>)"
      ]
     },
     "execution_count": 30,
     "metadata": {},
     "output_type": "execute_result"
    }
   ],
   "source": [
    "# Get a random sentence from the training set\n",
    "random_sentence = random.choice(train_sentences)\n",
    "print(f\"original text: \\n{random_sentence} \")\n",
    "random_sentence_vectorized = text_vectorizer(random_sentence)\n",
    "sample_embed = embedding(random_sentence_vectorized)\n",
    "random_sentence_vectorized,sample_embed"
   ]
  },
  {
   "cell_type": "code",
   "execution_count": 31,
   "id": "9de0e584",
   "metadata": {
    "execution": {
     "iopub.execute_input": "2025-10-29T13:00:18.807945Z",
     "iopub.status.busy": "2025-10-29T13:00:18.807240Z",
     "iopub.status.idle": "2025-10-29T13:00:18.818727Z",
     "shell.execute_reply": "2025-10-29T13:00:18.818093Z"
    },
    "papermill": {
     "duration": 0.023402,
     "end_time": "2025-10-29T13:00:18.819934",
     "exception": false,
     "start_time": "2025-10-29T13:00:18.796532",
     "status": "completed"
    },
    "tags": []
   },
   "outputs": [
    {
     "data": {
      "text/plain": [
       "(<tf.Tensor: shape=(128,), dtype=float32, numpy=\n",
       " array([-0.04182904,  0.01427479,  0.01421604,  0.0209063 , -0.01203049,\n",
       "         0.00884355, -0.01935527, -0.00894938, -0.02388855, -0.02078468,\n",
       "         0.02464395,  0.01248397,  0.0367172 , -0.00851236,  0.04059373,\n",
       "         0.00869827, -0.02576982,  0.01322922,  0.02320311,  0.03191227,\n",
       "        -0.04140805,  0.02688606, -0.02206583,  0.03026085,  0.02358154,\n",
       "        -0.02723002, -0.03068011, -0.00520455,  0.0439317 ,  0.01922886,\n",
       "         0.04595455, -0.0349244 ,  0.01444036, -0.03279974,  0.01921156,\n",
       "        -0.01566651,  0.03646744, -0.01788789,  0.01264081,  0.02753324,\n",
       "         0.02216501,  0.04680108,  0.03646699,  0.03902893, -0.00207661,\n",
       "         0.03147371, -0.03422431,  0.00112019, -0.04785285,  0.00293982,\n",
       "         0.0010208 , -0.04086113, -0.00275799, -0.03746174,  0.03010576,\n",
       "         0.01722758, -0.02896378,  0.01113983, -0.04765539, -0.01737156,\n",
       "        -0.03199984,  0.02208227,  0.00548607, -0.02566832, -0.00201676,\n",
       "        -0.0495244 ,  0.00088926, -0.01108605,  0.03954415,  0.03850155,\n",
       "         0.02153129,  0.02297623, -0.04171643,  0.01575169,  0.00620355,\n",
       "        -0.0118808 ,  0.03323902, -0.00399072,  0.0049538 , -0.00177795,\n",
       "         0.00853246, -0.03759306,  0.00501529,  0.026192  , -0.02996743,\n",
       "        -0.03002082,  0.04539997,  0.03717861, -0.02895889, -0.03277887,\n",
       "        -0.02387326, -0.04438124,  0.04979957, -0.03689059, -0.04136477,\n",
       "         0.0197371 ,  0.02062979,  0.03796586, -0.0401823 , -0.02974768,\n",
       "         0.03974167,  0.04566197, -0.01945869,  0.01049448, -0.02904532,\n",
       "        -0.03770846,  0.02081957,  0.01491392, -0.04855194, -0.001451  ,\n",
       "        -0.00871855,  0.02105632, -0.04050495, -0.01922817, -0.04274315,\n",
       "         0.03930398, -0.01429019, -0.0015713 ,  0.03338471,  0.02625266,\n",
       "         0.0308769 , -0.03385498, -0.03828041,  0.01935569, -0.01842959,\n",
       "        -0.02418927,  0.04629946,  0.00202718], dtype=float32)>,\n",
       " TensorShape([128]),\n",
       " <tf.Tensor: shape=(), dtype=int64, numpy=0>)"
      ]
     },
     "execution_count": 31,
     "metadata": {},
     "output_type": "execute_result"
    }
   ],
   "source": [
    "# check out a single token's embedding\n",
    "sample_embed[0], sample_embed[0].shape,random_sentence_vectorized[14]"
   ]
  },
  {
   "cell_type": "markdown",
   "id": "128210f4",
   "metadata": {
    "papermill": {
     "duration": 0.009781,
     "end_time": "2025-10-29T13:00:18.839975",
     "exception": false,
     "start_time": "2025-10-29T13:00:18.830194",
     "status": "completed"
    },
    "tags": []
   },
   "source": [
    "## Modeling a text dataset (running a series of experiment)\n",
    "Now we've a got way to turn our text sequences into numbers, it's time to start building a series of modelling experiments.\n",
    "we'll start with a baseline and move on from there.\n",
    "\n",
    "* Model 0: Naive Bayes(baseline)\n",
    "* Model 1: Feed-Forwared neural Network(dense Model)\n",
    "* Model 2: LSTM model(RNN)\n",
    "* Model 3: GRU model(RNN)\n",
    "* Model 4: Bidirectional-LSTM model(RNN)\n",
    "* Model 5:1D Convolutional Neural Network(CNN)\n",
    "* Model 6: TensorFlow Hub pretrained Feature Extractor(using transofer learning for NLP)\n",
    "* Model 7: same as model 6 with 10% of training data\n",
    "\n",
    "  How we are going to approach all of these?\n",
    "\n",
    "  Use the standard steps in modelling with tensorflow:\n",
    "  * Create a model\n",
    "  * Build a model\n",
    "  * Fit a model\n",
    "  * Evaluate a model\n",
    "  "
   ]
  },
  {
   "cell_type": "markdown",
   "id": "acd00a10",
   "metadata": {
    "papermill": {
     "duration": 0.009757,
     "end_time": "2025-10-29T13:00:18.859547",
     "exception": false,
     "start_time": "2025-10-29T13:00:18.849790",
     "status": "completed"
    },
    "tags": []
   },
   "source": [
    "### Model 0: Getting a baseline \n",
    "As with all machine learning modelling experiments, it's important to create a baseline model so you've got a benchmark for future experiment to build on"
   ]
  },
  {
   "cell_type": "code",
   "execution_count": 32,
   "id": "8cd16644",
   "metadata": {
    "execution": {
     "iopub.execute_input": "2025-10-29T13:00:18.880979Z",
     "iopub.status.busy": "2025-10-29T13:00:18.880424Z",
     "iopub.status.idle": "2025-10-29T13:00:18.884263Z",
     "shell.execute_reply": "2025-10-29T13:00:18.883553Z"
    },
    "papermill": {
     "duration": 0.015513,
     "end_time": "2025-10-29T13:00:18.885283",
     "exception": false,
     "start_time": "2025-10-29T13:00:18.869770",
     "status": "completed"
    },
    "tags": []
   },
   "outputs": [
    {
     "name": "stdout",
     "output_type": "stream",
     "text": [
      "1.2.2\n"
     ]
    }
   ],
   "source": [
    "# !pip install scikit-learn\n",
    "import sklearn\n",
    "print(sklearn.__version__)"
   ]
  },
  {
   "cell_type": "code",
   "execution_count": 33,
   "id": "99c4fc0d",
   "metadata": {
    "execution": {
     "iopub.execute_input": "2025-10-29T13:00:18.906763Z",
     "iopub.status.busy": "2025-10-29T13:00:18.906201Z",
     "iopub.status.idle": "2025-10-29T13:00:18.931911Z",
     "shell.execute_reply": "2025-10-29T13:00:18.931400Z"
    },
    "papermill": {
     "duration": 0.037128,
     "end_time": "2025-10-29T13:00:18.932951",
     "exception": false,
     "start_time": "2025-10-29T13:00:18.895823",
     "status": "completed"
    },
    "tags": []
   },
   "outputs": [],
   "source": [
    "from sklearn.feature_extraction.text import TfidfVectorizer\n",
    "from sklearn.naive_bayes import MultinomialNB\n",
    "from sklearn.pipeline import Pipeline"
   ]
  },
  {
   "cell_type": "code",
   "execution_count": 34,
   "id": "c81be3b0",
   "metadata": {
    "execution": {
     "iopub.execute_input": "2025-10-29T13:00:18.954300Z",
     "iopub.status.busy": "2025-10-29T13:00:18.954062Z",
     "iopub.status.idle": "2025-10-29T13:00:19.102811Z",
     "shell.execute_reply": "2025-10-29T13:00:19.102166Z"
    },
    "papermill": {
     "duration": 0.160983,
     "end_time": "2025-10-29T13:00:19.104142",
     "exception": false,
     "start_time": "2025-10-29T13:00:18.943159",
     "status": "completed"
    },
    "tags": []
   },
   "outputs": [],
   "source": [
    "# Create tokenization and modelling pipeline \n",
    "model_0 = Pipeline([\n",
    "    (\"tfidf\",TfidfVectorizer()), # convert words into numbers using tfidf\n",
    "    (\"clf\",MultinomialNB()) # model the text\n",
    "])\n",
    "\n",
    "# Fit the pipeline to the training data\n",
    "model_0_history = model_0.fit(train_sentences,train_labels)"
   ]
  },
  {
   "cell_type": "code",
   "execution_count": 35,
   "id": "617b0efc",
   "metadata": {
    "execution": {
     "iopub.execute_input": "2025-10-29T13:00:19.126028Z",
     "iopub.status.busy": "2025-10-29T13:00:19.125781Z",
     "iopub.status.idle": "2025-10-29T13:00:19.135265Z",
     "shell.execute_reply": "2025-10-29T13:00:19.134683Z"
    },
    "papermill": {
     "duration": 0.021602,
     "end_time": "2025-10-29T13:00:19.136293",
     "exception": false,
     "start_time": "2025-10-29T13:00:19.114691",
     "status": "completed"
    },
    "tags": []
   },
   "outputs": [
    {
     "data": {
      "text/html": [
       "<style>#sk-container-id-1 {color: black;background-color: white;}#sk-container-id-1 pre{padding: 0;}#sk-container-id-1 div.sk-toggleable {background-color: white;}#sk-container-id-1 label.sk-toggleable__label {cursor: pointer;display: block;width: 100%;margin-bottom: 0;padding: 0.3em;box-sizing: border-box;text-align: center;}#sk-container-id-1 label.sk-toggleable__label-arrow:before {content: \"▸\";float: left;margin-right: 0.25em;color: #696969;}#sk-container-id-1 label.sk-toggleable__label-arrow:hover:before {color: black;}#sk-container-id-1 div.sk-estimator:hover label.sk-toggleable__label-arrow:before {color: black;}#sk-container-id-1 div.sk-toggleable__content {max-height: 0;max-width: 0;overflow: hidden;text-align: left;background-color: #f0f8ff;}#sk-container-id-1 div.sk-toggleable__content pre {margin: 0.2em;color: black;border-radius: 0.25em;background-color: #f0f8ff;}#sk-container-id-1 input.sk-toggleable__control:checked~div.sk-toggleable__content {max-height: 200px;max-width: 100%;overflow: auto;}#sk-container-id-1 input.sk-toggleable__control:checked~label.sk-toggleable__label-arrow:before {content: \"▾\";}#sk-container-id-1 div.sk-estimator input.sk-toggleable__control:checked~label.sk-toggleable__label {background-color: #d4ebff;}#sk-container-id-1 div.sk-label input.sk-toggleable__control:checked~label.sk-toggleable__label {background-color: #d4ebff;}#sk-container-id-1 input.sk-hidden--visually {border: 0;clip: rect(1px 1px 1px 1px);clip: rect(1px, 1px, 1px, 1px);height: 1px;margin: -1px;overflow: hidden;padding: 0;position: absolute;width: 1px;}#sk-container-id-1 div.sk-estimator {font-family: monospace;background-color: #f0f8ff;border: 1px dotted black;border-radius: 0.25em;box-sizing: border-box;margin-bottom: 0.5em;}#sk-container-id-1 div.sk-estimator:hover {background-color: #d4ebff;}#sk-container-id-1 div.sk-parallel-item::after {content: \"\";width: 100%;border-bottom: 1px solid gray;flex-grow: 1;}#sk-container-id-1 div.sk-label:hover label.sk-toggleable__label {background-color: #d4ebff;}#sk-container-id-1 div.sk-serial::before {content: \"\";position: absolute;border-left: 1px solid gray;box-sizing: border-box;top: 0;bottom: 0;left: 50%;z-index: 0;}#sk-container-id-1 div.sk-serial {display: flex;flex-direction: column;align-items: center;background-color: white;padding-right: 0.2em;padding-left: 0.2em;position: relative;}#sk-container-id-1 div.sk-item {position: relative;z-index: 1;}#sk-container-id-1 div.sk-parallel {display: flex;align-items: stretch;justify-content: center;background-color: white;position: relative;}#sk-container-id-1 div.sk-item::before, #sk-container-id-1 div.sk-parallel-item::before {content: \"\";position: absolute;border-left: 1px solid gray;box-sizing: border-box;top: 0;bottom: 0;left: 50%;z-index: -1;}#sk-container-id-1 div.sk-parallel-item {display: flex;flex-direction: column;z-index: 1;position: relative;background-color: white;}#sk-container-id-1 div.sk-parallel-item:first-child::after {align-self: flex-end;width: 50%;}#sk-container-id-1 div.sk-parallel-item:last-child::after {align-self: flex-start;width: 50%;}#sk-container-id-1 div.sk-parallel-item:only-child::after {width: 0;}#sk-container-id-1 div.sk-dashed-wrapped {border: 1px dashed gray;margin: 0 0.4em 0.5em 0.4em;box-sizing: border-box;padding-bottom: 0.4em;background-color: white;}#sk-container-id-1 div.sk-label label {font-family: monospace;font-weight: bold;display: inline-block;line-height: 1.2em;}#sk-container-id-1 div.sk-label-container {text-align: center;}#sk-container-id-1 div.sk-container {/* jupyter's `normalize.less` sets `[hidden] { display: none; }` but bootstrap.min.css set `[hidden] { display: none !important; }` so we also need the `!important` here to be able to override the default hidden behavior on the sphinx rendered scikit-learn.org. See: https://github.com/scikit-learn/scikit-learn/issues/21755 */display: inline-block !important;position: relative;}#sk-container-id-1 div.sk-text-repr-fallback {display: none;}</style><div id=\"sk-container-id-1\" class=\"sk-top-container\"><div class=\"sk-text-repr-fallback\"><pre>Pipeline(steps=[(&#x27;tfidf&#x27;, TfidfVectorizer()), (&#x27;clf&#x27;, MultinomialNB())])</pre><b>In a Jupyter environment, please rerun this cell to show the HTML representation or trust the notebook. <br />On GitHub, the HTML representation is unable to render, please try loading this page with nbviewer.org.</b></div><div class=\"sk-container\" hidden><div class=\"sk-item sk-dashed-wrapped\"><div class=\"sk-label-container\"><div class=\"sk-label sk-toggleable\"><input class=\"sk-toggleable__control sk-hidden--visually\" id=\"sk-estimator-id-1\" type=\"checkbox\" ><label for=\"sk-estimator-id-1\" class=\"sk-toggleable__label sk-toggleable__label-arrow\">Pipeline</label><div class=\"sk-toggleable__content\"><pre>Pipeline(steps=[(&#x27;tfidf&#x27;, TfidfVectorizer()), (&#x27;clf&#x27;, MultinomialNB())])</pre></div></div></div><div class=\"sk-serial\"><div class=\"sk-item\"><div class=\"sk-estimator sk-toggleable\"><input class=\"sk-toggleable__control sk-hidden--visually\" id=\"sk-estimator-id-2\" type=\"checkbox\" ><label for=\"sk-estimator-id-2\" class=\"sk-toggleable__label sk-toggleable__label-arrow\">TfidfVectorizer</label><div class=\"sk-toggleable__content\"><pre>TfidfVectorizer()</pre></div></div></div><div class=\"sk-item\"><div class=\"sk-estimator sk-toggleable\"><input class=\"sk-toggleable__control sk-hidden--visually\" id=\"sk-estimator-id-3\" type=\"checkbox\" ><label for=\"sk-estimator-id-3\" class=\"sk-toggleable__label sk-toggleable__label-arrow\">MultinomialNB</label><div class=\"sk-toggleable__content\"><pre>MultinomialNB()</pre></div></div></div></div></div></div></div>"
      ],
      "text/plain": [
       "Pipeline(steps=[('tfidf', TfidfVectorizer()), ('clf', MultinomialNB())])"
      ]
     },
     "execution_count": 35,
     "metadata": {},
     "output_type": "execute_result"
    }
   ],
   "source": [
    "model_0_history"
   ]
  },
  {
   "cell_type": "code",
   "execution_count": 36,
   "id": "72cd27fa",
   "metadata": {
    "execution": {
     "iopub.execute_input": "2025-10-29T13:00:19.157467Z",
     "iopub.status.busy": "2025-10-29T13:00:19.157231Z",
     "iopub.status.idle": "2025-10-29T13:00:19.174176Z",
     "shell.execute_reply": "2025-10-29T13:00:19.173504Z"
    },
    "papermill": {
     "duration": 0.02847,
     "end_time": "2025-10-29T13:00:19.175229",
     "exception": false,
     "start_time": "2025-10-29T13:00:19.146759",
     "status": "completed"
    },
    "tags": []
   },
   "outputs": [
    {
     "data": {
      "text/plain": [
       "0.7926509186351706"
      ]
     },
     "execution_count": 36,
     "metadata": {},
     "output_type": "execute_result"
    }
   ],
   "source": [
    "# Evaluate our baseline model\n",
    "baseline_score = model_0.score(val_sentences,val_labels)\n",
    "baseline_score"
   ]
  },
  {
   "cell_type": "code",
   "execution_count": 37,
   "id": "46536281",
   "metadata": {
    "execution": {
     "iopub.execute_input": "2025-10-29T13:00:19.196294Z",
     "iopub.status.busy": "2025-10-29T13:00:19.196072Z",
     "iopub.status.idle": "2025-10-29T13:00:19.202043Z",
     "shell.execute_reply": "2025-10-29T13:00:19.201315Z"
    },
    "papermill": {
     "duration": 0.017758,
     "end_time": "2025-10-29T13:00:19.203074",
     "exception": false,
     "start_time": "2025-10-29T13:00:19.185316",
     "status": "completed"
    },
    "tags": []
   },
   "outputs": [
    {
     "name": "stdout",
     "output_type": "stream",
     "text": [
      "Our baseline model achievs an accuracy of: 0.7926509186351706\n"
     ]
    },
    {
     "data": {
      "text/plain": [
       "target\n",
       "0    4342\n",
       "1    3271\n",
       "Name: count, dtype: int64"
      ]
     },
     "execution_count": 37,
     "metadata": {},
     "output_type": "execute_result"
    }
   ],
   "source": [
    "print(f\"Our baseline model achievs an accuracy of: {baseline_score}\")\n",
    "train_df.target.value_counts()"
   ]
  },
  {
   "cell_type": "code",
   "execution_count": 38,
   "id": "dd2944ff",
   "metadata": {
    "execution": {
     "iopub.execute_input": "2025-10-29T13:00:19.223950Z",
     "iopub.status.busy": "2025-10-29T13:00:19.223746Z",
     "iopub.status.idle": "2025-10-29T13:00:19.240653Z",
     "shell.execute_reply": "2025-10-29T13:00:19.240067Z"
    },
    "papermill": {
     "duration": 0.028581,
     "end_time": "2025-10-29T13:00:19.241670",
     "exception": false,
     "start_time": "2025-10-29T13:00:19.213089",
     "status": "completed"
    },
    "tags": []
   },
   "outputs": [
    {
     "data": {
      "text/plain": [
       "(array([1, 1]),\n",
       " array(['DFR EP016 Monthly Meltdown - On Dnbheaven 2015.08.06 http://t.co/EjKRf8N8A8 #Drum and Bass #heavy #nasty http://t.co/SPHWE6wFI5',\n",
       "        'FedEx no longer to transport bioterror germs in wake of anthrax lab mishaps http://t.co/qZQc8WWwcN via @usatoday'],\n",
       "       dtype=object))"
      ]
     },
     "execution_count": 38,
     "metadata": {},
     "output_type": "execute_result"
    }
   ],
   "source": [
    "# make predictions\n",
    "baseline_preds = model_0.predict(val_sentences)\n",
    "baseline_preds[:2],val_sentences[:2]"
   ]
  },
  {
   "cell_type": "markdown",
   "id": "b7b8c509",
   "metadata": {
    "papermill": {
     "duration": 0.010072,
     "end_time": "2025-10-29T13:00:19.262188",
     "exception": false,
     "start_time": "2025-10-29T13:00:19.252116",
     "status": "completed"
    },
    "tags": []
   },
   "source": [
    "### Creating an evaluation function for our model experiments\n",
    "we could evaluate all of our model's predictions with different metrics every time,however, this will be cumbersome and could easily be fixed using function\n",
    "Let's create one to compare our model's predictions with the truth labels using the following metrics:\n",
    "* Accuracy\n",
    "* Percision\n",
    "* Recall\n",
    "* F1-score"
   ]
  },
  {
   "cell_type": "code",
   "execution_count": 39,
   "id": "47d2b285",
   "metadata": {
    "execution": {
     "iopub.execute_input": "2025-10-29T13:00:19.283643Z",
     "iopub.status.busy": "2025-10-29T13:00:19.283298Z",
     "iopub.status.idle": "2025-10-29T13:00:19.287921Z",
     "shell.execute_reply": "2025-10-29T13:00:19.287315Z"
    },
    "papermill": {
     "duration": 0.016653,
     "end_time": "2025-10-29T13:00:19.289023",
     "exception": false,
     "start_time": "2025-10-29T13:00:19.272370",
     "status": "completed"
    },
    "tags": []
   },
   "outputs": [],
   "source": [
    "from sklearn.metrics import accuracy_score,precision_recall_fscore_support\n",
    "def calculate_results(y_true, y_preds):\n",
    "    \"\"\"\n",
    "    Calculates model accuracy, recall, precision and f1-score\n",
    "    of a binary classification model.\n",
    "    \"\"\"\n",
    "    model_accuracy = accuracy_score(y_true, y_preds) * 100\n",
    "    model_precision, model_recall, model_f1, _ = precision_recall_fscore_support(\n",
    "        y_true, y_preds, average=\"weighted\"\n",
    "    )\n",
    "    model_results = {\n",
    "        \"accuracy\": model_accuracy,\n",
    "        \"precision\": model_precision,\n",
    "        \"recall\": model_recall,\n",
    "        \"f1\": model_f1,\n",
    "    }\n",
    "    return model_results\n"
   ]
  },
  {
   "cell_type": "code",
   "execution_count": 40,
   "id": "939900f6",
   "metadata": {
    "execution": {
     "iopub.execute_input": "2025-10-29T13:00:19.310366Z",
     "iopub.status.busy": "2025-10-29T13:00:19.310158Z",
     "iopub.status.idle": "2025-10-29T13:00:19.315875Z",
     "shell.execute_reply": "2025-10-29T13:00:19.315316Z"
    },
    "papermill": {
     "duration": 0.017786,
     "end_time": "2025-10-29T13:00:19.317030",
     "exception": false,
     "start_time": "2025-10-29T13:00:19.299244",
     "status": "completed"
    },
    "tags": []
   },
   "outputs": [],
   "source": [
    "baseline_results = calculate_results(y_true=val_labels,y_preds=baseline_preds)"
   ]
  },
  {
   "cell_type": "code",
   "execution_count": 41,
   "id": "95177411",
   "metadata": {
    "execution": {
     "iopub.execute_input": "2025-10-29T13:00:19.338578Z",
     "iopub.status.busy": "2025-10-29T13:00:19.338340Z",
     "iopub.status.idle": "2025-10-29T13:00:19.342285Z",
     "shell.execute_reply": "2025-10-29T13:00:19.341785Z"
    },
    "papermill": {
     "duration": 0.015506,
     "end_time": "2025-10-29T13:00:19.343324",
     "exception": false,
     "start_time": "2025-10-29T13:00:19.327818",
     "status": "completed"
    },
    "tags": []
   },
   "outputs": [
    {
     "data": {
      "text/plain": [
       "{'accuracy': 79.26509186351706,\n",
       " 'precision': 0.8111390004213173,\n",
       " 'recall': 0.7926509186351706,\n",
       " 'f1': 0.7862189758049549}"
      ]
     },
     "execution_count": 41,
     "metadata": {},
     "output_type": "execute_result"
    }
   ],
   "source": [
    "baseline_results"
   ]
  },
  {
   "cell_type": "markdown",
   "id": "a052e613",
   "metadata": {
    "papermill": {
     "duration": 0.010082,
     "end_time": "2025-10-29T13:00:19.363772",
     "exception": false,
     "start_time": "2025-10-29T13:00:19.353690",
     "status": "completed"
    },
    "tags": []
   },
   "source": [
    "### Model 1: A simple dense model"
   ]
  },
  {
   "cell_type": "code",
   "execution_count": 42,
   "id": "5c193dcf",
   "metadata": {
    "execution": {
     "iopub.execute_input": "2025-10-29T13:00:19.385876Z",
     "iopub.status.busy": "2025-10-29T13:00:19.385400Z",
     "iopub.status.idle": "2025-10-29T13:00:19.405967Z",
     "shell.execute_reply": "2025-10-29T13:00:19.405418Z"
    },
    "papermill": {
     "duration": 0.033028,
     "end_time": "2025-10-29T13:00:19.407098",
     "exception": false,
     "start_time": "2025-10-29T13:00:19.374070",
     "status": "completed"
    },
    "tags": []
   },
   "outputs": [],
   "source": [
    "# Create a directory to save tensorboard logs\n",
    "SAVE_DIR = \"model_logs\"\n",
    "# Bild model with the Functional API\n",
    "from tensorflow.keras import layers\n",
    "inputs = layers.Input(shape=(),dtype=tf.string,name=\"input_layer\")\n",
    "x = text_vectorizer(inputs) # turn the input text into number\n",
    "x = embedding(x) # create an embedding of the numberized inputs\n",
    "x = layers.GlobalAveragePooling1D(name=\"globalAverage_layer\")(x)\n",
    "# x = layers.Flatten()(x)\n",
    "outputs = layers.Dense(1,activation=\"sigmoid\",name=\"output_layer\")(x)\n",
    "model_1 = tf.keras.Model(inputs,outputs,name=\"model_1_dense\")"
   ]
  },
  {
   "cell_type": "code",
   "execution_count": 43,
   "id": "981cbda4",
   "metadata": {
    "execution": {
     "iopub.execute_input": "2025-10-29T13:00:19.428529Z",
     "iopub.status.busy": "2025-10-29T13:00:19.428293Z",
     "iopub.status.idle": "2025-10-29T13:00:19.442113Z",
     "shell.execute_reply": "2025-10-29T13:00:19.441545Z"
    },
    "papermill": {
     "duration": 0.025653,
     "end_time": "2025-10-29T13:00:19.443128",
     "exception": false,
     "start_time": "2025-10-29T13:00:19.417475",
     "status": "completed"
    },
    "tags": []
   },
   "outputs": [
    {
     "data": {
      "text/html": [
       "<pre style=\"white-space:pre;overflow-x:auto;line-height:normal;font-family:Menlo,'DejaVu Sans Mono',consolas,'Courier New',monospace\"><span style=\"font-weight: bold\">Model: \"model_1_dense\"</span>\n",
       "</pre>\n"
      ],
      "text/plain": [
       "\u001b[1mModel: \"model_1_dense\"\u001b[0m\n"
      ]
     },
     "metadata": {},
     "output_type": "display_data"
    },
    {
     "data": {
      "text/html": [
       "<pre style=\"white-space:pre;overflow-x:auto;line-height:normal;font-family:Menlo,'DejaVu Sans Mono',consolas,'Courier New',monospace\">┏━━━━━━━━━━━━━━━━━━━━━━━━━━━━━━━━━┳━━━━━━━━━━━━━━━━━━━━━━━━┳━━━━━━━━━━━━━━━┓\n",
       "┃<span style=\"font-weight: bold\"> Layer (type)                    </span>┃<span style=\"font-weight: bold\"> Output Shape           </span>┃<span style=\"font-weight: bold\">       Param # </span>┃\n",
       "┡━━━━━━━━━━━━━━━━━━━━━━━━━━━━━━━━━╇━━━━━━━━━━━━━━━━━━━━━━━━╇━━━━━━━━━━━━━━━┩\n",
       "│ input_layer (<span style=\"color: #0087ff; text-decoration-color: #0087ff\">InputLayer</span>)        │ (<span style=\"color: #00d7ff; text-decoration-color: #00d7ff\">None</span>)                 │             <span style=\"color: #00af00; text-decoration-color: #00af00\">0</span> │\n",
       "├─────────────────────────────────┼────────────────────────┼───────────────┤\n",
       "│ text_vectorization_1            │ (<span style=\"color: #00d7ff; text-decoration-color: #00d7ff\">None</span>, <span style=\"color: #00af00; text-decoration-color: #00af00\">15</span>)             │             <span style=\"color: #00af00; text-decoration-color: #00af00\">0</span> │\n",
       "│ (<span style=\"color: #0087ff; text-decoration-color: #0087ff\">TextVectorization</span>)             │                        │               │\n",
       "├─────────────────────────────────┼────────────────────────┼───────────────┤\n",
       "│ embedding (<span style=\"color: #0087ff; text-decoration-color: #0087ff\">Embedding</span>)           │ (<span style=\"color: #00d7ff; text-decoration-color: #00d7ff\">None</span>, <span style=\"color: #00af00; text-decoration-color: #00af00\">15</span>, <span style=\"color: #00af00; text-decoration-color: #00af00\">128</span>)        │     <span style=\"color: #00af00; text-decoration-color: #00af00\">1,280,000</span> │\n",
       "├─────────────────────────────────┼────────────────────────┼───────────────┤\n",
       "│ globalAverage_layer             │ (<span style=\"color: #00d7ff; text-decoration-color: #00d7ff\">None</span>, <span style=\"color: #00af00; text-decoration-color: #00af00\">128</span>)            │             <span style=\"color: #00af00; text-decoration-color: #00af00\">0</span> │\n",
       "│ (<span style=\"color: #0087ff; text-decoration-color: #0087ff\">GlobalAveragePooling1D</span>)        │                        │               │\n",
       "├─────────────────────────────────┼────────────────────────┼───────────────┤\n",
       "│ output_layer (<span style=\"color: #0087ff; text-decoration-color: #0087ff\">Dense</span>)            │ (<span style=\"color: #00d7ff; text-decoration-color: #00d7ff\">None</span>, <span style=\"color: #00af00; text-decoration-color: #00af00\">1</span>)              │           <span style=\"color: #00af00; text-decoration-color: #00af00\">129</span> │\n",
       "└─────────────────────────────────┴────────────────────────┴───────────────┘\n",
       "</pre>\n"
      ],
      "text/plain": [
       "┏━━━━━━━━━━━━━━━━━━━━━━━━━━━━━━━━━┳━━━━━━━━━━━━━━━━━━━━━━━━┳━━━━━━━━━━━━━━━┓\n",
       "┃\u001b[1m \u001b[0m\u001b[1mLayer (type)                   \u001b[0m\u001b[1m \u001b[0m┃\u001b[1m \u001b[0m\u001b[1mOutput Shape          \u001b[0m\u001b[1m \u001b[0m┃\u001b[1m \u001b[0m\u001b[1m      Param #\u001b[0m\u001b[1m \u001b[0m┃\n",
       "┡━━━━━━━━━━━━━━━━━━━━━━━━━━━━━━━━━╇━━━━━━━━━━━━━━━━━━━━━━━━╇━━━━━━━━━━━━━━━┩\n",
       "│ input_layer (\u001b[38;5;33mInputLayer\u001b[0m)        │ (\u001b[38;5;45mNone\u001b[0m)                 │             \u001b[38;5;34m0\u001b[0m │\n",
       "├─────────────────────────────────┼────────────────────────┼───────────────┤\n",
       "│ text_vectorization_1            │ (\u001b[38;5;45mNone\u001b[0m, \u001b[38;5;34m15\u001b[0m)             │             \u001b[38;5;34m0\u001b[0m │\n",
       "│ (\u001b[38;5;33mTextVectorization\u001b[0m)             │                        │               │\n",
       "├─────────────────────────────────┼────────────────────────┼───────────────┤\n",
       "│ embedding (\u001b[38;5;33mEmbedding\u001b[0m)           │ (\u001b[38;5;45mNone\u001b[0m, \u001b[38;5;34m15\u001b[0m, \u001b[38;5;34m128\u001b[0m)        │     \u001b[38;5;34m1,280,000\u001b[0m │\n",
       "├─────────────────────────────────┼────────────────────────┼───────────────┤\n",
       "│ globalAverage_layer             │ (\u001b[38;5;45mNone\u001b[0m, \u001b[38;5;34m128\u001b[0m)            │             \u001b[38;5;34m0\u001b[0m │\n",
       "│ (\u001b[38;5;33mGlobalAveragePooling1D\u001b[0m)        │                        │               │\n",
       "├─────────────────────────────────┼────────────────────────┼───────────────┤\n",
       "│ output_layer (\u001b[38;5;33mDense\u001b[0m)            │ (\u001b[38;5;45mNone\u001b[0m, \u001b[38;5;34m1\u001b[0m)              │           \u001b[38;5;34m129\u001b[0m │\n",
       "└─────────────────────────────────┴────────────────────────┴───────────────┘\n"
      ]
     },
     "metadata": {},
     "output_type": "display_data"
    },
    {
     "data": {
      "text/html": [
       "<pre style=\"white-space:pre;overflow-x:auto;line-height:normal;font-family:Menlo,'DejaVu Sans Mono',consolas,'Courier New',monospace\"><span style=\"font-weight: bold\"> Total params: </span><span style=\"color: #00af00; text-decoration-color: #00af00\">1,280,129</span> (4.88 MB)\n",
       "</pre>\n"
      ],
      "text/plain": [
       "\u001b[1m Total params: \u001b[0m\u001b[38;5;34m1,280,129\u001b[0m (4.88 MB)\n"
      ]
     },
     "metadata": {},
     "output_type": "display_data"
    },
    {
     "data": {
      "text/html": [
       "<pre style=\"white-space:pre;overflow-x:auto;line-height:normal;font-family:Menlo,'DejaVu Sans Mono',consolas,'Courier New',monospace\"><span style=\"font-weight: bold\"> Trainable params: </span><span style=\"color: #00af00; text-decoration-color: #00af00\">1,280,129</span> (4.88 MB)\n",
       "</pre>\n"
      ],
      "text/plain": [
       "\u001b[1m Trainable params: \u001b[0m\u001b[38;5;34m1,280,129\u001b[0m (4.88 MB)\n"
      ]
     },
     "metadata": {},
     "output_type": "display_data"
    },
    {
     "data": {
      "text/html": [
       "<pre style=\"white-space:pre;overflow-x:auto;line-height:normal;font-family:Menlo,'DejaVu Sans Mono',consolas,'Courier New',monospace\"><span style=\"font-weight: bold\"> Non-trainable params: </span><span style=\"color: #00af00; text-decoration-color: #00af00\">0</span> (0.00 B)\n",
       "</pre>\n"
      ],
      "text/plain": [
       "\u001b[1m Non-trainable params: \u001b[0m\u001b[38;5;34m0\u001b[0m (0.00 B)\n"
      ]
     },
     "metadata": {},
     "output_type": "display_data"
    }
   ],
   "source": [
    "model_1.summary()"
   ]
  },
  {
   "cell_type": "code",
   "execution_count": 44,
   "id": "f5c39a3c",
   "metadata": {
    "execution": {
     "iopub.execute_input": "2025-10-29T13:00:19.465942Z",
     "iopub.status.busy": "2025-10-29T13:00:19.465673Z",
     "iopub.status.idle": "2025-10-29T13:00:19.478896Z",
     "shell.execute_reply": "2025-10-29T13:00:19.478331Z"
    },
    "papermill": {
     "duration": 0.025984,
     "end_time": "2025-10-29T13:00:19.479999",
     "exception": false,
     "start_time": "2025-10-29T13:00:19.454015",
     "status": "completed"
    },
    "tags": []
   },
   "outputs": [],
   "source": [
    "# compile the model\n",
    "model_1.compile(loss=\"binary_crossentropy\",\n",
    "               optimizer=tf.keras.optimizers.Adam(),\n",
    "               metrics=[\"accuracy\"])"
   ]
  },
  {
   "cell_type": "code",
   "execution_count": 45,
   "id": "b7b891a9",
   "metadata": {
    "execution": {
     "iopub.execute_input": "2025-10-29T13:00:19.502345Z",
     "iopub.status.busy": "2025-10-29T13:00:19.502123Z",
     "iopub.status.idle": "2025-10-29T13:00:28.983932Z",
     "shell.execute_reply": "2025-10-29T13:00:28.983318Z"
    },
    "papermill": {
     "duration": 9.494112,
     "end_time": "2025-10-29T13:00:28.985085",
     "exception": false,
     "start_time": "2025-10-29T13:00:19.490973",
     "status": "completed"
    },
    "tags": []
   },
   "outputs": [
    {
     "name": "stdout",
     "output_type": "stream",
     "text": [
      "Saving TensorBoard log files to: TensorBoard/model_1_dense/20251029-130019\n",
      "Epoch 1/5\n",
      "\u001b[1m215/215\u001b[0m \u001b[32m━━━━━━━━━━━━━━━━━━━━\u001b[0m\u001b[37m\u001b[0m \u001b[1m4s\u001b[0m 7ms/step - accuracy: 0.6368 - loss: 0.6511 - val_accuracy: 0.7480 - val_loss: 0.5385\n",
      "Epoch 2/5\n",
      "\u001b[1m215/215\u001b[0m \u001b[32m━━━━━━━━━━━━━━━━━━━━\u001b[0m\u001b[37m\u001b[0m \u001b[1m1s\u001b[0m 5ms/step - accuracy: 0.8066 - loss: 0.4718 - val_accuracy: 0.7874 - val_loss: 0.4739\n",
      "Epoch 3/5\n",
      "\u001b[1m215/215\u001b[0m \u001b[32m━━━━━━━━━━━━━━━━━━━━\u001b[0m\u001b[37m\u001b[0m \u001b[1m1s\u001b[0m 5ms/step - accuracy: 0.8583 - loss: 0.3536 - val_accuracy: 0.7913 - val_loss: 0.4594\n",
      "Epoch 4/5\n",
      "\u001b[1m215/215\u001b[0m \u001b[32m━━━━━━━━━━━━━━━━━━━━\u001b[0m\u001b[37m\u001b[0m \u001b[1m1s\u001b[0m 5ms/step - accuracy: 0.8909 - loss: 0.2865 - val_accuracy: 0.7887 - val_loss: 0.4691\n",
      "Epoch 5/5\n",
      "\u001b[1m215/215\u001b[0m \u001b[32m━━━━━━━━━━━━━━━━━━━━\u001b[0m\u001b[37m\u001b[0m \u001b[1m1s\u001b[0m 5ms/step - accuracy: 0.9121 - loss: 0.2414 - val_accuracy: 0.7808 - val_loss: 0.4869\n"
     ]
    }
   ],
   "source": [
    "# Fit the model\n",
    "model_1_history = model_1.fit(x=train_sentences,\n",
    "                             y=train_labels,\n",
    "                             epochs=5,\n",
    "                             validation_data=(val_sentences,val_labels),\n",
    "                             callbacks=[create_tensorboard_callback(\"TensorBoard\",\"model_1_dense\")])"
   ]
  },
  {
   "cell_type": "code",
   "execution_count": 46,
   "id": "b2f71642",
   "metadata": {
    "execution": {
     "iopub.execute_input": "2025-10-29T13:00:29.017176Z",
     "iopub.status.busy": "2025-10-29T13:00:29.016931Z",
     "iopub.status.idle": "2025-10-29T13:00:29.465866Z",
     "shell.execute_reply": "2025-10-29T13:00:29.465141Z"
    },
    "papermill": {
     "duration": 0.465782,
     "end_time": "2025-10-29T13:00:29.467067",
     "exception": false,
     "start_time": "2025-10-29T13:00:29.001285",
     "status": "completed"
    },
    "tags": []
   },
   "outputs": [
    {
     "data": {
      "image/png": "[encoded data removed]",
      "text/plain": [
       "<Figure size 640x480 with 1 Axes>"
      ]
     },
     "metadata": {},
     "output_type": "display_data"
    },
    {
     "data": {
      "image/png": "[encoded data removed]",
      "text/plain": [
       "<Figure size 640x480 with 1 Axes>"
      ]
     },
     "metadata": {},
     "output_type": "display_data"
    }
   ],
   "source": [
    "plot_loss_curves(model_1_history)"
   ]
  },
  {
   "cell_type": "code",
   "execution_count": 47,
   "id": "af789d24",
   "metadata": {
    "execution": {
     "iopub.execute_input": "2025-10-29T13:00:29.500864Z",
     "iopub.status.busy": "2025-10-29T13:00:29.500616Z",
     "iopub.status.idle": "2025-10-29T13:00:29.663613Z",
     "shell.execute_reply": "2025-10-29T13:00:29.662928Z"
    },
    "papermill": {
     "duration": 0.180942,
     "end_time": "2025-10-29T13:00:29.664793",
     "exception": false,
     "start_time": "2025-10-29T13:00:29.483851",
     "status": "completed"
    },
    "tags": []
   },
   "outputs": [
    {
     "name": "stdout",
     "output_type": "stream",
     "text": [
      "\u001b[1m24/24\u001b[0m \u001b[32m━━━━━━━━━━━━━━━━━━━━\u001b[0m\u001b[37m\u001b[0m \u001b[1m0s\u001b[0m 4ms/step - accuracy: 0.7677 - loss: 0.5197\n"
     ]
    },
    {
     "data": {
      "text/plain": [
       "[0.4869290292263031, 0.7808399200439453]"
      ]
     },
     "execution_count": 47,
     "metadata": {},
     "output_type": "execute_result"
    }
   ],
   "source": [
    "model_1.evaluate(val_sentences,val_labels)"
   ]
  },
  {
   "cell_type": "code",
   "execution_count": 48,
   "id": "ef84318a",
   "metadata": {
    "execution": {
     "iopub.execute_input": "2025-10-29T13:00:29.698808Z",
     "iopub.status.busy": "2025-10-29T13:00:29.698297Z",
     "iopub.status.idle": "2025-10-29T13:00:30.176845Z",
     "shell.execute_reply": "2025-10-29T13:00:30.175897Z"
    },
    "papermill": {
     "duration": 0.496814,
     "end_time": "2025-10-29T13:00:30.178280",
     "exception": false,
     "start_time": "2025-10-29T13:00:29.681466",
     "status": "completed"
    },
    "tags": []
   },
   "outputs": [
    {
     "name": "stdout",
     "output_type": "stream",
     "text": [
      "\u001b[1m24/24\u001b[0m \u001b[32m━━━━━━━━━━━━━━━━━━━━\u001b[0m\u001b[37m\u001b[0m \u001b[1m0s\u001b[0m 10ms/step\n"
     ]
    }
   ],
   "source": [
    "model_1_pred_probs = model_1.predict(val_sentences)"
   ]
  },
  {
   "cell_type": "code",
   "execution_count": 49,
   "id": "461f6661",
   "metadata": {
    "execution": {
     "iopub.execute_input": "2025-10-29T13:00:30.215607Z",
     "iopub.status.busy": "2025-10-29T13:00:30.214966Z",
     "iopub.status.idle": "2025-10-29T13:00:30.220728Z",
     "shell.execute_reply": "2025-10-29T13:00:30.219927Z"
    },
    "papermill": {
     "duration": 0.024372,
     "end_time": "2025-10-29T13:00:30.221888",
     "exception": false,
     "start_time": "2025-10-29T13:00:30.197516",
     "status": "completed"
    },
    "tags": []
   },
   "outputs": [
    {
     "data": {
      "text/plain": [
       "((762, 1),\n",
       " array(['DFR EP016 Monthly Meltdown - On Dnbheaven 2015.08.06 http://t.co/EjKRf8N8A8 #Drum and Bass #heavy #nasty http://t.co/SPHWE6wFI5',\n",
       "        'FedEx no longer to transport bioterror germs in wake of anthrax lab mishaps http://t.co/qZQc8WWwcN via @usatoday',\n",
       "        'Gunmen kill four in El Salvador bus attack: Suspected Salvadoran gang members killed four people and wounded s... http://t.co/CNtwB6ScZj',\n",
       "        '@camilacabello97 Internally and externally screaming',\n",
       "        'Radiation emergency #preparedness starts with knowing to: get inside stay inside and stay tuned http://t.co/RFFPqBAz2F via @CDCgov'],\n",
       "       dtype=object),\n",
       " array([[0.4456724 ],\n",
       "        [0.7855262 ],\n",
       "        [0.9977374 ],\n",
       "        [0.06257392],\n",
       "        [0.12785347]], dtype=float32))"
      ]
     },
     "execution_count": 49,
     "metadata": {},
     "output_type": "execute_result"
    }
   ],
   "source": [
    "model_1_pred_probs.shape,val_sentences[:5],model_1_pred_probs[:5]\n"
   ]
  },
  {
   "cell_type": "code",
   "execution_count": 50,
   "id": "7d644183",
   "metadata": {
    "execution": {
     "iopub.execute_input": "2025-10-29T13:00:30.259018Z",
     "iopub.status.busy": "2025-10-29T13:00:30.258770Z",
     "iopub.status.idle": "2025-10-29T13:00:30.345369Z",
     "shell.execute_reply": "2025-10-29T13:00:30.344443Z"
    },
    "papermill": {
     "duration": 0.10771,
     "end_time": "2025-10-29T13:00:30.346797",
     "exception": false,
     "start_time": "2025-10-29T13:00:30.239087",
     "status": "completed"
    },
    "tags": []
   },
   "outputs": [
    {
     "data": {
      "text/plain": [
       "<tf.Tensor: shape=(20,), dtype=float32, numpy=\n",
       "array([0., 1., 1., 0., 0., 1., 1., 1., 1., 0., 0., 1., 0., 0., 0., 0., 0.,\n",
       "       0., 0., 1.], dtype=float32)>"
      ]
     },
     "execution_count": 50,
     "metadata": {},
     "output_type": "execute_result"
    }
   ],
   "source": [
    "# convert model prediction probablity to a label format\n",
    "model_1_preds = tf.squeeze(tf.round(model_1_pred_probs))\n",
    "model_1_preds[:20]"
   ]
  },
  {
   "cell_type": "code",
   "execution_count": 51,
   "id": "75abb18d",
   "metadata": {
    "execution": {
     "iopub.execute_input": "2025-10-29T13:00:30.385575Z",
     "iopub.status.busy": "2025-10-29T13:00:30.385288Z",
     "iopub.status.idle": "2025-10-29T13:00:30.391603Z",
     "shell.execute_reply": "2025-10-29T13:00:30.391073Z"
    },
    "papermill": {
     "duration": 0.026354,
     "end_time": "2025-10-29T13:00:30.392789",
     "exception": false,
     "start_time": "2025-10-29T13:00:30.366435",
     "status": "completed"
    },
    "tags": []
   },
   "outputs": [],
   "source": [
    "model_1_results = calculate_results(y_true=val_labels,y_preds=model_1_preds)"
   ]
  },
  {
   "cell_type": "code",
   "execution_count": 52,
   "id": "730f1d59",
   "metadata": {
    "execution": {
     "iopub.execute_input": "2025-10-29T13:00:30.426864Z",
     "iopub.status.busy": "2025-10-29T13:00:30.426660Z",
     "iopub.status.idle": "2025-10-29T13:00:30.431077Z",
     "shell.execute_reply": "2025-10-29T13:00:30.430516Z"
    },
    "papermill": {
     "duration": 0.022607,
     "end_time": "2025-10-29T13:00:30.432108",
     "exception": false,
     "start_time": "2025-10-29T13:00:30.409501",
     "status": "completed"
    },
    "tags": []
   },
   "outputs": [
    {
     "data": {
      "text/plain": [
       "{'accuracy': 78.08398950131233,\n",
       " 'precision': 0.7856875884556138,\n",
       " 'recall': 0.7808398950131233,\n",
       " 'f1': 0.777681907957685}"
      ]
     },
     "execution_count": 52,
     "metadata": {},
     "output_type": "execute_result"
    }
   ],
   "source": [
    "model_1_results"
   ]
  },
  {
   "cell_type": "code",
   "execution_count": 53,
   "id": "6395729b",
   "metadata": {
    "execution": {
     "iopub.execute_input": "2025-10-29T13:00:30.465835Z",
     "iopub.status.busy": "2025-10-29T13:00:30.465393Z",
     "iopub.status.idle": "2025-10-29T13:00:30.469860Z",
     "shell.execute_reply": "2025-10-29T13:00:30.469283Z"
    },
    "papermill": {
     "duration": 0.022615,
     "end_time": "2025-10-29T13:00:30.470916",
     "exception": false,
     "start_time": "2025-10-29T13:00:30.448301",
     "status": "completed"
    },
    "tags": []
   },
   "outputs": [
    {
     "data": {
      "text/plain": [
       "{'accuracy': 79.26509186351706,\n",
       " 'precision': 0.8111390004213173,\n",
       " 'recall': 0.7926509186351706,\n",
       " 'f1': 0.7862189758049549}"
      ]
     },
     "execution_count": 53,
     "metadata": {},
     "output_type": "execute_result"
    }
   ],
   "source": [
    "baseline_results"
   ]
  },
  {
   "cell_type": "code",
   "execution_count": 54,
   "id": "17deabaf",
   "metadata": {
    "execution": {
     "iopub.execute_input": "2025-10-29T13:00:30.505742Z",
     "iopub.status.busy": "2025-10-29T13:00:30.505317Z",
     "iopub.status.idle": "2025-10-29T13:00:30.510275Z",
     "shell.execute_reply": "2025-10-29T13:00:30.509707Z"
    },
    "papermill": {
     "duration": 0.023694,
     "end_time": "2025-10-29T13:00:30.511282",
     "exception": false,
     "start_time": "2025-10-29T13:00:30.487588",
     "status": "completed"
    },
    "tags": []
   },
   "outputs": [
    {
     "data": {
      "text/plain": [
       "array([False, False, False, False])"
      ]
     },
     "execution_count": 54,
     "metadata": {},
     "output_type": "execute_result"
    }
   ],
   "source": [
    "import numpy as np\n",
    "np.array(list(model_1_results.values())) > np.array(list(baseline_results.values()))"
   ]
  },
  {
   "cell_type": "markdown",
   "id": "360f1f42",
   "metadata": {
    "papermill": {
     "duration": 0.01681,
     "end_time": "2025-10-29T13:00:30.544950",
     "exception": false,
     "start_time": "2025-10-29T13:00:30.528140",
     "status": "completed"
    },
    "tags": []
   },
   "source": [
    "## Visualizing Learned Embeddings"
   ]
  },
  {
   "cell_type": "code",
   "execution_count": 55,
   "id": "daeb0b7c",
   "metadata": {
    "execution": {
     "iopub.execute_input": "2025-10-29T13:00:30.579429Z",
     "iopub.status.busy": "2025-10-29T13:00:30.578904Z",
     "iopub.status.idle": "2025-10-29T13:00:30.605794Z",
     "shell.execute_reply": "2025-10-29T13:00:30.605183Z"
    },
    "papermill": {
     "duration": 0.04491,
     "end_time": "2025-10-29T13:00:30.606822",
     "exception": false,
     "start_time": "2025-10-29T13:00:30.561912",
     "status": "completed"
    },
    "tags": []
   },
   "outputs": [
    {
     "data": {
      "text/plain": [
       "(10000, ['', '[UNK]', 'the', 'a', 'in', 'to', 'of', 'and', 'i', 'is'])"
      ]
     },
     "execution_count": 55,
     "metadata": {},
     "output_type": "execute_result"
    }
   ],
   "source": [
    "# Get the vocabulary from the text vectorization layer\n",
    "words_in_vocab = text_vectorizer.get_vocabulary()\n",
    "len(words_in_vocab), words_in_vocab[:10]"
   ]
  },
  {
   "cell_type": "code",
   "execution_count": 56,
   "id": "fddd8763",
   "metadata": {
    "execution": {
     "iopub.execute_input": "2025-10-29T13:00:30.640895Z",
     "iopub.status.busy": "2025-10-29T13:00:30.640678Z",
     "iopub.status.idle": "2025-10-29T13:00:30.654958Z",
     "shell.execute_reply": "2025-10-29T13:00:30.654269Z"
    },
    "papermill": {
     "duration": 0.032517,
     "end_time": "2025-10-29T13:00:30.656081",
     "exception": false,
     "start_time": "2025-10-29T13:00:30.623564",
     "status": "completed"
    },
    "tags": []
   },
   "outputs": [
    {
     "data": {
      "text/html": [
       "<pre style=\"white-space:pre;overflow-x:auto;line-height:normal;font-family:Menlo,'DejaVu Sans Mono',consolas,'Courier New',monospace\"><span style=\"font-weight: bold\">Model: \"model_1_dense\"</span>\n",
       "</pre>\n"
      ],
      "text/plain": [
       "\u001b[1mModel: \"model_1_dense\"\u001b[0m\n"
      ]
     },
     "metadata": {},
     "output_type": "display_data"
    },
    {
     "data": {
      "text/html": [
       "<pre style=\"white-space:pre;overflow-x:auto;line-height:normal;font-family:Menlo,'DejaVu Sans Mono',consolas,'Courier New',monospace\">┏━━━━━━━━━━━━━━━━━━━━━━━━━━━━━━━━━┳━━━━━━━━━━━━━━━━━━━━━━━━┳━━━━━━━━━━━━━━━┓\n",
       "┃<span style=\"font-weight: bold\"> Layer (type)                    </span>┃<span style=\"font-weight: bold\"> Output Shape           </span>┃<span style=\"font-weight: bold\">       Param # </span>┃\n",
       "┡━━━━━━━━━━━━━━━━━━━━━━━━━━━━━━━━━╇━━━━━━━━━━━━━━━━━━━━━━━━╇━━━━━━━━━━━━━━━┩\n",
       "│ input_layer (<span style=\"color: #0087ff; text-decoration-color: #0087ff\">InputLayer</span>)        │ (<span style=\"color: #00d7ff; text-decoration-color: #00d7ff\">None</span>)                 │             <span style=\"color: #00af00; text-decoration-color: #00af00\">0</span> │\n",
       "├─────────────────────────────────┼────────────────────────┼───────────────┤\n",
       "│ text_vectorization_1            │ (<span style=\"color: #00d7ff; text-decoration-color: #00d7ff\">None</span>, <span style=\"color: #00af00; text-decoration-color: #00af00\">15</span>)             │             <span style=\"color: #00af00; text-decoration-color: #00af00\">0</span> │\n",
       "│ (<span style=\"color: #0087ff; text-decoration-color: #0087ff\">TextVectorization</span>)             │                        │               │\n",
       "├─────────────────────────────────┼────────────────────────┼───────────────┤\n",
       "│ embedding (<span style=\"color: #0087ff; text-decoration-color: #0087ff\">Embedding</span>)           │ (<span style=\"color: #00d7ff; text-decoration-color: #00d7ff\">None</span>, <span style=\"color: #00af00; text-decoration-color: #00af00\">15</span>, <span style=\"color: #00af00; text-decoration-color: #00af00\">128</span>)        │     <span style=\"color: #00af00; text-decoration-color: #00af00\">1,280,000</span> │\n",
       "├─────────────────────────────────┼────────────────────────┼───────────────┤\n",
       "│ globalAverage_layer             │ (<span style=\"color: #00d7ff; text-decoration-color: #00d7ff\">None</span>, <span style=\"color: #00af00; text-decoration-color: #00af00\">128</span>)            │             <span style=\"color: #00af00; text-decoration-color: #00af00\">0</span> │\n",
       "│ (<span style=\"color: #0087ff; text-decoration-color: #0087ff\">GlobalAveragePooling1D</span>)        │                        │               │\n",
       "├─────────────────────────────────┼────────────────────────┼───────────────┤\n",
       "│ output_layer (<span style=\"color: #0087ff; text-decoration-color: #0087ff\">Dense</span>)            │ (<span style=\"color: #00d7ff; text-decoration-color: #00d7ff\">None</span>, <span style=\"color: #00af00; text-decoration-color: #00af00\">1</span>)              │           <span style=\"color: #00af00; text-decoration-color: #00af00\">129</span> │\n",
       "└─────────────────────────────────┴────────────────────────┴───────────────┘\n",
       "</pre>\n"
      ],
      "text/plain": [
       "┏━━━━━━━━━━━━━━━━━━━━━━━━━━━━━━━━━┳━━━━━━━━━━━━━━━━━━━━━━━━┳━━━━━━━━━━━━━━━┓\n",
       "┃\u001b[1m \u001b[0m\u001b[1mLayer (type)                   \u001b[0m\u001b[1m \u001b[0m┃\u001b[1m \u001b[0m\u001b[1mOutput Shape          \u001b[0m\u001b[1m \u001b[0m┃\u001b[1m \u001b[0m\u001b[1m      Param #\u001b[0m\u001b[1m \u001b[0m┃\n",
       "┡━━━━━━━━━━━━━━━━━━━━━━━━━━━━━━━━━╇━━━━━━━━━━━━━━━━━━━━━━━━╇━━━━━━━━━━━━━━━┩\n",
       "│ input_layer (\u001b[38;5;33mInputLayer\u001b[0m)        │ (\u001b[38;5;45mNone\u001b[0m)                 │             \u001b[38;5;34m0\u001b[0m │\n",
       "├─────────────────────────────────┼────────────────────────┼───────────────┤\n",
       "│ text_vectorization_1            │ (\u001b[38;5;45mNone\u001b[0m, \u001b[38;5;34m15\u001b[0m)             │             \u001b[38;5;34m0\u001b[0m │\n",
       "│ (\u001b[38;5;33mTextVectorization\u001b[0m)             │                        │               │\n",
       "├─────────────────────────────────┼────────────────────────┼───────────────┤\n",
       "│ embedding (\u001b[38;5;33mEmbedding\u001b[0m)           │ (\u001b[38;5;45mNone\u001b[0m, \u001b[38;5;34m15\u001b[0m, \u001b[38;5;34m128\u001b[0m)        │     \u001b[38;5;34m1,280,000\u001b[0m │\n",
       "├─────────────────────────────────┼────────────────────────┼───────────────┤\n",
       "│ globalAverage_layer             │ (\u001b[38;5;45mNone\u001b[0m, \u001b[38;5;34m128\u001b[0m)            │             \u001b[38;5;34m0\u001b[0m │\n",
       "│ (\u001b[38;5;33mGlobalAveragePooling1D\u001b[0m)        │                        │               │\n",
       "├─────────────────────────────────┼────────────────────────┼───────────────┤\n",
       "│ output_layer (\u001b[38;5;33mDense\u001b[0m)            │ (\u001b[38;5;45mNone\u001b[0m, \u001b[38;5;34m1\u001b[0m)              │           \u001b[38;5;34m129\u001b[0m │\n",
       "└─────────────────────────────────┴────────────────────────┴───────────────┘\n"
      ]
     },
     "metadata": {},
     "output_type": "display_data"
    },
    {
     "data": {
      "text/html": [
       "<pre style=\"white-space:pre;overflow-x:auto;line-height:normal;font-family:Menlo,'DejaVu Sans Mono',consolas,'Courier New',monospace\"><span style=\"font-weight: bold\"> Total params: </span><span style=\"color: #00af00; text-decoration-color: #00af00\">3,840,389</span> (14.65 MB)\n",
       "</pre>\n"
      ],
      "text/plain": [
       "\u001b[1m Total params: \u001b[0m\u001b[38;5;34m3,840,389\u001b[0m (14.65 MB)\n"
      ]
     },
     "metadata": {},
     "output_type": "display_data"
    },
    {
     "data": {
      "text/html": [
       "<pre style=\"white-space:pre;overflow-x:auto;line-height:normal;font-family:Menlo,'DejaVu Sans Mono',consolas,'Courier New',monospace\"><span style=\"font-weight: bold\"> Trainable params: </span><span style=\"color: #00af00; text-decoration-color: #00af00\">1,280,129</span> (4.88 MB)\n",
       "</pre>\n"
      ],
      "text/plain": [
       "\u001b[1m Trainable params: \u001b[0m\u001b[38;5;34m1,280,129\u001b[0m (4.88 MB)\n"
      ]
     },
     "metadata": {},
     "output_type": "display_data"
    },
    {
     "data": {
      "text/html": [
       "<pre style=\"white-space:pre;overflow-x:auto;line-height:normal;font-family:Menlo,'DejaVu Sans Mono',consolas,'Courier New',monospace\"><span style=\"font-weight: bold\"> Non-trainable params: </span><span style=\"color: #00af00; text-decoration-color: #00af00\">0</span> (0.00 B)\n",
       "</pre>\n"
      ],
      "text/plain": [
       "\u001b[1m Non-trainable params: \u001b[0m\u001b[38;5;34m0\u001b[0m (0.00 B)\n"
      ]
     },
     "metadata": {},
     "output_type": "display_data"
    },
    {
     "data": {
      "text/html": [
       "<pre style=\"white-space:pre;overflow-x:auto;line-height:normal;font-family:Menlo,'DejaVu Sans Mono',consolas,'Courier New',monospace\"><span style=\"font-weight: bold\"> Optimizer params: </span><span style=\"color: #00af00; text-decoration-color: #00af00\">2,560,260</span> (9.77 MB)\n",
       "</pre>\n"
      ],
      "text/plain": [
       "\u001b[1m Optimizer params: \u001b[0m\u001b[38;5;34m2,560,260\u001b[0m (9.77 MB)\n"
      ]
     },
     "metadata": {},
     "output_type": "display_data"
    }
   ],
   "source": [
    "# Model 1 summary\n",
    "model_1.summary()"
   ]
  },
  {
   "cell_type": "code",
   "execution_count": 57,
   "id": "3287cd8b",
   "metadata": {
    "execution": {
     "iopub.execute_input": "2025-10-29T13:00:30.691454Z",
     "iopub.status.busy": "2025-10-29T13:00:30.691004Z",
     "iopub.status.idle": "2025-10-29T13:00:30.705622Z",
     "shell.execute_reply": "2025-10-29T13:00:30.704900Z"
    },
    "papermill": {
     "duration": 0.033428,
     "end_time": "2025-10-29T13:00:30.706759",
     "exception": false,
     "start_time": "2025-10-29T13:00:30.673331",
     "status": "completed"
    },
    "tags": []
   },
   "outputs": [
    {
     "name": "stdout",
     "output_type": "stream",
     "text": [
      "total parameter of embedding weights: 10000\n",
      "[[ 0.05999129  0.06661769  0.00747584 ... -0.06578319  0.02154869\n",
      "  -0.03777155]\n",
      " [-0.04698481  0.0076545   0.01480025 ... -0.02600813  0.05045938\n",
      "  -0.00181599]\n",
      " [-0.0042992  -0.00019335 -0.00114888 ... -0.00855471  0.02761483\n",
      "  -0.05813794]\n",
      " ...\n",
      " [-0.03051463  0.01704044 -0.03119758 ...  0.01402002  0.01901219\n",
      "  -0.00644268]\n",
      " [-0.0507669  -0.00612355 -0.04042    ... -0.0172153  -0.0332197\n",
      "   0.0276804 ]\n",
      " [-0.00535684 -0.04381888 -0.04723977 ...  0.0490851   0.02484703\n",
      "   0.02511909]]\n",
      "shape of embedding: (10000, 128) \n"
     ]
    }
   ],
   "source": [
    "# get the weight metrics of embedding layer\n",
    "# (these are the numberical representations of each token in our training data, which have been learned for 5 epochs)\n",
    "print(f\"total parameter of embedding weights: {len(embedding.get_weights()[0])}\")\n",
    "embed_weights = model_1.get_layer(\"embedding\").get_weights()[0]\n",
    "print(embed_weights[:20])\n",
    "print(f\"shape of embedding: {embed_weights.shape} \")"
   ]
  },
  {
   "cell_type": "markdown",
   "id": "c54a2ac6",
   "metadata": {
    "papermill": {
     "duration": 0.017059,
     "end_time": "2025-10-29T13:00:30.741684",
     "exception": false,
     "start_time": "2025-10-29T13:00:30.724625",
     "status": "completed"
    },
    "tags": []
   },
   "source": [
    "Now we've got the embedding matrix our mdoel has learned to represent our tokens, let's see how we can visualize it.\n",
    "to do so, TensorFlow as a handy tool called projector.\n",
    "and tensorflow alos has an incredible guide on word embeddings themselves."
   ]
  },
  {
   "cell_type": "code",
   "execution_count": 58,
   "id": "74b69209",
   "metadata": {
    "execution": {
     "iopub.execute_input": "2025-10-29T13:00:30.777312Z",
     "iopub.status.busy": "2025-10-29T13:00:30.777066Z",
     "iopub.status.idle": "2025-10-29T13:00:30.781604Z",
     "shell.execute_reply": "2025-10-29T13:00:30.781019Z"
    },
    "papermill": {
     "duration": 0.023665,
     "end_time": "2025-10-29T13:00:30.782688",
     "exception": false,
     "start_time": "2025-10-29T13:00:30.759023",
     "status": "completed"
    },
    "tags": []
   },
   "outputs": [
    {
     "data": {
      "text/plain": [
       "['', '[UNK]', 'the', 'a', 'in', 'to', 'of', 'and', 'i', 'is']"
      ]
     },
     "execution_count": 58,
     "metadata": {},
     "output_type": "execute_result"
    }
   ],
   "source": [
    "words_in_vocab[:10]"
   ]
  },
  {
   "cell_type": "code",
   "execution_count": 59,
   "id": "39628b6e",
   "metadata": {
    "execution": {
     "iopub.execute_input": "2025-10-29T13:00:30.817625Z",
     "iopub.status.busy": "2025-10-29T13:00:30.817385Z",
     "iopub.status.idle": "2025-10-29T13:00:31.522906Z",
     "shell.execute_reply": "2025-10-29T13:00:31.522267Z"
    },
    "papermill": {
     "duration": 0.724351,
     "end_time": "2025-10-29T13:00:31.524162",
     "exception": false,
     "start_time": "2025-10-29T13:00:30.799811",
     "status": "completed"
    },
    "tags": []
   },
   "outputs": [],
   "source": [
    "# Create embedding files from tensorflow word embedding docs\n",
    "import io\n",
    "out_v = io.open('vectors.tsv', 'w', encoding='utf-8')\n",
    "out_m = io.open('metadata.tsv', 'w', encoding='utf-8')\n",
    "\n",
    "for index, word in enumerate(words_in_vocab):\n",
    "  if index == 0:\n",
    "    continue  # skip 0, it's padding.\n",
    "  vec = embed_weights[index]\n",
    "  out_v.write('\\t'.join([str(x) for x in vec]) + \"\\n\")\n",
    "  out_m.write(word + \"\\n\")\n",
    "out_v.close()\n",
    "out_m.close()"
   ]
  },
  {
   "cell_type": "code",
   "execution_count": 60,
   "id": "cf2f5233",
   "metadata": {
    "execution": {
     "iopub.execute_input": "2025-10-29T13:00:31.561613Z",
     "iopub.status.busy": "2025-10-29T13:00:31.561296Z",
     "iopub.status.idle": "2025-10-29T13:00:31.565462Z",
     "shell.execute_reply": "2025-10-29T13:00:31.564690Z"
    },
    "papermill": {
     "duration": 0.023388,
     "end_time": "2025-10-29T13:00:31.566559",
     "exception": false,
     "start_time": "2025-10-29T13:00:31.543171",
     "status": "completed"
    },
    "tags": []
   },
   "outputs": [
    {
     "name": "stdout",
     "output_type": "stream",
     "text": [
      "2.18.0\n"
     ]
    }
   ],
   "source": [
    "import tensorboard\n",
    "print(tensorboard.__version__)"
   ]
  },
  {
   "cell_type": "code",
   "execution_count": 61,
   "id": "e2e9dfca",
   "metadata": {
    "execution": {
     "iopub.execute_input": "2025-10-29T13:00:31.601768Z",
     "iopub.status.busy": "2025-10-29T13:00:31.601558Z",
     "iopub.status.idle": "2025-10-29T13:00:38.665028Z",
     "shell.execute_reply": "2025-10-29T13:00:38.664376Z"
    },
    "papermill": {
     "duration": 7.0824,
     "end_time": "2025-10-29T13:00:38.666275",
     "exception": false,
     "start_time": "2025-10-29T13:00:31.583875",
     "status": "completed"
    },
    "tags": []
   },
   "outputs": [
    {
     "data": {
      "application/javascript": [
       "\n",
       "        (async () => {\n",
       "            const url = new URL(await google.colab.kernel.proxyPort(6006, {'cache': true}));\n",
       "            url.searchParams.set('tensorboardColab', 'true');\n",
       "            const iframe = document.createElement('iframe');\n",
       "            iframe.src = url;\n",
       "            iframe.setAttribute('width', '100%');\n",
       "            iframe.setAttribute('height', '800');\n",
       "            iframe.setAttribute('frameborder', 0);\n",
       "            document.body.appendChild(iframe);\n",
       "        })();\n",
       "    "
      ],
      "text/plain": [
       "<IPython.core.display.Javascript object>"
      ]
     },
     "metadata": {},
     "output_type": "display_data"
    }
   ],
   "source": [
    "#docs_infra: no_execute\n",
    "%load_ext tensorboard\n",
    "%tensorboard --logdir /kaggle/working/TensorBoard/model_1_dense"
   ]
  },
  {
   "cell_type": "markdown",
   "id": "dc011108",
   "metadata": {
    "papermill": {
     "duration": 0.016951,
     "end_time": "2025-10-29T13:00:38.701152",
     "exception": false,
     "start_time": "2025-10-29T13:00:38.684201",
     "status": "completed"
    },
    "tags": []
   },
   "source": [
    "## Recurrent Neural Networks (RNN's)\n",
    "RNN's are useful sequence data.\n",
    "\n",
    "The promise of a recurrent neural network is to use the ***`representation`*** of a previous input to aid the representation of a later input."
   ]
  },
  {
   "cell_type": "code",
   "execution_count": null,
   "id": "af43dfe9",
   "metadata": {
    "papermill": {
     "duration": 0.01692,
     "end_time": "2025-10-29T13:00:38.735289",
     "exception": false,
     "start_time": "2025-10-29T13:00:38.718369",
     "status": "completed"
    },
    "tags": []
   },
   "outputs": [],
   "source": []
  }
 ],
 "metadata": {
  "kaggle": {
   "accelerator": "nvidiaTeslaT4",
   "dataSources": [],
   "dockerImageVersionId": 31153,
   "isGpuEnabled": true,
   "isInternetEnabled": true,
   "language": "python",
   "sourceType": "notebook"
  },
  "kernelspec": {
   "display_name": "Python 3",
   "language": "python",
   "name": "python3"
  },
  "language_info": {
   "codemirror_mode": {
    "name": "ipython",
    "version": 3
   },
   "file_extension": ".py",
   "mimetype": "text/x-python",
   "name": "python",
   "nbconvert_exporter": "python",
   "pygments_lexer": "ipython3",
   "version": "3.11.13"
  },
  "papermill": {
   "default_parameters": {},
   "duration": 45.698396,
   "end_time": "2025-10-29T13:00:41.571377",
   "environment_variables": {},
   "exception": null,
   "input_path": "__notebook__.ipynb",
   "output_path": "__notebook__.ipynb",
   "parameters": {},
   "start_time": "2025-10-29T12:59:55.872981",
   "version": "2.6.0"
  }
 },
 "nbformat": 4,
 "nbformat_minor": 5
}
