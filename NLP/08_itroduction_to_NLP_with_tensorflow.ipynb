{
 "cells": [
  {
   "cell_type": "markdown",
   "id": "de706f2b",
   "metadata": {
    "papermill": {
     "duration": 0.00461,
     "end_time": "2025-10-27T12:58:42.099212",
     "exception": false,
     "start_time": "2025-10-27T12:58:42.094602",
     "status": "completed"
    },
    "tags": []
   },
   "source": [
    "# Introduction to NLP Fundematals in TensorFlow\n",
    "NLP has the goal of deriving information out of natural language(could be sequences text or speech)\n",
    "Another common term for NLP problems is sequence to squence problems(seq2seq)"
   ]
  },
  {
   "cell_type": "code",
   "execution_count": 1,
   "id": "0f2d25b7",
   "metadata": {
    "execution": {
     "iopub.execute_input": "2025-10-27T12:58:42.107464Z",
     "iopub.status.busy": "2025-10-27T12:58:42.107241Z",
     "iopub.status.idle": "2025-10-27T12:58:42.249903Z",
     "shell.execute_reply": "2025-10-27T12:58:42.249197Z"
    },
    "papermill": {
     "duration": 0.148179,
     "end_time": "2025-10-27T12:58:42.251134",
     "exception": false,
     "start_time": "2025-10-27T12:58:42.102955",
     "status": "completed"
    },
    "tags": []
   },
   "outputs": [
    {
     "name": "stdout",
     "output_type": "stream",
     "text": [
      "GPU 0: Tesla T4 (UUID: GPU-b4eec0db-b4f8-b80b-3ac9-dbd68c869f34)\r\n",
      "GPU 1: Tesla T4 (UUID: GPU-b9e9599f-51a9-3743-93ac-74b36959bbee)\r\n"
     ]
    }
   ],
   "source": [
    "!nvidia-smi -L"
   ]
  },
  {
   "cell_type": "markdown",
   "id": "b284f461",
   "metadata": {
    "papermill": {
     "duration": 0.003609,
     "end_time": "2025-10-27T12:58:42.258694",
     "exception": false,
     "start_time": "2025-10-27T12:58:42.255085",
     "status": "completed"
    },
    "tags": []
   },
   "source": []
  },
  {
   "cell_type": "markdown",
   "id": "67416415",
   "metadata": {
    "papermill": {
     "duration": 0.003563,
     "end_time": "2025-10-27T12:58:42.265938",
     "exception": false,
     "start_time": "2025-10-27T12:58:42.262375",
     "status": "completed"
    },
    "tags": []
   },
   "source": [
    "## Get helper functions"
   ]
  },
  {
   "cell_type": "code",
   "execution_count": 2,
   "id": "be92b9d3",
   "metadata": {
    "execution": {
     "iopub.execute_input": "2025-10-27T12:58:42.274136Z",
     "iopub.status.busy": "2025-10-27T12:58:42.273890Z",
     "iopub.status.idle": "2025-10-27T12:58:42.574390Z",
     "shell.execute_reply": "2025-10-27T12:58:42.573635Z"
    },
    "papermill": {
     "duration": 0.306355,
     "end_time": "2025-10-27T12:58:42.575722",
     "exception": false,
     "start_time": "2025-10-27T12:58:42.269367",
     "status": "completed"
    },
    "tags": []
   },
   "outputs": [
    {
     "name": "stdout",
     "output_type": "stream",
     "text": [
      "--2025-10-27 12:58:42--  https://raw.githubusercontent.com/mrdbourke/tensorflow-deep-learning/refs/heads/main/extras/helper_functions.py\r\n",
      "Resolving raw.githubusercontent.com (raw.githubusercontent.com)... 185.199.110.133, 185.199.111.133, 185.199.109.133, ...\r\n",
      "Connecting to raw.githubusercontent.com (raw.githubusercontent.com)|185.199.110.133|:443... connected.\r\n",
      "HTTP request sent, awaiting response... 200 OK\r\n",
      "Length: 10246 (10K) [text/plain]\r\n",
      "Saving to: ‘helper_functions.py’\r\n",
      "\r\n",
      "helper_functions.py 100%[===================>]  10.01K  --.-KB/s    in 0s      \r\n",
      "\r\n",
      "2025-10-27 12:58:42 (62.0 MB/s) - ‘helper_functions.py’ saved [10246/10246]\r\n",
      "\r\n"
     ]
    }
   ],
   "source": [
    "!wget https://raw.githubusercontent.com/mrdbourke/tensorflow-deep-learning/refs/heads/main/extras/helper_functions.py"
   ]
  },
  {
   "cell_type": "code",
   "execution_count": 3,
   "id": "48caba16",
   "metadata": {
    "execution": {
     "iopub.execute_input": "2025-10-27T12:58:42.585182Z",
     "iopub.status.busy": "2025-10-27T12:58:42.584540Z",
     "iopub.status.idle": "2025-10-27T12:59:05.255824Z",
     "shell.execute_reply": "2025-10-27T12:59:05.255035Z"
    },
    "papermill": {
     "duration": 22.677511,
     "end_time": "2025-10-27T12:59:05.257396",
     "exception": false,
     "start_time": "2025-10-27T12:58:42.579885",
     "status": "completed"
    },
    "tags": []
   },
   "outputs": [
    {
     "name": "stderr",
     "output_type": "stream",
     "text": [
      "2025-10-27 12:58:45.834734: E external/local_xla/xla/stream_executor/cuda/cuda_fft.cc:477] Unable to register cuFFT factory: Attempting to register factory for plugin cuFFT when one has already been registered\n",
      "WARNING: All log messages before absl::InitializeLog() is called are written to STDERR\n",
      "E0000 00:00:1761569926.256569      19 cuda_dnn.cc:8310] Unable to register cuDNN factory: Attempting to register factory for plugin cuDNN when one has already been registered\n",
      "E0000 00:00:1761569926.373740      19 cuda_blas.cc:1418] Unable to register cuBLAS factory: Attempting to register factory for plugin cuBLAS when one has already been registered\n"
     ]
    }
   ],
   "source": [
    "from helper_functions import create_tensorboard_callback,unzip_data,plot_loss_curves,compare_historys"
   ]
  },
  {
   "cell_type": "markdown",
   "id": "344161c8",
   "metadata": {
    "papermill": {
     "duration": 0.003839,
     "end_time": "2025-10-27T12:59:05.265440",
     "exception": false,
     "start_time": "2025-10-27T12:59:05.261601",
     "status": "completed"
    },
    "tags": []
   },
   "source": [
    "## Get a text dataset\n",
    "the dataset we're going to be using is Kaggle's introduction to NLP dataset(text samples of tweets labelled as diaster or not diaster)."
   ]
  },
  {
   "cell_type": "code",
   "execution_count": 4,
   "id": "6481ad7c",
   "metadata": {
    "execution": {
     "iopub.execute_input": "2025-10-27T12:59:05.274479Z",
     "iopub.status.busy": "2025-10-27T12:59:05.273982Z",
     "iopub.status.idle": "2025-10-27T12:59:05.488601Z",
     "shell.execute_reply": "2025-10-27T12:59:05.487754Z"
    },
    "papermill": {
     "duration": 0.220823,
     "end_time": "2025-10-27T12:59:05.490119",
     "exception": false,
     "start_time": "2025-10-27T12:59:05.269296",
     "status": "completed"
    },
    "tags": []
   },
   "outputs": [
    {
     "name": "stdout",
     "output_type": "stream",
     "text": [
      "--2025-10-27 12:59:05--  https://storage.googleapis.com/ztm_tf_course/nlp_getting_started.zip\r\n",
      "Resolving storage.googleapis.com (storage.googleapis.com)... 74.125.201.207, 64.233.181.207, 192.178.210.207, ...\r\n",
      "Connecting to storage.googleapis.com (storage.googleapis.com)|74.125.201.207|:443... connected.\r\n",
      "HTTP request sent, awaiting response... 200 OK\r\n",
      "Length: 607343 (593K) [application/zip]\r\n",
      "Saving to: ‘nlp_getting_started.zip’\r\n",
      "\r\n",
      "nlp_getting_started 100%[===================>] 593.11K  --.-KB/s    in 0.006s  \r\n",
      "\r\n",
      "2025-10-27 12:59:05 (98.4 MB/s) - ‘nlp_getting_started.zip’ saved [607343/607343]\r\n",
      "\r\n"
     ]
    }
   ],
   "source": [
    "!wget https://storage.googleapis.com/ztm_tf_course/nlp_getting_started.zip"
   ]
  },
  {
   "cell_type": "code",
   "execution_count": 5,
   "id": "b8df57ef",
   "metadata": {
    "execution": {
     "iopub.execute_input": "2025-10-27T12:59:05.499364Z",
     "iopub.status.busy": "2025-10-27T12:59:05.499130Z",
     "iopub.status.idle": "2025-10-27T12:59:05.516596Z",
     "shell.execute_reply": "2025-10-27T12:59:05.515855Z"
    },
    "papermill": {
     "duration": 0.023362,
     "end_time": "2025-10-27T12:59:05.517697",
     "exception": false,
     "start_time": "2025-10-27T12:59:05.494335",
     "status": "completed"
    },
    "tags": []
   },
   "outputs": [],
   "source": [
    "# unzip the data\n",
    "unzip_data(\"nlp_getting_started.zip\")"
   ]
  },
  {
   "cell_type": "code",
   "execution_count": 6,
   "id": "079ff674",
   "metadata": {
    "execution": {
     "iopub.execute_input": "2025-10-27T12:59:05.526596Z",
     "iopub.status.busy": "2025-10-27T12:59:05.526084Z",
     "iopub.status.idle": "2025-10-27T12:59:05.529398Z",
     "shell.execute_reply": "2025-10-27T12:59:05.528875Z"
    },
    "papermill": {
     "duration": 0.008936,
     "end_time": "2025-10-27T12:59:05.530553",
     "exception": false,
     "start_time": "2025-10-27T12:59:05.521617",
     "status": "completed"
    },
    "tags": []
   },
   "outputs": [],
   "source": [
    "import tensorflow as tf\n",
    "import pandas as pd\n"
   ]
  },
  {
   "cell_type": "code",
   "execution_count": 7,
   "id": "890196a3",
   "metadata": {
    "execution": {
     "iopub.execute_input": "2025-10-27T12:59:05.539111Z",
     "iopub.status.busy": "2025-10-27T12:59:05.538884Z",
     "iopub.status.idle": "2025-10-27T12:59:05.582260Z",
     "shell.execute_reply": "2025-10-27T12:59:05.581687Z"
    },
    "papermill": {
     "duration": 0.048911,
     "end_time": "2025-10-27T12:59:05.583370",
     "exception": false,
     "start_time": "2025-10-27T12:59:05.534459",
     "status": "completed"
    },
    "tags": []
   },
   "outputs": [],
   "source": [
    "train_df = pd.read_csv(\"train.csv\")\n",
    "test_df = pd.read_csv(\"test.csv\")"
   ]
  },
  {
   "cell_type": "code",
   "execution_count": 8,
   "id": "bcc57d7d",
   "metadata": {
    "execution": {
     "iopub.execute_input": "2025-10-27T12:59:05.592101Z",
     "iopub.status.busy": "2025-10-27T12:59:05.591883Z",
     "iopub.status.idle": "2025-10-27T12:59:05.615088Z",
     "shell.execute_reply": "2025-10-27T12:59:05.614376Z"
    },
    "papermill": {
     "duration": 0.028804,
     "end_time": "2025-10-27T12:59:05.616222",
     "exception": false,
     "start_time": "2025-10-27T12:59:05.587418",
     "status": "completed"
    },
    "tags": []
   },
   "outputs": [
    {
     "data": {
      "text/html": [
       "<div>\n",
       "<style scoped>\n",
       "    .dataframe tbody tr th:only-of-type {\n",
       "        vertical-align: middle;\n",
       "    }\n",
       "\n",
       "    .dataframe tbody tr th {\n",
       "        vertical-align: top;\n",
       "    }\n",
       "\n",
       "    .dataframe thead th {\n",
       "        text-align: right;\n",
       "    }\n",
       "</style>\n",
       "<table border=\"1\" class=\"dataframe\">\n",
       "  <thead>\n",
       "    <tr style=\"text-align: right;\">\n",
       "      <th></th>\n",
       "      <th>id</th>\n",
       "      <th>keyword</th>\n",
       "      <th>location</th>\n",
       "      <th>text</th>\n",
       "      <th>target</th>\n",
       "    </tr>\n",
       "  </thead>\n",
       "  <tbody>\n",
       "    <tr>\n",
       "      <th>0</th>\n",
       "      <td>1</td>\n",
       "      <td>NaN</td>\n",
       "      <td>NaN</td>\n",
       "      <td>Our Deeds are the Reason of this #earthquake M...</td>\n",
       "      <td>1</td>\n",
       "    </tr>\n",
       "    <tr>\n",
       "      <th>1</th>\n",
       "      <td>4</td>\n",
       "      <td>NaN</td>\n",
       "      <td>NaN</td>\n",
       "      <td>Forest fire near La Ronge Sask. Canada</td>\n",
       "      <td>1</td>\n",
       "    </tr>\n",
       "    <tr>\n",
       "      <th>2</th>\n",
       "      <td>5</td>\n",
       "      <td>NaN</td>\n",
       "      <td>NaN</td>\n",
       "      <td>All residents asked to 'shelter in place' are ...</td>\n",
       "      <td>1</td>\n",
       "    </tr>\n",
       "    <tr>\n",
       "      <th>3</th>\n",
       "      <td>6</td>\n",
       "      <td>NaN</td>\n",
       "      <td>NaN</td>\n",
       "      <td>13,000 people receive #wildfires evacuation or...</td>\n",
       "      <td>1</td>\n",
       "    </tr>\n",
       "    <tr>\n",
       "      <th>4</th>\n",
       "      <td>7</td>\n",
       "      <td>NaN</td>\n",
       "      <td>NaN</td>\n",
       "      <td>Just got sent this photo from Ruby #Alaska as ...</td>\n",
       "      <td>1</td>\n",
       "    </tr>\n",
       "  </tbody>\n",
       "</table>\n",
       "</div>"
      ],
      "text/plain": [
       "   id keyword location                                               text  \\\n",
       "0   1     NaN      NaN  Our Deeds are the Reason of this #earthquake M...   \n",
       "1   4     NaN      NaN             Forest fire near La Ronge Sask. Canada   \n",
       "2   5     NaN      NaN  All residents asked to 'shelter in place' are ...   \n",
       "3   6     NaN      NaN  13,000 people receive #wildfires evacuation or...   \n",
       "4   7     NaN      NaN  Just got sent this photo from Ruby #Alaska as ...   \n",
       "\n",
       "   target  \n",
       "0       1  \n",
       "1       1  \n",
       "2       1  \n",
       "3       1  \n",
       "4       1  "
      ]
     },
     "execution_count": 8,
     "metadata": {},
     "output_type": "execute_result"
    }
   ],
   "source": [
    "train_df.head()"
   ]
  },
  {
   "cell_type": "code",
   "execution_count": 9,
   "id": "5d6f8eef",
   "metadata": {
    "execution": {
     "iopub.execute_input": "2025-10-27T12:59:05.625398Z",
     "iopub.status.busy": "2025-10-27T12:59:05.624947Z",
     "iopub.status.idle": "2025-10-27T12:59:05.636188Z",
     "shell.execute_reply": "2025-10-27T12:59:05.635572Z"
    },
    "papermill": {
     "duration": 0.016926,
     "end_time": "2025-10-27T12:59:05.637262",
     "exception": false,
     "start_time": "2025-10-27T12:59:05.620336",
     "status": "completed"
    },
    "tags": []
   },
   "outputs": [],
   "source": [
    "# shuffle training dataframe\n",
    "train_df_shuffled = train_df.sample(frac=1,random_state=42)"
   ]
  },
  {
   "cell_type": "code",
   "execution_count": 10,
   "id": "30af1c00",
   "metadata": {
    "execution": {
     "iopub.execute_input": "2025-10-27T12:59:05.646010Z",
     "iopub.status.busy": "2025-10-27T12:59:05.645796Z",
     "iopub.status.idle": "2025-10-27T12:59:05.653052Z",
     "shell.execute_reply": "2025-10-27T12:59:05.652504Z"
    },
    "papermill": {
     "duration": 0.012725,
     "end_time": "2025-10-27T12:59:05.654062",
     "exception": false,
     "start_time": "2025-10-27T12:59:05.641337",
     "status": "completed"
    },
    "tags": []
   },
   "outputs": [
    {
     "data": {
      "text/html": [
       "<div>\n",
       "<style scoped>\n",
       "    .dataframe tbody tr th:only-of-type {\n",
       "        vertical-align: middle;\n",
       "    }\n",
       "\n",
       "    .dataframe tbody tr th {\n",
       "        vertical-align: top;\n",
       "    }\n",
       "\n",
       "    .dataframe thead th {\n",
       "        text-align: right;\n",
       "    }\n",
       "</style>\n",
       "<table border=\"1\" class=\"dataframe\">\n",
       "  <thead>\n",
       "    <tr style=\"text-align: right;\">\n",
       "      <th></th>\n",
       "      <th>id</th>\n",
       "      <th>keyword</th>\n",
       "      <th>location</th>\n",
       "      <th>text</th>\n",
       "      <th>target</th>\n",
       "    </tr>\n",
       "  </thead>\n",
       "  <tbody>\n",
       "    <tr>\n",
       "      <th>2644</th>\n",
       "      <td>3796</td>\n",
       "      <td>destruction</td>\n",
       "      <td>NaN</td>\n",
       "      <td>So you have a new weapon that can cause un-ima...</td>\n",
       "      <td>1</td>\n",
       "    </tr>\n",
       "    <tr>\n",
       "      <th>2227</th>\n",
       "      <td>3185</td>\n",
       "      <td>deluge</td>\n",
       "      <td>NaN</td>\n",
       "      <td>The f$&amp;amp;@ing things I do for #GISHWHES Just...</td>\n",
       "      <td>0</td>\n",
       "    </tr>\n",
       "    <tr>\n",
       "      <th>5448</th>\n",
       "      <td>7769</td>\n",
       "      <td>police</td>\n",
       "      <td>UK</td>\n",
       "      <td>DT @georgegalloway: RT @Galloway4Mayor: ÛÏThe...</td>\n",
       "      <td>1</td>\n",
       "    </tr>\n",
       "    <tr>\n",
       "      <th>132</th>\n",
       "      <td>191</td>\n",
       "      <td>aftershock</td>\n",
       "      <td>NaN</td>\n",
       "      <td>Aftershock back to school kick off was great. ...</td>\n",
       "      <td>0</td>\n",
       "    </tr>\n",
       "    <tr>\n",
       "      <th>6845</th>\n",
       "      <td>9810</td>\n",
       "      <td>trauma</td>\n",
       "      <td>Montgomery County, MD</td>\n",
       "      <td>in response to trauma Children of Addicts deve...</td>\n",
       "      <td>0</td>\n",
       "    </tr>\n",
       "  </tbody>\n",
       "</table>\n",
       "</div>"
      ],
      "text/plain": [
       "        id      keyword               location  \\\n",
       "2644  3796  destruction                    NaN   \n",
       "2227  3185       deluge                    NaN   \n",
       "5448  7769       police                     UK   \n",
       "132    191   aftershock                    NaN   \n",
       "6845  9810       trauma  Montgomery County, MD   \n",
       "\n",
       "                                                   text  target  \n",
       "2644  So you have a new weapon that can cause un-ima...       1  \n",
       "2227  The f$&amp;@ing things I do for #GISHWHES Just...       0  \n",
       "5448  DT @georgegalloway: RT @Galloway4Mayor: ÛÏThe...       1  \n",
       "132   Aftershock back to school kick off was great. ...       0  \n",
       "6845  in response to trauma Children of Addicts deve...       0  "
      ]
     },
     "execution_count": 10,
     "metadata": {},
     "output_type": "execute_result"
    }
   ],
   "source": [
    "train_df_shuffled.head()"
   ]
  },
  {
   "cell_type": "code",
   "execution_count": 11,
   "id": "f240aec2",
   "metadata": {
    "execution": {
     "iopub.execute_input": "2025-10-27T12:59:05.663496Z",
     "iopub.status.busy": "2025-10-27T12:59:05.662940Z",
     "iopub.status.idle": "2025-10-27T12:59:05.669634Z",
     "shell.execute_reply": "2025-10-27T12:59:05.669108Z"
    },
    "papermill": {
     "duration": 0.012377,
     "end_time": "2025-10-27T12:59:05.670666",
     "exception": false,
     "start_time": "2025-10-27T12:59:05.658289",
     "status": "completed"
    },
    "tags": []
   },
   "outputs": [
    {
     "data": {
      "text/html": [
       "<div>\n",
       "<style scoped>\n",
       "    .dataframe tbody tr th:only-of-type {\n",
       "        vertical-align: middle;\n",
       "    }\n",
       "\n",
       "    .dataframe tbody tr th {\n",
       "        vertical-align: top;\n",
       "    }\n",
       "\n",
       "    .dataframe thead th {\n",
       "        text-align: right;\n",
       "    }\n",
       "</style>\n",
       "<table border=\"1\" class=\"dataframe\">\n",
       "  <thead>\n",
       "    <tr style=\"text-align: right;\">\n",
       "      <th></th>\n",
       "      <th>id</th>\n",
       "      <th>keyword</th>\n",
       "      <th>location</th>\n",
       "      <th>text</th>\n",
       "    </tr>\n",
       "  </thead>\n",
       "  <tbody>\n",
       "    <tr>\n",
       "      <th>0</th>\n",
       "      <td>0</td>\n",
       "      <td>NaN</td>\n",
       "      <td>NaN</td>\n",
       "      <td>Just happened a terrible car crash</td>\n",
       "    </tr>\n",
       "    <tr>\n",
       "      <th>1</th>\n",
       "      <td>2</td>\n",
       "      <td>NaN</td>\n",
       "      <td>NaN</td>\n",
       "      <td>Heard about #earthquake is different cities, s...</td>\n",
       "    </tr>\n",
       "    <tr>\n",
       "      <th>2</th>\n",
       "      <td>3</td>\n",
       "      <td>NaN</td>\n",
       "      <td>NaN</td>\n",
       "      <td>there is a forest fire at spot pond, geese are...</td>\n",
       "    </tr>\n",
       "    <tr>\n",
       "      <th>3</th>\n",
       "      <td>9</td>\n",
       "      <td>NaN</td>\n",
       "      <td>NaN</td>\n",
       "      <td>Apocalypse lighting. #Spokane #wildfires</td>\n",
       "    </tr>\n",
       "    <tr>\n",
       "      <th>4</th>\n",
       "      <td>11</td>\n",
       "      <td>NaN</td>\n",
       "      <td>NaN</td>\n",
       "      <td>Typhoon Soudelor kills 28 in China and Taiwan</td>\n",
       "    </tr>\n",
       "  </tbody>\n",
       "</table>\n",
       "</div>"
      ],
      "text/plain": [
       "   id keyword location                                               text\n",
       "0   0     NaN      NaN                 Just happened a terrible car crash\n",
       "1   2     NaN      NaN  Heard about #earthquake is different cities, s...\n",
       "2   3     NaN      NaN  there is a forest fire at spot pond, geese are...\n",
       "3   9     NaN      NaN           Apocalypse lighting. #Spokane #wildfires\n",
       "4  11     NaN      NaN      Typhoon Soudelor kills 28 in China and Taiwan"
      ]
     },
     "execution_count": 11,
     "metadata": {},
     "output_type": "execute_result"
    }
   ],
   "source": [
    "# what does the tesst dataframe look like\n",
    "test_df.head()"
   ]
  },
  {
   "cell_type": "code",
   "execution_count": 12,
   "id": "793ea9c9",
   "metadata": {
    "execution": {
     "iopub.execute_input": "2025-10-27T12:59:05.680140Z",
     "iopub.status.busy": "2025-10-27T12:59:05.679891Z",
     "iopub.status.idle": "2025-10-27T12:59:05.692402Z",
     "shell.execute_reply": "2025-10-27T12:59:05.691661Z"
    },
    "papermill": {
     "duration": 0.01837,
     "end_time": "2025-10-27T12:59:05.693564",
     "exception": false,
     "start_time": "2025-10-27T12:59:05.675194",
     "status": "completed"
    },
    "tags": []
   },
   "outputs": [
    {
     "data": {
      "text/plain": [
       "target\n",
       "0    4342\n",
       "1    3271\n",
       "Name: count, dtype: int64"
      ]
     },
     "execution_count": 12,
     "metadata": {},
     "output_type": "execute_result"
    }
   ],
   "source": [
    "# how many examples of each class?\n",
    "train_df.target.value_counts()"
   ]
  },
  {
   "cell_type": "code",
   "execution_count": 13,
   "id": "212bc85e",
   "metadata": {
    "execution": {
     "iopub.execute_input": "2025-10-27T12:59:05.702875Z",
     "iopub.status.busy": "2025-10-27T12:59:05.702673Z",
     "iopub.status.idle": "2025-10-27T12:59:05.707069Z",
     "shell.execute_reply": "2025-10-27T12:59:05.706338Z"
    },
    "papermill": {
     "duration": 0.010292,
     "end_time": "2025-10-27T12:59:05.708166",
     "exception": false,
     "start_time": "2025-10-27T12:59:05.697874",
     "status": "completed"
    },
    "tags": []
   },
   "outputs": [
    {
     "data": {
      "text/plain": [
       "(7613, 3263)"
      ]
     },
     "execution_count": 13,
     "metadata": {},
     "output_type": "execute_result"
    }
   ],
   "source": [
    "len(train_df),len(test_df)"
   ]
  },
  {
   "cell_type": "code",
   "execution_count": 14,
   "id": "d62b7988",
   "metadata": {
    "execution": {
     "iopub.execute_input": "2025-10-27T12:59:05.718098Z",
     "iopub.status.busy": "2025-10-27T12:59:05.717655Z",
     "iopub.status.idle": "2025-10-27T12:59:05.727055Z",
     "shell.execute_reply": "2025-10-27T12:59:05.726342Z"
    },
    "papermill": {
     "duration": 0.01548,
     "end_time": "2025-10-27T12:59:05.728210",
     "exception": false,
     "start_time": "2025-10-27T12:59:05.712730",
     "status": "completed"
    },
    "tags": []
   },
   "outputs": [
    {
     "name": "stdout",
     "output_type": "stream",
     "text": [
      "target: 1 (real diaster)\n",
      "Text:\n",
      "And so it begins.. day one of the snow apocalypse\n",
      "\n",
      "____________________ \n",
      "\n",
      "target: 1 (real diaster)\n",
      "Text:\n",
      "Wreckage 'Conclusively Confirmed' as From MH370: Malaysia PM\n",
      "\n",
      "____________________ \n",
      "\n",
      "target: 1 (real diaster)\n",
      "Text:\n",
      "@Hurricane_Dolce no prob\n",
      "\n",
      "____________________ \n",
      "\n",
      "target: 1 (real diaster)\n",
      "Text:\n",
      "Maybe that's what happens when a tornado meets a volcano\n",
      "\n",
      "____________________ \n",
      "\n",
      "target: 0 (not real diaster)\n",
      "Text:\n",
      "@DavidVonderhaar if you loved me even a little youd put demolition in bo3\n",
      "\n",
      "____________________ \n",
      "\n"
     ]
    }
   ],
   "source": [
    "# Let's visualize some random training examples\n",
    "import random\n",
    "random_index = random.randint(0,len(train_df)-5)\n",
    "for row in train_df_shuffled[[\"text\",\"target\"]][random_index:random_index+5].itertuples():\n",
    "    _,text,target = row \n",
    "    print(f\"target: {target}\",\"(real diaster)\" if target > 0 else \"(not real diaster)\" )\n",
    "    print(f\"Text:\\n{text}\\n\")\n",
    "    print(10*\"__\",\"\\n\")"
   ]
  },
  {
   "cell_type": "markdown",
   "id": "9948f713",
   "metadata": {
    "papermill": {
     "duration": 0.004489,
     "end_time": "2025-10-27T12:59:05.737472",
     "exception": false,
     "start_time": "2025-10-27T12:59:05.732983",
     "status": "completed"
    },
    "tags": []
   },
   "source": [
    "### Split data into training and validation datasets"
   ]
  },
  {
   "cell_type": "code",
   "execution_count": 15,
   "id": "ac50aa8a",
   "metadata": {
    "execution": {
     "iopub.execute_input": "2025-10-27T12:59:05.747490Z",
     "iopub.status.busy": "2025-10-27T12:59:05.747310Z",
     "iopub.status.idle": "2025-10-27T12:59:05.769553Z",
     "shell.execute_reply": "2025-10-27T12:59:05.768834Z"
    },
    "papermill": {
     "duration": 0.028646,
     "end_time": "2025-10-27T12:59:05.770711",
     "exception": false,
     "start_time": "2025-10-27T12:59:05.742065",
     "status": "completed"
    },
    "tags": []
   },
   "outputs": [],
   "source": [
    "from sklearn.model_selection import train_test_split"
   ]
  },
  {
   "cell_type": "code",
   "execution_count": 16,
   "id": "1be6e376",
   "metadata": {
    "execution": {
     "iopub.execute_input": "2025-10-27T12:59:05.780652Z",
     "iopub.status.busy": "2025-10-27T12:59:05.780271Z",
     "iopub.status.idle": "2025-10-27T12:59:05.785425Z",
     "shell.execute_reply": "2025-10-27T12:59:05.784681Z"
    },
    "papermill": {
     "duration": 0.011484,
     "end_time": "2025-10-27T12:59:05.786664",
     "exception": false,
     "start_time": "2025-10-27T12:59:05.775180",
     "status": "completed"
    },
    "tags": []
   },
   "outputs": [],
   "source": [
    "train_sentences, val_sentences, train_labels, val_labels = train_test_split(train_df_shuffled[\"text\"].to_numpy(),\n",
    "                                                                            train_df_shuffled[\"target\"].to_numpy(),\n",
    "                                                                           test_size=0.1,\n",
    "                                                                           random_state=42)"
   ]
  },
  {
   "cell_type": "code",
   "execution_count": 17,
   "id": "091cf201",
   "metadata": {
    "execution": {
     "iopub.execute_input": "2025-10-27T12:59:05.797744Z",
     "iopub.status.busy": "2025-10-27T12:59:05.797553Z",
     "iopub.status.idle": "2025-10-27T12:59:05.801959Z",
     "shell.execute_reply": "2025-10-27T12:59:05.801250Z"
    },
    "papermill": {
     "duration": 0.011397,
     "end_time": "2025-10-27T12:59:05.802984",
     "exception": false,
     "start_time": "2025-10-27T12:59:05.791587",
     "status": "completed"
    },
    "tags": []
   },
   "outputs": [
    {
     "data": {
      "text/plain": [
       "(6851, 6851, 762, 762)"
      ]
     },
     "execution_count": 17,
     "metadata": {},
     "output_type": "execute_result"
    }
   ],
   "source": [
    "len(train_sentences),len(train_labels),len(val_sentences),len(val_labels)"
   ]
  },
  {
   "cell_type": "code",
   "execution_count": 18,
   "id": "2d9798ef",
   "metadata": {
    "execution": {
     "iopub.execute_input": "2025-10-27T12:59:05.812612Z",
     "iopub.status.busy": "2025-10-27T12:59:05.812420Z",
     "iopub.status.idle": "2025-10-27T12:59:05.816715Z",
     "shell.execute_reply": "2025-10-27T12:59:05.816202Z"
    },
    "papermill": {
     "duration": 0.01039,
     "end_time": "2025-10-27T12:59:05.817822",
     "exception": false,
     "start_time": "2025-10-27T12:59:05.807432",
     "status": "completed"
    },
    "tags": []
   },
   "outputs": [
    {
     "data": {
      "text/plain": [
       "(array(['@mogacola @zamtriossu i screamed after hitting tweet',\n",
       "        'Imagine getting flattened by Kurt Zouma',\n",
       "        '@Gurmeetramrahim #MSGDoing111WelfareWorks Green S welfare force ke appx 65000 members har time disaster victim ki help ke liye tyar hai....',\n",
       "        \"@shakjn @C7 @Magnums im shaking in fear he's gonna hack the planet\",\n",
       "        'Somehow find you and I collide http://t.co/Ee8RpOahPk',\n",
       "        '@EvaHanderek @MarleyKnysh great times until the bus driver held us hostage in the mall parking lot lmfao',\n",
       "        'destroy the free fandom honestly',\n",
       "        'Weapons stolen from National Guard Armory in New Albany still missing #Gunsense http://t.co/lKNU8902JE',\n",
       "        '@wfaaweather Pete when will the heat wave pass? Is it really going to be mid month? Frisco Boy Scouts have a canoe trip in Okla.',\n",
       "        'Patient-reported outcomes in long-term survivors of metastatic colorectal cancer - British Journal of Surgery http://t.co/5Yl4DC1Tqt'],\n",
       "       dtype=object),\n",
       " array([0, 0, 1, 0, 0, 1, 1, 0, 1, 1]))"
      ]
     },
     "execution_count": 18,
     "metadata": {},
     "output_type": "execute_result"
    }
   ],
   "source": [
    "# check the first ten samples\n",
    "train_sentences[:10],train_labels[:10]"
   ]
  },
  {
   "cell_type": "markdown",
   "id": "44560c1f",
   "metadata": {
    "papermill": {
     "duration": 0.00466,
     "end_time": "2025-10-27T12:59:05.827500",
     "exception": false,
     "start_time": "2025-10-27T12:59:05.822840",
     "status": "completed"
    },
    "tags": []
   },
   "source": [
    "## Converting text into number, machine learning don't know text.\n",
    "when dealing with a text problem, one of the first things you'll have to do before you can build a model is to convert your text to numbers.\n",
    "There are a few ways to do this, namely:\n",
    "* *Tokenization* - direct mapping of token (a token could be a word, a character or in between) to number.\n",
    "* *Embedding* - Create a matrix of feature vector for each token ( the size of the feature vector can be defined and this embedding can be learned)"
   ]
  },
  {
   "cell_type": "markdown",
   "id": "a91d7e60",
   "metadata": {
    "papermill": {
     "duration": 0.004218,
     "end_time": "2025-10-27T12:59:05.836308",
     "exception": false,
     "start_time": "2025-10-27T12:59:05.832090",
     "status": "completed"
    },
    "tags": []
   },
   "source": [
    "### Text vecorization(tokenization)"
   ]
  },
  {
   "cell_type": "code",
   "execution_count": 19,
   "id": "46da3f64",
   "metadata": {
    "execution": {
     "iopub.execute_input": "2025-10-27T12:59:05.845876Z",
     "iopub.status.busy": "2025-10-27T12:59:05.845644Z",
     "iopub.status.idle": "2025-10-27T12:59:05.924112Z",
     "shell.execute_reply": "2025-10-27T12:59:05.923341Z"
    },
    "papermill": {
     "duration": 0.084632,
     "end_time": "2025-10-27T12:59:05.925336",
     "exception": false,
     "start_time": "2025-10-27T12:59:05.840704",
     "status": "completed"
    },
    "tags": []
   },
   "outputs": [],
   "source": [
    "import tensorflow as tf\n",
    "from tensorflow.keras.layers import TextVectorization"
   ]
  },
  {
   "cell_type": "code",
   "execution_count": 20,
   "id": "e2c7a376",
   "metadata": {
    "execution": {
     "iopub.execute_input": "2025-10-27T12:59:05.935324Z",
     "iopub.status.busy": "2025-10-27T12:59:05.935105Z",
     "iopub.status.idle": "2025-10-27T12:59:07.562356Z",
     "shell.execute_reply": "2025-10-27T12:59:07.561364Z"
    },
    "papermill": {
     "duration": 1.633647,
     "end_time": "2025-10-27T12:59:07.563604",
     "exception": false,
     "start_time": "2025-10-27T12:59:05.929957",
     "status": "completed"
    },
    "tags": []
   },
   "outputs": [
    {
     "name": "stderr",
     "output_type": "stream",
     "text": [
      "I0000 00:00:1761569947.515056      19 gpu_device.cc:2022] Created device /job:localhost/replica:0/task:0/device:GPU:0 with 13942 MB memory:  -> device: 0, name: Tesla T4, pci bus id: 0000:00:04.0, compute capability: 7.5\n",
      "I0000 00:00:1761569947.515824      19 gpu_device.cc:2022] Created device /job:localhost/replica:0/task:0/device:GPU:1 with 13942 MB memory:  -> device: 1, name: Tesla T4, pci bus id: 0000:00:05.0, compute capability: 7.5\n"
     ]
    }
   ],
   "source": [
    "text_vectorizer = TextVectorization(max_tokens=None, # how many word in the vocablary (automatically add <OOV>\n",
    "                                    standardize=\"lower_and_strip_punctuation\",\n",
    "                                    split=\"whitespace\",\n",
    "                                    ngrams=None, # create groups of n-words\n",
    "                                    output_mode=\"int\", # how to map token to number\n",
    "                                    output_sequence_length=None ,# how long do you want your sequence to be\n",
    "                                    )"
   ]
  },
  {
   "cell_type": "code",
   "execution_count": 21,
   "id": "937979d3",
   "metadata": {
    "execution": {
     "iopub.execute_input": "2025-10-27T12:59:07.574228Z",
     "iopub.status.busy": "2025-10-27T12:59:07.573941Z",
     "iopub.status.idle": "2025-10-27T12:59:07.587767Z",
     "shell.execute_reply": "2025-10-27T12:59:07.587053Z"
    },
    "papermill": {
     "duration": 0.020274,
     "end_time": "2025-10-27T12:59:07.589026",
     "exception": false,
     "start_time": "2025-10-27T12:59:07.568752",
     "status": "completed"
    },
    "tags": []
   },
   "outputs": [
    {
     "data": {
      "text/plain": [
       "14.901036345059115"
      ]
     },
     "execution_count": 21,
     "metadata": {},
     "output_type": "execute_result"
    }
   ],
   "source": [
    "# find the average number of tokens(words) in the training tweets\n",
    "round(sum([len(i.split()) for i in train_sentences]))/len(train_sentences)"
   ]
  },
  {
   "cell_type": "code",
   "execution_count": 22,
   "id": "f68956e6",
   "metadata": {
    "execution": {
     "iopub.execute_input": "2025-10-27T12:59:07.600789Z",
     "iopub.status.busy": "2025-10-27T12:59:07.600376Z",
     "iopub.status.idle": "2025-10-27T12:59:07.603487Z",
     "shell.execute_reply": "2025-10-27T12:59:07.602939Z"
    },
    "papermill": {
     "duration": 0.009661,
     "end_time": "2025-10-27T12:59:07.604498",
     "exception": false,
     "start_time": "2025-10-27T12:59:07.594837",
     "status": "completed"
    },
    "tags": []
   },
   "outputs": [],
   "source": [
    "# setup  text vectorization variables\n",
    "max_vocab_lenght =10000\n",
    "max_lenght = 15,"
   ]
  }
 ],
 "metadata": {
  "kaggle": {
   "accelerator": "nvidiaTeslaT4",
   "dataSources": [],
   "dockerImageVersionId": 31153,
   "isGpuEnabled": true,
   "isInternetEnabled": true,
   "language": "python",
   "sourceType": "notebook"
  },
  "kernelspec": {
   "display_name": "Python 3",
   "language": "python",
   "name": "python3"
  },
  "language_info": {
   "codemirror_mode": {
    "name": "ipython",
    "version": 3
   },
   "file_extension": ".py",
   "mimetype": "text/x-python",
   "name": "python",
   "nbconvert_exporter": "python",
   "pygments_lexer": "ipython3",
   "version": "3.11.13"
  },
  "papermill": {
   "default_parameters": {},
   "duration": 33.462964,
   "end_time": "2025-10-27T12:59:10.637651",
   "environment_variables": {},
   "exception": null,
   "input_path": "__notebook__.ipynb",
   "output_path": "__notebook__.ipynb",
   "parameters": {},
   "start_time": "2025-10-27T12:58:37.174687",
   "version": "2.6.0"
  }
 },
 "nbformat": 4,
 "nbformat_minor": 5
}
