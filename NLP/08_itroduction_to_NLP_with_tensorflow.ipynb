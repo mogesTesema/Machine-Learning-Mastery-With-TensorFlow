{
 "cells": [
  {
   "cell_type": "markdown",
   "id": "fe7149ec",
   "metadata": {
    "papermill": {
     "duration": 0.01369,
     "end_time": "2025-10-30T11:25:37.022553",
     "exception": false,
     "start_time": "2025-10-30T11:25:37.008863",
     "status": "completed"
    },
    "tags": []
   },
   "source": [
    "# Introduction to NLP Fundematals in TensorFlow\n",
    "NLP has the goal of deriving information out of natural language(could be sequences text or speech)\n",
    "Another common term for NLP problems is sequence to squence problems(seq2seq)"
   ]
  },
  {
   "cell_type": "code",
   "execution_count": 1,
   "id": "f186d6f0",
   "metadata": {
    "execution": {
     "iopub.execute_input": "2025-10-30T11:25:37.043267Z",
     "iopub.status.busy": "2025-10-30T11:25:37.042749Z",
     "iopub.status.idle": "2025-10-30T11:25:37.184941Z",
     "shell.execute_reply": "2025-10-30T11:25:37.184235Z"
    },
    "papermill": {
     "duration": 0.153794,
     "end_time": "2025-10-30T11:25:37.186158",
     "exception": false,
     "start_time": "2025-10-30T11:25:37.032364",
     "status": "completed"
    },
    "tags": []
   },
   "outputs": [
    {
     "name": "stdout",
     "output_type": "stream",
     "text": [
      "GPU 0: Tesla T4 (UUID: GPU-ac61e448-ce6f-a21f-e52b-0eda933f7c22)\r\n",
      "GPU 1: Tesla T4 (UUID: GPU-01fd921c-61f3-7108-1a50-3caeb6e4909e)\r\n"
     ]
    }
   ],
   "source": [
    "!nvidia-smi -L"
   ]
  },
  {
   "cell_type": "markdown",
   "id": "e1df4e57",
   "metadata": {
    "papermill": {
     "duration": 0.009727,
     "end_time": "2025-10-30T11:25:37.205802",
     "exception": false,
     "start_time": "2025-10-30T11:25:37.196075",
     "status": "completed"
    },
    "tags": []
   },
   "source": []
  },
  {
   "cell_type": "markdown",
   "id": "c8890629",
   "metadata": {
    "papermill": {
     "duration": 0.009518,
     "end_time": "2025-10-30T11:25:37.224850",
     "exception": false,
     "start_time": "2025-10-30T11:25:37.215332",
     "status": "completed"
    },
    "tags": []
   },
   "source": [
    "## Get helper functions"
   ]
  },
  {
   "cell_type": "code",
   "execution_count": 2,
   "id": "47ea8542",
   "metadata": {
    "execution": {
     "iopub.execute_input": "2025-10-30T11:25:37.245021Z",
     "iopub.status.busy": "2025-10-30T11:25:37.244783Z",
     "iopub.status.idle": "2025-10-30T11:25:37.478813Z",
     "shell.execute_reply": "2025-10-30T11:25:37.477759Z"
    },
    "papermill": {
     "duration": 0.246551,
     "end_time": "2025-10-30T11:25:37.480906",
     "exception": false,
     "start_time": "2025-10-30T11:25:37.234355",
     "status": "completed"
    },
    "tags": []
   },
   "outputs": [
    {
     "name": "stdout",
     "output_type": "stream",
     "text": [
      "--2025-10-30 11:25:37--  https://raw.githubusercontent.com/mrdbourke/tensorflow-deep-learning/refs/heads/main/extras/helper_functions.py\r\n",
      "Resolving raw.githubusercontent.com (raw.githubusercontent.com)... 185.199.108.133, 185.199.110.133, 185.199.111.133, ...\r\n",
      "Connecting to raw.githubusercontent.com (raw.githubusercontent.com)|185.199.108.133|:443... connected.\r\n",
      "HTTP request sent, awaiting response... 200 OK\r\n",
      "Length: 10246 (10K) [text/plain]\r\n",
      "Saving to: ‘helper_functions.py’\r\n",
      "\r\n",
      "helper_functions.py 100%[===================>]  10.01K  --.-KB/s    in 0s      \r\n",
      "\r\n",
      "2025-10-30 11:25:37 (50.2 MB/s) - ‘helper_functions.py’ saved [10246/10246]\r\n",
      "\r\n"
     ]
    }
   ],
   "source": [
    "!wget https://raw.githubusercontent.com/mrdbourke/tensorflow-deep-learning/refs/heads/main/extras/helper_functions.py"
   ]
  },
  {
   "cell_type": "code",
   "execution_count": 3,
   "id": "1c19a4ac",
   "metadata": {
    "execution": {
     "iopub.execute_input": "2025-10-30T11:25:37.515884Z",
     "iopub.status.busy": "2025-10-30T11:25:37.515285Z",
     "iopub.status.idle": "2025-10-30T11:25:53.451425Z",
     "shell.execute_reply": "2025-10-30T11:25:53.450835Z"
    },
    "papermill": {
     "duration": 15.957907,
     "end_time": "2025-10-30T11:25:53.452837",
     "exception": false,
     "start_time": "2025-10-30T11:25:37.494930",
     "status": "completed"
    },
    "tags": []
   },
   "outputs": [
    {
     "name": "stderr",
     "output_type": "stream",
     "text": [
      "2025-10-30 11:25:39.295705: E external/local_xla/xla/stream_executor/cuda/cuda_fft.cc:477] Unable to register cuFFT factory: Attempting to register factory for plugin cuFFT when one has already been registered\n",
      "WARNING: All log messages before absl::InitializeLog() is called are written to STDERR\n",
      "E0000 00:00:1761823539.530271      19 cuda_dnn.cc:8310] Unable to register cuDNN factory: Attempting to register factory for plugin cuDNN when one has already been registered\n",
      "E0000 00:00:1761823539.592673      19 cuda_blas.cc:1418] Unable to register cuBLAS factory: Attempting to register factory for plugin cuBLAS when one has already been registered\n"
     ]
    }
   ],
   "source": [
    "from helper_functions import create_tensorboard_callback,unzip_data,plot_loss_curves,compare_historys"
   ]
  },
  {
   "cell_type": "markdown",
   "id": "fb338091",
   "metadata": {
    "papermill": {
     "duration": 0.009746,
     "end_time": "2025-10-30T11:25:53.473235",
     "exception": false,
     "start_time": "2025-10-30T11:25:53.463489",
     "status": "completed"
    },
    "tags": []
   },
   "source": [
    "## Get a text dataset\n",
    "the dataset we're going to be using is Kaggle's introduction to NLP dataset(text samples of tweets labelled as diaster or not diaster)."
   ]
  },
  {
   "cell_type": "code",
   "execution_count": 4,
   "id": "4dfdc619",
   "metadata": {
    "execution": {
     "iopub.execute_input": "2025-10-30T11:25:53.494260Z",
     "iopub.status.busy": "2025-10-30T11:25:53.493534Z",
     "iopub.status.idle": "2025-10-30T11:25:53.708052Z",
     "shell.execute_reply": "2025-10-30T11:25:53.707313Z"
    },
    "papermill": {
     "duration": 0.226057,
     "end_time": "2025-10-30T11:25:53.709088",
     "exception": false,
     "start_time": "2025-10-30T11:25:53.483031",
     "status": "completed"
    },
    "tags": []
   },
   "outputs": [
    {
     "name": "stdout",
     "output_type": "stream",
     "text": [
      "--2025-10-30 11:25:53--  https://storage.googleapis.com/ztm_tf_course/nlp_getting_started.zip\r\n",
      "Resolving storage.googleapis.com (storage.googleapis.com)... 172.217.214.207, 173.194.195.207, 142.250.152.207, ...\r\n",
      "Connecting to storage.googleapis.com (storage.googleapis.com)|172.217.214.207|:443... connected.\r\n",
      "HTTP request sent, awaiting response... 200 OK\r\n",
      "Length: 607343 (593K) [application/zip]\r\n",
      "Saving to: ‘nlp_getting_started.zip’\r\n",
      "\r\n",
      "nlp_getting_started 100%[===================>] 593.11K  --.-KB/s    in 0.005s  \r\n",
      "\r\n",
      "2025-10-30 11:25:53 (111 MB/s) - ‘nlp_getting_started.zip’ saved [607343/607343]\r\n",
      "\r\n"
     ]
    }
   ],
   "source": [
    "!wget https://storage.googleapis.com/ztm_tf_course/nlp_getting_started.zip"
   ]
  },
  {
   "cell_type": "code",
   "execution_count": 5,
   "id": "af4d71fd",
   "metadata": {
    "execution": {
     "iopub.execute_input": "2025-10-30T11:25:53.730505Z",
     "iopub.status.busy": "2025-10-30T11:25:53.730237Z",
     "iopub.status.idle": "2025-10-30T11:25:53.746550Z",
     "shell.execute_reply": "2025-10-30T11:25:53.745792Z"
    },
    "papermill": {
     "duration": 0.028338,
     "end_time": "2025-10-30T11:25:53.747673",
     "exception": false,
     "start_time": "2025-10-30T11:25:53.719335",
     "status": "completed"
    },
    "tags": []
   },
   "outputs": [],
   "source": [
    "# unzip the data\n",
    "unzip_data(\"nlp_getting_started.zip\")"
   ]
  },
  {
   "cell_type": "code",
   "execution_count": 6,
   "id": "fe7169e9",
   "metadata": {
    "execution": {
     "iopub.execute_input": "2025-10-30T11:25:53.768695Z",
     "iopub.status.busy": "2025-10-30T11:25:53.768486Z",
     "iopub.status.idle": "2025-10-30T11:25:53.771797Z",
     "shell.execute_reply": "2025-10-30T11:25:53.771062Z"
    },
    "papermill": {
     "duration": 0.015008,
     "end_time": "2025-10-30T11:25:53.772796",
     "exception": false,
     "start_time": "2025-10-30T11:25:53.757788",
     "status": "completed"
    },
    "tags": []
   },
   "outputs": [],
   "source": [
    "import tensorflow as tf\n",
    "import pandas as pd\n"
   ]
  },
  {
   "cell_type": "code",
   "execution_count": 7,
   "id": "47eefb6f",
   "metadata": {
    "execution": {
     "iopub.execute_input": "2025-10-30T11:25:53.793520Z",
     "iopub.status.busy": "2025-10-30T11:25:53.793293Z",
     "iopub.status.idle": "2025-10-30T11:25:53.835577Z",
     "shell.execute_reply": "2025-10-30T11:25:53.834747Z"
    },
    "papermill": {
     "duration": 0.05395,
     "end_time": "2025-10-30T11:25:53.836777",
     "exception": false,
     "start_time": "2025-10-30T11:25:53.782827",
     "status": "completed"
    },
    "tags": []
   },
   "outputs": [],
   "source": [
    "train_df = pd.read_csv(\"train.csv\")\n",
    "test_df = pd.read_csv(\"test.csv\")"
   ]
  },
  {
   "cell_type": "code",
   "execution_count": 8,
   "id": "f0dfc610",
   "metadata": {
    "execution": {
     "iopub.execute_input": "2025-10-30T11:25:53.857636Z",
     "iopub.status.busy": "2025-10-30T11:25:53.857380Z",
     "iopub.status.idle": "2025-10-30T11:25:53.879509Z",
     "shell.execute_reply": "2025-10-30T11:25:53.878901Z"
    },
    "papermill": {
     "duration": 0.033715,
     "end_time": "2025-10-30T11:25:53.880600",
     "exception": false,
     "start_time": "2025-10-30T11:25:53.846885",
     "status": "completed"
    },
    "tags": []
   },
   "outputs": [
    {
     "data": {
      "text/html": [
       "<div>\n",
       "<style scoped>\n",
       "    .dataframe tbody tr th:only-of-type {\n",
       "        vertical-align: middle;\n",
       "    }\n",
       "\n",
       "    .dataframe tbody tr th {\n",
       "        vertical-align: top;\n",
       "    }\n",
       "\n",
       "    .dataframe thead th {\n",
       "        text-align: right;\n",
       "    }\n",
       "</style>\n",
       "<table border=\"1\" class=\"dataframe\">\n",
       "  <thead>\n",
       "    <tr style=\"text-align: right;\">\n",
       "      <th></th>\n",
       "      <th>id</th>\n",
       "      <th>keyword</th>\n",
       "      <th>location</th>\n",
       "      <th>text</th>\n",
       "      <th>target</th>\n",
       "    </tr>\n",
       "  </thead>\n",
       "  <tbody>\n",
       "    <tr>\n",
       "      <th>0</th>\n",
       "      <td>1</td>\n",
       "      <td>NaN</td>\n",
       "      <td>NaN</td>\n",
       "      <td>Our Deeds are the Reason of this #earthquake M...</td>\n",
       "      <td>1</td>\n",
       "    </tr>\n",
       "    <tr>\n",
       "      <th>1</th>\n",
       "      <td>4</td>\n",
       "      <td>NaN</td>\n",
       "      <td>NaN</td>\n",
       "      <td>Forest fire near La Ronge Sask. Canada</td>\n",
       "      <td>1</td>\n",
       "    </tr>\n",
       "    <tr>\n",
       "      <th>2</th>\n",
       "      <td>5</td>\n",
       "      <td>NaN</td>\n",
       "      <td>NaN</td>\n",
       "      <td>All residents asked to 'shelter in place' are ...</td>\n",
       "      <td>1</td>\n",
       "    </tr>\n",
       "    <tr>\n",
       "      <th>3</th>\n",
       "      <td>6</td>\n",
       "      <td>NaN</td>\n",
       "      <td>NaN</td>\n",
       "      <td>13,000 people receive #wildfires evacuation or...</td>\n",
       "      <td>1</td>\n",
       "    </tr>\n",
       "    <tr>\n",
       "      <th>4</th>\n",
       "      <td>7</td>\n",
       "      <td>NaN</td>\n",
       "      <td>NaN</td>\n",
       "      <td>Just got sent this photo from Ruby #Alaska as ...</td>\n",
       "      <td>1</td>\n",
       "    </tr>\n",
       "  </tbody>\n",
       "</table>\n",
       "</div>"
      ],
      "text/plain": [
       "   id keyword location                                               text  \\\n",
       "0   1     NaN      NaN  Our Deeds are the Reason of this #earthquake M...   \n",
       "1   4     NaN      NaN             Forest fire near La Ronge Sask. Canada   \n",
       "2   5     NaN      NaN  All residents asked to 'shelter in place' are ...   \n",
       "3   6     NaN      NaN  13,000 people receive #wildfires evacuation or...   \n",
       "4   7     NaN      NaN  Just got sent this photo from Ruby #Alaska as ...   \n",
       "\n",
       "   target  \n",
       "0       1  \n",
       "1       1  \n",
       "2       1  \n",
       "3       1  \n",
       "4       1  "
      ]
     },
     "execution_count": 8,
     "metadata": {},
     "output_type": "execute_result"
    }
   ],
   "source": [
    "train_df.head()"
   ]
  },
  {
   "cell_type": "code",
   "execution_count": 9,
   "id": "b585d261",
   "metadata": {
    "execution": {
     "iopub.execute_input": "2025-10-30T11:25:53.902469Z",
     "iopub.status.busy": "2025-10-30T11:25:53.902240Z",
     "iopub.status.idle": "2025-10-30T11:25:53.909797Z",
     "shell.execute_reply": "2025-10-30T11:25:53.909257Z"
    },
    "papermill": {
     "duration": 0.019737,
     "end_time": "2025-10-30T11:25:53.910878",
     "exception": false,
     "start_time": "2025-10-30T11:25:53.891141",
     "status": "completed"
    },
    "tags": []
   },
   "outputs": [],
   "source": [
    "# shuffle training dataframe\n",
    "train_df_shuffled = train_df.sample(frac=1,random_state=42)"
   ]
  },
  {
   "cell_type": "code",
   "execution_count": 10,
   "id": "e379fe78",
   "metadata": {
    "execution": {
     "iopub.execute_input": "2025-10-30T11:25:53.932110Z",
     "iopub.status.busy": "2025-10-30T11:25:53.931708Z",
     "iopub.status.idle": "2025-10-30T11:25:53.939237Z",
     "shell.execute_reply": "2025-10-30T11:25:53.938453Z"
    },
    "papermill": {
     "duration": 0.019198,
     "end_time": "2025-10-30T11:25:53.940328",
     "exception": false,
     "start_time": "2025-10-30T11:25:53.921130",
     "status": "completed"
    },
    "tags": []
   },
   "outputs": [
    {
     "data": {
      "text/html": [
       "<div>\n",
       "<style scoped>\n",
       "    .dataframe tbody tr th:only-of-type {\n",
       "        vertical-align: middle;\n",
       "    }\n",
       "\n",
       "    .dataframe tbody tr th {\n",
       "        vertical-align: top;\n",
       "    }\n",
       "\n",
       "    .dataframe thead th {\n",
       "        text-align: right;\n",
       "    }\n",
       "</style>\n",
       "<table border=\"1\" class=\"dataframe\">\n",
       "  <thead>\n",
       "    <tr style=\"text-align: right;\">\n",
       "      <th></th>\n",
       "      <th>id</th>\n",
       "      <th>keyword</th>\n",
       "      <th>location</th>\n",
       "      <th>text</th>\n",
       "      <th>target</th>\n",
       "    </tr>\n",
       "  </thead>\n",
       "  <tbody>\n",
       "    <tr>\n",
       "      <th>2644</th>\n",
       "      <td>3796</td>\n",
       "      <td>destruction</td>\n",
       "      <td>NaN</td>\n",
       "      <td>So you have a new weapon that can cause un-ima...</td>\n",
       "      <td>1</td>\n",
       "    </tr>\n",
       "    <tr>\n",
       "      <th>2227</th>\n",
       "      <td>3185</td>\n",
       "      <td>deluge</td>\n",
       "      <td>NaN</td>\n",
       "      <td>The f$&amp;amp;@ing things I do for #GISHWHES Just...</td>\n",
       "      <td>0</td>\n",
       "    </tr>\n",
       "    <tr>\n",
       "      <th>5448</th>\n",
       "      <td>7769</td>\n",
       "      <td>police</td>\n",
       "      <td>UK</td>\n",
       "      <td>DT @georgegalloway: RT @Galloway4Mayor: ÛÏThe...</td>\n",
       "      <td>1</td>\n",
       "    </tr>\n",
       "    <tr>\n",
       "      <th>132</th>\n",
       "      <td>191</td>\n",
       "      <td>aftershock</td>\n",
       "      <td>NaN</td>\n",
       "      <td>Aftershock back to school kick off was great. ...</td>\n",
       "      <td>0</td>\n",
       "    </tr>\n",
       "    <tr>\n",
       "      <th>6845</th>\n",
       "      <td>9810</td>\n",
       "      <td>trauma</td>\n",
       "      <td>Montgomery County, MD</td>\n",
       "      <td>in response to trauma Children of Addicts deve...</td>\n",
       "      <td>0</td>\n",
       "    </tr>\n",
       "  </tbody>\n",
       "</table>\n",
       "</div>"
      ],
      "text/plain": [
       "        id      keyword               location  \\\n",
       "2644  3796  destruction                    NaN   \n",
       "2227  3185       deluge                    NaN   \n",
       "5448  7769       police                     UK   \n",
       "132    191   aftershock                    NaN   \n",
       "6845  9810       trauma  Montgomery County, MD   \n",
       "\n",
       "                                                   text  target  \n",
       "2644  So you have a new weapon that can cause un-ima...       1  \n",
       "2227  The f$&amp;@ing things I do for #GISHWHES Just...       0  \n",
       "5448  DT @georgegalloway: RT @Galloway4Mayor: ÛÏThe...       1  \n",
       "132   Aftershock back to school kick off was great. ...       0  \n",
       "6845  in response to trauma Children of Addicts deve...       0  "
      ]
     },
     "execution_count": 10,
     "metadata": {},
     "output_type": "execute_result"
    }
   ],
   "source": [
    "train_df_shuffled.head()"
   ]
  },
  {
   "cell_type": "code",
   "execution_count": 11,
   "id": "470aae7d",
   "metadata": {
    "execution": {
     "iopub.execute_input": "2025-10-30T11:25:53.962195Z",
     "iopub.status.busy": "2025-10-30T11:25:53.961602Z",
     "iopub.status.idle": "2025-10-30T11:25:53.968271Z",
     "shell.execute_reply": "2025-10-30T11:25:53.967712Z"
    },
    "papermill": {
     "duration": 0.018468,
     "end_time": "2025-10-30T11:25:53.969284",
     "exception": false,
     "start_time": "2025-10-30T11:25:53.950816",
     "status": "completed"
    },
    "tags": []
   },
   "outputs": [
    {
     "data": {
      "text/html": [
       "<div>\n",
       "<style scoped>\n",
       "    .dataframe tbody tr th:only-of-type {\n",
       "        vertical-align: middle;\n",
       "    }\n",
       "\n",
       "    .dataframe tbody tr th {\n",
       "        vertical-align: top;\n",
       "    }\n",
       "\n",
       "    .dataframe thead th {\n",
       "        text-align: right;\n",
       "    }\n",
       "</style>\n",
       "<table border=\"1\" class=\"dataframe\">\n",
       "  <thead>\n",
       "    <tr style=\"text-align: right;\">\n",
       "      <th></th>\n",
       "      <th>id</th>\n",
       "      <th>keyword</th>\n",
       "      <th>location</th>\n",
       "      <th>text</th>\n",
       "    </tr>\n",
       "  </thead>\n",
       "  <tbody>\n",
       "    <tr>\n",
       "      <th>0</th>\n",
       "      <td>0</td>\n",
       "      <td>NaN</td>\n",
       "      <td>NaN</td>\n",
       "      <td>Just happened a terrible car crash</td>\n",
       "    </tr>\n",
       "    <tr>\n",
       "      <th>1</th>\n",
       "      <td>2</td>\n",
       "      <td>NaN</td>\n",
       "      <td>NaN</td>\n",
       "      <td>Heard about #earthquake is different cities, s...</td>\n",
       "    </tr>\n",
       "    <tr>\n",
       "      <th>2</th>\n",
       "      <td>3</td>\n",
       "      <td>NaN</td>\n",
       "      <td>NaN</td>\n",
       "      <td>there is a forest fire at spot pond, geese are...</td>\n",
       "    </tr>\n",
       "    <tr>\n",
       "      <th>3</th>\n",
       "      <td>9</td>\n",
       "      <td>NaN</td>\n",
       "      <td>NaN</td>\n",
       "      <td>Apocalypse lighting. #Spokane #wildfires</td>\n",
       "    </tr>\n",
       "    <tr>\n",
       "      <th>4</th>\n",
       "      <td>11</td>\n",
       "      <td>NaN</td>\n",
       "      <td>NaN</td>\n",
       "      <td>Typhoon Soudelor kills 28 in China and Taiwan</td>\n",
       "    </tr>\n",
       "  </tbody>\n",
       "</table>\n",
       "</div>"
      ],
      "text/plain": [
       "   id keyword location                                               text\n",
       "0   0     NaN      NaN                 Just happened a terrible car crash\n",
       "1   2     NaN      NaN  Heard about #earthquake is different cities, s...\n",
       "2   3     NaN      NaN  there is a forest fire at spot pond, geese are...\n",
       "3   9     NaN      NaN           Apocalypse lighting. #Spokane #wildfires\n",
       "4  11     NaN      NaN      Typhoon Soudelor kills 28 in China and Taiwan"
      ]
     },
     "execution_count": 11,
     "metadata": {},
     "output_type": "execute_result"
    }
   ],
   "source": [
    "# what does the tesst dataframe look like\n",
    "test_df.head()"
   ]
  },
  {
   "cell_type": "code",
   "execution_count": 12,
   "id": "fd5dfa77",
   "metadata": {
    "execution": {
     "iopub.execute_input": "2025-10-30T11:25:53.992183Z",
     "iopub.status.busy": "2025-10-30T11:25:53.991644Z",
     "iopub.status.idle": "2025-10-30T11:25:54.001382Z",
     "shell.execute_reply": "2025-10-30T11:25:54.000859Z"
    },
    "papermill": {
     "duration": 0.021844,
     "end_time": "2025-10-30T11:25:54.002449",
     "exception": false,
     "start_time": "2025-10-30T11:25:53.980605",
     "status": "completed"
    },
    "tags": []
   },
   "outputs": [
    {
     "data": {
      "text/plain": [
       "target\n",
       "0    4342\n",
       "1    3271\n",
       "Name: count, dtype: int64"
      ]
     },
     "execution_count": 12,
     "metadata": {},
     "output_type": "execute_result"
    }
   ],
   "source": [
    "# how many examples of each class?\n",
    "train_df.target.value_counts()"
   ]
  },
  {
   "cell_type": "code",
   "execution_count": 13,
   "id": "25c03ae3",
   "metadata": {
    "execution": {
     "iopub.execute_input": "2025-10-30T11:25:54.024966Z",
     "iopub.status.busy": "2025-10-30T11:25:54.024581Z",
     "iopub.status.idle": "2025-10-30T11:25:54.028881Z",
     "shell.execute_reply": "2025-10-30T11:25:54.028179Z"
    },
    "papermill": {
     "duration": 0.016539,
     "end_time": "2025-10-30T11:25:54.029975",
     "exception": false,
     "start_time": "2025-10-30T11:25:54.013436",
     "status": "completed"
    },
    "tags": []
   },
   "outputs": [
    {
     "data": {
      "text/plain": [
       "(7613, 3263)"
      ]
     },
     "execution_count": 13,
     "metadata": {},
     "output_type": "execute_result"
    }
   ],
   "source": [
    "len(train_df),len(test_df)"
   ]
  },
  {
   "cell_type": "code",
   "execution_count": 14,
   "id": "6803b10f",
   "metadata": {
    "execution": {
     "iopub.execute_input": "2025-10-30T11:25:54.051613Z",
     "iopub.status.busy": "2025-10-30T11:25:54.051396Z",
     "iopub.status.idle": "2025-10-30T11:25:54.059561Z",
     "shell.execute_reply": "2025-10-30T11:25:54.058914Z"
    },
    "papermill": {
     "duration": 0.020297,
     "end_time": "2025-10-30T11:25:54.060727",
     "exception": false,
     "start_time": "2025-10-30T11:25:54.040430",
     "status": "completed"
    },
    "tags": []
   },
   "outputs": [
    {
     "name": "stdout",
     "output_type": "stream",
     "text": [
      "target: 1 (real diaster)\n",
      "Text:\n",
      "Severe hailstorm in progress over Northeast Logan County... #cowx http://t.co/XK9OwGV1O5\n",
      "\n",
      "____________________ \n",
      "\n",
      "target: 1 (real diaster)\n",
      "Text:\n",
      "@HeyImBeeYT its like theres fire in my skin and im drowning from within ????\n",
      "\n",
      "____________________ \n",
      "\n",
      "target: 1 (real diaster)\n",
      "Text:\n",
      "a siren just went off and it wasn't the Forney tornado warning ??\n",
      "\n",
      "____________________ \n",
      "\n",
      "target: 0 (not real diaster)\n",
      "Text:\n",
      "@joshacagan Your only option now is to move to an desolate island with nothing but a stack of DVDs you canÛªt watch.\n",
      "\n",
      "____________________ \n",
      "\n",
      "target: 1 (real diaster)\n",
      "Text:\n",
      "USGS EQ: M 1.9 - 15km E of Anchorage Alaska: Time2015-08-06 00:11:16 UTC2015-08-05 16:11:16 -08:0... http://t.co/OjQ0KFg5ub #EarthQuake\n",
      "\n",
      "____________________ \n",
      "\n"
     ]
    }
   ],
   "source": [
    "# Let's visualize some random training examples\n",
    "import random\n",
    "random_index = random.randint(0,len(train_df)-5)\n",
    "for row in train_df_shuffled[[\"text\",\"target\"]][random_index:random_index+5].itertuples():\n",
    "    _,text,target = row \n",
    "    print(f\"target: {target}\",\"(real diaster)\" if target > 0 else \"(not real diaster)\" )\n",
    "    print(f\"Text:\\n{text}\\n\")\n",
    "    print(10*\"__\",\"\\n\")"
   ]
  },
  {
   "cell_type": "markdown",
   "id": "ae74b69d",
   "metadata": {
    "papermill": {
     "duration": 0.010499,
     "end_time": "2025-10-30T11:25:54.082163",
     "exception": false,
     "start_time": "2025-10-30T11:25:54.071664",
     "status": "completed"
    },
    "tags": []
   },
   "source": [
    "### Split data into training and validation datasets"
   ]
  },
  {
   "cell_type": "code",
   "execution_count": 15,
   "id": "d8f3bb58",
   "metadata": {
    "execution": {
     "iopub.execute_input": "2025-10-30T11:25:54.104144Z",
     "iopub.status.busy": "2025-10-30T11:25:54.103940Z",
     "iopub.status.idle": "2025-10-30T11:25:54.117692Z",
     "shell.execute_reply": "2025-10-30T11:25:54.117163Z"
    },
    "papermill": {
     "duration": 0.025982,
     "end_time": "2025-10-30T11:25:54.118737",
     "exception": false,
     "start_time": "2025-10-30T11:25:54.092755",
     "status": "completed"
    },
    "tags": []
   },
   "outputs": [],
   "source": [
    "from sklearn.model_selection import train_test_split"
   ]
  },
  {
   "cell_type": "code",
   "execution_count": 16,
   "id": "35088294",
   "metadata": {
    "execution": {
     "iopub.execute_input": "2025-10-30T11:25:54.140459Z",
     "iopub.status.busy": "2025-10-30T11:25:54.140225Z",
     "iopub.status.idle": "2025-10-30T11:25:54.144950Z",
     "shell.execute_reply": "2025-10-30T11:25:54.144449Z"
    },
    "papermill": {
     "duration": 0.016678,
     "end_time": "2025-10-30T11:25:54.145922",
     "exception": false,
     "start_time": "2025-10-30T11:25:54.129244",
     "status": "completed"
    },
    "tags": []
   },
   "outputs": [],
   "source": [
    "train_sentences, val_sentences, train_labels, val_labels = train_test_split(train_df_shuffled[\"text\"].to_numpy(),\n",
    "                                                                            train_df_shuffled[\"target\"].to_numpy(),\n",
    "                                                                           test_size=0.1,\n",
    "                                                                           random_state=42)"
   ]
  },
  {
   "cell_type": "code",
   "execution_count": 17,
   "id": "f82643da",
   "metadata": {
    "execution": {
     "iopub.execute_input": "2025-10-30T11:25:54.168058Z",
     "iopub.status.busy": "2025-10-30T11:25:54.167862Z",
     "iopub.status.idle": "2025-10-30T11:25:54.172435Z",
     "shell.execute_reply": "2025-10-30T11:25:54.171697Z"
    },
    "papermill": {
     "duration": 0.016881,
     "end_time": "2025-10-30T11:25:54.173396",
     "exception": false,
     "start_time": "2025-10-30T11:25:54.156515",
     "status": "completed"
    },
    "tags": []
   },
   "outputs": [
    {
     "data": {
      "text/plain": [
       "(6851, 6851, 762, 762)"
      ]
     },
     "execution_count": 17,
     "metadata": {},
     "output_type": "execute_result"
    }
   ],
   "source": [
    "len(train_sentences),len(train_labels),len(val_sentences),len(val_labels)"
   ]
  },
  {
   "cell_type": "code",
   "execution_count": 18,
   "id": "5ad4ba14",
   "metadata": {
    "execution": {
     "iopub.execute_input": "2025-10-30T11:25:54.195434Z",
     "iopub.status.busy": "2025-10-30T11:25:54.195220Z",
     "iopub.status.idle": "2025-10-30T11:25:54.199880Z",
     "shell.execute_reply": "2025-10-30T11:25:54.199186Z"
    },
    "papermill": {
     "duration": 0.016936,
     "end_time": "2025-10-30T11:25:54.200978",
     "exception": false,
     "start_time": "2025-10-30T11:25:54.184042",
     "status": "completed"
    },
    "tags": []
   },
   "outputs": [
    {
     "data": {
      "text/plain": [
       "(array(['@mogacola @zamtriossu i screamed after hitting tweet',\n",
       "        'Imagine getting flattened by Kurt Zouma',\n",
       "        '@Gurmeetramrahim #MSGDoing111WelfareWorks Green S welfare force ke appx 65000 members har time disaster victim ki help ke liye tyar hai....',\n",
       "        \"@shakjn @C7 @Magnums im shaking in fear he's gonna hack the planet\",\n",
       "        'Somehow find you and I collide http://t.co/Ee8RpOahPk',\n",
       "        '@EvaHanderek @MarleyKnysh great times until the bus driver held us hostage in the mall parking lot lmfao',\n",
       "        'destroy the free fandom honestly',\n",
       "        'Weapons stolen from National Guard Armory in New Albany still missing #Gunsense http://t.co/lKNU8902JE',\n",
       "        '@wfaaweather Pete when will the heat wave pass? Is it really going to be mid month? Frisco Boy Scouts have a canoe trip in Okla.',\n",
       "        'Patient-reported outcomes in long-term survivors of metastatic colorectal cancer - British Journal of Surgery http://t.co/5Yl4DC1Tqt'],\n",
       "       dtype=object),\n",
       " array([0, 0, 1, 0, 0, 1, 1, 0, 1, 1]))"
      ]
     },
     "execution_count": 18,
     "metadata": {},
     "output_type": "execute_result"
    }
   ],
   "source": [
    "# check the first ten samples\n",
    "train_sentences[:10],train_labels[:10]"
   ]
  },
  {
   "cell_type": "markdown",
   "id": "05f8a627",
   "metadata": {
    "papermill": {
     "duration": 0.010724,
     "end_time": "2025-10-30T11:25:54.222640",
     "exception": false,
     "start_time": "2025-10-30T11:25:54.211916",
     "status": "completed"
    },
    "tags": []
   },
   "source": [
    "## Converting text into number, machine learning don't know text.\n",
    "when dealing with a text problem, one of the first things you'll have to do before you can build a model is to convert your text to numbers.\n",
    "There are a few ways to do this, namely:\n",
    "* *Tokenization* - direct mapping of token (a token could be a word, a character or in between) to number.\n",
    "* *Embedding* - Create a matrix of feature vector for each token ( the size of the feature vector can be defined and this embedding can be learned)"
   ]
  },
  {
   "cell_type": "markdown",
   "id": "c3620eb4",
   "metadata": {
    "papermill": {
     "duration": 0.010499,
     "end_time": "2025-10-30T11:25:54.243875",
     "exception": false,
     "start_time": "2025-10-30T11:25:54.233376",
     "status": "completed"
    },
    "tags": []
   },
   "source": [
    "### Text vecorization(tokenization)"
   ]
  },
  {
   "cell_type": "code",
   "execution_count": 19,
   "id": "ac359b6a",
   "metadata": {
    "execution": {
     "iopub.execute_input": "2025-10-30T11:25:54.265981Z",
     "iopub.status.busy": "2025-10-30T11:25:54.265780Z",
     "iopub.status.idle": "2025-10-30T11:25:54.325493Z",
     "shell.execute_reply": "2025-10-30T11:25:54.324762Z"
    },
    "papermill": {
     "duration": 0.07228,
     "end_time": "2025-10-30T11:25:54.326724",
     "exception": false,
     "start_time": "2025-10-30T11:25:54.254444",
     "status": "completed"
    },
    "tags": []
   },
   "outputs": [],
   "source": [
    "import tensorflow as tf\n",
    "from tensorflow.keras.layers import TextVectorization"
   ]
  },
  {
   "cell_type": "code",
   "execution_count": 20,
   "id": "66b0b79e",
   "metadata": {
    "execution": {
     "iopub.execute_input": "2025-10-30T11:25:54.350658Z",
     "iopub.status.busy": "2025-10-30T11:25:54.350428Z",
     "iopub.status.idle": "2025-10-30T11:25:55.255115Z",
     "shell.execute_reply": "2025-10-30T11:25:55.254225Z"
    },
    "papermill": {
     "duration": 0.918561,
     "end_time": "2025-10-30T11:25:55.256298",
     "exception": false,
     "start_time": "2025-10-30T11:25:54.337737",
     "status": "completed"
    },
    "tags": []
   },
   "outputs": [
    {
     "name": "stderr",
     "output_type": "stream",
     "text": [
      "I0000 00:00:1761823555.215203      19 gpu_device.cc:2022] Created device /job:localhost/replica:0/task:0/device:GPU:0 with 13942 MB memory:  -> device: 0, name: Tesla T4, pci bus id: 0000:00:04.0, compute capability: 7.5\n",
      "I0000 00:00:1761823555.215896      19 gpu_device.cc:2022] Created device /job:localhost/replica:0/task:0/device:GPU:1 with 13942 MB memory:  -> device: 1, name: Tesla T4, pci bus id: 0000:00:05.0, compute capability: 7.5\n"
     ]
    }
   ],
   "source": [
    "text_vectorizer = TextVectorization(max_tokens=None, # how many word in the vocablary (automatically add <OOV>\n",
    "                                    standardize=\"lower_and_strip_punctuation\",\n",
    "                                    split=\"whitespace\",\n",
    "                                    ngrams=None, # create groups of n-words\n",
    "                                    output_mode=\"int\", # how to map token to number\n",
    "                                    output_sequence_length=None ,# how long do you want your sequence to be\n",
    "                                    )"
   ]
  },
  {
   "cell_type": "code",
   "execution_count": 21,
   "id": "35fbf9da",
   "metadata": {
    "execution": {
     "iopub.execute_input": "2025-10-30T11:25:55.279510Z",
     "iopub.status.busy": "2025-10-30T11:25:55.279292Z",
     "iopub.status.idle": "2025-10-30T11:25:55.289920Z",
     "shell.execute_reply": "2025-10-30T11:25:55.289349Z"
    },
    "papermill": {
     "duration": 0.023517,
     "end_time": "2025-10-30T11:25:55.291018",
     "exception": false,
     "start_time": "2025-10-30T11:25:55.267501",
     "status": "completed"
    },
    "tags": []
   },
   "outputs": [
    {
     "data": {
      "text/plain": [
       "14.901036345059115"
      ]
     },
     "execution_count": 21,
     "metadata": {},
     "output_type": "execute_result"
    }
   ],
   "source": [
    "# find the average number of tokens(words) in the training tweets\n",
    "round(sum([len(i.split()) for i in train_sentences]))/len(train_sentences)"
   ]
  },
  {
   "cell_type": "code",
   "execution_count": 22,
   "id": "f606c433",
   "metadata": {
    "execution": {
     "iopub.execute_input": "2025-10-30T11:25:55.313259Z",
     "iopub.status.busy": "2025-10-30T11:25:55.313085Z",
     "iopub.status.idle": "2025-10-30T11:25:55.316138Z",
     "shell.execute_reply": "2025-10-30T11:25:55.315644Z"
    },
    "papermill": {
     "duration": 0.015228,
     "end_time": "2025-10-30T11:25:55.317082",
     "exception": false,
     "start_time": "2025-10-30T11:25:55.301854",
     "status": "completed"
    },
    "tags": []
   },
   "outputs": [],
   "source": [
    "# setup  text vectorization variables\n",
    "max_vocab_length =10000 # max number of words to have in our vocablary\n",
    "max_length = 15 # max lenght our sequences will be ( e.g how many words from a tweet does a model see?)\n"
   ]
  },
  {
   "cell_type": "code",
   "execution_count": 23,
   "id": "272a9f99",
   "metadata": {
    "execution": {
     "iopub.execute_input": "2025-10-30T11:25:55.339521Z",
     "iopub.status.busy": "2025-10-30T11:25:55.339161Z",
     "iopub.status.idle": "2025-10-30T11:25:55.346951Z",
     "shell.execute_reply": "2025-10-30T11:25:55.346247Z"
    },
    "papermill": {
     "duration": 0.019922,
     "end_time": "2025-10-30T11:25:55.347947",
     "exception": false,
     "start_time": "2025-10-30T11:25:55.328025",
     "status": "completed"
    },
    "tags": []
   },
   "outputs": [],
   "source": [
    "text_vectorizer = TextVectorization(max_tokens=max_vocab_length,\n",
    "                                    output_mode=\"int\",\n",
    "                                    output_sequence_length=max_length\n",
    "                                   )"
   ]
  },
  {
   "cell_type": "code",
   "execution_count": 24,
   "id": "36b0fe8e",
   "metadata": {
    "execution": {
     "iopub.execute_input": "2025-10-30T11:25:55.370863Z",
     "iopub.status.busy": "2025-10-30T11:25:55.370074Z",
     "iopub.status.idle": "2025-10-30T11:25:55.541283Z",
     "shell.execute_reply": "2025-10-30T11:25:55.540506Z"
    },
    "papermill": {
     "duration": 0.183718,
     "end_time": "2025-10-30T11:25:55.542694",
     "exception": false,
     "start_time": "2025-10-30T11:25:55.358976",
     "status": "completed"
    },
    "tags": []
   },
   "outputs": [],
   "source": [
    "# Fit the text vectorizer to the training sentence\n",
    "text_vectorizer.adapt(train_sentences)"
   ]
  },
  {
   "cell_type": "code",
   "execution_count": 25,
   "id": "f66e66c2",
   "metadata": {
    "execution": {
     "iopub.execute_input": "2025-10-30T11:25:55.565721Z",
     "iopub.status.busy": "2025-10-30T11:25:55.565497Z",
     "iopub.status.idle": "2025-10-30T11:25:56.789346Z",
     "shell.execute_reply": "2025-10-30T11:25:56.788537Z"
    },
    "papermill": {
     "duration": 1.236782,
     "end_time": "2025-10-30T11:25:56.790655",
     "exception": false,
     "start_time": "2025-10-30T11:25:55.553873",
     "status": "completed"
    },
    "tags": []
   },
   "outputs": [
    {
     "data": {
      "text/plain": [
       "<tf.Tensor: shape=(1, 15), dtype=int64, numpy=\n",
       "array([[264,   3, 232,   4,  13, 698,   0,   0,   0,   0,   0,   0,   0,\n",
       "          0,   0]])>"
      ]
     },
     "execution_count": 25,
     "metadata": {},
     "output_type": "execute_result"
    }
   ],
   "source": [
    "# Create a sample sentence and tokenize it\n",
    "sample_sentence = \"There's a flood in my street!\"\n",
    "text_vectorizer([sample_sentence])"
   ]
  },
  {
   "cell_type": "code",
   "execution_count": 26,
   "id": "779df0a8",
   "metadata": {
    "execution": {
     "iopub.execute_input": "2025-10-30T11:25:56.813749Z",
     "iopub.status.busy": "2025-10-30T11:25:56.813536Z",
     "iopub.status.idle": "2025-10-30T11:25:56.847231Z",
     "shell.execute_reply": "2025-10-30T11:25:56.846681Z"
    },
    "papermill": {
     "duration": 0.046189,
     "end_time": "2025-10-30T11:25:56.848280",
     "exception": false,
     "start_time": "2025-10-30T11:25:56.802091",
     "status": "completed"
    },
    "tags": []
   },
   "outputs": [
    {
     "name": "stdout",
     "output_type": "stream",
     "text": [
      "Original text:\n",
      " Sinking carb consultative assembly plans could subconscious self live straight a leading way of escape: XkDrx \n",
      "\n",
      "Vectorized Version: [ 253    1    1 4129  645  137 7985  762  199 1252    3 1508  147    6\n",
      " 1084] \n"
     ]
    },
    {
     "data": {
      "text/plain": [
       "<tf.Tensor: shape=(15,), dtype=int64, numpy=\n",
       "array([ 253,    1,    1, 4129,  645,  137, 7985,  762,  199, 1252,    3,\n",
       "       1508,  147,    6, 1084])>"
      ]
     },
     "execution_count": 26,
     "metadata": {},
     "output_type": "execute_result"
    }
   ],
   "source": [
    "# Choose a random sentece from the training dataset and tokenize it\n",
    "random_sentence = random.choice(train_sentences)\n",
    "print(f\"Original text:\\n {random_sentence} \\n\\nVectorized Version: {text_vectorizer(random_sentence)} \")\n",
    "text_vectorizer(random_sentence)"
   ]
  },
  {
   "cell_type": "code",
   "execution_count": 27,
   "id": "5ad65e70",
   "metadata": {
    "execution": {
     "iopub.execute_input": "2025-10-30T11:25:56.872100Z",
     "iopub.status.busy": "2025-10-30T11:25:56.871501Z",
     "iopub.status.idle": "2025-10-30T11:25:56.887705Z",
     "shell.execute_reply": "2025-10-30T11:25:56.887133Z"
    },
    "papermill": {
     "duration": 0.029068,
     "end_time": "2025-10-30T11:25:56.888738",
     "exception": false,
     "start_time": "2025-10-30T11:25:56.859670",
     "status": "completed"
    },
    "tags": []
   },
   "outputs": [
    {
     "data": {
      "text/plain": [
       "<tf.Tensor: shape=(15,), dtype=int64, numpy=\n",
       "array([2718,   22,    2,  149, 1102,    4, 5214, 5214,    1,    1,    0,\n",
       "          0,    0,    0,    0])>"
      ]
     },
     "execution_count": 27,
     "metadata": {},
     "output_type": "execute_result"
    }
   ],
   "source": [
    "# check if token is a sentence have the same int value across different sentences\n",
    "sample_sentence_two = \"schools are the best Western in Lit lit litterally.. LiTTErALLy..\"\n",
    "text_vectorizer(sample_sentence_two)"
   ]
  },
  {
   "cell_type": "code",
   "execution_count": 28,
   "id": "4a3585aa",
   "metadata": {
    "execution": {
     "iopub.execute_input": "2025-10-30T11:25:56.912274Z",
     "iopub.status.busy": "2025-10-30T11:25:56.911562Z",
     "iopub.status.idle": "2025-10-30T11:25:56.936762Z",
     "shell.execute_reply": "2025-10-30T11:25:56.936243Z"
    },
    "papermill": {
     "duration": 0.037907,
     "end_time": "2025-10-30T11:25:56.937807",
     "exception": false,
     "start_time": "2025-10-30T11:25:56.899900",
     "status": "completed"
    },
    "tags": []
   },
   "outputs": [
    {
     "data": {
      "text/plain": [
       "(['', '[UNK]', 'the', 'a', 'in'],\n",
       " ['pages', 'paeds', 'pads', 'padres', 'paddytomlinson1'],\n",
       " 10000)"
      ]
     },
     "execution_count": 28,
     "metadata": {},
     "output_type": "execute_result"
    }
   ],
   "source": [
    "# Get the unique words in the vocabulary\n",
    "words_in_vocab = text_vectorizer.get_vocabulary() # get all of the unique words in vocabulary\n",
    "top_5_words = words_in_vocab[:5] # get the most common word\n",
    "bottom_5_words = words_in_vocab[-5:] # get the least common word\n",
    "top_5_words,bottom_5_words,len(words_in_vocab)"
   ]
  },
  {
   "cell_type": "markdown",
   "id": "5ca2f47a",
   "metadata": {
    "papermill": {
     "duration": 0.017028,
     "end_time": "2025-10-30T11:25:56.966321",
     "exception": false,
     "start_time": "2025-10-30T11:25:56.949293",
     "status": "completed"
    },
    "tags": []
   },
   "source": [
    "### Creating and Embedding using an Embedding Layer\n",
    "To make our embedding, we going to use tensorflow embedding layer\n",
    "The parameters we care most about for our embedding layer:\n",
    "* `input_dim` = the size of our vocabulary\n",
    "* `output_dim` = the size of the output embedding vector,for example, a value of 100 would mean each token gets represented by a vector 100 long\n",
    "*  `input_length` = length of the sequences being passed to the embedding layer"
   ]
  },
  {
   "cell_type": "code",
   "execution_count": 29,
   "id": "2190107e",
   "metadata": {
    "execution": {
     "iopub.execute_input": "2025-10-30T11:25:56.995111Z",
     "iopub.status.busy": "2025-10-30T11:25:56.994664Z",
     "iopub.status.idle": "2025-10-30T11:25:57.000055Z",
     "shell.execute_reply": "2025-10-30T11:25:56.999256Z"
    },
    "papermill": {
     "duration": 0.018496,
     "end_time": "2025-10-30T11:25:57.001075",
     "exception": false,
     "start_time": "2025-10-30T11:25:56.982579",
     "status": "completed"
    },
    "tags": []
   },
   "outputs": [
    {
     "name": "stderr",
     "output_type": "stream",
     "text": [
      "/usr/local/lib/python3.11/dist-packages/keras/src/layers/core/embedding.py:90: UserWarning: Argument `input_length` is deprecated. Just remove it.\n",
      "  warnings.warn(\n"
     ]
    }
   ],
   "source": [
    " from tensorflow.keras import layers\n",
    "embedding = layers.Embedding(input_dim=max_vocab_length,\n",
    "                            output_dim=128,\n",
    "                             input_length=max_length\n",
    "                            )\n"
   ]
  },
  {
   "cell_type": "code",
   "execution_count": 30,
   "id": "6ede4bcf",
   "metadata": {
    "execution": {
     "iopub.execute_input": "2025-10-30T11:25:57.024141Z",
     "iopub.status.busy": "2025-10-30T11:25:57.023967Z",
     "iopub.status.idle": "2025-10-30T11:25:57.815520Z",
     "shell.execute_reply": "2025-10-30T11:25:57.814699Z"
    },
    "papermill": {
     "duration": 0.804469,
     "end_time": "2025-10-30T11:25:57.816738",
     "exception": false,
     "start_time": "2025-10-30T11:25:57.012269",
     "status": "completed"
    },
    "tags": []
   },
   "outputs": [
    {
     "name": "stdout",
     "output_type": "stream",
     "text": [
      "original text: \n",
      "It's not a cute dinner date Til cams nose starts bleeding \n"
     ]
    },
    {
     "data": {
      "text/plain": [
       "(<tf.Tensor: shape=(15,), dtype=int64, numpy=\n",
       " array([  37,   34,    3, 2144, 3052, 1089, 3327,    1, 3587, 1468,  587,\n",
       "           0,    0,    0,    0])>,\n",
       " <tf.Tensor: shape=(15, 128), dtype=float32, numpy=\n",
       " array([[-0.04216079,  0.0054698 ,  0.04805003, ...,  0.039834  ,\n",
       "         -0.01507288, -0.0281907 ],\n",
       "        [-0.00034635,  0.02022809, -0.03922894, ...,  0.00855408,\n",
       "         -0.0296427 , -0.02464733],\n",
       "        [ 0.00551207, -0.01066894, -0.01580207, ..., -0.01905437,\n",
       "          0.02282384, -0.0324687 ],\n",
       "        ...,\n",
       "        [ 0.02959862, -0.0070261 ,  0.03630754, ..., -0.04078908,\n",
       "          0.04918137, -0.00243541],\n",
       "        [ 0.02959862, -0.0070261 ,  0.03630754, ..., -0.04078908,\n",
       "          0.04918137, -0.00243541],\n",
       "        [ 0.02959862, -0.0070261 ,  0.03630754, ..., -0.04078908,\n",
       "          0.04918137, -0.00243541]], dtype=float32)>)"
      ]
     },
     "execution_count": 30,
     "metadata": {},
     "output_type": "execute_result"
    }
   ],
   "source": [
    "# Get a random sentence from the training set\n",
    "random_sentence = random.choice(train_sentences)\n",
    "print(f\"original text: \\n{random_sentence} \")\n",
    "random_sentence_vectorized = text_vectorizer(random_sentence)\n",
    "sample_embed = embedding(random_sentence_vectorized)\n",
    "random_sentence_vectorized,sample_embed"
   ]
  },
  {
   "cell_type": "code",
   "execution_count": 31,
   "id": "af086011",
   "metadata": {
    "execution": {
     "iopub.execute_input": "2025-10-30T11:25:57.840855Z",
     "iopub.status.busy": "2025-10-30T11:25:57.840421Z",
     "iopub.status.idle": "2025-10-30T11:25:57.850616Z",
     "shell.execute_reply": "2025-10-30T11:25:57.849891Z"
    },
    "papermill": {
     "duration": 0.023041,
     "end_time": "2025-10-30T11:25:57.851665",
     "exception": false,
     "start_time": "2025-10-30T11:25:57.828624",
     "status": "completed"
    },
    "tags": []
   },
   "outputs": [
    {
     "data": {
      "text/plain": [
       "(<tf.Tensor: shape=(128,), dtype=float32, numpy=\n",
       " array([-0.04216079,  0.0054698 ,  0.04805003, -0.02522602, -0.02043474,\n",
       "         0.01966133,  0.00493847, -0.04766785, -0.01470971,  0.02670267,\n",
       "        -0.0197616 , -0.01836417,  0.03801305, -0.00994521,  0.00476886,\n",
       "         0.01445519, -0.01037785, -0.01396668, -0.00440234, -0.03671012,\n",
       "         0.03155747,  0.02041742, -0.04858284,  0.00447062, -0.04675651,\n",
       "         0.02546693,  0.004011  , -0.03490321,  0.00679715, -0.00074949,\n",
       "         0.00639858,  0.01313872, -0.04499748, -0.00131433,  0.04010545,\n",
       "        -0.01191204,  0.04927928,  0.01206546, -0.00372783,  0.00507569,\n",
       "        -0.00729377, -0.03918038, -0.00714681, -0.01778571, -0.0174746 ,\n",
       "         0.01697144,  0.03863943,  0.01242348,  0.04573044, -0.04237996,\n",
       "        -0.01685828, -0.02295452,  0.01310954,  0.00718246, -0.00169258,\n",
       "         0.0351028 , -0.04888036, -0.01160728, -0.01315219,  0.00979066,\n",
       "         0.0111357 , -0.02844929,  0.02856458,  0.00085641,  0.0441994 ,\n",
       "         0.01511533,  0.02963227,  0.04778551, -0.04133704, -0.01168776,\n",
       "        -0.01254246, -0.02417284, -0.04539816, -0.01612858, -0.00614107,\n",
       "         0.0439424 ,  0.04241322, -0.03037881, -0.01335975, -0.04036945,\n",
       "         0.03590773,  0.02217144,  0.01222553,  0.03350295, -0.00750086,\n",
       "        -0.03162133,  0.02834712,  0.00394692,  0.02749589,  0.00046005,\n",
       "         0.03683895, -0.01917095, -0.03011284,  0.0248719 ,  0.04556653,\n",
       "        -0.04657556,  0.02320497, -0.02026641,  0.01028361, -0.03875862,\n",
       "         0.03982264, -0.04098415,  0.04756466, -0.04988937,  0.02599693,\n",
       "        -0.01117097, -0.03371835, -0.02266673, -0.03788567, -0.00809425,\n",
       "        -0.02656676, -0.03814975,  0.04193472,  0.02194181,  0.02835621,\n",
       "        -0.00434971,  0.01984885, -0.0127388 ,  0.03790202, -0.01163936,\n",
       "         0.04460038, -0.00034891, -0.0162704 , -0.02244559,  0.02005092,\n",
       "         0.039834  , -0.01507288, -0.0281907 ], dtype=float32)>,\n",
       " TensorShape([128]),\n",
       " <tf.Tensor: shape=(), dtype=int64, numpy=0>)"
      ]
     },
     "execution_count": 31,
     "metadata": {},
     "output_type": "execute_result"
    }
   ],
   "source": [
    "# check out a single token's embedding\n",
    "sample_embed[0], sample_embed[0].shape,random_sentence_vectorized[14]"
   ]
  },
  {
   "cell_type": "markdown",
   "id": "17e70a88",
   "metadata": {
    "papermill": {
     "duration": 0.011219,
     "end_time": "2025-10-30T11:25:57.874469",
     "exception": false,
     "start_time": "2025-10-30T11:25:57.863250",
     "status": "completed"
    },
    "tags": []
   },
   "source": [
    "## Modeling a text dataset (running a series of experiment)\n",
    "Now we've a got way to turn our text sequences into numbers, it's time to start building a series of modelling experiments.\n",
    "we'll start with a baseline and move on from there.\n",
    "\n",
    "* Model 0: Naive Bayes(baseline)\n",
    "* Model 1: Feed-Forwared neural Network(dense Model)\n",
    "* Model 2: LSTM model(RNN)\n",
    "* Model 3: GRU model(RNN)\n",
    "* Model 4: Bidirectional-LSTM model(RNN)\n",
    "* Model 5:1D Convolutional Neural Network(CNN)\n",
    "* Model 6: TensorFlow Hub pretrained Feature Extractor(using transofer learning for NLP)\n",
    "* Model 7: same as model 6 with 10% of training data\n",
    "\n",
    "  How we are going to approach all of these?\n",
    "\n",
    "  Use the standard steps in modelling with tensorflow:\n",
    "  * Create a model\n",
    "  * Build a model\n",
    "  * Fit a model\n",
    "  * Evaluate a model\n",
    "  "
   ]
  },
  {
   "cell_type": "markdown",
   "id": "8309e874",
   "metadata": {
    "papermill": {
     "duration": 0.011158,
     "end_time": "2025-10-30T11:25:57.896939",
     "exception": false,
     "start_time": "2025-10-30T11:25:57.885781",
     "status": "completed"
    },
    "tags": []
   },
   "source": [
    "### Model 0: Getting a baseline \n",
    "As with all machine learning modelling experiments, it's important to create a baseline model so you've got a benchmark for future experiment to build on"
   ]
  },
  {
   "cell_type": "code",
   "execution_count": 32,
   "id": "cc5372aa",
   "metadata": {
    "execution": {
     "iopub.execute_input": "2025-10-30T11:25:57.920349Z",
     "iopub.status.busy": "2025-10-30T11:25:57.919982Z",
     "iopub.status.idle": "2025-10-30T11:25:57.923907Z",
     "shell.execute_reply": "2025-10-30T11:25:57.923125Z"
    },
    "papermill": {
     "duration": 0.016916,
     "end_time": "2025-10-30T11:25:57.925052",
     "exception": false,
     "start_time": "2025-10-30T11:25:57.908136",
     "status": "completed"
    },
    "tags": []
   },
   "outputs": [
    {
     "name": "stdout",
     "output_type": "stream",
     "text": [
      "1.2.2\n"
     ]
    }
   ],
   "source": [
    "# !pip install scikit-learn\n",
    "import sklearn\n",
    "print(sklearn.__version__)"
   ]
  },
  {
   "cell_type": "code",
   "execution_count": 33,
   "id": "6a19b1c1",
   "metadata": {
    "execution": {
     "iopub.execute_input": "2025-10-30T11:25:57.950018Z",
     "iopub.status.busy": "2025-10-30T11:25:57.949765Z",
     "iopub.status.idle": "2025-10-30T11:25:57.980162Z",
     "shell.execute_reply": "2025-10-30T11:25:57.979619Z"
    },
    "papermill": {
     "duration": 0.043963,
     "end_time": "2025-10-30T11:25:57.981177",
     "exception": false,
     "start_time": "2025-10-30T11:25:57.937214",
     "status": "completed"
    },
    "tags": []
   },
   "outputs": [],
   "source": [
    "from sklearn.feature_extraction.text import TfidfVectorizer\n",
    "from sklearn.naive_bayes import MultinomialNB\n",
    "from sklearn.pipeline import Pipeline"
   ]
  },
  {
   "cell_type": "code",
   "execution_count": 34,
   "id": "dd8d9200",
   "metadata": {
    "execution": {
     "iopub.execute_input": "2025-10-30T11:25:58.005139Z",
     "iopub.status.busy": "2025-10-30T11:25:58.004718Z",
     "iopub.status.idle": "2025-10-30T11:25:58.147651Z",
     "shell.execute_reply": "2025-10-30T11:25:58.147084Z"
    },
    "papermill": {
     "duration": 0.155966,
     "end_time": "2025-10-30T11:25:58.148797",
     "exception": false,
     "start_time": "2025-10-30T11:25:57.992831",
     "status": "completed"
    },
    "tags": []
   },
   "outputs": [],
   "source": [
    "# Create tokenization and modelling pipeline \n",
    "model_0 = Pipeline([\n",
    "    (\"tfidf\",TfidfVectorizer()), # convert words into numbers using tfidf\n",
    "    (\"clf\",MultinomialNB()) # model the text\n",
    "])\n",
    "\n",
    "# Fit the pipeline to the training data\n",
    "model_0_history = model_0.fit(train_sentences,train_labels)"
   ]
  },
  {
   "cell_type": "code",
   "execution_count": 35,
   "id": "34868d6d",
   "metadata": {
    "execution": {
     "iopub.execute_input": "2025-10-30T11:25:58.172577Z",
     "iopub.status.busy": "2025-10-30T11:25:58.172376Z",
     "iopub.status.idle": "2025-10-30T11:25:58.181964Z",
     "shell.execute_reply": "2025-10-30T11:25:58.181375Z"
    },
    "papermill": {
     "duration": 0.022661,
     "end_time": "2025-10-30T11:25:58.183007",
     "exception": false,
     "start_time": "2025-10-30T11:25:58.160346",
     "status": "completed"
    },
    "tags": []
   },
   "outputs": [
    {
     "data": {
      "text/html": [
       "<style>#sk-container-id-1 {color: black;background-color: white;}#sk-container-id-1 pre{padding: 0;}#sk-container-id-1 div.sk-toggleable {background-color: white;}#sk-container-id-1 label.sk-toggleable__label {cursor: pointer;display: block;width: 100%;margin-bottom: 0;padding: 0.3em;box-sizing: border-box;text-align: center;}#sk-container-id-1 label.sk-toggleable__label-arrow:before {content: \"▸\";float: left;margin-right: 0.25em;color: #696969;}#sk-container-id-1 label.sk-toggleable__label-arrow:hover:before {color: black;}#sk-container-id-1 div.sk-estimator:hover label.sk-toggleable__label-arrow:before {color: black;}#sk-container-id-1 div.sk-toggleable__content {max-height: 0;max-width: 0;overflow: hidden;text-align: left;background-color: #f0f8ff;}#sk-container-id-1 div.sk-toggleable__content pre {margin: 0.2em;color: black;border-radius: 0.25em;background-color: #f0f8ff;}#sk-container-id-1 input.sk-toggleable__control:checked~div.sk-toggleable__content {max-height: 200px;max-width: 100%;overflow: auto;}#sk-container-id-1 input.sk-toggleable__control:checked~label.sk-toggleable__label-arrow:before {content: \"▾\";}#sk-container-id-1 div.sk-estimator input.sk-toggleable__control:checked~label.sk-toggleable__label {background-color: #d4ebff;}#sk-container-id-1 div.sk-label input.sk-toggleable__control:checked~label.sk-toggleable__label {background-color: #d4ebff;}#sk-container-id-1 input.sk-hidden--visually {border: 0;clip: rect(1px 1px 1px 1px);clip: rect(1px, 1px, 1px, 1px);height: 1px;margin: -1px;overflow: hidden;padding: 0;position: absolute;width: 1px;}#sk-container-id-1 div.sk-estimator {font-family: monospace;background-color: #f0f8ff;border: 1px dotted black;border-radius: 0.25em;box-sizing: border-box;margin-bottom: 0.5em;}#sk-container-id-1 div.sk-estimator:hover {background-color: #d4ebff;}#sk-container-id-1 div.sk-parallel-item::after {content: \"\";width: 100%;border-bottom: 1px solid gray;flex-grow: 1;}#sk-container-id-1 div.sk-label:hover label.sk-toggleable__label {background-color: #d4ebff;}#sk-container-id-1 div.sk-serial::before {content: \"\";position: absolute;border-left: 1px solid gray;box-sizing: border-box;top: 0;bottom: 0;left: 50%;z-index: 0;}#sk-container-id-1 div.sk-serial {display: flex;flex-direction: column;align-items: center;background-color: white;padding-right: 0.2em;padding-left: 0.2em;position: relative;}#sk-container-id-1 div.sk-item {position: relative;z-index: 1;}#sk-container-id-1 div.sk-parallel {display: flex;align-items: stretch;justify-content: center;background-color: white;position: relative;}#sk-container-id-1 div.sk-item::before, #sk-container-id-1 div.sk-parallel-item::before {content: \"\";position: absolute;border-left: 1px solid gray;box-sizing: border-box;top: 0;bottom: 0;left: 50%;z-index: -1;}#sk-container-id-1 div.sk-parallel-item {display: flex;flex-direction: column;z-index: 1;position: relative;background-color: white;}#sk-container-id-1 div.sk-parallel-item:first-child::after {align-self: flex-end;width: 50%;}#sk-container-id-1 div.sk-parallel-item:last-child::after {align-self: flex-start;width: 50%;}#sk-container-id-1 div.sk-parallel-item:only-child::after {width: 0;}#sk-container-id-1 div.sk-dashed-wrapped {border: 1px dashed gray;margin: 0 0.4em 0.5em 0.4em;box-sizing: border-box;padding-bottom: 0.4em;background-color: white;}#sk-container-id-1 div.sk-label label {font-family: monospace;font-weight: bold;display: inline-block;line-height: 1.2em;}#sk-container-id-1 div.sk-label-container {text-align: center;}#sk-container-id-1 div.sk-container {/* jupyter's `normalize.less` sets `[hidden] { display: none; }` but bootstrap.min.css set `[hidden] { display: none !important; }` so we also need the `!important` here to be able to override the default hidden behavior on the sphinx rendered scikit-learn.org. See: https://github.com/scikit-learn/scikit-learn/issues/21755 */display: inline-block !important;position: relative;}#sk-container-id-1 div.sk-text-repr-fallback {display: none;}</style><div id=\"sk-container-id-1\" class=\"sk-top-container\"><div class=\"sk-text-repr-fallback\"><pre>Pipeline(steps=[(&#x27;tfidf&#x27;, TfidfVectorizer()), (&#x27;clf&#x27;, MultinomialNB())])</pre><b>In a Jupyter environment, please rerun this cell to show the HTML representation or trust the notebook. <br />On GitHub, the HTML representation is unable to render, please try loading this page with nbviewer.org.</b></div><div class=\"sk-container\" hidden><div class=\"sk-item sk-dashed-wrapped\"><div class=\"sk-label-container\"><div class=\"sk-label sk-toggleable\"><input class=\"sk-toggleable__control sk-hidden--visually\" id=\"sk-estimator-id-1\" type=\"checkbox\" ><label for=\"sk-estimator-id-1\" class=\"sk-toggleable__label sk-toggleable__label-arrow\">Pipeline</label><div class=\"sk-toggleable__content\"><pre>Pipeline(steps=[(&#x27;tfidf&#x27;, TfidfVectorizer()), (&#x27;clf&#x27;, MultinomialNB())])</pre></div></div></div><div class=\"sk-serial\"><div class=\"sk-item\"><div class=\"sk-estimator sk-toggleable\"><input class=\"sk-toggleable__control sk-hidden--visually\" id=\"sk-estimator-id-2\" type=\"checkbox\" ><label for=\"sk-estimator-id-2\" class=\"sk-toggleable__label sk-toggleable__label-arrow\">TfidfVectorizer</label><div class=\"sk-toggleable__content\"><pre>TfidfVectorizer()</pre></div></div></div><div class=\"sk-item\"><div class=\"sk-estimator sk-toggleable\"><input class=\"sk-toggleable__control sk-hidden--visually\" id=\"sk-estimator-id-3\" type=\"checkbox\" ><label for=\"sk-estimator-id-3\" class=\"sk-toggleable__label sk-toggleable__label-arrow\">MultinomialNB</label><div class=\"sk-toggleable__content\"><pre>MultinomialNB()</pre></div></div></div></div></div></div></div>"
      ],
      "text/plain": [
       "Pipeline(steps=[('tfidf', TfidfVectorizer()), ('clf', MultinomialNB())])"
      ]
     },
     "execution_count": 35,
     "metadata": {},
     "output_type": "execute_result"
    }
   ],
   "source": [
    "model_0_history"
   ]
  },
  {
   "cell_type": "code",
   "execution_count": 36,
   "id": "ec75dcac",
   "metadata": {
    "execution": {
     "iopub.execute_input": "2025-10-30T11:25:58.207261Z",
     "iopub.status.busy": "2025-10-30T11:25:58.207068Z",
     "iopub.status.idle": "2025-10-30T11:25:58.222368Z",
     "shell.execute_reply": "2025-10-30T11:25:58.221806Z"
    },
    "papermill": {
     "duration": 0.028285,
     "end_time": "2025-10-30T11:25:58.223296",
     "exception": false,
     "start_time": "2025-10-30T11:25:58.195011",
     "status": "completed"
    },
    "tags": []
   },
   "outputs": [
    {
     "data": {
      "text/plain": [
       "0.7926509186351706"
      ]
     },
     "execution_count": 36,
     "metadata": {},
     "output_type": "execute_result"
    }
   ],
   "source": [
    "# Evaluate our baseline model\n",
    "baseline_score = model_0.score(val_sentences,val_labels)\n",
    "baseline_score"
   ]
  },
  {
   "cell_type": "code",
   "execution_count": 37,
   "id": "8d67bace",
   "metadata": {
    "execution": {
     "iopub.execute_input": "2025-10-30T11:25:58.247105Z",
     "iopub.status.busy": "2025-10-30T11:25:58.246896Z",
     "iopub.status.idle": "2025-10-30T11:25:58.252759Z",
     "shell.execute_reply": "2025-10-30T11:25:58.252227Z"
    },
    "papermill": {
     "duration": 0.019034,
     "end_time": "2025-10-30T11:25:58.253830",
     "exception": false,
     "start_time": "2025-10-30T11:25:58.234796",
     "status": "completed"
    },
    "tags": []
   },
   "outputs": [
    {
     "name": "stdout",
     "output_type": "stream",
     "text": [
      "Our baseline model achievs an accuracy of: 0.7926509186351706\n"
     ]
    },
    {
     "data": {
      "text/plain": [
       "target\n",
       "0    4342\n",
       "1    3271\n",
       "Name: count, dtype: int64"
      ]
     },
     "execution_count": 37,
     "metadata": {},
     "output_type": "execute_result"
    }
   ],
   "source": [
    "print(f\"Our baseline model achievs an accuracy of: {baseline_score}\")\n",
    "train_df.target.value_counts()"
   ]
  },
  {
   "cell_type": "code",
   "execution_count": 38,
   "id": "a56dab5b",
   "metadata": {
    "execution": {
     "iopub.execute_input": "2025-10-30T11:25:58.278443Z",
     "iopub.status.busy": "2025-10-30T11:25:58.278207Z",
     "iopub.status.idle": "2025-10-30T11:25:58.293462Z",
     "shell.execute_reply": "2025-10-30T11:25:58.292724Z"
    },
    "papermill": {
     "duration": 0.028734,
     "end_time": "2025-10-30T11:25:58.294486",
     "exception": false,
     "start_time": "2025-10-30T11:25:58.265752",
     "status": "completed"
    },
    "tags": []
   },
   "outputs": [
    {
     "data": {
      "text/plain": [
       "(array([1, 1]),\n",
       " array(['DFR EP016 Monthly Meltdown - On Dnbheaven 2015.08.06 http://t.co/EjKRf8N8A8 #Drum and Bass #heavy #nasty http://t.co/SPHWE6wFI5',\n",
       "        'FedEx no longer to transport bioterror germs in wake of anthrax lab mishaps http://t.co/qZQc8WWwcN via @usatoday'],\n",
       "       dtype=object))"
      ]
     },
     "execution_count": 38,
     "metadata": {},
     "output_type": "execute_result"
    }
   ],
   "source": [
    "# make predictions\n",
    "baseline_preds = model_0.predict(val_sentences)\n",
    "baseline_preds[:2],val_sentences[:2]"
   ]
  },
  {
   "cell_type": "markdown",
   "id": "20fd09ca",
   "metadata": {
    "papermill": {
     "duration": 0.011555,
     "end_time": "2025-10-30T11:25:58.317835",
     "exception": false,
     "start_time": "2025-10-30T11:25:58.306280",
     "status": "completed"
    },
    "tags": []
   },
   "source": [
    "### Creating an evaluation function for our model experiments\n",
    "we could evaluate all of our model's predictions with different metrics every time,however, this will be cumbersome and could easily be fixed using function\n",
    "Let's create one to compare our model's predictions with the truth labels using the following metrics:\n",
    "* Accuracy\n",
    "* Percision\n",
    "* Recall\n",
    "* F1-score"
   ]
  },
  {
   "cell_type": "code",
   "execution_count": 39,
   "id": "1637328a",
   "metadata": {
    "execution": {
     "iopub.execute_input": "2025-10-30T11:25:58.342981Z",
     "iopub.status.busy": "2025-10-30T11:25:58.342225Z",
     "iopub.status.idle": "2025-10-30T11:25:58.346646Z",
     "shell.execute_reply": "2025-10-30T11:25:58.346065Z"
    },
    "papermill": {
     "duration": 0.017941,
     "end_time": "2025-10-30T11:25:58.347696",
     "exception": false,
     "start_time": "2025-10-30T11:25:58.329755",
     "status": "completed"
    },
    "tags": []
   },
   "outputs": [],
   "source": [
    "from sklearn.metrics import accuracy_score,precision_recall_fscore_support\n",
    "def calculate_results(y_true, y_preds):\n",
    "    \"\"\"\n",
    "    Calculates model accuracy, recall, precision and f1-score\n",
    "    of a binary classification model.\n",
    "    \"\"\"\n",
    "    model_accuracy = accuracy_score(y_true, y_preds) * 100\n",
    "    model_precision, model_recall, model_f1, _ = precision_recall_fscore_support(\n",
    "        y_true, y_preds, average=\"weighted\"\n",
    "    )\n",
    "    model_results = {\n",
    "        \"accuracy\": model_accuracy,\n",
    "        \"precision\": model_precision,\n",
    "        \"recall\": model_recall,\n",
    "        \"f1\": model_f1,\n",
    "    }\n",
    "    return model_results\n"
   ]
  },
  {
   "cell_type": "code",
   "execution_count": 40,
   "id": "961dbcc2",
   "metadata": {
    "execution": {
     "iopub.execute_input": "2025-10-30T11:25:58.376758Z",
     "iopub.status.busy": "2025-10-30T11:25:58.376304Z",
     "iopub.status.idle": "2025-10-30T11:25:58.381981Z",
     "shell.execute_reply": "2025-10-30T11:25:58.381435Z"
    },
    "papermill": {
     "duration": 0.021806,
     "end_time": "2025-10-30T11:25:58.383057",
     "exception": false,
     "start_time": "2025-10-30T11:25:58.361251",
     "status": "completed"
    },
    "tags": []
   },
   "outputs": [],
   "source": [
    "baseline_results = calculate_results(y_true=val_labels,y_preds=baseline_preds)"
   ]
  },
  {
   "cell_type": "code",
   "execution_count": 41,
   "id": "a267a9a1",
   "metadata": {
    "execution": {
     "iopub.execute_input": "2025-10-30T11:25:58.409211Z",
     "iopub.status.busy": "2025-10-30T11:25:58.408753Z",
     "iopub.status.idle": "2025-10-30T11:25:58.413375Z",
     "shell.execute_reply": "2025-10-30T11:25:58.412825Z"
    },
    "papermill": {
     "duration": 0.019111,
     "end_time": "2025-10-30T11:25:58.414474",
     "exception": false,
     "start_time": "2025-10-30T11:25:58.395363",
     "status": "completed"
    },
    "tags": []
   },
   "outputs": [
    {
     "data": {
      "text/plain": [
       "{'accuracy': 79.26509186351706,\n",
       " 'precision': 0.8111390004213173,\n",
       " 'recall': 0.7926509186351706,\n",
       " 'f1': 0.7862189758049549}"
      ]
     },
     "execution_count": 41,
     "metadata": {},
     "output_type": "execute_result"
    }
   ],
   "source": [
    "baseline_results"
   ]
  },
  {
   "cell_type": "markdown",
   "id": "e9665695",
   "metadata": {
    "papermill": {
     "duration": 0.01181,
     "end_time": "2025-10-30T11:25:58.438372",
     "exception": false,
     "start_time": "2025-10-30T11:25:58.426562",
     "status": "completed"
    },
    "tags": []
   },
   "source": [
    "### Model 1: A simple dense model"
   ]
  },
  {
   "cell_type": "code",
   "execution_count": 42,
   "id": "eaa9d23c",
   "metadata": {
    "execution": {
     "iopub.execute_input": "2025-10-30T11:25:58.462874Z",
     "iopub.status.busy": "2025-10-30T11:25:58.462472Z",
     "iopub.status.idle": "2025-10-30T11:25:58.484840Z",
     "shell.execute_reply": "2025-10-30T11:25:58.484321Z"
    },
    "papermill": {
     "duration": 0.035689,
     "end_time": "2025-10-30T11:25:58.485891",
     "exception": false,
     "start_time": "2025-10-30T11:25:58.450202",
     "status": "completed"
    },
    "tags": []
   },
   "outputs": [],
   "source": [
    "# Create a directory to save tensorboard logs\n",
    "SAVE_DIR = \"model_logs\"\n",
    "# Bild model with the Functional API\n",
    "from tensorflow.keras import layers\n",
    "inputs = layers.Input(shape=(),dtype=tf.string,name=\"input_layer\")\n",
    "x = text_vectorizer(inputs) # turn the input text into number\n",
    "x = embedding(x) # create an embedding of the numberized inputs\n",
    "x = layers.GlobalAveragePooling1D(name=\"globalAverage_layer\")(x)\n",
    "# x = layers.Flatten()(x)\n",
    "outputs = layers.Dense(1,activation=\"sigmoid\",name=\"output_layer\")(x)\n",
    "model_1 = tf.keras.Model(inputs,outputs,name=\"model_1_dense\")"
   ]
  },
  {
   "cell_type": "code",
   "execution_count": 43,
   "id": "bbc7ecd8",
   "metadata": {
    "execution": {
     "iopub.execute_input": "2025-10-30T11:25:58.511166Z",
     "iopub.status.busy": "2025-10-30T11:25:58.510938Z",
     "iopub.status.idle": "2025-10-30T11:25:58.525771Z",
     "shell.execute_reply": "2025-10-30T11:25:58.525023Z"
    },
    "papermill": {
     "duration": 0.028154,
     "end_time": "2025-10-30T11:25:58.526827",
     "exception": false,
     "start_time": "2025-10-30T11:25:58.498673",
     "status": "completed"
    },
    "tags": []
   },
   "outputs": [
    {
     "data": {
      "text/html": [
       "<pre style=\"white-space:pre;overflow-x:auto;line-height:normal;font-family:Menlo,'DejaVu Sans Mono',consolas,'Courier New',monospace\"><span style=\"font-weight: bold\">Model: \"model_1_dense\"</span>\n",
       "</pre>\n"
      ],
      "text/plain": [
       "\u001b[1mModel: \"model_1_dense\"\u001b[0m\n"
      ]
     },
     "metadata": {},
     "output_type": "display_data"
    },
    {
     "data": {
      "text/html": [
       "<pre style=\"white-space:pre;overflow-x:auto;line-height:normal;font-family:Menlo,'DejaVu Sans Mono',consolas,'Courier New',monospace\">┏━━━━━━━━━━━━━━━━━━━━━━━━━━━━━━━━━┳━━━━━━━━━━━━━━━━━━━━━━━━┳━━━━━━━━━━━━━━━┓\n",
       "┃<span style=\"font-weight: bold\"> Layer (type)                    </span>┃<span style=\"font-weight: bold\"> Output Shape           </span>┃<span style=\"font-weight: bold\">       Param # </span>┃\n",
       "┡━━━━━━━━━━━━━━━━━━━━━━━━━━━━━━━━━╇━━━━━━━━━━━━━━━━━━━━━━━━╇━━━━━━━━━━━━━━━┩\n",
       "│ input_layer (<span style=\"color: #0087ff; text-decoration-color: #0087ff\">InputLayer</span>)        │ (<span style=\"color: #00d7ff; text-decoration-color: #00d7ff\">None</span>)                 │             <span style=\"color: #00af00; text-decoration-color: #00af00\">0</span> │\n",
       "├─────────────────────────────────┼────────────────────────┼───────────────┤\n",
       "│ text_vectorization_1            │ (<span style=\"color: #00d7ff; text-decoration-color: #00d7ff\">None</span>, <span style=\"color: #00af00; text-decoration-color: #00af00\">15</span>)             │             <span style=\"color: #00af00; text-decoration-color: #00af00\">0</span> │\n",
       "│ (<span style=\"color: #0087ff; text-decoration-color: #0087ff\">TextVectorization</span>)             │                        │               │\n",
       "├─────────────────────────────────┼────────────────────────┼───────────────┤\n",
       "│ embedding (<span style=\"color: #0087ff; text-decoration-color: #0087ff\">Embedding</span>)           │ (<span style=\"color: #00d7ff; text-decoration-color: #00d7ff\">None</span>, <span style=\"color: #00af00; text-decoration-color: #00af00\">15</span>, <span style=\"color: #00af00; text-decoration-color: #00af00\">128</span>)        │     <span style=\"color: #00af00; text-decoration-color: #00af00\">1,280,000</span> │\n",
       "├─────────────────────────────────┼────────────────────────┼───────────────┤\n",
       "│ globalAverage_layer             │ (<span style=\"color: #00d7ff; text-decoration-color: #00d7ff\">None</span>, <span style=\"color: #00af00; text-decoration-color: #00af00\">128</span>)            │             <span style=\"color: #00af00; text-decoration-color: #00af00\">0</span> │\n",
       "│ (<span style=\"color: #0087ff; text-decoration-color: #0087ff\">GlobalAveragePooling1D</span>)        │                        │               │\n",
       "├─────────────────────────────────┼────────────────────────┼───────────────┤\n",
       "│ output_layer (<span style=\"color: #0087ff; text-decoration-color: #0087ff\">Dense</span>)            │ (<span style=\"color: #00d7ff; text-decoration-color: #00d7ff\">None</span>, <span style=\"color: #00af00; text-decoration-color: #00af00\">1</span>)              │           <span style=\"color: #00af00; text-decoration-color: #00af00\">129</span> │\n",
       "└─────────────────────────────────┴────────────────────────┴───────────────┘\n",
       "</pre>\n"
      ],
      "text/plain": [
       "┏━━━━━━━━━━━━━━━━━━━━━━━━━━━━━━━━━┳━━━━━━━━━━━━━━━━━━━━━━━━┳━━━━━━━━━━━━━━━┓\n",
       "┃\u001b[1m \u001b[0m\u001b[1mLayer (type)                   \u001b[0m\u001b[1m \u001b[0m┃\u001b[1m \u001b[0m\u001b[1mOutput Shape          \u001b[0m\u001b[1m \u001b[0m┃\u001b[1m \u001b[0m\u001b[1m      Param #\u001b[0m\u001b[1m \u001b[0m┃\n",
       "┡━━━━━━━━━━━━━━━━━━━━━━━━━━━━━━━━━╇━━━━━━━━━━━━━━━━━━━━━━━━╇━━━━━━━━━━━━━━━┩\n",
       "│ input_layer (\u001b[38;5;33mInputLayer\u001b[0m)        │ (\u001b[38;5;45mNone\u001b[0m)                 │             \u001b[38;5;34m0\u001b[0m │\n",
       "├─────────────────────────────────┼────────────────────────┼───────────────┤\n",
       "│ text_vectorization_1            │ (\u001b[38;5;45mNone\u001b[0m, \u001b[38;5;34m15\u001b[0m)             │             \u001b[38;5;34m0\u001b[0m │\n",
       "│ (\u001b[38;5;33mTextVectorization\u001b[0m)             │                        │               │\n",
       "├─────────────────────────────────┼────────────────────────┼───────────────┤\n",
       "│ embedding (\u001b[38;5;33mEmbedding\u001b[0m)           │ (\u001b[38;5;45mNone\u001b[0m, \u001b[38;5;34m15\u001b[0m, \u001b[38;5;34m128\u001b[0m)        │     \u001b[38;5;34m1,280,000\u001b[0m │\n",
       "├─────────────────────────────────┼────────────────────────┼───────────────┤\n",
       "│ globalAverage_layer             │ (\u001b[38;5;45mNone\u001b[0m, \u001b[38;5;34m128\u001b[0m)            │             \u001b[38;5;34m0\u001b[0m │\n",
       "│ (\u001b[38;5;33mGlobalAveragePooling1D\u001b[0m)        │                        │               │\n",
       "├─────────────────────────────────┼────────────────────────┼───────────────┤\n",
       "│ output_layer (\u001b[38;5;33mDense\u001b[0m)            │ (\u001b[38;5;45mNone\u001b[0m, \u001b[38;5;34m1\u001b[0m)              │           \u001b[38;5;34m129\u001b[0m │\n",
       "└─────────────────────────────────┴────────────────────────┴───────────────┘\n"
      ]
     },
     "metadata": {},
     "output_type": "display_data"
    },
    {
     "data": {
      "text/html": [
       "<pre style=\"white-space:pre;overflow-x:auto;line-height:normal;font-family:Menlo,'DejaVu Sans Mono',consolas,'Courier New',monospace\"><span style=\"font-weight: bold\"> Total params: </span><span style=\"color: #00af00; text-decoration-color: #00af00\">1,280,129</span> (4.88 MB)\n",
       "</pre>\n"
      ],
      "text/plain": [
       "\u001b[1m Total params: \u001b[0m\u001b[38;5;34m1,280,129\u001b[0m (4.88 MB)\n"
      ]
     },
     "metadata": {},
     "output_type": "display_data"
    },
    {
     "data": {
      "text/html": [
       "<pre style=\"white-space:pre;overflow-x:auto;line-height:normal;font-family:Menlo,'DejaVu Sans Mono',consolas,'Courier New',monospace\"><span style=\"font-weight: bold\"> Trainable params: </span><span style=\"color: #00af00; text-decoration-color: #00af00\">1,280,129</span> (4.88 MB)\n",
       "</pre>\n"
      ],
      "text/plain": [
       "\u001b[1m Trainable params: \u001b[0m\u001b[38;5;34m1,280,129\u001b[0m (4.88 MB)\n"
      ]
     },
     "metadata": {},
     "output_type": "display_data"
    },
    {
     "data": {
      "text/html": [
       "<pre style=\"white-space:pre;overflow-x:auto;line-height:normal;font-family:Menlo,'DejaVu Sans Mono',consolas,'Courier New',monospace\"><span style=\"font-weight: bold\"> Non-trainable params: </span><span style=\"color: #00af00; text-decoration-color: #00af00\">0</span> (0.00 B)\n",
       "</pre>\n"
      ],
      "text/plain": [
       "\u001b[1m Non-trainable params: \u001b[0m\u001b[38;5;34m0\u001b[0m (0.00 B)\n"
      ]
     },
     "metadata": {},
     "output_type": "display_data"
    }
   ],
   "source": [
    "model_1.summary()"
   ]
  },
  {
   "cell_type": "code",
   "execution_count": 44,
   "id": "575b71b2",
   "metadata": {
    "execution": {
     "iopub.execute_input": "2025-10-30T11:25:58.553368Z",
     "iopub.status.busy": "2025-10-30T11:25:58.553167Z",
     "iopub.status.idle": "2025-10-30T11:25:58.564843Z",
     "shell.execute_reply": "2025-10-30T11:25:58.564324Z"
    },
    "papermill": {
     "duration": 0.025943,
     "end_time": "2025-10-30T11:25:58.565801",
     "exception": false,
     "start_time": "2025-10-30T11:25:58.539858",
     "status": "completed"
    },
    "tags": []
   },
   "outputs": [],
   "source": [
    "# compile the model\n",
    "model_1.compile(loss=\"binary_crossentropy\",\n",
    "               optimizer=tf.keras.optimizers.Adam(),\n",
    "               metrics=[\"accuracy\"])"
   ]
  },
  {
   "cell_type": "code",
   "execution_count": 45,
   "id": "20b141ce",
   "metadata": {
    "execution": {
     "iopub.execute_input": "2025-10-30T11:25:58.592307Z",
     "iopub.status.busy": "2025-10-30T11:25:58.591892Z",
     "iopub.status.idle": "2025-10-30T11:26:07.823447Z",
     "shell.execute_reply": "2025-10-30T11:26:07.822872Z"
    },
    "papermill": {
     "duration": 9.245592,
     "end_time": "2025-10-30T11:26:07.824685",
     "exception": false,
     "start_time": "2025-10-30T11:25:58.579093",
     "status": "completed"
    },
    "tags": []
   },
   "outputs": [
    {
     "name": "stdout",
     "output_type": "stream",
     "text": [
      "Saving TensorBoard log files to: TensorBoard/model_1_dense/20251030-112558\n",
      "Epoch 1/5\n",
      "\u001b[1m215/215\u001b[0m \u001b[32m━━━━━━━━━━━━━━━━━━━━\u001b[0m\u001b[37m\u001b[0m \u001b[1m4s\u001b[0m 7ms/step - accuracy: 0.6402 - loss: 0.6456 - val_accuracy: 0.7664 - val_loss: 0.5303\n",
      "Epoch 2/5\n",
      "\u001b[1m215/215\u001b[0m \u001b[32m━━━━━━━━━━━━━━━━━━━━\u001b[0m\u001b[37m\u001b[0m \u001b[1m1s\u001b[0m 5ms/step - accuracy: 0.8087 - loss: 0.4647 - val_accuracy: 0.7822 - val_loss: 0.4757\n",
      "Epoch 3/5\n",
      "\u001b[1m215/215\u001b[0m \u001b[32m━━━━━━━━━━━━━━━━━━━━\u001b[0m\u001b[37m\u001b[0m \u001b[1m1s\u001b[0m 5ms/step - accuracy: 0.8611 - loss: 0.3526 - val_accuracy: 0.7913 - val_loss: 0.4625\n",
      "Epoch 4/5\n",
      "\u001b[1m215/215\u001b[0m \u001b[32m━━━━━━━━━━━━━━━━━━━━\u001b[0m\u001b[37m\u001b[0m \u001b[1m1s\u001b[0m 5ms/step - accuracy: 0.8967 - loss: 0.2826 - val_accuracy: 0.7861 - val_loss: 0.4717\n",
      "Epoch 5/5\n",
      "\u001b[1m215/215\u001b[0m \u001b[32m━━━━━━━━━━━━━━━━━━━━\u001b[0m\u001b[37m\u001b[0m \u001b[1m1s\u001b[0m 5ms/step - accuracy: 0.9150 - loss: 0.2310 - val_accuracy: 0.7848 - val_loss: 0.4779\n"
     ]
    }
   ],
   "source": [
    "# Fit the model\n",
    "model_1_history = model_1.fit(x=train_sentences,\n",
    "                             y=train_labels,\n",
    "                             epochs=5,\n",
    "                             validation_data=(val_sentences,val_labels),\n",
    "                             callbacks=[create_tensorboard_callback(\"TensorBoard\",\"model_1_dense\")])"
   ]
  },
  {
   "cell_type": "code",
   "execution_count": 46,
   "id": "3adbba29",
   "metadata": {
    "execution": {
     "iopub.execute_input": "2025-10-30T11:26:07.859970Z",
     "iopub.status.busy": "2025-10-30T11:26:07.859746Z",
     "iopub.status.idle": "2025-10-30T11:26:08.290765Z",
     "shell.execute_reply": "2025-10-30T11:26:08.290045Z"
    },
    "papermill": {
     "duration": 0.449266,
     "end_time": "2025-10-30T11:26:08.291765",
     "exception": false,
     "start_time": "2025-10-30T11:26:07.842499",
     "status": "completed"
    },
    "tags": []
   },
   "outputs": [
    {
     "data": {
      "image/png": "[encoded data removed]",
      "text/plain": [
       "<Figure size 640x480 with 1 Axes>"
      ]
     },
     "metadata": {},
     "output_type": "display_data"
    },
    {
     "data": {
      "image/png": "[encoded data removed]",
      "text/plain": [
       "<Figure size 640x480 with 1 Axes>"
      ]
     },
     "metadata": {},
     "output_type": "display_data"
    }
   ],
   "source": [
    "plot_loss_curves(model_1_history)"
   ]
  },
  {
   "cell_type": "code",
   "execution_count": 47,
   "id": "b92c5c41",
   "metadata": {
    "execution": {
     "iopub.execute_input": "2025-10-30T11:26:08.328154Z",
     "iopub.status.busy": "2025-10-30T11:26:08.327926Z",
     "iopub.status.idle": "2025-10-30T11:26:08.484755Z",
     "shell.execute_reply": "2025-10-30T11:26:08.484144Z"
    },
    "papermill": {
     "duration": 0.176179,
     "end_time": "2025-10-30T11:26:08.486028",
     "exception": false,
     "start_time": "2025-10-30T11:26:08.309849",
     "status": "completed"
    },
    "tags": []
   },
   "outputs": [
    {
     "name": "stdout",
     "output_type": "stream",
     "text": [
      "\u001b[1m24/24\u001b[0m \u001b[32m━━━━━━━━━━━━━━━━━━━━\u001b[0m\u001b[37m\u001b[0m \u001b[1m0s\u001b[0m 4ms/step - accuracy: 0.7774 - loss: 0.5079\n"
     ]
    },
    {
     "data": {
      "text/plain": [
       "[0.4779185950756073, 0.7847769260406494]"
      ]
     },
     "execution_count": 47,
     "metadata": {},
     "output_type": "execute_result"
    }
   ],
   "source": [
    "model_1.evaluate(val_sentences,val_labels)"
   ]
  },
  {
   "cell_type": "code",
   "execution_count": 48,
   "id": "ac9dbc18",
   "metadata": {
    "execution": {
     "iopub.execute_input": "2025-10-30T11:26:08.522991Z",
     "iopub.status.busy": "2025-10-30T11:26:08.522250Z",
     "iopub.status.idle": "2025-10-30T11:26:08.945197Z",
     "shell.execute_reply": "2025-10-30T11:26:08.944650Z"
    },
    "papermill": {
     "duration": 0.442127,
     "end_time": "2025-10-30T11:26:08.946253",
     "exception": false,
     "start_time": "2025-10-30T11:26:08.504126",
     "status": "completed"
    },
    "tags": []
   },
   "outputs": [
    {
     "name": "stdout",
     "output_type": "stream",
     "text": [
      "\u001b[1m24/24\u001b[0m \u001b[32m━━━━━━━━━━━━━━━━━━━━\u001b[0m\u001b[37m\u001b[0m \u001b[1m0s\u001b[0m 8ms/step\n"
     ]
    }
   ],
   "source": [
    "model_1_pred_probs = model_1.predict(val_sentences)"
   ]
  },
  {
   "cell_type": "code",
   "execution_count": 49,
   "id": "a0161dd7",
   "metadata": {
    "execution": {
     "iopub.execute_input": "2025-10-30T11:26:08.982913Z",
     "iopub.status.busy": "2025-10-30T11:26:08.982689Z",
     "iopub.status.idle": "2025-10-30T11:26:08.987635Z",
     "shell.execute_reply": "2025-10-30T11:26:08.987093Z"
    },
    "papermill": {
     "duration": 0.024205,
     "end_time": "2025-10-30T11:26:08.988695",
     "exception": false,
     "start_time": "2025-10-30T11:26:08.964490",
     "status": "completed"
    },
    "tags": []
   },
   "outputs": [
    {
     "data": {
      "text/plain": [
       "((762, 1),\n",
       " array(['DFR EP016 Monthly Meltdown - On Dnbheaven 2015.08.06 http://t.co/EjKRf8N8A8 #Drum and Bass #heavy #nasty http://t.co/SPHWE6wFI5',\n",
       "        'FedEx no longer to transport bioterror germs in wake of anthrax lab mishaps http://t.co/qZQc8WWwcN via @usatoday',\n",
       "        'Gunmen kill four in El Salvador bus attack: Suspected Salvadoran gang members killed four people and wounded s... http://t.co/CNtwB6ScZj',\n",
       "        '@camilacabello97 Internally and externally screaming',\n",
       "        'Radiation emergency #preparedness starts with knowing to: get inside stay inside and stay tuned http://t.co/RFFPqBAz2F via @CDCgov'],\n",
       "       dtype=object),\n",
       " array([[0.45073494],\n",
       "        [0.6883971 ],\n",
       "        [0.99776876],\n",
       "        [0.09496243],\n",
       "        [0.14060529]], dtype=float32))"
      ]
     },
     "execution_count": 49,
     "metadata": {},
     "output_type": "execute_result"
    }
   ],
   "source": [
    "model_1_pred_probs.shape,val_sentences[:5],model_1_pred_probs[:5]\n"
   ]
  },
  {
   "cell_type": "code",
   "execution_count": 50,
   "id": "91d461a9",
   "metadata": {
    "execution": {
     "iopub.execute_input": "2025-10-30T11:26:09.025204Z",
     "iopub.status.busy": "2025-10-30T11:26:09.024674Z",
     "iopub.status.idle": "2025-10-30T11:26:09.097900Z",
     "shell.execute_reply": "2025-10-30T11:26:09.097124Z"
    },
    "papermill": {
     "duration": 0.092549,
     "end_time": "2025-10-30T11:26:09.099063",
     "exception": false,
     "start_time": "2025-10-30T11:26:09.006514",
     "status": "completed"
    },
    "tags": []
   },
   "outputs": [
    {
     "data": {
      "text/plain": [
       "<tf.Tensor: shape=(20,), dtype=float32, numpy=\n",
       "array([0., 1., 1., 0., 0., 1., 1., 1., 1., 0., 0., 1., 0., 0., 0., 0., 0.,\n",
       "       0., 0., 1.], dtype=float32)>"
      ]
     },
     "execution_count": 50,
     "metadata": {},
     "output_type": "execute_result"
    }
   ],
   "source": [
    "# convert model prediction probablity to a label format\n",
    "model_1_preds = tf.squeeze(tf.round(model_1_pred_probs))\n",
    "model_1_preds[:20]"
   ]
  },
  {
   "cell_type": "code",
   "execution_count": 51,
   "id": "25fa2889",
   "metadata": {
    "execution": {
     "iopub.execute_input": "2025-10-30T11:26:09.136566Z",
     "iopub.status.busy": "2025-10-30T11:26:09.135794Z",
     "iopub.status.idle": "2025-10-30T11:26:09.141996Z",
     "shell.execute_reply": "2025-10-30T11:26:09.141414Z"
    },
    "papermill": {
     "duration": 0.025623,
     "end_time": "2025-10-30T11:26:09.143055",
     "exception": false,
     "start_time": "2025-10-30T11:26:09.117432",
     "status": "completed"
    },
    "tags": []
   },
   "outputs": [],
   "source": [
    "model_1_results = calculate_results(y_true=val_labels,y_preds=model_1_preds)"
   ]
  },
  {
   "cell_type": "code",
   "execution_count": 52,
   "id": "967bee61",
   "metadata": {
    "execution": {
     "iopub.execute_input": "2025-10-30T11:26:09.179359Z",
     "iopub.status.busy": "2025-10-30T11:26:09.178982Z",
     "iopub.status.idle": "2025-10-30T11:26:09.183101Z",
     "shell.execute_reply": "2025-10-30T11:26:09.182561Z"
    },
    "papermill": {
     "duration": 0.02354,
     "end_time": "2025-10-30T11:26:09.184112",
     "exception": false,
     "start_time": "2025-10-30T11:26:09.160572",
     "status": "completed"
    },
    "tags": []
   },
   "outputs": [
    {
     "data": {
      "text/plain": [
       "{'accuracy': 78.4776902887139,\n",
       " 'precision': 0.7876819741575917,\n",
       " 'recall': 0.7847769028871391,\n",
       " 'f1': 0.7824466358701209}"
      ]
     },
     "execution_count": 52,
     "metadata": {},
     "output_type": "execute_result"
    }
   ],
   "source": [
    "model_1_results"
   ]
  },
  {
   "cell_type": "code",
   "execution_count": 53,
   "id": "627c36fd",
   "metadata": {
    "execution": {
     "iopub.execute_input": "2025-10-30T11:26:09.220768Z",
     "iopub.status.busy": "2025-10-30T11:26:09.220540Z",
     "iopub.status.idle": "2025-10-30T11:26:09.225248Z",
     "shell.execute_reply": "2025-10-30T11:26:09.224448Z"
    },
    "papermill": {
     "duration": 0.024589,
     "end_time": "2025-10-30T11:26:09.226331",
     "exception": false,
     "start_time": "2025-10-30T11:26:09.201742",
     "status": "completed"
    },
    "tags": []
   },
   "outputs": [
    {
     "data": {
      "text/plain": [
       "{'accuracy': 79.26509186351706,\n",
       " 'precision': 0.8111390004213173,\n",
       " 'recall': 0.7926509186351706,\n",
       " 'f1': 0.7862189758049549}"
      ]
     },
     "execution_count": 53,
     "metadata": {},
     "output_type": "execute_result"
    }
   ],
   "source": [
    "baseline_results"
   ]
  },
  {
   "cell_type": "code",
   "execution_count": 54,
   "id": "33ee502b",
   "metadata": {
    "execution": {
     "iopub.execute_input": "2025-10-30T11:26:09.264276Z",
     "iopub.status.busy": "2025-10-30T11:26:09.263826Z",
     "iopub.status.idle": "2025-10-30T11:26:09.268509Z",
     "shell.execute_reply": "2025-10-30T11:26:09.267931Z"
    },
    "papermill": {
     "duration": 0.025365,
     "end_time": "2025-10-30T11:26:09.269550",
     "exception": false,
     "start_time": "2025-10-30T11:26:09.244185",
     "status": "completed"
    },
    "tags": []
   },
   "outputs": [
    {
     "data": {
      "text/plain": [
       "array([False, False, False, False])"
      ]
     },
     "execution_count": 54,
     "metadata": {},
     "output_type": "execute_result"
    }
   ],
   "source": [
    "import numpy as np\n",
    "np.array(list(model_1_results.values())) > np.array(list(baseline_results.values()))"
   ]
  },
  {
   "cell_type": "markdown",
   "id": "2af4bb9e",
   "metadata": {
    "papermill": {
     "duration": 0.022057,
     "end_time": "2025-10-30T11:26:09.310649",
     "exception": false,
     "start_time": "2025-10-30T11:26:09.288592",
     "status": "completed"
    },
    "tags": []
   },
   "source": [
    "## Visualizing Learned Embeddings"
   ]
  },
  {
   "cell_type": "code",
   "execution_count": 55,
   "id": "adfa2f08",
   "metadata": {
    "execution": {
     "iopub.execute_input": "2025-10-30T11:26:09.352754Z",
     "iopub.status.busy": "2025-10-30T11:26:09.352539Z",
     "iopub.status.idle": "2025-10-30T11:26:09.379591Z",
     "shell.execute_reply": "2025-10-30T11:26:09.378954Z"
    },
    "papermill": {
     "duration": 0.048537,
     "end_time": "2025-10-30T11:26:09.380921",
     "exception": false,
     "start_time": "2025-10-30T11:26:09.332384",
     "status": "completed"
    },
    "tags": []
   },
   "outputs": [
    {
     "data": {
      "text/plain": [
       "(10000, ['', '[UNK]', 'the', 'a', 'in', 'to', 'of', 'and', 'i', 'is'])"
      ]
     },
     "execution_count": 55,
     "metadata": {},
     "output_type": "execute_result"
    }
   ],
   "source": [
    "# Get the vocabulary from the text vectorization layer\n",
    "words_in_vocab = text_vectorizer.get_vocabulary()\n",
    "len(words_in_vocab), words_in_vocab[:10]"
   ]
  },
  {
   "cell_type": "code",
   "execution_count": 56,
   "id": "8e4898dc",
   "metadata": {
    "execution": {
     "iopub.execute_input": "2025-10-30T11:26:09.418575Z",
     "iopub.status.busy": "2025-10-30T11:26:09.418311Z",
     "iopub.status.idle": "2025-10-30T11:26:09.432596Z",
     "shell.execute_reply": "2025-10-30T11:26:09.432014Z"
    },
    "papermill": {
     "duration": 0.033879,
     "end_time": "2025-10-30T11:26:09.433650",
     "exception": false,
     "start_time": "2025-10-30T11:26:09.399771",
     "status": "completed"
    },
    "tags": []
   },
   "outputs": [
    {
     "data": {
      "text/html": [
       "<pre style=\"white-space:pre;overflow-x:auto;line-height:normal;font-family:Menlo,'DejaVu Sans Mono',consolas,'Courier New',monospace\"><span style=\"font-weight: bold\">Model: \"model_1_dense\"</span>\n",
       "</pre>\n"
      ],
      "text/plain": [
       "\u001b[1mModel: \"model_1_dense\"\u001b[0m\n"
      ]
     },
     "metadata": {},
     "output_type": "display_data"
    },
    {
     "data": {
      "text/html": [
       "<pre style=\"white-space:pre;overflow-x:auto;line-height:normal;font-family:Menlo,'DejaVu Sans Mono',consolas,'Courier New',monospace\">┏━━━━━━━━━━━━━━━━━━━━━━━━━━━━━━━━━┳━━━━━━━━━━━━━━━━━━━━━━━━┳━━━━━━━━━━━━━━━┓\n",
       "┃<span style=\"font-weight: bold\"> Layer (type)                    </span>┃<span style=\"font-weight: bold\"> Output Shape           </span>┃<span style=\"font-weight: bold\">       Param # </span>┃\n",
       "┡━━━━━━━━━━━━━━━━━━━━━━━━━━━━━━━━━╇━━━━━━━━━━━━━━━━━━━━━━━━╇━━━━━━━━━━━━━━━┩\n",
       "│ input_layer (<span style=\"color: #0087ff; text-decoration-color: #0087ff\">InputLayer</span>)        │ (<span style=\"color: #00d7ff; text-decoration-color: #00d7ff\">None</span>)                 │             <span style=\"color: #00af00; text-decoration-color: #00af00\">0</span> │\n",
       "├─────────────────────────────────┼────────────────────────┼───────────────┤\n",
       "│ text_vectorization_1            │ (<span style=\"color: #00d7ff; text-decoration-color: #00d7ff\">None</span>, <span style=\"color: #00af00; text-decoration-color: #00af00\">15</span>)             │             <span style=\"color: #00af00; text-decoration-color: #00af00\">0</span> │\n",
       "│ (<span style=\"color: #0087ff; text-decoration-color: #0087ff\">TextVectorization</span>)             │                        │               │\n",
       "├─────────────────────────────────┼────────────────────────┼───────────────┤\n",
       "│ embedding (<span style=\"color: #0087ff; text-decoration-color: #0087ff\">Embedding</span>)           │ (<span style=\"color: #00d7ff; text-decoration-color: #00d7ff\">None</span>, <span style=\"color: #00af00; text-decoration-color: #00af00\">15</span>, <span style=\"color: #00af00; text-decoration-color: #00af00\">128</span>)        │     <span style=\"color: #00af00; text-decoration-color: #00af00\">1,280,000</span> │\n",
       "├─────────────────────────────────┼────────────────────────┼───────────────┤\n",
       "│ globalAverage_layer             │ (<span style=\"color: #00d7ff; text-decoration-color: #00d7ff\">None</span>, <span style=\"color: #00af00; text-decoration-color: #00af00\">128</span>)            │             <span style=\"color: #00af00; text-decoration-color: #00af00\">0</span> │\n",
       "│ (<span style=\"color: #0087ff; text-decoration-color: #0087ff\">GlobalAveragePooling1D</span>)        │                        │               │\n",
       "├─────────────────────────────────┼────────────────────────┼───────────────┤\n",
       "│ output_layer (<span style=\"color: #0087ff; text-decoration-color: #0087ff\">Dense</span>)            │ (<span style=\"color: #00d7ff; text-decoration-color: #00d7ff\">None</span>, <span style=\"color: #00af00; text-decoration-color: #00af00\">1</span>)              │           <span style=\"color: #00af00; text-decoration-color: #00af00\">129</span> │\n",
       "└─────────────────────────────────┴────────────────────────┴───────────────┘\n",
       "</pre>\n"
      ],
      "text/plain": [
       "┏━━━━━━━━━━━━━━━━━━━━━━━━━━━━━━━━━┳━━━━━━━━━━━━━━━━━━━━━━━━┳━━━━━━━━━━━━━━━┓\n",
       "┃\u001b[1m \u001b[0m\u001b[1mLayer (type)                   \u001b[0m\u001b[1m \u001b[0m┃\u001b[1m \u001b[0m\u001b[1mOutput Shape          \u001b[0m\u001b[1m \u001b[0m┃\u001b[1m \u001b[0m\u001b[1m      Param #\u001b[0m\u001b[1m \u001b[0m┃\n",
       "┡━━━━━━━━━━━━━━━━━━━━━━━━━━━━━━━━━╇━━━━━━━━━━━━━━━━━━━━━━━━╇━━━━━━━━━━━━━━━┩\n",
       "│ input_layer (\u001b[38;5;33mInputLayer\u001b[0m)        │ (\u001b[38;5;45mNone\u001b[0m)                 │             \u001b[38;5;34m0\u001b[0m │\n",
       "├─────────────────────────────────┼────────────────────────┼───────────────┤\n",
       "│ text_vectorization_1            │ (\u001b[38;5;45mNone\u001b[0m, \u001b[38;5;34m15\u001b[0m)             │             \u001b[38;5;34m0\u001b[0m │\n",
       "│ (\u001b[38;5;33mTextVectorization\u001b[0m)             │                        │               │\n",
       "├─────────────────────────────────┼────────────────────────┼───────────────┤\n",
       "│ embedding (\u001b[38;5;33mEmbedding\u001b[0m)           │ (\u001b[38;5;45mNone\u001b[0m, \u001b[38;5;34m15\u001b[0m, \u001b[38;5;34m128\u001b[0m)        │     \u001b[38;5;34m1,280,000\u001b[0m │\n",
       "├─────────────────────────────────┼────────────────────────┼───────────────┤\n",
       "│ globalAverage_layer             │ (\u001b[38;5;45mNone\u001b[0m, \u001b[38;5;34m128\u001b[0m)            │             \u001b[38;5;34m0\u001b[0m │\n",
       "│ (\u001b[38;5;33mGlobalAveragePooling1D\u001b[0m)        │                        │               │\n",
       "├─────────────────────────────────┼────────────────────────┼───────────────┤\n",
       "│ output_layer (\u001b[38;5;33mDense\u001b[0m)            │ (\u001b[38;5;45mNone\u001b[0m, \u001b[38;5;34m1\u001b[0m)              │           \u001b[38;5;34m129\u001b[0m │\n",
       "└─────────────────────────────────┴────────────────────────┴───────────────┘\n"
      ]
     },
     "metadata": {},
     "output_type": "display_data"
    },
    {
     "data": {
      "text/html": [
       "<pre style=\"white-space:pre;overflow-x:auto;line-height:normal;font-family:Menlo,'DejaVu Sans Mono',consolas,'Courier New',monospace\"><span style=\"font-weight: bold\"> Total params: </span><span style=\"color: #00af00; text-decoration-color: #00af00\">3,840,389</span> (14.65 MB)\n",
       "</pre>\n"
      ],
      "text/plain": [
       "\u001b[1m Total params: \u001b[0m\u001b[38;5;34m3,840,389\u001b[0m (14.65 MB)\n"
      ]
     },
     "metadata": {},
     "output_type": "display_data"
    },
    {
     "data": {
      "text/html": [
       "<pre style=\"white-space:pre;overflow-x:auto;line-height:normal;font-family:Menlo,'DejaVu Sans Mono',consolas,'Courier New',monospace\"><span style=\"font-weight: bold\"> Trainable params: </span><span style=\"color: #00af00; text-decoration-color: #00af00\">1,280,129</span> (4.88 MB)\n",
       "</pre>\n"
      ],
      "text/plain": [
       "\u001b[1m Trainable params: \u001b[0m\u001b[38;5;34m1,280,129\u001b[0m (4.88 MB)\n"
      ]
     },
     "metadata": {},
     "output_type": "display_data"
    },
    {
     "data": {
      "text/html": [
       "<pre style=\"white-space:pre;overflow-x:auto;line-height:normal;font-family:Menlo,'DejaVu Sans Mono',consolas,'Courier New',monospace\"><span style=\"font-weight: bold\"> Non-trainable params: </span><span style=\"color: #00af00; text-decoration-color: #00af00\">0</span> (0.00 B)\n",
       "</pre>\n"
      ],
      "text/plain": [
       "\u001b[1m Non-trainable params: \u001b[0m\u001b[38;5;34m0\u001b[0m (0.00 B)\n"
      ]
     },
     "metadata": {},
     "output_type": "display_data"
    },
    {
     "data": {
      "text/html": [
       "<pre style=\"white-space:pre;overflow-x:auto;line-height:normal;font-family:Menlo,'DejaVu Sans Mono',consolas,'Courier New',monospace\"><span style=\"font-weight: bold\"> Optimizer params: </span><span style=\"color: #00af00; text-decoration-color: #00af00\">2,560,260</span> (9.77 MB)\n",
       "</pre>\n"
      ],
      "text/plain": [
       "\u001b[1m Optimizer params: \u001b[0m\u001b[38;5;34m2,560,260\u001b[0m (9.77 MB)\n"
      ]
     },
     "metadata": {},
     "output_type": "display_data"
    }
   ],
   "source": [
    "# Model 1 summary\n",
    "model_1.summary()"
   ]
  },
  {
   "cell_type": "code",
   "execution_count": 57,
   "id": "90b02528",
   "metadata": {
    "execution": {
     "iopub.execute_input": "2025-10-30T11:26:09.471515Z",
     "iopub.status.busy": "2025-10-30T11:26:09.471297Z",
     "iopub.status.idle": "2025-10-30T11:26:09.484902Z",
     "shell.execute_reply": "2025-10-30T11:26:09.484071Z"
    },
    "papermill": {
     "duration": 0.033686,
     "end_time": "2025-10-30T11:26:09.486028",
     "exception": false,
     "start_time": "2025-10-30T11:26:09.452342",
     "status": "completed"
    },
    "tags": []
   },
   "outputs": [
    {
     "name": "stdout",
     "output_type": "stream",
     "text": [
      "total parameter of embedding weights: 10000\n",
      "[[ 0.05405168 -0.03336906  0.06271723 ... -0.0190754   0.0324318\n",
      "  -0.02816699]\n",
      " [-0.00822814 -0.03566923  0.00198891 ...  0.04120514  0.0221092\n",
      "   0.00134066]\n",
      " [-0.01843493  0.00254885 -0.03034269 ...  0.03091576 -0.00537102\n",
      "  -0.02275524]\n",
      " ...\n",
      " [-0.06526668  0.06677327  0.00635219 ... -0.03119464  0.01147601\n",
      "   0.06691791]\n",
      " [ 0.02666368  0.00936071  0.03471849 ... -0.00330423 -0.0027945\n",
      "  -0.03601008]\n",
      " [-0.01431382 -0.00580048  0.04767982 ... -0.03263583 -0.03310223\n",
      "  -0.04407332]]\n",
      "shape of embedding: (10000, 128) \n"
     ]
    }
   ],
   "source": [
    "# get the weight metrics of embedding layer\n",
    "# (these are the numberical representations of each token in our training data, which have been learned for 5 epochs)\n",
    "print(f\"total parameter of embedding weights: {len(embedding.get_weights()[0])}\")\n",
    "embed_weights = model_1.get_layer(\"embedding\").get_weights()[0]\n",
    "print(embed_weights[:20])\n",
    "print(f\"shape of embedding: {embed_weights.shape} \")"
   ]
  },
  {
   "cell_type": "markdown",
   "id": "295c2be4",
   "metadata": {
    "papermill": {
     "duration": 0.018388,
     "end_time": "2025-10-30T11:26:09.523063",
     "exception": false,
     "start_time": "2025-10-30T11:26:09.504675",
     "status": "completed"
    },
    "tags": []
   },
   "source": [
    "Now we've got the embedding matrix our mdoel has learned to represent our tokens, let's see how we can visualize it.\n",
    "to do so, TensorFlow as a handy tool called projector.\n",
    "and tensorflow alos has an incredible guide on word embeddings themselves."
   ]
  },
  {
   "cell_type": "code",
   "execution_count": 58,
   "id": "d198fadf",
   "metadata": {
    "execution": {
     "iopub.execute_input": "2025-10-30T11:26:09.561094Z",
     "iopub.status.busy": "2025-10-30T11:26:09.560894Z",
     "iopub.status.idle": "2025-10-30T11:26:09.565288Z",
     "shell.execute_reply": "2025-10-30T11:26:09.564577Z"
    },
    "papermill": {
     "duration": 0.024447,
     "end_time": "2025-10-30T11:26:09.566331",
     "exception": false,
     "start_time": "2025-10-30T11:26:09.541884",
     "status": "completed"
    },
    "tags": []
   },
   "outputs": [
    {
     "data": {
      "text/plain": [
       "['', '[UNK]', 'the', 'a', 'in', 'to', 'of', 'and', 'i', 'is']"
      ]
     },
     "execution_count": 58,
     "metadata": {},
     "output_type": "execute_result"
    }
   ],
   "source": [
    "words_in_vocab[:10]"
   ]
  },
  {
   "cell_type": "code",
   "execution_count": 59,
   "id": "118a7a99",
   "metadata": {
    "execution": {
     "iopub.execute_input": "2025-10-30T11:26:09.603951Z",
     "iopub.status.busy": "2025-10-30T11:26:09.603743Z",
     "iopub.status.idle": "2025-10-30T11:26:10.286903Z",
     "shell.execute_reply": "2025-10-30T11:26:10.286097Z"
    },
    "papermill": {
     "duration": 0.703567,
     "end_time": "2025-10-30T11:26:10.288308",
     "exception": false,
     "start_time": "2025-10-30T11:26:09.584741",
     "status": "completed"
    },
    "tags": []
   },
   "outputs": [],
   "source": [
    "# Create embedding files from tensorflow word embedding docs\n",
    "import io\n",
    "out_v = io.open('vectors.tsv', 'w', encoding='utf-8')\n",
    "out_m = io.open('metadata.tsv', 'w', encoding='utf-8')\n",
    "\n",
    "for index, word in enumerate(words_in_vocab):\n",
    "  if index == 0:\n",
    "    continue  # skip 0, it's padding.\n",
    "  vec = embed_weights[index]\n",
    "  out_v.write('\\t'.join([str(x) for x in vec]) + \"\\n\")\n",
    "  out_m.write(word + \"\\n\")\n",
    "out_v.close()\n",
    "out_m.close()"
   ]
  },
  {
   "cell_type": "code",
   "execution_count": 60,
   "id": "c43d75f5",
   "metadata": {
    "execution": {
     "iopub.execute_input": "2025-10-30T11:26:10.327392Z",
     "iopub.status.busy": "2025-10-30T11:26:10.326956Z",
     "iopub.status.idle": "2025-10-30T11:26:10.330755Z",
     "shell.execute_reply": "2025-10-30T11:26:10.330043Z"
    },
    "papermill": {
     "duration": 0.023941,
     "end_time": "2025-10-30T11:26:10.331803",
     "exception": false,
     "start_time": "2025-10-30T11:26:10.307862",
     "status": "completed"
    },
    "tags": []
   },
   "outputs": [
    {
     "name": "stdout",
     "output_type": "stream",
     "text": [
      "2.18.0\n"
     ]
    }
   ],
   "source": [
    "import tensorboard\n",
    "print(tensorboard.__version__)"
   ]
  },
  {
   "cell_type": "code",
   "execution_count": 61,
   "id": "cd6e3e00",
   "metadata": {
    "execution": {
     "iopub.execute_input": "2025-10-30T11:26:10.370183Z",
     "iopub.status.busy": "2025-10-30T11:26:10.369637Z",
     "iopub.status.idle": "2025-10-30T11:26:16.941191Z",
     "shell.execute_reply": "2025-10-30T11:26:16.940473Z"
    },
    "papermill": {
     "duration": 6.591835,
     "end_time": "2025-10-30T11:26:16.942368",
     "exception": false,
     "start_time": "2025-10-30T11:26:10.350533",
     "status": "completed"
    },
    "tags": []
   },
   "outputs": [
    {
     "data": {
      "application/javascript": [
       "\n",
       "        (async () => {\n",
       "            const url = new URL(await google.colab.kernel.proxyPort(6006, {'cache': true}));\n",
       "            url.searchParams.set('tensorboardColab', 'true');\n",
       "            const iframe = document.createElement('iframe');\n",
       "            iframe.src = url;\n",
       "            iframe.setAttribute('width', '100%');\n",
       "            iframe.setAttribute('height', '800');\n",
       "            iframe.setAttribute('frameborder', 0);\n",
       "            document.body.appendChild(iframe);\n",
       "        })();\n",
       "    "
      ],
      "text/plain": [
       "<IPython.core.display.Javascript object>"
      ]
     },
     "metadata": {},
     "output_type": "display_data"
    }
   ],
   "source": [
    "#docs_infra: no_execute\n",
    "%load_ext tensorboard\n",
    "%tensorboard --logdir /kaggle/working/TensorBoard/model_1_dense"
   ]
  },
  {
   "cell_type": "markdown",
   "id": "2bc1a89b",
   "metadata": {
    "papermill": {
     "duration": 0.018371,
     "end_time": "2025-10-30T11:26:16.980075",
     "exception": false,
     "start_time": "2025-10-30T11:26:16.961704",
     "status": "completed"
    },
    "tags": []
   },
   "source": [
    "## Recurrent Neural Networks (RNN's)\n",
    "RNN's are useful sequence data.\n",
    "\n",
    "The promise of a recurrent neural network is to use the ***`representation`*** of a previous input to aid the representation of a later input."
   ]
  },
  {
   "cell_type": "markdown",
   "id": "45c66cb8",
   "metadata": {
    "papermill": {
     "duration": 0.01819,
     "end_time": "2025-10-30T11:26:17.016704",
     "exception": false,
     "start_time": "2025-10-30T11:26:16.998514",
     "status": "completed"
    },
    "tags": []
   },
   "source": [
    "### model 2: LSTM\n",
    "LSTM = long short-term memory (one of the most popular LSTM cells)\n",
    "OUr structure of an RNN typically looks like this:\n",
    "```\n",
    "Input(text) -> Tokenize -> Embedding -> Layers(RNNs/Dense) -> Output(label probability)\n",
    "```"
   ]
  },
  {
   "cell_type": "code",
   "execution_count": 62,
   "id": "8692bb7f",
   "metadata": {
    "execution": {
     "iopub.execute_input": "2025-10-30T11:26:17.054464Z",
     "iopub.status.busy": "2025-10-30T11:26:17.054201Z",
     "iopub.status.idle": "2025-10-30T11:26:17.176388Z",
     "shell.execute_reply": "2025-10-30T11:26:17.175588Z"
    },
    "papermill": {
     "duration": 0.142792,
     "end_time": "2025-10-30T11:26:17.177887",
     "exception": false,
     "start_time": "2025-10-30T11:26:17.035095",
     "status": "completed"
    },
    "tags": []
   },
   "outputs": [],
   "source": [
    "# Create an LSTM model\n",
    "from tensorflow.keras import layers\n",
    "inputs = layers.Input(shape=(1,),dtype=\"string\")\n",
    "x = text_vectorizer(inputs)\n",
    "# print(x.shape)\n",
    "x = embedding(x)\n",
    "# print(x.shape)\n",
    "# x = layers.LSTM(units=64,return_sequences=True)(x)\n",
    "# print(x.shape)\n",
    "x = layers.LSTM(64)(x)\n",
    "# print(x.shape)\n",
    "# x = layers.Dense(64,activation=\"relu\")(x)\n",
    "outputs = layers.Dense(1,activation=\"sigmoid\")(x)\n",
    "model_2 = tf.keras.Model(inputs,outputs,name=\"model_2_LSTM\")"
   ]
  },
  {
   "cell_type": "code",
   "execution_count": 63,
   "id": "3472f3ab",
   "metadata": {
    "execution": {
     "iopub.execute_input": "2025-10-30T11:26:17.217241Z",
     "iopub.status.busy": "2025-10-30T11:26:17.216573Z",
     "iopub.status.idle": "2025-10-30T11:26:17.229162Z",
     "shell.execute_reply": "2025-10-30T11:26:17.228451Z"
    },
    "papermill": {
     "duration": 0.032887,
     "end_time": "2025-10-30T11:26:17.230279",
     "exception": false,
     "start_time": "2025-10-30T11:26:17.197392",
     "status": "completed"
    },
    "tags": []
   },
   "outputs": [
    {
     "data": {
      "text/html": [
       "<pre style=\"white-space:pre;overflow-x:auto;line-height:normal;font-family:Menlo,'DejaVu Sans Mono',consolas,'Courier New',monospace\"><span style=\"font-weight: bold\">Model: \"model_2_LSTM\"</span>\n",
       "</pre>\n"
      ],
      "text/plain": [
       "\u001b[1mModel: \"model_2_LSTM\"\u001b[0m\n"
      ]
     },
     "metadata": {},
     "output_type": "display_data"
    },
    {
     "data": {
      "text/html": [
       "<pre style=\"white-space:pre;overflow-x:auto;line-height:normal;font-family:Menlo,'DejaVu Sans Mono',consolas,'Courier New',monospace\">┏━━━━━━━━━━━━━━━━━━━━━━━━━━━━━━━━━┳━━━━━━━━━━━━━━━━━━━━━━━━┳━━━━━━━━━━━━━━━┓\n",
       "┃<span style=\"font-weight: bold\"> Layer (type)                    </span>┃<span style=\"font-weight: bold\"> Output Shape           </span>┃<span style=\"font-weight: bold\">       Param # </span>┃\n",
       "┡━━━━━━━━━━━━━━━━━━━━━━━━━━━━━━━━━╇━━━━━━━━━━━━━━━━━━━━━━━━╇━━━━━━━━━━━━━━━┩\n",
       "│ input_layer (<span style=\"color: #0087ff; text-decoration-color: #0087ff\">InputLayer</span>)        │ (<span style=\"color: #00d7ff; text-decoration-color: #00d7ff\">None</span>, <span style=\"color: #00af00; text-decoration-color: #00af00\">1</span>)              │             <span style=\"color: #00af00; text-decoration-color: #00af00\">0</span> │\n",
       "├─────────────────────────────────┼────────────────────────┼───────────────┤\n",
       "│ text_vectorization_1            │ (<span style=\"color: #00d7ff; text-decoration-color: #00d7ff\">None</span>, <span style=\"color: #00af00; text-decoration-color: #00af00\">15</span>)             │             <span style=\"color: #00af00; text-decoration-color: #00af00\">0</span> │\n",
       "│ (<span style=\"color: #0087ff; text-decoration-color: #0087ff\">TextVectorization</span>)             │                        │               │\n",
       "├─────────────────────────────────┼────────────────────────┼───────────────┤\n",
       "│ embedding (<span style=\"color: #0087ff; text-decoration-color: #0087ff\">Embedding</span>)           │ (<span style=\"color: #00d7ff; text-decoration-color: #00d7ff\">None</span>, <span style=\"color: #00af00; text-decoration-color: #00af00\">15</span>, <span style=\"color: #00af00; text-decoration-color: #00af00\">128</span>)        │     <span style=\"color: #00af00; text-decoration-color: #00af00\">1,280,000</span> │\n",
       "├─────────────────────────────────┼────────────────────────┼───────────────┤\n",
       "│ lstm (<span style=\"color: #0087ff; text-decoration-color: #0087ff\">LSTM</span>)                     │ (<span style=\"color: #00d7ff; text-decoration-color: #00d7ff\">None</span>, <span style=\"color: #00af00; text-decoration-color: #00af00\">64</span>)             │        <span style=\"color: #00af00; text-decoration-color: #00af00\">49,408</span> │\n",
       "├─────────────────────────────────┼────────────────────────┼───────────────┤\n",
       "│ dense (<span style=\"color: #0087ff; text-decoration-color: #0087ff\">Dense</span>)                   │ (<span style=\"color: #00d7ff; text-decoration-color: #00d7ff\">None</span>, <span style=\"color: #00af00; text-decoration-color: #00af00\">1</span>)              │            <span style=\"color: #00af00; text-decoration-color: #00af00\">65</span> │\n",
       "└─────────────────────────────────┴────────────────────────┴───────────────┘\n",
       "</pre>\n"
      ],
      "text/plain": [
       "┏━━━━━━━━━━━━━━━━━━━━━━━━━━━━━━━━━┳━━━━━━━━━━━━━━━━━━━━━━━━┳━━━━━━━━━━━━━━━┓\n",
       "┃\u001b[1m \u001b[0m\u001b[1mLayer (type)                   \u001b[0m\u001b[1m \u001b[0m┃\u001b[1m \u001b[0m\u001b[1mOutput Shape          \u001b[0m\u001b[1m \u001b[0m┃\u001b[1m \u001b[0m\u001b[1m      Param #\u001b[0m\u001b[1m \u001b[0m┃\n",
       "┡━━━━━━━━━━━━━━━━━━━━━━━━━━━━━━━━━╇━━━━━━━━━━━━━━━━━━━━━━━━╇━━━━━━━━━━━━━━━┩\n",
       "│ input_layer (\u001b[38;5;33mInputLayer\u001b[0m)        │ (\u001b[38;5;45mNone\u001b[0m, \u001b[38;5;34m1\u001b[0m)              │             \u001b[38;5;34m0\u001b[0m │\n",
       "├─────────────────────────────────┼────────────────────────┼───────────────┤\n",
       "│ text_vectorization_1            │ (\u001b[38;5;45mNone\u001b[0m, \u001b[38;5;34m15\u001b[0m)             │             \u001b[38;5;34m0\u001b[0m │\n",
       "│ (\u001b[38;5;33mTextVectorization\u001b[0m)             │                        │               │\n",
       "├─────────────────────────────────┼────────────────────────┼───────────────┤\n",
       "│ embedding (\u001b[38;5;33mEmbedding\u001b[0m)           │ (\u001b[38;5;45mNone\u001b[0m, \u001b[38;5;34m15\u001b[0m, \u001b[38;5;34m128\u001b[0m)        │     \u001b[38;5;34m1,280,000\u001b[0m │\n",
       "├─────────────────────────────────┼────────────────────────┼───────────────┤\n",
       "│ lstm (\u001b[38;5;33mLSTM\u001b[0m)                     │ (\u001b[38;5;45mNone\u001b[0m, \u001b[38;5;34m64\u001b[0m)             │        \u001b[38;5;34m49,408\u001b[0m │\n",
       "├─────────────────────────────────┼────────────────────────┼───────────────┤\n",
       "│ dense (\u001b[38;5;33mDense\u001b[0m)                   │ (\u001b[38;5;45mNone\u001b[0m, \u001b[38;5;34m1\u001b[0m)              │            \u001b[38;5;34m65\u001b[0m │\n",
       "└─────────────────────────────────┴────────────────────────┴───────────────┘\n"
      ]
     },
     "metadata": {},
     "output_type": "display_data"
    },
    {
     "data": {
      "text/html": [
       "<pre style=\"white-space:pre;overflow-x:auto;line-height:normal;font-family:Menlo,'DejaVu Sans Mono',consolas,'Courier New',monospace\"><span style=\"font-weight: bold\"> Total params: </span><span style=\"color: #00af00; text-decoration-color: #00af00\">1,329,473</span> (5.07 MB)\n",
       "</pre>\n"
      ],
      "text/plain": [
       "\u001b[1m Total params: \u001b[0m\u001b[38;5;34m1,329,473\u001b[0m (5.07 MB)\n"
      ]
     },
     "metadata": {},
     "output_type": "display_data"
    },
    {
     "data": {
      "text/html": [
       "<pre style=\"white-space:pre;overflow-x:auto;line-height:normal;font-family:Menlo,'DejaVu Sans Mono',consolas,'Courier New',monospace\"><span style=\"font-weight: bold\"> Trainable params: </span><span style=\"color: #00af00; text-decoration-color: #00af00\">1,329,473</span> (5.07 MB)\n",
       "</pre>\n"
      ],
      "text/plain": [
       "\u001b[1m Trainable params: \u001b[0m\u001b[38;5;34m1,329,473\u001b[0m (5.07 MB)\n"
      ]
     },
     "metadata": {},
     "output_type": "display_data"
    },
    {
     "data": {
      "text/html": [
       "<pre style=\"white-space:pre;overflow-x:auto;line-height:normal;font-family:Menlo,'DejaVu Sans Mono',consolas,'Courier New',monospace\"><span style=\"font-weight: bold\"> Non-trainable params: </span><span style=\"color: #00af00; text-decoration-color: #00af00\">0</span> (0.00 B)\n",
       "</pre>\n"
      ],
      "text/plain": [
       "\u001b[1m Non-trainable params: \u001b[0m\u001b[38;5;34m0\u001b[0m (0.00 B)\n"
      ]
     },
     "metadata": {},
     "output_type": "display_data"
    }
   ],
   "source": [
    "model_2.summary()"
   ]
  },
  {
   "cell_type": "code",
   "execution_count": 64,
   "id": "7d86ccd2",
   "metadata": {
    "execution": {
     "iopub.execute_input": "2025-10-30T11:26:17.269335Z",
     "iopub.status.busy": "2025-10-30T11:26:17.269119Z",
     "iopub.status.idle": "2025-10-30T11:26:17.277233Z",
     "shell.execute_reply": "2025-10-30T11:26:17.276547Z"
    },
    "papermill": {
     "duration": 0.029228,
     "end_time": "2025-10-30T11:26:17.278624",
     "exception": false,
     "start_time": "2025-10-30T11:26:17.249396",
     "status": "completed"
    },
    "tags": []
   },
   "outputs": [],
   "source": [
    "model_2.compile(loss=\"binary_crossentropy\",\n",
    "               optimizer=tf.keras.optimizers.Adam(),\n",
    "               metrics=[\"accuracy\"])"
   ]
  },
  {
   "cell_type": "code",
   "execution_count": 65,
   "id": "e70213da",
   "metadata": {
    "execution": {
     "iopub.execute_input": "2025-10-30T11:26:17.335077Z",
     "iopub.status.busy": "2025-10-30T11:26:17.334480Z",
     "iopub.status.idle": "2025-10-30T11:26:27.126962Z",
     "shell.execute_reply": "2025-10-30T11:26:27.126197Z"
    },
    "papermill": {
     "duration": 9.818255,
     "end_time": "2025-10-30T11:26:27.128131",
     "exception": false,
     "start_time": "2025-10-30T11:26:17.309876",
     "status": "completed"
    },
    "tags": []
   },
   "outputs": [
    {
     "name": "stdout",
     "output_type": "stream",
     "text": [
      "Saving TensorBoard log files to: model_logs/model_2_LSTM/20251030-112617\n",
      "Epoch 1/5\n",
      "\u001b[1m 10/215\u001b[0m \u001b[37m━━━━━━━━━━━━━━━━━━━━\u001b[0m \u001b[1m1s\u001b[0m 6ms/step - accuracy: 0.7145 - loss: 0.6484 "
     ]
    },
    {
     "name": "stderr",
     "output_type": "stream",
     "text": [
      "I0000 00:00:1761823579.602989      62 cuda_dnn.cc:529] Loaded cuDNN version 90300\n"
     ]
    },
    {
     "name": "stdout",
     "output_type": "stream",
     "text": [
      "\u001b[1m215/215\u001b[0m \u001b[32m━━━━━━━━━━━━━━━━━━━━\u001b[0m\u001b[37m\u001b[0m \u001b[1m4s\u001b[0m 9ms/step - accuracy: 0.8949 - loss: 0.2952 - val_accuracy: 0.7795 - val_loss: 0.5439\n",
      "Epoch 2/5\n",
      "\u001b[1m215/215\u001b[0m \u001b[32m━━━━━━━━━━━━━━━━━━━━\u001b[0m\u001b[37m\u001b[0m \u001b[1m1s\u001b[0m 6ms/step - accuracy: 0.9476 - loss: 0.1447 - val_accuracy: 0.7835 - val_loss: 0.5314\n",
      "Epoch 3/5\n",
      "\u001b[1m215/215\u001b[0m \u001b[32m━━━━━━━━━━━━━━━━━━━━\u001b[0m\u001b[37m\u001b[0m \u001b[1m1s\u001b[0m 6ms/step - accuracy: 0.9541 - loss: 0.1241 - val_accuracy: 0.7848 - val_loss: 0.6996\n",
      "Epoch 4/5\n",
      "\u001b[1m215/215\u001b[0m \u001b[32m━━━━━━━━━━━━━━━━━━━━\u001b[0m\u001b[37m\u001b[0m \u001b[1m1s\u001b[0m 6ms/step - accuracy: 0.9610 - loss: 0.1047 - val_accuracy: 0.7835 - val_loss: 0.8211\n",
      "Epoch 5/5\n",
      "\u001b[1m215/215\u001b[0m \u001b[32m━━━━━━━━━━━━━━━━━━━━\u001b[0m\u001b[37m\u001b[0m \u001b[1m1s\u001b[0m 6ms/step - accuracy: 0.9698 - loss: 0.0804 - val_accuracy: 0.7874 - val_loss: 0.7406\n"
     ]
    }
   ],
   "source": [
    "model_2_history = model_2.fit(train_sentences,\n",
    "                             train_labels,\n",
    "                             epochs=5,\n",
    "                             validation_data=(val_sentences,val_labels),\n",
    "                             callbacks=[create_tensorboard_callback(SAVE_DIR,\"model_2_LSTM\")])"
   ]
  },
  {
   "cell_type": "code",
   "execution_count": 66,
   "id": "dc6258dd",
   "metadata": {
    "execution": {
     "iopub.execute_input": "2025-10-30T11:26:27.178823Z",
     "iopub.status.busy": "2025-10-30T11:26:27.178588Z",
     "iopub.status.idle": "2025-10-30T11:26:28.096004Z",
     "shell.execute_reply": "2025-10-30T11:26:28.095432Z"
    },
    "papermill": {
     "duration": 0.943233,
     "end_time": "2025-10-30T11:26:28.097052",
     "exception": false,
     "start_time": "2025-10-30T11:26:27.153819",
     "status": "completed"
    },
    "tags": []
   },
   "outputs": [
    {
     "name": "stdout",
     "output_type": "stream",
     "text": [
      "\u001b[1m24/24\u001b[0m \u001b[32m━━━━━━━━━━━━━━━━━━━━\u001b[0m\u001b[37m\u001b[0m \u001b[1m1s\u001b[0m 13ms/step\n"
     ]
    },
    {
     "data": {
      "text/plain": [
       "array([[8.2877958e-03],\n",
       "       [8.6080903e-01],\n",
       "       [9.9958163e-01],\n",
       "       [1.5763423e-01],\n",
       "       [9.7832386e-04],\n",
       "       [9.8602837e-01],\n",
       "       [5.4714477e-01],\n",
       "       [9.9973196e-01],\n",
       "       [9.9961495e-01],\n",
       "       [7.6517260e-01]], dtype=float32)"
      ]
     },
     "execution_count": 66,
     "metadata": {},
     "output_type": "execute_result"
    }
   ],
   "source": [
    "# make prediction with LSTM model\n",
    "model_2_pred_probs = model_2.predict(val_sentences)\n",
    "model_2_pred_probs[:10]\n"
   ]
  },
  {
   "cell_type": "code",
   "execution_count": 67,
   "id": "fe87bcd3",
   "metadata": {
    "execution": {
     "iopub.execute_input": "2025-10-30T11:26:28.147011Z",
     "iopub.status.busy": "2025-10-30T11:26:28.146773Z",
     "iopub.status.idle": "2025-10-30T11:26:28.152679Z",
     "shell.execute_reply": "2025-10-30T11:26:28.152056Z"
    },
    "papermill": {
     "duration": 0.031686,
     "end_time": "2025-10-30T11:26:28.153646",
     "exception": false,
     "start_time": "2025-10-30T11:26:28.121960",
     "status": "completed"
    },
    "tags": []
   },
   "outputs": [
    {
     "data": {
      "text/plain": [
       "<tf.Tensor: shape=(10,), dtype=float32, numpy=array([0., 1., 1., 0., 0., 1., 1., 1., 1., 1.], dtype=float32)>"
      ]
     },
     "execution_count": 67,
     "metadata": {},
     "output_type": "execute_result"
    }
   ],
   "source": [
    "model_2_preds = tf.squeeze(tf.round(model_2_pred_probs))\n",
    "model_2_preds[:10]"
   ]
  },
  {
   "cell_type": "code",
   "execution_count": 68,
   "id": "2393e5fa",
   "metadata": {
    "execution": {
     "iopub.execute_input": "2025-10-30T11:26:28.202515Z",
     "iopub.status.busy": "2025-10-30T11:26:28.202294Z",
     "iopub.status.idle": "2025-10-30T11:26:28.206604Z",
     "shell.execute_reply": "2025-10-30T11:26:28.206035Z"
    },
    "papermill": {
     "duration": 0.029757,
     "end_time": "2025-10-30T11:26:28.207604",
     "exception": false,
     "start_time": "2025-10-30T11:26:28.177847",
     "status": "completed"
    },
    "tags": []
   },
   "outputs": [
    {
     "data": {
      "text/plain": [
       "array([0, 0, 1, 1, 1, 1, 1, 1, 1, 0])"
      ]
     },
     "execution_count": 68,
     "metadata": {},
     "output_type": "execute_result"
    }
   ],
   "source": [
    "val_labels[:10]"
   ]
  },
  {
   "cell_type": "code",
   "execution_count": 69,
   "id": "9b360fe7",
   "metadata": {
    "execution": {
     "iopub.execute_input": "2025-10-30T11:26:28.256759Z",
     "iopub.status.busy": "2025-10-30T11:26:28.256555Z",
     "iopub.status.idle": "2025-10-30T11:26:28.263500Z",
     "shell.execute_reply": "2025-10-30T11:26:28.262932Z"
    },
    "papermill": {
     "duration": 0.03252,
     "end_time": "2025-10-30T11:26:28.264489",
     "exception": false,
     "start_time": "2025-10-30T11:26:28.231969",
     "status": "completed"
    },
    "tags": []
   },
   "outputs": [
    {
     "data": {
      "text/plain": [
       "{'accuracy': 78.74015748031496,\n",
       " 'precision': 0.7911061029933195,\n",
       " 'recall': 0.7874015748031497,\n",
       " 'f1': 0.7848342804717284}"
      ]
     },
     "execution_count": 69,
     "metadata": {},
     "output_type": "execute_result"
    }
   ],
   "source": [
    "# Calculate model 2 results\n",
    "model_2_results = calculate_results(y_true=val_labels,y_preds=model_2_preds)\n",
    "model_2_results"
   ]
  },
  {
   "cell_type": "code",
   "execution_count": 70,
   "id": "fed4a099",
   "metadata": {
    "execution": {
     "iopub.execute_input": "2025-10-30T11:26:28.315014Z",
     "iopub.status.busy": "2025-10-30T11:26:28.314801Z",
     "iopub.status.idle": "2025-10-30T11:26:28.319026Z",
     "shell.execute_reply": "2025-10-30T11:26:28.318315Z"
    },
    "papermill": {
     "duration": 0.030626,
     "end_time": "2025-10-30T11:26:28.320095",
     "exception": false,
     "start_time": "2025-10-30T11:26:28.289469",
     "status": "completed"
    },
    "tags": []
   },
   "outputs": [
    {
     "data": {
      "text/plain": [
       "{'accuracy': 79.26509186351706,\n",
       " 'precision': 0.8111390004213173,\n",
       " 'recall': 0.7926509186351706,\n",
       " 'f1': 0.7862189758049549}"
      ]
     },
     "execution_count": 70,
     "metadata": {},
     "output_type": "execute_result"
    }
   ],
   "source": [
    "baseline_results"
   ]
  },
  {
   "cell_type": "code",
   "execution_count": 71,
   "id": "d5de35fe",
   "metadata": {
    "execution": {
     "iopub.execute_input": "2025-10-30T11:26:28.370512Z",
     "iopub.status.busy": "2025-10-30T11:26:28.370292Z",
     "iopub.status.idle": "2025-10-30T11:26:28.375524Z",
     "shell.execute_reply": "2025-10-30T11:26:28.374841Z"
    },
    "papermill": {
     "duration": 0.031269,
     "end_time": "2025-10-30T11:26:28.376562",
     "exception": false,
     "start_time": "2025-10-30T11:26:28.345293",
     "status": "completed"
    },
    "tags": []
   },
   "outputs": [
    {
     "name": "stdout",
     "output_type": "stream",
     "text": [
      "2.718281828459045\n"
     ]
    },
    {
     "data": {
      "text/plain": [
       "0.7615941559557649"
      ]
     },
     "execution_count": 71,
     "metadata": {},
     "output_type": "execute_result"
    }
   ],
   "source": [
    "from math import e\n",
    "print(e)\n",
    "def tanh_func(z):\n",
    "    a = (e**z - e**(-z))/(e**z + e**(-z)) # tensorflow don't know math and python label code durring computational graph, it must be tensorflow optrational for derivation of gradients\n",
    "    return a\n",
    "    # return (tf.exp(z) - tf.exp(-z)) / (tf.exp(z) + tf.exp(-z))\n",
    "    # return tf.math.tanh(z)\n",
    "tanh_func(1.)"
   ]
  },
  {
   "cell_type": "markdown",
   "id": "0c45415d",
   "metadata": {
    "papermill": {
     "duration": 0.099852,
     "end_time": "2025-10-30T11:26:28.501074",
     "exception": false,
     "start_time": "2025-10-30T11:26:28.401222",
     "status": "completed"
    },
    "tags": []
   },
   "source": [
    "### build GRU model 3"
   ]
  },
  {
   "cell_type": "code",
   "execution_count": 72,
   "id": "6d4953b5",
   "metadata": {
    "execution": {
     "iopub.execute_input": "2025-10-30T11:26:28.553154Z",
     "iopub.status.busy": "2025-10-30T11:26:28.552507Z",
     "iopub.status.idle": "2025-10-30T11:26:28.582204Z",
     "shell.execute_reply": "2025-10-30T11:26:28.581659Z"
    },
    "papermill": {
     "duration": 0.056998,
     "end_time": "2025-10-30T11:26:28.583377",
     "exception": false,
     "start_time": "2025-10-30T11:26:28.526379",
     "status": "completed"
    },
    "tags": []
   },
   "outputs": [],
   "source": [
    "inputs = layers.Input(shape=(1,),dtype=tf.string,name=\"input_layer\")\n",
    "x = text_vectorizer(inputs)\n",
    "x = embedding(x)\n",
    "x = layers.GRU(units=64,activation=tanh_func)(x)\n",
    "# x = layers.Lambda(tanh_func)(x)\n",
    "outputs = layers.Dense(1,activation=\"sigmoid\",name=\"output_layer\")(x)\n",
    "model_3 = tf.keras.Model(inputs,outputs)\n"
   ]
  },
  {
   "cell_type": "code",
   "execution_count": 73,
   "id": "1fdcd135",
   "metadata": {
    "execution": {
     "iopub.execute_input": "2025-10-30T11:26:28.633145Z",
     "iopub.status.busy": "2025-10-30T11:26:28.632746Z",
     "iopub.status.idle": "2025-10-30T11:26:28.645424Z",
     "shell.execute_reply": "2025-10-30T11:26:28.644711Z"
    },
    "papermill": {
     "duration": 0.038631,
     "end_time": "2025-10-30T11:26:28.646484",
     "exception": false,
     "start_time": "2025-10-30T11:26:28.607853",
     "status": "completed"
    },
    "tags": []
   },
   "outputs": [
    {
     "data": {
      "text/html": [
       "<pre style=\"white-space:pre;overflow-x:auto;line-height:normal;font-family:Menlo,'DejaVu Sans Mono',consolas,'Courier New',monospace\"><span style=\"font-weight: bold\">Model: \"functional\"</span>\n",
       "</pre>\n"
      ],
      "text/plain": [
       "\u001b[1mModel: \"functional\"\u001b[0m\n"
      ]
     },
     "metadata": {},
     "output_type": "display_data"
    },
    {
     "data": {
      "text/html": [
       "<pre style=\"white-space:pre;overflow-x:auto;line-height:normal;font-family:Menlo,'DejaVu Sans Mono',consolas,'Courier New',monospace\">┏━━━━━━━━━━━━━━━━━━━━━━━━━━━━━━━━━┳━━━━━━━━━━━━━━━━━━━━━━━━┳━━━━━━━━━━━━━━━┓\n",
       "┃<span style=\"font-weight: bold\"> Layer (type)                    </span>┃<span style=\"font-weight: bold\"> Output Shape           </span>┃<span style=\"font-weight: bold\">       Param # </span>┃\n",
       "┡━━━━━━━━━━━━━━━━━━━━━━━━━━━━━━━━━╇━━━━━━━━━━━━━━━━━━━━━━━━╇━━━━━━━━━━━━━━━┩\n",
       "│ input_layer (<span style=\"color: #0087ff; text-decoration-color: #0087ff\">InputLayer</span>)        │ (<span style=\"color: #00d7ff; text-decoration-color: #00d7ff\">None</span>, <span style=\"color: #00af00; text-decoration-color: #00af00\">1</span>)              │             <span style=\"color: #00af00; text-decoration-color: #00af00\">0</span> │\n",
       "├─────────────────────────────────┼────────────────────────┼───────────────┤\n",
       "│ text_vectorization_1            │ (<span style=\"color: #00d7ff; text-decoration-color: #00d7ff\">None</span>, <span style=\"color: #00af00; text-decoration-color: #00af00\">15</span>)             │             <span style=\"color: #00af00; text-decoration-color: #00af00\">0</span> │\n",
       "│ (<span style=\"color: #0087ff; text-decoration-color: #0087ff\">TextVectorization</span>)             │                        │               │\n",
       "├─────────────────────────────────┼────────────────────────┼───────────────┤\n",
       "│ embedding (<span style=\"color: #0087ff; text-decoration-color: #0087ff\">Embedding</span>)           │ (<span style=\"color: #00d7ff; text-decoration-color: #00d7ff\">None</span>, <span style=\"color: #00af00; text-decoration-color: #00af00\">15</span>, <span style=\"color: #00af00; text-decoration-color: #00af00\">128</span>)        │     <span style=\"color: #00af00; text-decoration-color: #00af00\">1,280,000</span> │\n",
       "├─────────────────────────────────┼────────────────────────┼───────────────┤\n",
       "│ gru (<span style=\"color: #0087ff; text-decoration-color: #0087ff\">GRU</span>)                       │ (<span style=\"color: #00d7ff; text-decoration-color: #00d7ff\">None</span>, <span style=\"color: #00af00; text-decoration-color: #00af00\">64</span>)             │        <span style=\"color: #00af00; text-decoration-color: #00af00\">37,248</span> │\n",
       "├─────────────────────────────────┼────────────────────────┼───────────────┤\n",
       "│ output_layer (<span style=\"color: #0087ff; text-decoration-color: #0087ff\">Dense</span>)            │ (<span style=\"color: #00d7ff; text-decoration-color: #00d7ff\">None</span>, <span style=\"color: #00af00; text-decoration-color: #00af00\">1</span>)              │            <span style=\"color: #00af00; text-decoration-color: #00af00\">65</span> │\n",
       "└─────────────────────────────────┴────────────────────────┴───────────────┘\n",
       "</pre>\n"
      ],
      "text/plain": [
       "┏━━━━━━━━━━━━━━━━━━━━━━━━━━━━━━━━━┳━━━━━━━━━━━━━━━━━━━━━━━━┳━━━━━━━━━━━━━━━┓\n",
       "┃\u001b[1m \u001b[0m\u001b[1mLayer (type)                   \u001b[0m\u001b[1m \u001b[0m┃\u001b[1m \u001b[0m\u001b[1mOutput Shape          \u001b[0m\u001b[1m \u001b[0m┃\u001b[1m \u001b[0m\u001b[1m      Param #\u001b[0m\u001b[1m \u001b[0m┃\n",
       "┡━━━━━━━━━━━━━━━━━━━━━━━━━━━━━━━━━╇━━━━━━━━━━━━━━━━━━━━━━━━╇━━━━━━━━━━━━━━━┩\n",
       "│ input_layer (\u001b[38;5;33mInputLayer\u001b[0m)        │ (\u001b[38;5;45mNone\u001b[0m, \u001b[38;5;34m1\u001b[0m)              │             \u001b[38;5;34m0\u001b[0m │\n",
       "├─────────────────────────────────┼────────────────────────┼───────────────┤\n",
       "│ text_vectorization_1            │ (\u001b[38;5;45mNone\u001b[0m, \u001b[38;5;34m15\u001b[0m)             │             \u001b[38;5;34m0\u001b[0m │\n",
       "│ (\u001b[38;5;33mTextVectorization\u001b[0m)             │                        │               │\n",
       "├─────────────────────────────────┼────────────────────────┼───────────────┤\n",
       "│ embedding (\u001b[38;5;33mEmbedding\u001b[0m)           │ (\u001b[38;5;45mNone\u001b[0m, \u001b[38;5;34m15\u001b[0m, \u001b[38;5;34m128\u001b[0m)        │     \u001b[38;5;34m1,280,000\u001b[0m │\n",
       "├─────────────────────────────────┼────────────────────────┼───────────────┤\n",
       "│ gru (\u001b[38;5;33mGRU\u001b[0m)                       │ (\u001b[38;5;45mNone\u001b[0m, \u001b[38;5;34m64\u001b[0m)             │        \u001b[38;5;34m37,248\u001b[0m │\n",
       "├─────────────────────────────────┼────────────────────────┼───────────────┤\n",
       "│ output_layer (\u001b[38;5;33mDense\u001b[0m)            │ (\u001b[38;5;45mNone\u001b[0m, \u001b[38;5;34m1\u001b[0m)              │            \u001b[38;5;34m65\u001b[0m │\n",
       "└─────────────────────────────────┴────────────────────────┴───────────────┘\n"
      ]
     },
     "metadata": {},
     "output_type": "display_data"
    },
    {
     "data": {
      "text/html": [
       "<pre style=\"white-space:pre;overflow-x:auto;line-height:normal;font-family:Menlo,'DejaVu Sans Mono',consolas,'Courier New',monospace\"><span style=\"font-weight: bold\"> Total params: </span><span style=\"color: #00af00; text-decoration-color: #00af00\">1,317,313</span> (5.03 MB)\n",
       "</pre>\n"
      ],
      "text/plain": [
       "\u001b[1m Total params: \u001b[0m\u001b[38;5;34m1,317,313\u001b[0m (5.03 MB)\n"
      ]
     },
     "metadata": {},
     "output_type": "display_data"
    },
    {
     "data": {
      "text/html": [
       "<pre style=\"white-space:pre;overflow-x:auto;line-height:normal;font-family:Menlo,'DejaVu Sans Mono',consolas,'Courier New',monospace\"><span style=\"font-weight: bold\"> Trainable params: </span><span style=\"color: #00af00; text-decoration-color: #00af00\">1,317,313</span> (5.03 MB)\n",
       "</pre>\n"
      ],
      "text/plain": [
       "\u001b[1m Trainable params: \u001b[0m\u001b[38;5;34m1,317,313\u001b[0m (5.03 MB)\n"
      ]
     },
     "metadata": {},
     "output_type": "display_data"
    },
    {
     "data": {
      "text/html": [
       "<pre style=\"white-space:pre;overflow-x:auto;line-height:normal;font-family:Menlo,'DejaVu Sans Mono',consolas,'Courier New',monospace\"><span style=\"font-weight: bold\"> Non-trainable params: </span><span style=\"color: #00af00; text-decoration-color: #00af00\">0</span> (0.00 B)\n",
       "</pre>\n"
      ],
      "text/plain": [
       "\u001b[1m Non-trainable params: \u001b[0m\u001b[38;5;34m0\u001b[0m (0.00 B)\n"
      ]
     },
     "metadata": {},
     "output_type": "display_data"
    }
   ],
   "source": [
    "model_3.summary()"
   ]
  },
  {
   "cell_type": "code",
   "execution_count": 74,
   "id": "5faba09b",
   "metadata": {
    "execution": {
     "iopub.execute_input": "2025-10-30T11:26:28.697078Z",
     "iopub.status.busy": "2025-10-30T11:26:28.696874Z",
     "iopub.status.idle": "2025-10-30T11:26:28.704139Z",
     "shell.execute_reply": "2025-10-30T11:26:28.703436Z"
    },
    "papermill": {
     "duration": 0.033899,
     "end_time": "2025-10-30T11:26:28.705233",
     "exception": false,
     "start_time": "2025-10-30T11:26:28.671334",
     "status": "completed"
    },
    "tags": []
   },
   "outputs": [],
   "source": [
    "# compile the model\n",
    "model_3.compile(loss=\"binary_crossentropy\",\n",
    "              optimizer=tf.keras.optimizers.Adam(),\n",
    "              metrics=[\"accuracy\"])"
   ]
  },
  {
   "cell_type": "code",
   "execution_count": 75,
   "id": "702f2688",
   "metadata": {
    "execution": {
     "iopub.execute_input": "2025-10-30T11:26:28.755530Z",
     "iopub.status.busy": "2025-10-30T11:26:28.755271Z",
     "iopub.status.idle": "2025-10-30T11:27:03.125210Z",
     "shell.execute_reply": "2025-10-30T11:27:03.124333Z"
    },
    "papermill": {
     "duration": 34.396519,
     "end_time": "2025-10-30T11:27:03.126510",
     "exception": false,
     "start_time": "2025-10-30T11:26:28.729991",
     "status": "completed"
    },
    "tags": []
   },
   "outputs": [
    {
     "name": "stdout",
     "output_type": "stream",
     "text": [
      "Saving TensorBoard log files to: model_logs/model_3_GRU/20251030-112628\n",
      "Epoch 1/5\n",
      "\u001b[1m215/215\u001b[0m \u001b[32m━━━━━━━━━━━━━━━━━━━━\u001b[0m\u001b[37m\u001b[0m \u001b[1m10s\u001b[0m 31ms/step - accuracy: 0.8886 - loss: 0.2670 - val_accuracy: 0.7795 - val_loss: 0.7720\n",
      "Epoch 2/5\n",
      "\u001b[1m215/215\u001b[0m \u001b[32m━━━━━━━━━━━━━━━━━━━━\u001b[0m\u001b[37m\u001b[0m \u001b[1m6s\u001b[0m 28ms/step - accuracy: 0.9713 - loss: 0.0754 - val_accuracy: 0.7743 - val_loss: 0.7949\n",
      "Epoch 3/5\n",
      "\u001b[1m215/215\u001b[0m \u001b[32m━━━━━━━━━━━━━━━━━━━━\u001b[0m\u001b[37m\u001b[0m \u001b[1m6s\u001b[0m 28ms/step - accuracy: 0.9780 - loss: 0.0622 - val_accuracy: 0.7848 - val_loss: 0.8470\n",
      "Epoch 4/5\n",
      "\u001b[1m215/215\u001b[0m \u001b[32m━━━━━━━━━━━━━━━━━━━━\u001b[0m\u001b[37m\u001b[0m \u001b[1m6s\u001b[0m 28ms/step - accuracy: 0.9745 - loss: 0.0588 - val_accuracy: 0.7743 - val_loss: 1.1551\n",
      "Epoch 5/5\n",
      "\u001b[1m215/215\u001b[0m \u001b[32m━━━━━━━━━━━━━━━━━━━━\u001b[0m\u001b[37m\u001b[0m \u001b[1m6s\u001b[0m 28ms/step - accuracy: 0.9779 - loss: 0.0514 - val_accuracy: 0.7690 - val_loss: 1.1902\n"
     ]
    }
   ],
   "source": [
    "model_3_history = model_3.fit(train_sentences,\n",
    "                             train_labels,\n",
    "                             epochs=5,\n",
    "                             validation_data=(val_sentences,val_labels),\n",
    "                             callbacks=[create_tensorboard_callback(SAVE_DIR,\"model_3_GRU\")])"
   ]
  },
  {
   "cell_type": "code",
   "execution_count": null,
   "id": "c1596ec5",
   "metadata": {
    "papermill": {
     "duration": 0.045945,
     "end_time": "2025-10-30T11:27:03.221036",
     "exception": false,
     "start_time": "2025-10-30T11:27:03.175091",
     "status": "completed"
    },
    "tags": []
   },
   "outputs": [],
   "source": []
  }
 ],
 "metadata": {
  "kaggle": {
   "accelerator": "nvidiaTeslaT4",
   "dataSources": [],
   "dockerImageVersionId": 31153,
   "isGpuEnabled": true,
   "isInternetEnabled": true,
   "language": "python",
   "sourceType": "notebook"
  },
  "kernelspec": {
   "display_name": "Python 3",
   "language": "python",
   "name": "python3"
  },
  "language_info": {
   "codemirror_mode": {
    "name": "ipython",
    "version": 3
   },
   "file_extension": ".py",
   "mimetype": "text/x-python",
   "name": "python",
   "nbconvert_exporter": "python",
   "pygments_lexer": "ipython3",
   "version": "3.11.13"
  },
  "papermill": {
   "default_parameters": {},
   "duration": 92.804353,
   "end_time": "2025-10-30T11:27:06.085247",
   "environment_variables": {},
   "exception": null,
   "input_path": "__notebook__.ipynb",
   "output_path": "__notebook__.ipynb",
   "parameters": {},
   "start_time": "2025-10-30T11:25:33.280894",
   "version": "2.6.0"
  }
 },
 "nbformat": 4,
 "nbformat_minor": 5
}
