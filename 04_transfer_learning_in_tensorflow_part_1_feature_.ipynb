{
  "metadata": {
    "kernelspec": {
      "name": "python3",
      "display_name": "Python 3",
      "language": "python"
    },
    "language_info": {
      "name": "python",
      "version": "3.11.13",
      "mimetype": "text/x-python",
      "codemirror_mode": {
        "name": "ipython",
        "version": 3
      },
      "pygments_lexer": "ipython3",
      "nbconvert_exporter": "python",
      "file_extension": ".py"
    },
    "colab": {
      "provenance": [],
      "gpuType": "V5E1",
      "name": "04-transfer-learning-in-tensorflow-part-1-feature-",
      "include_colab_link": true
    },
    "accelerator": "TPU",
    "kaggle": {
      "accelerator": "nvidiaTeslaT4",
      "dataSources": [
        {
          "sourceId": 992,
          "sourceType": "modelInstanceVersion",
          "modelInstanceId": 846,
          "modelId": 101
        },
        {
          "sourceId": 2646,
          "sourceType": "modelInstanceVersion",
          "modelInstanceId": 1912,
          "modelId": 257
        }
      ],
      "dockerImageVersionId": 31089,
      "isInternetEnabled": true,
      "language": "python",
      "sourceType": "notebook",
      "isGpuEnabled": true
    },
    "widgets": {
      "application/vnd.jupyter.widget-state+json": {
        "bef466b7479c4bdcae756fac1a18a125": {
          "model_module": "@jupyter-widgets/controls",
          "model_name": "HBoxModel",
          "model_module_version": "1.5.0",
          "state": {
            "_dom_classes": [],
            "_model_module": "@jupyter-widgets/controls",
            "_model_module_version": "1.5.0",
            "_model_name": "HBoxModel",
            "_view_count": null,
            "_view_module": "@jupyter-widgets/controls",
            "_view_module_version": "1.5.0",
            "_view_name": "HBoxView",
            "box_style": "",
            "children": [
              "IPY_MODEL_aef120437fc34aa5846c941155b8e9db",
              "IPY_MODEL_91fed29ac9eb4cb4ba3b654652b17a89",
              "IPY_MODEL_b4ffef5bef874b08bcb7357043d9e0bf"
            ],
            "layout": "IPY_MODEL_f0bf8e63c4234f189fa14c601eb5fd70"
          }
        },
        "aef120437fc34aa5846c941155b8e9db": {
          "model_module": "@jupyter-widgets/controls",
          "model_name": "HTMLModel",
          "model_module_version": "1.5.0",
          "state": {
            "_dom_classes": [],
            "_model_module": "@jupyter-widgets/controls",
            "_model_module_version": "1.5.0",
            "_model_name": "HTMLModel",
            "_view_count": null,
            "_view_module": "@jupyter-widgets/controls",
            "_view_module_version": "1.5.0",
            "_view_name": "HTMLView",
            "description": "",
            "description_tooltip": null,
            "layout": "IPY_MODEL_c83ea5cd23b8478f876ab715038ed669",
            "placeholder": "​",
            "style": "IPY_MODEL_7ee1cfc53ce1493aafd14525d75b1fee",
            "value": "Downloading 3 files: 100%"
          }
        },
        "91fed29ac9eb4cb4ba3b654652b17a89": {
          "model_module": "@jupyter-widgets/controls",
          "model_name": "FloatProgressModel",
          "model_module_version": "1.5.0",
          "state": {
            "_dom_classes": [],
            "_model_module": "@jupyter-widgets/controls",
            "_model_module_version": "1.5.0",
            "_model_name": "FloatProgressModel",
            "_view_count": null,
            "_view_module": "@jupyter-widgets/controls",
            "_view_module_version": "1.5.0",
            "_view_name": "ProgressView",
            "bar_style": "success",
            "description": "",
            "description_tooltip": null,
            "layout": "IPY_MODEL_9f3bca0594084aa7bd1474454cf91e39",
            "max": 3,
            "min": 0,
            "orientation": "horizontal",
            "style": "IPY_MODEL_00754cd9a23f42109a4813aa4338dd54",
            "value": 3
          }
        },
        "b4ffef5bef874b08bcb7357043d9e0bf": {
          "model_module": "@jupyter-widgets/controls",
          "model_name": "HTMLModel",
          "model_module_version": "1.5.0",
          "state": {
            "_dom_classes": [],
            "_model_module": "@jupyter-widgets/controls",
            "_model_module_version": "1.5.0",
            "_model_name": "HTMLModel",
            "_view_count": null,
            "_view_module": "@jupyter-widgets/controls",
            "_view_module_version": "1.5.0",
            "_view_name": "HTMLView",
            "description": "",
            "description_tooltip": null,
            "layout": "IPY_MODEL_a3aff7ef043a44d7bebdda87a2d341e4",
            "placeholder": "​",
            "style": "IPY_MODEL_09a82e82824243c8a07d06de644f20a4",
            "value": " 3/3 [00:03&lt;00:00,  3.25s/it]"
          }
        },
        "f0bf8e63c4234f189fa14c601eb5fd70": {
          "model_module": "@jupyter-widgets/base",
          "model_name": "LayoutModel",
          "model_module_version": "1.2.0",
          "state": {
            "_model_module": "@jupyter-widgets/base",
            "_model_module_version": "1.2.0",
            "_model_name": "LayoutModel",
            "_view_count": null,
            "_view_module": "@jupyter-widgets/base",
            "_view_module_version": "1.2.0",
            "_view_name": "LayoutView",
            "align_content": null,
            "align_items": null,
            "align_self": null,
            "border": null,
            "bottom": null,
            "display": null,
            "flex": null,
            "flex_flow": null,
            "grid_area": null,
            "grid_auto_columns": null,
            "grid_auto_flow": null,
            "grid_auto_rows": null,
            "grid_column": null,
            "grid_gap": null,
            "grid_row": null,
            "grid_template_areas": null,
            "grid_template_columns": null,
            "grid_template_rows": null,
            "height": null,
            "justify_content": null,
            "justify_items": null,
            "left": null,
            "margin": null,
            "max_height": null,
            "max_width": null,
            "min_height": null,
            "min_width": null,
            "object_fit": null,
            "object_position": null,
            "order": null,
            "overflow": null,
            "overflow_x": null,
            "overflow_y": null,
            "padding": null,
            "right": null,
            "top": null,
            "visibility": null,
            "width": null
          }
        },
        "c83ea5cd23b8478f876ab715038ed669": {
          "model_module": "@jupyter-widgets/base",
          "model_name": "LayoutModel",
          "model_module_version": "1.2.0",
          "state": {
            "_model_module": "@jupyter-widgets/base",
            "_model_module_version": "1.2.0",
            "_model_name": "LayoutModel",
            "_view_count": null,
            "_view_module": "@jupyter-widgets/base",
            "_view_module_version": "1.2.0",
            "_view_name": "LayoutView",
            "align_content": null,
            "align_items": null,
            "align_self": null,
            "border": null,
            "bottom": null,
            "display": null,
            "flex": null,
            "flex_flow": null,
            "grid_area": null,
            "grid_auto_columns": null,
            "grid_auto_flow": null,
            "grid_auto_rows": null,
            "grid_column": null,
            "grid_gap": null,
            "grid_row": null,
            "grid_template_areas": null,
            "grid_template_columns": null,
            "grid_template_rows": null,
            "height": null,
            "justify_content": null,
            "justify_items": null,
            "left": null,
            "margin": null,
            "max_height": null,
            "max_width": null,
            "min_height": null,
            "min_width": null,
            "object_fit": null,
            "object_position": null,
            "order": null,
            "overflow": null,
            "overflow_x": null,
            "overflow_y": null,
            "padding": null,
            "right": null,
            "top": null,
            "visibility": null,
            "width": null
          }
        },
        "7ee1cfc53ce1493aafd14525d75b1fee": {
          "model_module": "@jupyter-widgets/controls",
          "model_name": "DescriptionStyleModel",
          "model_module_version": "1.5.0",
          "state": {
            "_model_module": "@jupyter-widgets/controls",
            "_model_module_version": "1.5.0",
            "_model_name": "DescriptionStyleModel",
            "_view_count": null,
            "_view_module": "@jupyter-widgets/base",
            "_view_module_version": "1.2.0",
            "_view_name": "StyleView",
            "description_width": ""
          }
        },
        "9f3bca0594084aa7bd1474454cf91e39": {
          "model_module": "@jupyter-widgets/base",
          "model_name": "LayoutModel",
          "model_module_version": "1.2.0",
          "state": {
            "_model_module": "@jupyter-widgets/base",
            "_model_module_version": "1.2.0",
            "_model_name": "LayoutModel",
            "_view_count": null,
            "_view_module": "@jupyter-widgets/base",
            "_view_module_version": "1.2.0",
            "_view_name": "LayoutView",
            "align_content": null,
            "align_items": null,
            "align_self": null,
            "border": null,
            "bottom": null,
            "display": null,
            "flex": null,
            "flex_flow": null,
            "grid_area": null,
            "grid_auto_columns": null,
            "grid_auto_flow": null,
            "grid_auto_rows": null,
            "grid_column": null,
            "grid_gap": null,
            "grid_row": null,
            "grid_template_areas": null,
            "grid_template_columns": null,
            "grid_template_rows": null,
            "height": null,
            "justify_content": null,
            "justify_items": null,
            "left": null,
            "margin": null,
            "max_height": null,
            "max_width": null,
            "min_height": null,
            "min_width": null,
            "object_fit": null,
            "object_position": null,
            "order": null,
            "overflow": null,
            "overflow_x": null,
            "overflow_y": null,
            "padding": null,
            "right": null,
            "top": null,
            "visibility": null,
            "width": null
          }
        },
        "00754cd9a23f42109a4813aa4338dd54": {
          "model_module": "@jupyter-widgets/controls",
          "model_name": "ProgressStyleModel",
          "model_module_version": "1.5.0",
          "state": {
            "_model_module": "@jupyter-widgets/controls",
            "_model_module_version": "1.5.0",
            "_model_name": "ProgressStyleModel",
            "_view_count": null,
            "_view_module": "@jupyter-widgets/base",
            "_view_module_version": "1.2.0",
            "_view_name": "StyleView",
            "bar_color": null,
            "description_width": ""
          }
        },
        "a3aff7ef043a44d7bebdda87a2d341e4": {
          "model_module": "@jupyter-widgets/base",
          "model_name": "LayoutModel",
          "model_module_version": "1.2.0",
          "state": {
            "_model_module": "@jupyter-widgets/base",
            "_model_module_version": "1.2.0",
            "_model_name": "LayoutModel",
            "_view_count": null,
            "_view_module": "@jupyter-widgets/base",
            "_view_module_version": "1.2.0",
            "_view_name": "LayoutView",
            "align_content": null,
            "align_items": null,
            "align_self": null,
            "border": null,
            "bottom": null,
            "display": null,
            "flex": null,
            "flex_flow": null,
            "grid_area": null,
            "grid_auto_columns": null,
            "grid_auto_flow": null,
            "grid_auto_rows": null,
            "grid_column": null,
            "grid_gap": null,
            "grid_row": null,
            "grid_template_areas": null,
            "grid_template_columns": null,
            "grid_template_rows": null,
            "height": null,
            "justify_content": null,
            "justify_items": null,
            "left": null,
            "margin": null,
            "max_height": null,
            "max_width": null,
            "min_height": null,
            "min_width": null,
            "object_fit": null,
            "object_position": null,
            "order": null,
            "overflow": null,
            "overflow_x": null,
            "overflow_y": null,
            "padding": null,
            "right": null,
            "top": null,
            "visibility": null,
            "width": null
          }
        },
        "09a82e82824243c8a07d06de644f20a4": {
          "model_module": "@jupyter-widgets/controls",
          "model_name": "DescriptionStyleModel",
          "model_module_version": "1.5.0",
          "state": {
            "_model_module": "@jupyter-widgets/controls",
            "_model_module_version": "1.5.0",
            "_model_name": "DescriptionStyleModel",
            "_view_count": null,
            "_view_module": "@jupyter-widgets/base",
            "_view_module_version": "1.2.0",
            "_view_name": "StyleView",
            "description_width": ""
          }
        },
        "f8167fc151de477dab2a19a7eac6785f": {
          "model_module": "@jupyter-widgets/controls",
          "model_name": "HBoxModel",
          "model_module_version": "1.5.0",
          "state": {
            "_dom_classes": [],
            "_model_module": "@jupyter-widgets/controls",
            "_model_module_version": "1.5.0",
            "_model_name": "HBoxModel",
            "_view_count": null,
            "_view_module": "@jupyter-widgets/controls",
            "_view_module_version": "1.5.0",
            "_view_name": "HBoxView",
            "box_style": "",
            "children": [
              "IPY_MODEL_57fda387c1d44c14b09b89c0831119c7",
              "IPY_MODEL_81da0619056e4b4295a2fa55c51ea055",
              "IPY_MODEL_db4c57fadec64808b7a619cc4bbf9f77"
            ],
            "layout": "IPY_MODEL_12ab602a717a43d1a8c8b1aa963cb12f"
          }
        },
        "57fda387c1d44c14b09b89c0831119c7": {
          "model_module": "@jupyter-widgets/controls",
          "model_name": "HTMLModel",
          "model_module_version": "1.5.0",
          "state": {
            "_dom_classes": [],
            "_model_module": "@jupyter-widgets/controls",
            "_model_module_version": "1.5.0",
            "_model_name": "HTMLModel",
            "_view_count": null,
            "_view_module": "@jupyter-widgets/controls",
            "_view_module_version": "1.5.0",
            "_view_name": "HTMLView",
            "description": "",
            "description_tooltip": null,
            "layout": "IPY_MODEL_4c3f12652d614d9c938f2605cad0adfb",
            "placeholder": "​",
            "style": "IPY_MODEL_67c9de1f641a46cc98f527df7137ac8c",
            "value": "Downloading 3 files: 100%"
          }
        },
        "81da0619056e4b4295a2fa55c51ea055": {
          "model_module": "@jupyter-widgets/controls",
          "model_name": "FloatProgressModel",
          "model_module_version": "1.5.0",
          "state": {
            "_dom_classes": [],
            "_model_module": "@jupyter-widgets/controls",
            "_model_module_version": "1.5.0",
            "_model_name": "FloatProgressModel",
            "_view_count": null,
            "_view_module": "@jupyter-widgets/controls",
            "_view_module_version": "1.5.0",
            "_view_name": "ProgressView",
            "bar_style": "success",
            "description": "",
            "description_tooltip": null,
            "layout": "IPY_MODEL_5e293b69cc0a402b8b908c4b9cc80393",
            "max": 3,
            "min": 0,
            "orientation": "horizontal",
            "style": "IPY_MODEL_b6d00c3ff934428eb50a2a72513777d9",
            "value": 3
          }
        },
        "db4c57fadec64808b7a619cc4bbf9f77": {
          "model_module": "@jupyter-widgets/controls",
          "model_name": "HTMLModel",
          "model_module_version": "1.5.0",
          "state": {
            "_dom_classes": [],
            "_model_module": "@jupyter-widgets/controls",
            "_model_module_version": "1.5.0",
            "_model_name": "HTMLModel",
            "_view_count": null,
            "_view_module": "@jupyter-widgets/controls",
            "_view_module_version": "1.5.0",
            "_view_name": "HTMLView",
            "description": "",
            "description_tooltip": null,
            "layout": "IPY_MODEL_cece643f8c9741858d01f7bd1951ffe8",
            "placeholder": "​",
            "style": "IPY_MODEL_6592f3d836a24c0a9265f083aca318c4",
            "value": " 3/3 [00:01&lt;00:00,  2.87it/s]"
          }
        },
        "12ab602a717a43d1a8c8b1aa963cb12f": {
          "model_module": "@jupyter-widgets/base",
          "model_name": "LayoutModel",
          "model_module_version": "1.2.0",
          "state": {
            "_model_module": "@jupyter-widgets/base",
            "_model_module_version": "1.2.0",
            "_model_name": "LayoutModel",
            "_view_count": null,
            "_view_module": "@jupyter-widgets/base",
            "_view_module_version": "1.2.0",
            "_view_name": "LayoutView",
            "align_content": null,
            "align_items": null,
            "align_self": null,
            "border": null,
            "bottom": null,
            "display": null,
            "flex": null,
            "flex_flow": null,
            "grid_area": null,
            "grid_auto_columns": null,
            "grid_auto_flow": null,
            "grid_auto_rows": null,
            "grid_column": null,
            "grid_gap": null,
            "grid_row": null,
            "grid_template_areas": null,
            "grid_template_columns": null,
            "grid_template_rows": null,
            "height": null,
            "justify_content": null,
            "justify_items": null,
            "left": null,
            "margin": null,
            "max_height": null,
            "max_width": null,
            "min_height": null,
            "min_width": null,
            "object_fit": null,
            "object_position": null,
            "order": null,
            "overflow": null,
            "overflow_x": null,
            "overflow_y": null,
            "padding": null,
            "right": null,
            "top": null,
            "visibility": null,
            "width": null
          }
        },
        "4c3f12652d614d9c938f2605cad0adfb": {
          "model_module": "@jupyter-widgets/base",
          "model_name": "LayoutModel",
          "model_module_version": "1.2.0",
          "state": {
            "_model_module": "@jupyter-widgets/base",
            "_model_module_version": "1.2.0",
            "_model_name": "LayoutModel",
            "_view_count": null,
            "_view_module": "@jupyter-widgets/base",
            "_view_module_version": "1.2.0",
            "_view_name": "LayoutView",
            "align_content": null,
            "align_items": null,
            "align_self": null,
            "border": null,
            "bottom": null,
            "display": null,
            "flex": null,
            "flex_flow": null,
            "grid_area": null,
            "grid_auto_columns": null,
            "grid_auto_flow": null,
            "grid_auto_rows": null,
            "grid_column": null,
            "grid_gap": null,
            "grid_row": null,
            "grid_template_areas": null,
            "grid_template_columns": null,
            "grid_template_rows": null,
            "height": null,
            "justify_content": null,
            "justify_items": null,
            "left": null,
            "margin": null,
            "max_height": null,
            "max_width": null,
            "min_height": null,
            "min_width": null,
            "object_fit": null,
            "object_position": null,
            "order": null,
            "overflow": null,
            "overflow_x": null,
            "overflow_y": null,
            "padding": null,
            "right": null,
            "top": null,
            "visibility": null,
            "width": null
          }
        },
        "67c9de1f641a46cc98f527df7137ac8c": {
          "model_module": "@jupyter-widgets/controls",
          "model_name": "DescriptionStyleModel",
          "model_module_version": "1.5.0",
          "state": {
            "_model_module": "@jupyter-widgets/controls",
            "_model_module_version": "1.5.0",
            "_model_name": "DescriptionStyleModel",
            "_view_count": null,
            "_view_module": "@jupyter-widgets/base",
            "_view_module_version": "1.2.0",
            "_view_name": "StyleView",
            "description_width": ""
          }
        },
        "5e293b69cc0a402b8b908c4b9cc80393": {
          "model_module": "@jupyter-widgets/base",
          "model_name": "LayoutModel",
          "model_module_version": "1.2.0",
          "state": {
            "_model_module": "@jupyter-widgets/base",
            "_model_module_version": "1.2.0",
            "_model_name": "LayoutModel",
            "_view_count": null,
            "_view_module": "@jupyter-widgets/base",
            "_view_module_version": "1.2.0",
            "_view_name": "LayoutView",
            "align_content": null,
            "align_items": null,
            "align_self": null,
            "border": null,
            "bottom": null,
            "display": null,
            "flex": null,
            "flex_flow": null,
            "grid_area": null,
            "grid_auto_columns": null,
            "grid_auto_flow": null,
            "grid_auto_rows": null,
            "grid_column": null,
            "grid_gap": null,
            "grid_row": null,
            "grid_template_areas": null,
            "grid_template_columns": null,
            "grid_template_rows": null,
            "height": null,
            "justify_content": null,
            "justify_items": null,
            "left": null,
            "margin": null,
            "max_height": null,
            "max_width": null,
            "min_height": null,
            "min_width": null,
            "object_fit": null,
            "object_position": null,
            "order": null,
            "overflow": null,
            "overflow_x": null,
            "overflow_y": null,
            "padding": null,
            "right": null,
            "top": null,
            "visibility": null,
            "width": null
          }
        },
        "b6d00c3ff934428eb50a2a72513777d9": {
          "model_module": "@jupyter-widgets/controls",
          "model_name": "ProgressStyleModel",
          "model_module_version": "1.5.0",
          "state": {
            "_model_module": "@jupyter-widgets/controls",
            "_model_module_version": "1.5.0",
            "_model_name": "ProgressStyleModel",
            "_view_count": null,
            "_view_module": "@jupyter-widgets/base",
            "_view_module_version": "1.2.0",
            "_view_name": "StyleView",
            "bar_color": null,
            "description_width": ""
          }
        },
        "cece643f8c9741858d01f7bd1951ffe8": {
          "model_module": "@jupyter-widgets/base",
          "model_name": "LayoutModel",
          "model_module_version": "1.2.0",
          "state": {
            "_model_module": "@jupyter-widgets/base",
            "_model_module_version": "1.2.0",
            "_model_name": "LayoutModel",
            "_view_count": null,
            "_view_module": "@jupyter-widgets/base",
            "_view_module_version": "1.2.0",
            "_view_name": "LayoutView",
            "align_content": null,
            "align_items": null,
            "align_self": null,
            "border": null,
            "bottom": null,
            "display": null,
            "flex": null,
            "flex_flow": null,
            "grid_area": null,
            "grid_auto_columns": null,
            "grid_auto_flow": null,
            "grid_auto_rows": null,
            "grid_column": null,
            "grid_gap": null,
            "grid_row": null,
            "grid_template_areas": null,
            "grid_template_columns": null,
            "grid_template_rows": null,
            "height": null,
            "justify_content": null,
            "justify_items": null,
            "left": null,
            "margin": null,
            "max_height": null,
            "max_width": null,
            "min_height": null,
            "min_width": null,
            "object_fit": null,
            "object_position": null,
            "order": null,
            "overflow": null,
            "overflow_x": null,
            "overflow_y": null,
            "padding": null,
            "right": null,
            "top": null,
            "visibility": null,
            "width": null
          }
        },
        "6592f3d836a24c0a9265f083aca318c4": {
          "model_module": "@jupyter-widgets/controls",
          "model_name": "DescriptionStyleModel",
          "model_module_version": "1.5.0",
          "state": {
            "_model_module": "@jupyter-widgets/controls",
            "_model_module_version": "1.5.0",
            "_model_name": "DescriptionStyleModel",
            "_view_count": null,
            "_view_module": "@jupyter-widgets/base",
            "_view_module_version": "1.2.0",
            "_view_name": "StyleView",
            "description_width": ""
          }
        }
      }
    }
  },
  "nbformat_minor": 0,
  "nbformat": 4,
  "cells": [
    {
      "cell_type": "markdown",
      "metadata": {
        "id": "view-in-github",
        "colab_type": "text"
      },
      "source": [
        "<a href=\"https://colab.research.google.com/github/mogesTesema/Machine-Learning-Mastery-With-TensorFlow/blob/main/04_transfer_learning_in_tensorflow_part_1_feature_.ipynb\" target=\"_parent\"><img src=\"https://colab.research.google.com/assets/colab-badge.svg\" alt=\"Open In Colab\"/></a>"
      ]
    },
    {
      "source": [
        "# IMPORTANT: RUN THIS CELL IN ORDER TO IMPORT YOUR KAGGLE DATA SOURCES,\n",
        "# THEN FEEL FREE TO DELETE THIS CELL.\n",
        "# NOTE: THIS NOTEBOOK ENVIRONMENT DIFFERS FROM KAGGLE'S PYTHON\n",
        "# ENVIRONMENT SO THERE MAY BE MISSING LIBRARIES USED BY YOUR\n",
        "# NOTEBOOK.\n",
        "import kagglehub\n",
        "tensorflow_resnet_50_tensorflow2_classification_1_path = kagglehub.model_download('tensorflow/resnet-50/TensorFlow2/classification/1')\n",
        "tensorflow_efficientnet_tensorflow2_b0_feature_vector_1_path = kagglehub.model_download('tensorflow/efficientnet/TensorFlow2/b0-feature-vector/1')\n",
        "\n",
        "print('Data source import complete.')\n"
      ],
      "metadata": {
        "colab": {
          "base_uri": "https://localhost:8080/",
          "height": 1000,
          "referenced_widgets": [
            "bef466b7479c4bdcae756fac1a18a125",
            "aef120437fc34aa5846c941155b8e9db",
            "91fed29ac9eb4cb4ba3b654652b17a89",
            "b4ffef5bef874b08bcb7357043d9e0bf",
            "f0bf8e63c4234f189fa14c601eb5fd70",
            "c83ea5cd23b8478f876ab715038ed669",
            "7ee1cfc53ce1493aafd14525d75b1fee",
            "9f3bca0594084aa7bd1474454cf91e39",
            "00754cd9a23f42109a4813aa4338dd54",
            "a3aff7ef043a44d7bebdda87a2d341e4",
            "09a82e82824243c8a07d06de644f20a4",
            "f8167fc151de477dab2a19a7eac6785f",
            "57fda387c1d44c14b09b89c0831119c7",
            "81da0619056e4b4295a2fa55c51ea055",
            "db4c57fadec64808b7a619cc4bbf9f77",
            "12ab602a717a43d1a8c8b1aa963cb12f",
            "4c3f12652d614d9c938f2605cad0adfb",
            "67c9de1f641a46cc98f527df7137ac8c",
            "5e293b69cc0a402b8b908c4b9cc80393",
            "b6d00c3ff934428eb50a2a72513777d9",
            "cece643f8c9741858d01f7bd1951ffe8",
            "6592f3d836a24c0a9265f083aca318c4"
          ]
        },
        "id": "08l319TzkaDd",
        "outputId": "43f2846d-5f34-49ba-b7ff-9156e7386991"
      },
      "cell_type": "code",
      "outputs": [
        {
          "output_type": "display_data",
          "data": {
            "text/plain": [
              "Downloading 3 files:   0%|          | 0/3 [00:00<?, ?it/s]"
            ],
            "application/vnd.jupyter.widget-view+json": {
              "version_major": 2,
              "version_minor": 0,
              "model_id": "bef466b7479c4bdcae756fac1a18a125"
            }
          },
          "metadata": {}
        },
        {
          "output_type": "stream",
          "name": "stdout",
          "text": [
            "Downloading from https://www.kaggle.com/api/v1/models/tensorflow/resnet-50/TensorFlow2/classification/1/download/variables/variables.data-00000-of-00001...\n"
          ]
        },
        {
          "output_type": "stream",
          "name": "stderr",
          "text": [
            "\n",
            "  0%|          | 0.00/97.8M [00:00<?, ?B/s]\u001b[A"
          ]
        },
        {
          "output_type": "stream",
          "name": "stdout",
          "text": [
            "Downloading from https://www.kaggle.com/api/v1/models/tensorflow/resnet-50/TensorFlow2/classification/1/download/saved_model.pb...\n"
          ]
        },
        {
          "output_type": "stream",
          "name": "stderr",
          "text": [
            "\n",
            "\n",
            "  0%|          | 0.00/4.72M [00:00<?, ?B/s]\u001b[A\u001b[A"
          ]
        },
        {
          "output_type": "stream",
          "name": "stdout",
          "text": [
            "Downloading from https://www.kaggle.com/api/v1/models/tensorflow/resnet-50/TensorFlow2/classification/1/download/variables/variables.index...\n"
          ]
        },
        {
          "output_type": "stream",
          "name": "stderr",
          "text": [
            "\n",
            "\n",
            "\n",
            "100%|██████████| 16.8k/16.8k [00:00<00:00, 33.1MB/s]\n",
            "\n",
            "  1%|          | 1.00M/97.8M [00:00<00:38, 2.64MB/s]\u001b[A\n",
            "  3%|▎         | 3.00M/97.8M [00:00<00:13, 7.31MB/s]\u001b[A\n",
            "  9%|▉         | 9.00M/97.8M [00:00<00:04, 19.9MB/s]\u001b[A\n",
            "\n",
            " 21%|██        | 1.00M/4.72M [00:00<00:01, 2.65MB/s]\u001b[A\u001b[A\n",
            "\n",
            " 64%|██████▎   | 3.00M/4.72M [00:00<00:00, 7.32MB/s]\u001b[A\u001b[A\n",
            "100%|██████████| 4.72M/4.72M [00:00<00:00, 8.97MB/s]\n",
            "\n",
            " 15%|█▌        | 15.0M/97.8M [00:00<00:03, 21.9MB/s]\u001b[A\n",
            " 22%|██▏       | 22.0M/97.8M [00:01<00:02, 32.4MB/s]\u001b[A\n",
            " 27%|██▋       | 26.0M/97.8M [00:01<00:02, 33.7MB/s]\u001b[A\n",
            " 31%|███       | 30.0M/97.8M [00:01<00:02, 34.4MB/s]\u001b[A\n",
            " 36%|███▌      | 35.0M/97.8M [00:01<00:01, 35.5MB/s]\u001b[A\n",
            " 42%|████▏     | 41.0M/97.8M [00:01<00:02, 29.6MB/s]\u001b[A\n",
            " 49%|████▉     | 48.0M/97.8M [00:01<00:01, 36.2MB/s]\u001b[A\n",
            " 56%|█████▌    | 55.0M/97.8M [00:01<00:01, 41.6MB/s]\u001b[A\n",
            " 64%|██████▍   | 63.0M/97.8M [00:02<00:00, 46.9MB/s]\u001b[A\n",
            " 72%|███████▏  | 70.0M/97.8M [00:02<00:00, 50.0MB/s]\u001b[A\n",
            " 77%|███████▋  | 75.0M/97.8M [00:02<00:00, 43.4MB/s]\u001b[A\n",
            " 82%|████████▏ | 80.0M/97.8M [00:02<00:00, 43.6MB/s]\u001b[A\n",
            " 87%|████████▋ | 85.0M/97.8M [00:02<00:00, 41.5MB/s]\u001b[A\n",
            "100%|██████████| 97.8M/97.8M [00:02<00:00, 36.0MB/s]\n"
          ]
        },
        {
          "output_type": "display_data",
          "data": {
            "text/plain": [
              "Downloading 3 files:   0%|          | 0/3 [00:00<?, ?it/s]"
            ],
            "application/vnd.jupyter.widget-view+json": {
              "version_major": 2,
              "version_minor": 0,
              "model_id": "f8167fc151de477dab2a19a7eac6785f"
            }
          },
          "metadata": {}
        },
        {
          "output_type": "stream",
          "name": "stdout",
          "text": [
            "Downloading from https://www.kaggle.com/api/v1/models/tensorflow/efficientnet/TensorFlow2/b0-feature-vector/1/download/variables/variables.data-00000-of-00001...\n"
          ]
        },
        {
          "output_type": "stream",
          "name": "stderr",
          "text": [
            "\n",
            "  0%|          | 0.00/15.6M [00:00<?, ?B/s]\u001b[A"
          ]
        },
        {
          "output_type": "stream",
          "name": "stdout",
          "text": [
            "Downloading from https://www.kaggle.com/api/v1/models/tensorflow/efficientnet/TensorFlow2/b0-feature-vector/1/download/saved_model.pb...\n"
          ]
        },
        {
          "output_type": "stream",
          "name": "stderr",
          "text": [
            "\n",
            "\n",
            "  0%|          | 0.00/5.82M [00:00<?, ?B/s]\u001b[A\u001b[A"
          ]
        },
        {
          "output_type": "stream",
          "name": "stdout",
          "text": [
            "Downloading from https://www.kaggle.com/api/v1/models/tensorflow/efficientnet/TensorFlow2/b0-feature-vector/1/download/variables/variables.index...\n"
          ]
        },
        {
          "output_type": "stream",
          "name": "stderr",
          "text": [
            "\n",
            "\n",
            "\n",
            "100%|██████████| 5.71k/5.71k [00:00<00:00, 11.3MB/s]\n",
            "\n",
            "  6%|▋         | 1.00M/15.6M [00:00<00:05, 2.64MB/s]\u001b[A\n",
            " 19%|█▉        | 3.00M/15.6M [00:00<00:01, 7.31MB/s]\u001b[A\n",
            " 51%|█████▏    | 8.00M/15.6M [00:00<00:00, 19.4MB/s]\u001b[A\n",
            "\n",
            " 17%|█▋        | 1.00M/5.82M [00:00<00:01, 2.59MB/s]\u001b[A\u001b[A\n",
            "100%|██████████| 15.6M/15.6M [00:00<00:00, 21.0MB/s]\n",
            "\n",
            "\n",
            "100%|██████████| 5.82M/5.82M [00:00<00:00, 10.4MB/s]"
          ]
        },
        {
          "output_type": "stream",
          "name": "stdout",
          "text": [
            "Data source import complete.\n"
          ]
        },
        {
          "output_type": "stream",
          "name": "stderr",
          "text": [
            "\n"
          ]
        }
      ],
      "execution_count": 1
    },
    {
      "cell_type": "markdown",
      "source": [
        "# Transfer Learning with Tensorflow Part 1: Feature Extraction\n",
        "Transfer learning is leveraging a working model's existing architecture and learned patterns for our own problem.\n",
        "There are two main benefites\n",
        "* 1. Can leverage an existing neural network architecture proven to work on problems similar to our own.\n",
        "\n",
        "\n",
        "* 2. Can leverage a working neural network architecture which has already learned patterns o similar data to  our own, then we can adapt those patterns to our own data."
      ],
      "metadata": {
        "id": "h7RYo_wAauKy"
      }
    },
    {
      "cell_type": "code",
      "source": [
        "# !pip install tensorflow\n",
        "import tensorflow as tf\n",
        "\n",
        "!nvidia-smi"
      ],
      "metadata": {
        "colab": {
          "base_uri": "https://localhost:8080/"
        },
        "id": "pyEHqeWAcTpr",
        "outputId": "1b8ead2a-714f-4df4-804d-11ecc9db3a42",
        "trusted": true,
        "execution": {
          "iopub.status.busy": "2025-10-16T10:23:32.767803Z",
          "iopub.execute_input": "2025-10-16T10:23:32.768487Z",
          "iopub.status.idle": "2025-10-16T10:23:33.003318Z",
          "shell.execute_reply.started": "2025-10-16T10:23:32.768455Z",
          "shell.execute_reply": "2025-10-16T10:23:33.002229Z"
        }
      },
      "outputs": [
        {
          "output_type": "stream",
          "name": "stdout",
          "text": [
            "Collecting tensorflow\n",
            "  Downloading tensorflow-2.20.0-cp312-cp312-manylinux_2_17_x86_64.manylinux2014_x86_64.whl.metadata (4.5 kB)\n",
            "Requirement already satisfied: absl-py>=1.0.0 in /usr/local/lib/python3.12/dist-packages (from tensorflow) (1.4.0)\n",
            "Collecting astunparse>=1.6.0 (from tensorflow)\n",
            "  Downloading astunparse-1.6.3-py2.py3-none-any.whl.metadata (4.4 kB)\n",
            "Collecting flatbuffers>=24.3.25 (from tensorflow)\n",
            "  Downloading flatbuffers-25.9.23-py2.py3-none-any.whl.metadata (875 bytes)\n",
            "Requirement already satisfied: gast!=0.5.0,!=0.5.1,!=0.5.2,>=0.2.1 in /usr/local/lib/python3.12/dist-packages (from tensorflow) (0.6.0)\n",
            "Collecting google_pasta>=0.1.1 (from tensorflow)\n",
            "  Downloading google_pasta-0.2.0-py3-none-any.whl.metadata (814 bytes)\n",
            "Collecting libclang>=13.0.0 (from tensorflow)\n",
            "  Downloading libclang-18.1.1-py2.py3-none-manylinux2010_x86_64.whl.metadata (5.2 kB)\n",
            "Requirement already satisfied: opt_einsum>=2.3.2 in /usr/local/lib/python3.12/dist-packages (from tensorflow) (3.4.0)\n",
            "Requirement already satisfied: packaging in /usr/local/lib/python3.12/dist-packages (from tensorflow) (25.0)\n",
            "Requirement already satisfied: protobuf>=5.28.0 in /usr/local/lib/python3.12/dist-packages (from tensorflow) (6.32.1)\n",
            "Requirement already satisfied: requests<3,>=2.21.0 in /usr/local/lib/python3.12/dist-packages (from tensorflow) (2.32.4)\n",
            "Requirement already satisfied: setuptools in /usr/local/lib/python3.12/dist-packages (from tensorflow) (75.2.0)\n",
            "Requirement already satisfied: six>=1.12.0 in /usr/local/lib/python3.12/dist-packages (from tensorflow) (1.17.0)\n",
            "Requirement already satisfied: termcolor>=1.1.0 in /usr/local/lib/python3.12/dist-packages (from tensorflow) (3.1.0)\n",
            "Requirement already satisfied: typing_extensions>=3.6.6 in /usr/local/lib/python3.12/dist-packages (from tensorflow) (4.15.0)\n",
            "Requirement already satisfied: wrapt>=1.11.0 in /usr/local/lib/python3.12/dist-packages (from tensorflow) (1.17.3)\n",
            "Requirement already satisfied: grpcio<2.0,>=1.24.3 in /usr/local/lib/python3.12/dist-packages (from tensorflow) (1.75.1)\n",
            "Collecting tensorboard~=2.20.0 (from tensorflow)\n",
            "  Downloading tensorboard-2.20.0-py3-none-any.whl.metadata (1.8 kB)\n",
            "Requirement already satisfied: keras>=3.10.0 in /usr/local/lib/python3.12/dist-packages (from tensorflow) (3.10.0)\n",
            "Requirement already satisfied: numpy>=1.26.0 in /usr/local/lib/python3.12/dist-packages (from tensorflow) (2.0.2)\n",
            "Requirement already satisfied: h5py>=3.11.0 in /usr/local/lib/python3.12/dist-packages (from tensorflow) (3.14.0)\n",
            "Requirement already satisfied: ml_dtypes<1.0.0,>=0.5.1 in /usr/local/lib/python3.12/dist-packages (from tensorflow) (0.5.3)\n",
            "Collecting wheel<1.0,>=0.23.0 (from astunparse>=1.6.0->tensorflow)\n",
            "  Downloading wheel-0.45.1-py3-none-any.whl.metadata (2.3 kB)\n",
            "Requirement already satisfied: rich in /usr/local/lib/python3.12/dist-packages (from keras>=3.10.0->tensorflow) (14.1.0)\n",
            "Requirement already satisfied: namex in /usr/local/lib/python3.12/dist-packages (from keras>=3.10.0->tensorflow) (0.1.0)\n",
            "Requirement already satisfied: optree in /usr/local/lib/python3.12/dist-packages (from keras>=3.10.0->tensorflow) (0.17.0)\n",
            "Requirement already satisfied: charset_normalizer<4,>=2 in /usr/local/lib/python3.12/dist-packages (from requests<3,>=2.21.0->tensorflow) (3.4.3)\n",
            "Requirement already satisfied: idna<4,>=2.5 in /usr/local/lib/python3.12/dist-packages (from requests<3,>=2.21.0->tensorflow) (3.10)\n",
            "Requirement already satisfied: urllib3<3,>=1.21.1 in /usr/local/lib/python3.12/dist-packages (from requests<3,>=2.21.0->tensorflow) (2.5.0)\n",
            "Requirement already satisfied: certifi>=2017.4.17 in /usr/local/lib/python3.12/dist-packages (from requests<3,>=2.21.0->tensorflow) (2025.10.5)\n",
            "Requirement already satisfied: markdown>=2.6.8 in /usr/lib/python3/dist-packages (from tensorboard~=2.20.0->tensorflow) (3.3.6)\n",
            "Requirement already satisfied: pillow in /usr/local/lib/python3.12/dist-packages (from tensorboard~=2.20.0->tensorflow) (11.3.0)\n",
            "Collecting tensorboard-data-server<0.8.0,>=0.7.0 (from tensorboard~=2.20.0->tensorflow)\n",
            "  Downloading tensorboard_data_server-0.7.2-py3-none-manylinux_2_31_x86_64.whl.metadata (1.1 kB)\n",
            "Collecting werkzeug>=1.0.1 (from tensorboard~=2.20.0->tensorflow)\n",
            "  Downloading werkzeug-3.1.3-py3-none-any.whl.metadata (3.7 kB)\n",
            "Requirement already satisfied: MarkupSafe>=2.1.1 in /usr/local/lib/python3.12/dist-packages (from werkzeug>=1.0.1->tensorboard~=2.20.0->tensorflow) (3.0.3)\n",
            "Requirement already satisfied: markdown-it-py>=2.2.0 in /usr/local/lib/python3.12/dist-packages (from rich->keras>=3.10.0->tensorflow) (4.0.0)\n",
            "Requirement already satisfied: pygments<3.0.0,>=2.13.0 in /usr/local/lib/python3.12/dist-packages (from rich->keras>=3.10.0->tensorflow) (2.19.2)\n",
            "Requirement already satisfied: mdurl~=0.1 in /usr/local/lib/python3.12/dist-packages (from markdown-it-py>=2.2.0->rich->keras>=3.10.0->tensorflow) (0.1.2)\n",
            "Downloading tensorflow-2.20.0-cp312-cp312-manylinux_2_17_x86_64.manylinux2014_x86_64.whl (620.7 MB)\n",
            "\u001b[2K   \u001b[90m━━━━━━━━━━━━━━━━━━━━━━━━━━━━━━━━━━━━━━━\u001b[0m \u001b[32m620.7/620.7 MB\u001b[0m \u001b[31m844.8 kB/s\u001b[0m eta \u001b[36m0:00:00\u001b[0m\n",
            "\u001b[?25hDownloading astunparse-1.6.3-py2.py3-none-any.whl (12 kB)\n",
            "Downloading flatbuffers-25.9.23-py2.py3-none-any.whl (30 kB)\n",
            "Downloading google_pasta-0.2.0-py3-none-any.whl (57 kB)\n",
            "\u001b[2K   \u001b[90m━━━━━━━━━━━━━━━━━━━━━━━━━━━━━━━━━━━━━━━━\u001b[0m \u001b[32m57.5/57.5 kB\u001b[0m \u001b[31m5.9 MB/s\u001b[0m eta \u001b[36m0:00:00\u001b[0m\n",
            "\u001b[?25hDownloading libclang-18.1.1-py2.py3-none-manylinux2010_x86_64.whl (24.5 MB)\n",
            "\u001b[2K   \u001b[90m━━━━━━━━━━━━━━━━━━━━━━━━━━━━━━━━━━━━━━━━\u001b[0m \u001b[32m24.5/24.5 MB\u001b[0m \u001b[31m64.2 MB/s\u001b[0m eta \u001b[36m0:00:00\u001b[0m\n",
            "\u001b[?25hDownloading tensorboard-2.20.0-py3-none-any.whl (5.5 MB)\n",
            "\u001b[2K   \u001b[90m━━━━━━━━━━━━━━━━━━━━━━━━━━━━━━━━━━━━━━━━\u001b[0m \u001b[32m5.5/5.5 MB\u001b[0m \u001b[31m79.9 MB/s\u001b[0m eta \u001b[36m0:00:00\u001b[0m\n",
            "\u001b[?25hDownloading tensorboard_data_server-0.7.2-py3-none-manylinux_2_31_x86_64.whl (6.6 MB)\n",
            "\u001b[2K   \u001b[90m━━━━━━━━━━━━━━━━━━━━━━━━━━━━━━━━━━━━━━━━\u001b[0m \u001b[32m6.6/6.6 MB\u001b[0m \u001b[31m83.8 MB/s\u001b[0m eta \u001b[36m0:00:00\u001b[0m\n",
            "\u001b[?25hDownloading werkzeug-3.1.3-py3-none-any.whl (224 kB)\n",
            "\u001b[2K   \u001b[90m━━━━━━━━━━━━━━━━━━━━━━━━━━━━━━━━━━━━━━━━\u001b[0m \u001b[32m224.5/224.5 kB\u001b[0m \u001b[31m23.4 MB/s\u001b[0m eta \u001b[36m0:00:00\u001b[0m\n",
            "\u001b[?25hDownloading wheel-0.45.1-py3-none-any.whl (72 kB)\n",
            "\u001b[2K   \u001b[90m━━━━━━━━━━━━━━━━━━━━━━━━━━━━━━━━━━━━━━━━\u001b[0m \u001b[32m72.5/72.5 kB\u001b[0m \u001b[31m7.8 MB/s\u001b[0m eta \u001b[36m0:00:00\u001b[0m\n",
            "\u001b[?25hInstalling collected packages: libclang, flatbuffers, wheel, werkzeug, tensorboard-data-server, google_pasta, tensorboard, astunparse, tensorflow\n",
            "Successfully installed astunparse-1.6.3 flatbuffers-25.9.23 google_pasta-0.2.0 libclang-18.1.1 tensorboard-2.20.0 tensorboard-data-server-0.7.2 tensorflow-2.20.0 werkzeug-3.1.3 wheel-0.45.1\n"
          ]
        },
        {
          "output_type": "stream",
          "name": "stderr",
          "text": [
            "/usr/local/lib/python3.12/dist-packages/jax/_src/cloud_tpu_init.py:82: UserWarning: Transparent hugepages are not enabled. TPU runtime startup and shutdown time should be significantly improved on TPU v5e and newer. If not already set, you may need to enable transparent hugepages in your VM image (sudo sh -c \"echo always > /sys/kernel/mm/transparent_hugepage/enabled\")\n",
            "  warnings.warn(\n"
          ]
        },
        {
          "output_type": "stream",
          "name": "stdout",
          "text": [
            "/bin/bash: line 1: nvidia-smi: command not found\n"
          ]
        }
      ],
      "execution_count": 3
    },
    {
      "cell_type": "code",
      "source": [
        "tf.config.list_physical_devices()"
      ],
      "metadata": {
        "trusted": true,
        "execution": {
          "iopub.status.busy": "2025-10-15T06:26:15.222891Z",
          "iopub.execute_input": "2025-10-15T06:26:15.223454Z",
          "iopub.status.idle": "2025-10-15T06:26:15.228421Z",
          "shell.execute_reply.started": "2025-10-15T06:26:15.22343Z",
          "shell.execute_reply": "2025-10-15T06:26:15.227774Z"
        },
        "colab": {
          "base_uri": "https://localhost:8080/"
        },
        "id": "YJxYtjKDkaDj",
        "outputId": "48b034d9-1300-4570-eb19-cec7c49067d5"
      },
      "outputs": [
        {
          "output_type": "execute_result",
          "data": {
            "text/plain": [
              "[PhysicalDevice(name='/physical_device:CPU:0', device_type='CPU')]"
            ]
          },
          "metadata": {},
          "execution_count": 8
        }
      ],
      "execution_count": 8
    },
    {
      "cell_type": "markdown",
      "source": [
        "## Download and become one with data\n"
      ],
      "metadata": {
        "id": "5MKv8CmgdO_a"
      }
    },
    {
      "cell_type": "code",
      "source": [
        "# Get data (10% of 10 food classes from food101)\n",
        "!wget https://storage.googleapis.com/ztm_tf_course/food_vision/10_food_classes_10_percent.zip"
      ],
      "metadata": {
        "colab": {
          "base_uri": "https://localhost:8080/"
        },
        "id": "LeJJ_16XdZuo",
        "outputId": "5c9eeb74-0846-49f4-df7f-2e5856f26366",
        "trusted": true,
        "execution": {
          "iopub.status.busy": "2025-10-16T10:23:44.132827Z",
          "iopub.execute_input": "2025-10-16T10:23:44.133533Z",
          "iopub.status.idle": "2025-10-16T10:23:45.057172Z",
          "shell.execute_reply.started": "2025-10-16T10:23:44.133502Z",
          "shell.execute_reply": "2025-10-16T10:23:45.056388Z"
        }
      },
      "outputs": [
        {
          "output_type": "stream",
          "name": "stdout",
          "text": [
            "--2025-10-17 05:12:34--  https://storage.googleapis.com/ztm_tf_course/food_vision/10_food_classes_10_percent.zip\n",
            "Resolving storage.googleapis.com (storage.googleapis.com)... 172.253.117.207, 142.250.99.207, 142.250.107.207, ...\n",
            "Connecting to storage.googleapis.com (storage.googleapis.com)|172.253.117.207|:443... connected.\n",
            "HTTP request sent, awaiting response... 200 OK\n",
            "Length: 168546183 (161M) [application/zip]\n",
            "Saving to: ‘10_food_classes_10_percent.zip’\n",
            "\n",
            "10_food_classes_10_ 100%[===================>] 160.74M   133MB/s    in 1.2s    \n",
            "\n",
            "2025-10-17 05:12:35 (133 MB/s) - ‘10_food_classes_10_percent.zip’ saved [168546183/168546183]\n",
            "\n"
          ]
        }
      ],
      "execution_count": 6
    },
    {
      "cell_type": "code",
      "source": [
        "import zipfile\n",
        "with zipfile.ZipFile(\"10_food_classes_10_percent.zip\") as ziped_ref:\n",
        "  ziped_ref.extractall()\n"
      ],
      "metadata": {
        "id": "WJbi9bRzd3ui",
        "trusted": true,
        "execution": {
          "iopub.status.busy": "2025-10-16T10:23:56.009761Z",
          "iopub.execute_input": "2025-10-16T10:23:56.010081Z",
          "iopub.status.idle": "2025-10-16T10:23:57.196639Z",
          "shell.execute_reply.started": "2025-10-16T10:23:56.010052Z",
          "shell.execute_reply": "2025-10-16T10:23:57.195975Z"
        }
      },
      "outputs": [],
      "execution_count": 9
    },
    {
      "cell_type": "code",
      "source": [
        "!ls 10_food_classes_10_percent/train/hamburger"
      ],
      "metadata": {
        "colab": {
          "base_uri": "https://localhost:8080/"
        },
        "id": "WNr0LtH7eyyA",
        "outputId": "9794912b-8fa3-4add-e4ee-3a2df5293b66",
        "trusted": true,
        "execution": {
          "iopub.status.busy": "2025-10-15T06:26:25.732317Z",
          "iopub.execute_input": "2025-10-15T06:26:25.732574Z",
          "iopub.status.idle": "2025-10-15T06:26:25.866103Z",
          "shell.execute_reply.started": "2025-10-15T06:26:25.732556Z",
          "shell.execute_reply": "2025-10-15T06:26:25.865322Z"
        }
      },
      "outputs": [
        {
          "name": "stdout",
          "text": "1010140.jpg  1670180.jpg  2256750.jpg  3088660.jpg  3796218.jpg  583603.jpg\n1036215.jpg  1709710.jpg  2278946.jpg  3101158.jpg  3805565.jpg  604162.jpg\n1038553.jpg  1761259.jpg  248136.jpg   3125905.jpg  3878886.jpg  607735.jpg\n1086335.jpg  1802721.jpg  2534877.jpg  3140576.jpg  3912017.jpg  699176.jpg\n1122669.jpg  1818289.jpg  2565475.jpg  3156598.jpg  396083.jpg\t 73340.jpg\n1181766.jpg  1821268.jpg  2671820.jpg  3312172.jpg  419342.jpg\t 73783.jpg\n1228951.jpg  1822493.jpg  2722745.jpg  3346138.jpg  423924.jpg\t 76817.jpg\n124124.jpg   1828545.jpg  2797268.jpg  3354260.jpg  446192.jpg\t 816775.jpg\n1301947.jpg  1879189.jpg  29455.jpg    3486079.jpg  460108.jpg\t 91789.jpg\n1335771.jpg  1903326.jpg  2953924.jpg  3488531.jpg  477600.jpg\t 985020.jpg\n153931.jpg   2154348.jpg  2988095.jpg  3530013.jpg  509480.jpg\n1585333.jpg  2207445.jpg  3069250.jpg  3583066.jpg  554810.jpg\n1635356.jpg  2223416.jpg  3083927.jpg  379510.jpg   577673.jpg\n",
          "output_type": "stream"
        }
      ],
      "execution_count": null
    },
    {
      "cell_type": "code",
      "source": [
        "import os\n",
        "import pathlib\n",
        "\n",
        "for dirpath, dirnames,filenames in os.walk(\"10_food_classes_10_percent\"):\n",
        "  print(f\"there are {len(dirnames)} directories and {len(filenames)} images in {dirpath}\")"
      ],
      "metadata": {
        "colab": {
          "base_uri": "https://localhost:8080/"
        },
        "id": "JL3nOWQjfze0",
        "outputId": "98321f20-2eac-4beb-956e-7ec343efecf7",
        "trusted": true,
        "execution": {
          "iopub.status.busy": "2025-10-16T10:24:11.440839Z",
          "iopub.execute_input": "2025-10-16T10:24:11.441505Z",
          "iopub.status.idle": "2025-10-16T10:24:11.450149Z",
          "shell.execute_reply.started": "2025-10-16T10:24:11.441479Z",
          "shell.execute_reply": "2025-10-16T10:24:11.449377Z"
        }
      },
      "outputs": [
        {
          "output_type": "stream",
          "name": "stdout",
          "text": [
            "there are 2 directories and 0 images in 10_food_classes_10_percent\n",
            "there are 10 directories and 0 images in 10_food_classes_10_percent/test\n",
            "there are 0 directories and 250 images in 10_food_classes_10_percent/test/ice_cream\n",
            "there are 0 directories and 250 images in 10_food_classes_10_percent/test/grilled_salmon\n",
            "there are 0 directories and 250 images in 10_food_classes_10_percent/test/pizza\n",
            "there are 0 directories and 250 images in 10_food_classes_10_percent/test/ramen\n",
            "there are 0 directories and 250 images in 10_food_classes_10_percent/test/chicken_wings\n",
            "there are 0 directories and 250 images in 10_food_classes_10_percent/test/chicken_curry\n",
            "there are 0 directories and 250 images in 10_food_classes_10_percent/test/sushi\n",
            "there are 0 directories and 250 images in 10_food_classes_10_percent/test/steak\n",
            "there are 0 directories and 250 images in 10_food_classes_10_percent/test/fried_rice\n",
            "there are 0 directories and 250 images in 10_food_classes_10_percent/test/hamburger\n",
            "there are 10 directories and 0 images in 10_food_classes_10_percent/train\n",
            "there are 0 directories and 75 images in 10_food_classes_10_percent/train/ice_cream\n",
            "there are 0 directories and 75 images in 10_food_classes_10_percent/train/grilled_salmon\n",
            "there are 0 directories and 75 images in 10_food_classes_10_percent/train/pizza\n",
            "there are 0 directories and 75 images in 10_food_classes_10_percent/train/ramen\n",
            "there are 0 directories and 75 images in 10_food_classes_10_percent/train/chicken_wings\n",
            "there are 0 directories and 75 images in 10_food_classes_10_percent/train/chicken_curry\n",
            "there are 0 directories and 75 images in 10_food_classes_10_percent/train/sushi\n",
            "there are 0 directories and 75 images in 10_food_classes_10_percent/train/steak\n",
            "there are 0 directories and 75 images in 10_food_classes_10_percent/train/fried_rice\n",
            "there are 0 directories and 75 images in 10_food_classes_10_percent/train/hamburger\n"
          ]
        }
      ],
      "execution_count": 10
    },
    {
      "cell_type": "markdown",
      "source": [
        "## Create data loaders (preparing the data)"
      ],
      "metadata": {
        "id": "AYTxKoXthijN"
      }
    },
    {
      "cell_type": "code",
      "source": [
        "from tensorflow.keras.preprocessing.image import ImageDataGenerator\n",
        "IMAGE_SHAPE = (224,224)\n",
        "BATCH_SIZE = 32\n",
        "EPOCHS = 5\n",
        "train_dir = \"10_food_classes_10_percent/train\"\n",
        "test_dir = \"10_food_classes_10_percent/test\"\n",
        "train_datagen = ImageDataGenerator(rescale=1/225.)\n",
        "test_datagen = ImageDataGenerator(rescale=1/225.)\n",
        "print(\"Training images:\")\n",
        "train_data_10_percent = train_datagen.flow_from_directory(train_dir,\n",
        "                                                          target_size=IMAGE_SHAPE,\n",
        "                                                          batch_size=BATCH_SIZE,\n",
        "                                                          class_mode=\"categorical\")\n",
        "test_data = test_datagen.flow_from_directory(test_dir,\n",
        "                                             target_size=IMAGE_SHAPE,\n",
        "                                             batch_size=BATCH_SIZE,\n",
        "                                             class_mode=\"categorical\"\n",
        "                                             )\n"
      ],
      "metadata": {
        "colab": {
          "base_uri": "https://localhost:8080/"
        },
        "id": "iJPmKM58jHHt",
        "outputId": "27f60b88-f69b-465d-a4c6-97b07537c41a",
        "trusted": true,
        "execution": {
          "iopub.status.busy": "2025-10-16T10:24:15.938154Z",
          "iopub.execute_input": "2025-10-16T10:24:15.938749Z",
          "iopub.status.idle": "2025-10-16T10:24:16.153516Z",
          "shell.execute_reply.started": "2025-10-16T10:24:15.938726Z",
          "shell.execute_reply": "2025-10-16T10:24:16.152691Z"
        }
      },
      "outputs": [
        {
          "output_type": "stream",
          "name": "stdout",
          "text": [
            "Training images:\n",
            "Found 750 images belonging to 10 classes.\n",
            "Found 2500 images belonging to 10 classes.\n"
          ]
        }
      ],
      "execution_count": 11
    },
    {
      "cell_type": "code",
      "source": [
        "from tensorflow.keras.utils import image_dataset_from_directory\n",
        "train_dir = \"10_food_classes_10_percent/train\"\n",
        "test_dir = \"10_food_classes_10_percent/test\"\n",
        "train_dataset_10_percent = image_dataset_from_directory(train_dir,\n",
        "                                                             label_mode=\"categorical\",\n",
        "                                                             batch_size=32,\n",
        "                                                             image_size=(224,224),\n",
        "                                                             shuffle=True\n",
        "\n",
        "                                                             )\n",
        "test_dataset = image_dataset_from_directory(test_dir,\n",
        "                                           label_mode=\"categorical\",\n",
        "                                           batch_size=32,\n",
        "                                           image_size=(224,224),\n",
        "                                           shuffle=False)\n",
        "print(train_dataset_10_percent,test_dataset)"
      ],
      "metadata": {
        "colab": {
          "base_uri": "https://localhost:8080/"
        },
        "id": "ifPA72SoaVm2",
        "outputId": "9688172f-616d-4430-f7a4-5da1e6127c6c",
        "trusted": true,
        "execution": {
          "iopub.status.busy": "2025-10-16T10:24:20.066777Z",
          "iopub.execute_input": "2025-10-16T10:24:20.067304Z",
          "iopub.status.idle": "2025-10-16T10:24:22.766009Z",
          "shell.execute_reply.started": "2025-10-16T10:24:20.067281Z",
          "shell.execute_reply": "2025-10-16T10:24:22.765325Z"
        }
      },
      "outputs": [
        {
          "output_type": "stream",
          "name": "stdout",
          "text": [
            "Found 750 files belonging to 10 classes.\n",
            "Found 2500 files belonging to 10 classes.\n",
            "<_PrefetchDataset element_spec=(TensorSpec(shape=(None, 224, 224, 3), dtype=tf.float32, name=None), TensorSpec(shape=(None, 10), dtype=tf.float32, name=None))> <_PrefetchDataset element_spec=(TensorSpec(shape=(None, 224, 224, 3), dtype=tf.float32, name=None), TensorSpec(shape=(None, 10), dtype=tf.float32, name=None))>\n"
          ]
        }
      ],
      "execution_count": 12
    },
    {
      "cell_type": "code",
      "source": [
        "# # normalizing training and validation datasets\n",
        "# rescale_layer = tf.keras.layers.Rescaling(1./225)\n",
        "# train_dataset_10_percent_rescaled = train_data_10_percent_dataset.map(lambda data,label:(rescale_layer(data),label))\n",
        "# test_dataset_rescaled = test_dataset.map(lambda data,label:(rescale_layer(data),label))\n",
        "# print(train_dataset_10_percent_rescaled)"
      ],
      "metadata": {
        "id": "9uASVgEofyTm",
        "trusted": true
      },
      "outputs": [],
      "execution_count": null
    },
    {
      "cell_type": "code",
      "source": [
        "!git status"
      ],
      "metadata": {
        "trusted": true,
        "execution": {
          "iopub.status.busy": "2025-10-16T13:11:43.929632Z",
          "iopub.execute_input": "2025-10-16T13:11:43.929871Z",
          "iopub.status.idle": "2025-10-16T13:11:44.073636Z",
          "shell.execute_reply.started": "2025-10-16T13:11:43.929842Z",
          "shell.execute_reply": "2025-10-16T13:11:44.072798Z"
        },
        "colab": {
          "base_uri": "https://localhost:8080/"
        },
        "id": "pAKacNSakaDo",
        "outputId": "429d1c15-7611-4f86-c36a-d5299a24c6cb"
      },
      "outputs": [
        {
          "output_type": "stream",
          "name": "stdout",
          "text": [
            "fatal: not a git repository (or any of the parent directories): .git\n"
          ]
        }
      ],
      "execution_count": 13
    },
    {
      "cell_type": "code",
      "source": [
        "# AUTOTUNE = tf.data.AUTOTUNE\n",
        "\n",
        "# train_dataset_10_percent = train_data_10_percent.prefetch(buffer_size=AUTOTUNE)\n",
        "# test_dataset = test_dataset.prefetch(buffer_size=AUTOTUNE)\n"
      ],
      "metadata": {
        "id": "KjWT7O5PhgTW",
        "trusted": true
      },
      "outputs": [],
      "execution_count": null
    },
    {
      "cell_type": "code",
      "source": [
        "data_augmentation = tf.keras.Sequential([\n",
        "    tf.keras.layers.Rescaling(1/255.),\n",
        "    tf.keras.layers.RandomFlip(\"horizontal\"),\n",
        "    tf.keras.layers.RandomFlip(\"vertical\"),\n",
        "    tf.keras.layers.RandomZoom(0.2),\n",
        "    tf.keras.layers.RandomRotation(0.2)\n",
        "])\n",
        "# train_dataset_10_percent_rescaled = train_dataset_10_percent_rescaled.map(lambda data,label:(data_augmentation(data,training=True),label))"
      ],
      "metadata": {
        "id": "JhpAixpRhf6K",
        "trusted": true,
        "execution": {
          "iopub.status.busy": "2025-10-16T10:24:29.035882Z",
          "iopub.execute_input": "2025-10-16T10:24:29.036514Z",
          "iopub.status.idle": "2025-10-16T10:24:29.060025Z",
          "shell.execute_reply.started": "2025-10-16T10:24:29.03649Z",
          "shell.execute_reply": "2025-10-16T10:24:29.059459Z"
        }
      },
      "outputs": [],
      "execution_count": 14
    },
    {
      "cell_type": "code",
      "source": [
        "def create_model(model_url,num_classes):\n",
        "  \"\"\"\n",
        "  Takes a Tensorflow Hub URL and creates a Keras Sequential model with it.\n",
        "\n",
        "  Args:\n",
        "    model_url (str): A TensorFlow Hub feature extraction URL.\n",
        "    num_classes (int): Number of output neurons in the output layer,\n",
        "    should be equeal to number of target classes, default 10.\n",
        "\n",
        "  Returns:\n",
        "    An uncompiled Keras Sequentail model wtih model_url as feature extractor\n",
        "    layer and Dense output layer with num_classes output neurons.\n",
        "\n",
        "  \"\"\"\n",
        "  # Download the pretrained model and save it as keras layer\n",
        "  feature_extractor_layer = hub.KerasLayer(model_url,\n",
        "                                           trainable=False,\n",
        "                                           name=\"feature_extraction_layer\",\n",
        "                                           input_shape=IMAGE_SHAPE +(3,) # 3 for rgb color\n",
        "                                           ) #freeze already learned patterns\n",
        "\n",
        "  # Create our own model\n",
        "  model = tf.keras.Sequential([\n",
        "      feature_extractor_layer,\n",
        "      layers.Dense(10,activation=\"softmax\",name=\"output layer\")\n",
        "      ])\n",
        "\n",
        "  return model\n"
      ],
      "metadata": {
        "id": "n4eaxCn7HMS0",
        "trusted": true
      },
      "outputs": [],
      "execution_count": null
    },
    {
      "cell_type": "markdown",
      "source": [
        "## Setting up callbacks (this to run whilst our model trains)\n",
        "coallbacks are extra functionality you can add to your models to be performed during or after training. Some of the most popular coallbacks:\n",
        "* Tracking experiments with the TensorBoard callbacks\n",
        "* Model checkpoint with the ModelCheckpoint callbacks\n",
        "* Stopping a model from training (before it trains too long and overfits) with the EarlyStopping callbacks"
      ],
      "metadata": {
        "id": "QJXzzfGymrTK"
      }
    },
    {
      "cell_type": "code",
      "source": [
        "# Create tensorboard callback( functionized because we need to create a new one for each model)\n",
        "import datetime\n",
        "def create_tensorboard_callback(dir_name,experiment_name):\n",
        "  log_dir = os.path.join(dir_name,experiment_name,datetime.datetime.now().strftime(\"%Y%m%d-%H%M%S\"))\n",
        "  tensorboard_callback = tf.keras.callbacks.TensorBoard(log_dir=log_dir)\n",
        "  print(f\"Saving TensorBoard log files to : {log_dir}\")\n",
        "  return tensorboard_callback\n",
        "\n"
      ],
      "metadata": {
        "id": "UmSGpVlSoOdY",
        "trusted": true,
        "execution": {
          "iopub.status.busy": "2025-10-16T10:24:37.389158Z",
          "iopub.execute_input": "2025-10-16T10:24:37.389515Z",
          "iopub.status.idle": "2025-10-16T10:24:37.393811Z",
          "shell.execute_reply.started": "2025-10-16T10:24:37.389492Z",
          "shell.execute_reply": "2025-10-16T10:24:37.393113Z"
        }
      },
      "outputs": [],
      "execution_count": 15
    },
    {
      "cell_type": "markdown",
      "source": [
        "### Creating and testing ResNet kaggle Hub Feature Extraction model"
      ],
      "metadata": {
        "id": "8TYNcXYCKS0v"
      }
    },
    {
      "cell_type": "markdown",
      "source": [
        "\\## Creating a models using Kaggle Hub\n",
        "In the past we've used TensorFlow to create our own models layer by layer from scratch.\n",
        "\n",
        "Now we're going to do a similar process, except the majority of our model's layers are going to come from Kaggle Hub.\n",
        "We can access pretrained models [here](https://www.kaggle.com/models/tensorflow/efficientnet/tensorFlow2/b0-feature-vector/1?tfhub-redirect=true&utm_source=chatgpt.com)"
      ],
      "metadata": {
        "id": "iVN7S92yyBfq"
      }
    },
    {
      "cell_type": "code",
      "source": [
        "# !pip install tensorflow_hub\n",
        "from tensorflow import keras\n",
        "import tensorflow_hub as hub\n",
        "class ResNetLayer(keras.layers.Layer):\n",
        "    def __init__(self, resNet_feature_extractor_url, **kwargs):\n",
        "        super().__init__(**kwargs)\n",
        "        # create the hub layer inside init\n",
        "        self.resNet_feature_extractor_url = resNet_feature_extractor_url\n",
        "        self.resNet_feature_extractor = hub.KerasLayer(resNet_feature_extractor_url)\n",
        "\n",
        "    def call(self, inputs):\n",
        "        return self.resNet_feature_extractor(inputs)\n",
        "\n",
        "    def get_config(self):\n",
        "        config = super().get_config()\n",
        "        config.update({\n",
        "            \"resNet_feature_extractor_url\": self.resNet_feature_extractor_url\n",
        "        })\n",
        "        return config\n",
        "\n",
        "\n",
        "resNet_feature_extractor = ResNetLayer(\"https://www.kaggle.com/models/tensorflow/resnet-50/TensorFlow2/classification/1\")\n",
        "\n",
        "resNet_model = tf.keras.Sequential([\n",
        "    keras.Input(shape=(224,224,3)),\n",
        "    data_augmentation,\n",
        "    resNet_feature_extractor,\n",
        "    keras.layers.Dense(10,activation=\"softmax\")\n",
        "])\n",
        "resNet_model.compile(loss=\"categorical_crossentropy\",\n",
        "                     optimizer=\"adam\",\n",
        "                     metrics=[\"accuracy\"])\n",
        "history_resNet_model = resNet_model.fit(train_dataset_10_percent,\n",
        "                                        epochs=20,\n",
        "                                        steps_per_epoch=len(train_dataset_10_percent),\n",
        "                                        validation_data=test_dataset,\n",
        "                                        validation_steps=len(test_dataset),\n",
        "                                        callbacks=[create_tensorboard_callback(\"TensorFlow_Hub\",\"resNet_model\")]\n",
        "                                        )\n"
      ],
      "metadata": {
        "colab": {
          "base_uri": "https://localhost:8080/"
        },
        "id": "pKoFcyGpIz0E",
        "outputId": "b1ab303d-b9a5-475f-e2f7-faa298240319",
        "trusted": true,
        "execution": {
          "iopub.status.busy": "2025-10-16T10:28:30.84389Z",
          "iopub.execute_input": "2025-10-16T10:28:30.844559Z",
          "iopub.status.idle": "2025-10-16T10:32:06.230955Z",
          "shell.execute_reply.started": "2025-10-16T10:28:30.844535Z",
          "shell.execute_reply": "2025-10-16T10:32:06.230391Z"
        }
      },
      "outputs": [
        {
          "output_type": "stream",
          "name": "stdout",
          "text": [
            "Collecting tensorflow_hub\n",
            "  Downloading tensorflow_hub-0.16.1-py2.py3-none-any.whl.metadata (1.3 kB)\n",
            "Requirement already satisfied: numpy>=1.12.0 in /usr/local/lib/python3.12/dist-packages (from tensorflow_hub) (2.0.2)\n",
            "Requirement already satisfied: protobuf>=3.19.6 in /usr/local/lib/python3.12/dist-packages (from tensorflow_hub) (6.32.1)\n",
            "Collecting tf-keras>=2.14.1 (from tensorflow_hub)\n",
            "  Downloading tf_keras-2.20.1-py3-none-any.whl.metadata (1.8 kB)\n",
            "Requirement already satisfied: tensorflow<2.21,>=2.20 in /usr/local/lib/python3.12/dist-packages (from tf-keras>=2.14.1->tensorflow_hub) (2.20.0)\n",
            "Requirement already satisfied: absl-py>=1.0.0 in /usr/local/lib/python3.12/dist-packages (from tensorflow<2.21,>=2.20->tf-keras>=2.14.1->tensorflow_hub) (1.4.0)\n",
            "Requirement already satisfied: astunparse>=1.6.0 in /usr/local/lib/python3.12/dist-packages (from tensorflow<2.21,>=2.20->tf-keras>=2.14.1->tensorflow_hub) (1.6.3)\n",
            "Requirement already satisfied: flatbuffers>=24.3.25 in /usr/local/lib/python3.12/dist-packages (from tensorflow<2.21,>=2.20->tf-keras>=2.14.1->tensorflow_hub) (25.9.23)\n",
            "Requirement already satisfied: gast!=0.5.0,!=0.5.1,!=0.5.2,>=0.2.1 in /usr/local/lib/python3.12/dist-packages (from tensorflow<2.21,>=2.20->tf-keras>=2.14.1->tensorflow_hub) (0.6.0)\n",
            "Requirement already satisfied: google_pasta>=0.1.1 in /usr/local/lib/python3.12/dist-packages (from tensorflow<2.21,>=2.20->tf-keras>=2.14.1->tensorflow_hub) (0.2.0)\n",
            "Requirement already satisfied: libclang>=13.0.0 in /usr/local/lib/python3.12/dist-packages (from tensorflow<2.21,>=2.20->tf-keras>=2.14.1->tensorflow_hub) (18.1.1)\n",
            "Requirement already satisfied: opt_einsum>=2.3.2 in /usr/local/lib/python3.12/dist-packages (from tensorflow<2.21,>=2.20->tf-keras>=2.14.1->tensorflow_hub) (3.4.0)\n",
            "Requirement already satisfied: packaging in /usr/local/lib/python3.12/dist-packages (from tensorflow<2.21,>=2.20->tf-keras>=2.14.1->tensorflow_hub) (25.0)\n",
            "Requirement already satisfied: requests<3,>=2.21.0 in /usr/local/lib/python3.12/dist-packages (from tensorflow<2.21,>=2.20->tf-keras>=2.14.1->tensorflow_hub) (2.32.4)\n",
            "Requirement already satisfied: setuptools in /usr/local/lib/python3.12/dist-packages (from tensorflow<2.21,>=2.20->tf-keras>=2.14.1->tensorflow_hub) (75.2.0)\n",
            "Requirement already satisfied: six>=1.12.0 in /usr/local/lib/python3.12/dist-packages (from tensorflow<2.21,>=2.20->tf-keras>=2.14.1->tensorflow_hub) (1.17.0)\n",
            "Requirement already satisfied: termcolor>=1.1.0 in /usr/local/lib/python3.12/dist-packages (from tensorflow<2.21,>=2.20->tf-keras>=2.14.1->tensorflow_hub) (3.1.0)\n",
            "Requirement already satisfied: typing_extensions>=3.6.6 in /usr/local/lib/python3.12/dist-packages (from tensorflow<2.21,>=2.20->tf-keras>=2.14.1->tensorflow_hub) (4.15.0)\n",
            "Requirement already satisfied: wrapt>=1.11.0 in /usr/local/lib/python3.12/dist-packages (from tensorflow<2.21,>=2.20->tf-keras>=2.14.1->tensorflow_hub) (1.17.3)\n",
            "Requirement already satisfied: grpcio<2.0,>=1.24.3 in /usr/local/lib/python3.12/dist-packages (from tensorflow<2.21,>=2.20->tf-keras>=2.14.1->tensorflow_hub) (1.75.1)\n",
            "Requirement already satisfied: tensorboard~=2.20.0 in /usr/local/lib/python3.12/dist-packages (from tensorflow<2.21,>=2.20->tf-keras>=2.14.1->tensorflow_hub) (2.20.0)\n",
            "Requirement already satisfied: keras>=3.10.0 in /usr/local/lib/python3.12/dist-packages (from tensorflow<2.21,>=2.20->tf-keras>=2.14.1->tensorflow_hub) (3.10.0)\n",
            "Requirement already satisfied: h5py>=3.11.0 in /usr/local/lib/python3.12/dist-packages (from tensorflow<2.21,>=2.20->tf-keras>=2.14.1->tensorflow_hub) (3.14.0)\n",
            "Requirement already satisfied: ml_dtypes<1.0.0,>=0.5.1 in /usr/local/lib/python3.12/dist-packages (from tensorflow<2.21,>=2.20->tf-keras>=2.14.1->tensorflow_hub) (0.5.3)\n",
            "Requirement already satisfied: wheel<1.0,>=0.23.0 in /usr/local/lib/python3.12/dist-packages (from astunparse>=1.6.0->tensorflow<2.21,>=2.20->tf-keras>=2.14.1->tensorflow_hub) (0.45.1)\n",
            "Requirement already satisfied: rich in /usr/local/lib/python3.12/dist-packages (from keras>=3.10.0->tensorflow<2.21,>=2.20->tf-keras>=2.14.1->tensorflow_hub) (14.1.0)\n",
            "Requirement already satisfied: namex in /usr/local/lib/python3.12/dist-packages (from keras>=3.10.0->tensorflow<2.21,>=2.20->tf-keras>=2.14.1->tensorflow_hub) (0.1.0)\n",
            "Requirement already satisfied: optree in /usr/local/lib/python3.12/dist-packages (from keras>=3.10.0->tensorflow<2.21,>=2.20->tf-keras>=2.14.1->tensorflow_hub) (0.17.0)\n",
            "Requirement already satisfied: charset_normalizer<4,>=2 in /usr/local/lib/python3.12/dist-packages (from requests<3,>=2.21.0->tensorflow<2.21,>=2.20->tf-keras>=2.14.1->tensorflow_hub) (3.4.3)\n",
            "Requirement already satisfied: idna<4,>=2.5 in /usr/local/lib/python3.12/dist-packages (from requests<3,>=2.21.0->tensorflow<2.21,>=2.20->tf-keras>=2.14.1->tensorflow_hub) (3.10)\n",
            "Requirement already satisfied: urllib3<3,>=1.21.1 in /usr/local/lib/python3.12/dist-packages (from requests<3,>=2.21.0->tensorflow<2.21,>=2.20->tf-keras>=2.14.1->tensorflow_hub) (2.5.0)\n",
            "Requirement already satisfied: certifi>=2017.4.17 in /usr/local/lib/python3.12/dist-packages (from requests<3,>=2.21.0->tensorflow<2.21,>=2.20->tf-keras>=2.14.1->tensorflow_hub) (2025.10.5)\n",
            "Requirement already satisfied: markdown>=2.6.8 in /usr/lib/python3/dist-packages (from tensorboard~=2.20.0->tensorflow<2.21,>=2.20->tf-keras>=2.14.1->tensorflow_hub) (3.3.6)\n",
            "Requirement already satisfied: pillow in /usr/local/lib/python3.12/dist-packages (from tensorboard~=2.20.0->tensorflow<2.21,>=2.20->tf-keras>=2.14.1->tensorflow_hub) (11.3.0)\n",
            "Requirement already satisfied: tensorboard-data-server<0.8.0,>=0.7.0 in /usr/local/lib/python3.12/dist-packages (from tensorboard~=2.20.0->tensorflow<2.21,>=2.20->tf-keras>=2.14.1->tensorflow_hub) (0.7.2)\n",
            "Requirement already satisfied: werkzeug>=1.0.1 in /usr/local/lib/python3.12/dist-packages (from tensorboard~=2.20.0->tensorflow<2.21,>=2.20->tf-keras>=2.14.1->tensorflow_hub) (3.1.3)\n",
            "Requirement already satisfied: MarkupSafe>=2.1.1 in /usr/local/lib/python3.12/dist-packages (from werkzeug>=1.0.1->tensorboard~=2.20.0->tensorflow<2.21,>=2.20->tf-keras>=2.14.1->tensorflow_hub) (3.0.3)\n",
            "Requirement already satisfied: markdown-it-py>=2.2.0 in /usr/local/lib/python3.12/dist-packages (from rich->keras>=3.10.0->tensorflow<2.21,>=2.20->tf-keras>=2.14.1->tensorflow_hub) (4.0.0)\n",
            "Requirement already satisfied: pygments<3.0.0,>=2.13.0 in /usr/local/lib/python3.12/dist-packages (from rich->keras>=3.10.0->tensorflow<2.21,>=2.20->tf-keras>=2.14.1->tensorflow_hub) (2.19.2)\n",
            "Requirement already satisfied: mdurl~=0.1 in /usr/local/lib/python3.12/dist-packages (from markdown-it-py>=2.2.0->rich->keras>=3.10.0->tensorflow<2.21,>=2.20->tf-keras>=2.14.1->tensorflow_hub) (0.1.2)\n",
            "Downloading tensorflow_hub-0.16.1-py2.py3-none-any.whl (30 kB)\n",
            "Downloading tf_keras-2.20.1-py3-none-any.whl (1.7 MB)\n",
            "\u001b[2K   \u001b[90m━━━━━━━━━━━━━━━━━━━━━━━━━━━━━━━━━━━━━━━━\u001b[0m \u001b[32m1.7/1.7 MB\u001b[0m \u001b[31m33.4 MB/s\u001b[0m eta \u001b[36m0:00:00\u001b[0m\n",
            "\u001b[?25hInstalling collected packages: tf-keras, tensorflow_hub\n",
            "Successfully installed tensorflow_hub-0.16.1 tf-keras-2.20.1\n",
            "Saving TensorBoard log files to : TensorFlow_Hub/resNet_model/20251017-051457\n",
            "Epoch 1/20\n",
            "\u001b[1m24/24\u001b[0m \u001b[32m━━━━━━━━━━━━━━━━━━━━\u001b[0m\u001b[37m\u001b[0m \u001b[1m209s\u001b[0m 9s/step - accuracy: 0.1449 - loss: 2.2997 - val_accuracy: 0.2964 - val_loss: 2.2867\n",
            "Epoch 2/20\n",
            "\u001b[1m24/24\u001b[0m \u001b[32m━━━━━━━━━━━━━━━━━━━━\u001b[0m\u001b[37m\u001b[0m \u001b[1m203s\u001b[0m 9s/step - accuracy: 0.2674 - loss: 2.2880 - val_accuracy: 0.4196 - val_loss: 2.2709\n",
            "Epoch 3/20\n",
            "\u001b[1m24/24\u001b[0m \u001b[32m━━━━━━━━━━━━━━━━━━━━\u001b[0m\u001b[37m\u001b[0m \u001b[1m204s\u001b[0m 9s/step - accuracy: 0.3932 - loss: 2.2755 - val_accuracy: 0.4460 - val_loss: 2.2554\n",
            "Epoch 4/20\n",
            "\u001b[1m24/24\u001b[0m \u001b[32m━━━━━━━━━━━━━━━━━━━━\u001b[0m\u001b[37m\u001b[0m \u001b[1m203s\u001b[0m 9s/step - accuracy: 0.4384 - loss: 2.2646 - val_accuracy: 0.4640 - val_loss: 2.2412\n",
            "Epoch 5/20\n",
            "\u001b[1m24/24\u001b[0m \u001b[32m━━━━━━━━━━━━━━━━━━━━\u001b[0m\u001b[37m\u001b[0m \u001b[1m202s\u001b[0m 9s/step - accuracy: 0.4889 - loss: 2.2539 - val_accuracy: 0.5404 - val_loss: 2.2264\n",
            "Epoch 6/20\n",
            "\u001b[1m24/24\u001b[0m \u001b[32m━━━━━━━━━━━━━━━━━━━━\u001b[0m\u001b[37m\u001b[0m \u001b[1m0s\u001b[0m 2s/step - accuracy: 0.5028 - loss: 2.2447"
          ]
        }
      ],
      "execution_count": null
    },
    {
      "cell_type": "code",
      "source": [
        "resNet_model.summary()"
      ],
      "metadata": {
        "id": "OKyxp8FFLw_C",
        "trusted": true,
        "execution": {
          "iopub.status.busy": "2025-10-14T14:31:42.254604Z",
          "iopub.execute_input": "2025-10-14T14:31:42.254865Z",
          "iopub.status.idle": "2025-10-14T14:31:42.270151Z",
          "shell.execute_reply.started": "2025-10-14T14:31:42.254846Z",
          "shell.execute_reply": "2025-10-14T14:31:42.269346Z"
        },
        "outputId": "a528e2ea-0b21-4cd4-b66a-e15c52276450"
      },
      "outputs": [
        {
          "output_type": "display_data",
          "data": {
            "text/plain": "\u001b[1mModel: \"sequential_1\"\u001b[0m\n",
            "text/html": "<pre style=\"white-space:pre;overflow-x:auto;line-height:normal;font-family:Menlo,'DejaVu Sans Mono',consolas,'Courier New',monospace\"><span style=\"font-weight: bold\">Model: \"sequential_1\"</span>\n</pre>\n"
          },
          "metadata": {}
        },
        {
          "output_type": "display_data",
          "data": {
            "text/plain": "┏━━━━━━━━━━━━━━━━━━━━━━━━━━━━━━━━━┳━━━━━━━━━━━━━━━━━━━━━━━━┳━━━━━━━━━━━━━━━┓\n┃\u001b[1m \u001b[0m\u001b[1mLayer (type)                   \u001b[0m\u001b[1m \u001b[0m┃\u001b[1m \u001b[0m\u001b[1mOutput Shape          \u001b[0m\u001b[1m \u001b[0m┃\u001b[1m \u001b[0m\u001b[1m      Param #\u001b[0m\u001b[1m \u001b[0m┃\n┡━━━━━━━━━━━━━━━━━━━━━━━━━━━━━━━━━╇━━━━━━━━━━━━━━━━━━━━━━━━╇━━━━━━━━━━━━━━━┩\n│ sequential (\u001b[38;5;33mSequential\u001b[0m)         │ (\u001b[38;5;45mNone\u001b[0m, \u001b[38;5;34m224\u001b[0m, \u001b[38;5;34m224\u001b[0m, \u001b[38;5;34m3\u001b[0m)    │             \u001b[38;5;34m0\u001b[0m │\n├─────────────────────────────────┼────────────────────────┼───────────────┤\n│ res_net_layer (\u001b[38;5;33mResNetLayer\u001b[0m)     │ (\u001b[38;5;45mNone\u001b[0m, \u001b[38;5;34m1001\u001b[0m)           │             \u001b[38;5;34m0\u001b[0m │\n├─────────────────────────────────┼────────────────────────┼───────────────┤\n│ dense (\u001b[38;5;33mDense\u001b[0m)                   │ (\u001b[38;5;45mNone\u001b[0m, \u001b[38;5;34m10\u001b[0m)             │        \u001b[38;5;34m10,020\u001b[0m │\n└─────────────────────────────────┴────────────────────────┴───────────────┘\n",
            "text/html": "<pre style=\"white-space:pre;overflow-x:auto;line-height:normal;font-family:Menlo,'DejaVu Sans Mono',consolas,'Courier New',monospace\">┏━━━━━━━━━━━━━━━━━━━━━━━━━━━━━━━━━┳━━━━━━━━━━━━━━━━━━━━━━━━┳━━━━━━━━━━━━━━━┓\n┃<span style=\"font-weight: bold\"> Layer (type)                    </span>┃<span style=\"font-weight: bold\"> Output Shape           </span>┃<span style=\"font-weight: bold\">       Param # </span>┃\n┡━━━━━━━━━━━━━━━━━━━━━━━━━━━━━━━━━╇━━━━━━━━━━━━━━━━━━━━━━━━╇━━━━━━━━━━━━━━━┩\n│ sequential (<span style=\"color: #0087ff; text-decoration-color: #0087ff\">Sequential</span>)         │ (<span style=\"color: #00d7ff; text-decoration-color: #00d7ff\">None</span>, <span style=\"color: #00af00; text-decoration-color: #00af00\">224</span>, <span style=\"color: #00af00; text-decoration-color: #00af00\">224</span>, <span style=\"color: #00af00; text-decoration-color: #00af00\">3</span>)    │             <span style=\"color: #00af00; text-decoration-color: #00af00\">0</span> │\n├─────────────────────────────────┼────────────────────────┼───────────────┤\n│ res_net_layer (<span style=\"color: #0087ff; text-decoration-color: #0087ff\">ResNetLayer</span>)     │ (<span style=\"color: #00d7ff; text-decoration-color: #00d7ff\">None</span>, <span style=\"color: #00af00; text-decoration-color: #00af00\">1001</span>)           │             <span style=\"color: #00af00; text-decoration-color: #00af00\">0</span> │\n├─────────────────────────────────┼────────────────────────┼───────────────┤\n│ dense (<span style=\"color: #0087ff; text-decoration-color: #0087ff\">Dense</span>)                   │ (<span style=\"color: #00d7ff; text-decoration-color: #00d7ff\">None</span>, <span style=\"color: #00af00; text-decoration-color: #00af00\">10</span>)             │        <span style=\"color: #00af00; text-decoration-color: #00af00\">10,020</span> │\n└─────────────────────────────────┴────────────────────────┴───────────────┘\n</pre>\n"
          },
          "metadata": {}
        },
        {
          "output_type": "display_data",
          "data": {
            "text/plain": "\u001b[1m Total params: \u001b[0m\u001b[38;5;34m30,062\u001b[0m (117.43 KB)\n",
            "text/html": "<pre style=\"white-space:pre;overflow-x:auto;line-height:normal;font-family:Menlo,'DejaVu Sans Mono',consolas,'Courier New',monospace\"><span style=\"font-weight: bold\"> Total params: </span><span style=\"color: #00af00; text-decoration-color: #00af00\">30,062</span> (117.43 KB)\n</pre>\n"
          },
          "metadata": {}
        },
        {
          "output_type": "display_data",
          "data": {
            "text/plain": "\u001b[1m Trainable params: \u001b[0m\u001b[38;5;34m10,020\u001b[0m (39.14 KB)\n",
            "text/html": "<pre style=\"white-space:pre;overflow-x:auto;line-height:normal;font-family:Menlo,'DejaVu Sans Mono',consolas,'Courier New',monospace\"><span style=\"font-weight: bold\"> Trainable params: </span><span style=\"color: #00af00; text-decoration-color: #00af00\">10,020</span> (39.14 KB)\n</pre>\n"
          },
          "metadata": {}
        },
        {
          "output_type": "display_data",
          "data": {
            "text/plain": "\u001b[1m Non-trainable params: \u001b[0m\u001b[38;5;34m0\u001b[0m (0.00 B)\n",
            "text/html": "<pre style=\"white-space:pre;overflow-x:auto;line-height:normal;font-family:Menlo,'DejaVu Sans Mono',consolas,'Courier New',monospace\"><span style=\"font-weight: bold\"> Non-trainable params: </span><span style=\"color: #00af00; text-decoration-color: #00af00\">0</span> (0.00 B)\n</pre>\n"
          },
          "metadata": {}
        },
        {
          "output_type": "display_data",
          "data": {
            "text/plain": "\u001b[1m Optimizer params: \u001b[0m\u001b[38;5;34m20,042\u001b[0m (78.29 KB)\n",
            "text/html": "<pre style=\"white-space:pre;overflow-x:auto;line-height:normal;font-family:Menlo,'DejaVu Sans Mono',consolas,'Courier New',monospace\"><span style=\"font-weight: bold\"> Optimizer params: </span><span style=\"color: #00af00; text-decoration-color: #00af00\">20,042</span> (78.29 KB)\n</pre>\n"
          },
          "metadata": {}
        }
      ],
      "execution_count": null
    },
    {
      "cell_type": "code",
      "source": [
        "import matplotlib.pyplot as plt\n",
        "def plot_loss_curves(history):\n",
        "  loss = history.history[\"loss\"]\n",
        "  val_loss = history.history[\"val_loss\"]\n",
        "  accuracy = history.history[\"accuracy\"]\n",
        "  val_accuracy = history.history[\"val_accuracy\"]\n",
        "  epochs = range(0,len(loss))\n",
        "  plt.plot(epochs,loss,label=\"training loss\",color=\"red\")\n",
        "  plt.plot(epochs,val_loss,label=\"validation loss\")\n",
        "  plt.title(\"training and validation loss over epoch\")\n",
        "  plt.xlabel(\"epoch\")\n",
        "  plt.ylabel(\"val and training loss\")\n",
        "  plt.legend()\n",
        "  plt.figure()\n",
        "  plt.plot(epochs,accuracy,label=\"training accuracy\",color=\"green\")\n",
        "  plt.plot(epochs,val_accuracy,label=\"validation accuracy\")\n",
        "  plt.title(\"validation and training accuracy\")\n",
        "  plt.xlabel(\"epochs\")\n",
        "  plt.ylabel(\"val and training accuracy\")\n",
        "  plt.legend()"
      ],
      "metadata": {
        "trusted": true,
        "execution": {
          "iopub.status.busy": "2025-10-16T10:32:51.104886Z",
          "iopub.execute_input": "2025-10-16T10:32:51.105162Z",
          "iopub.status.idle": "2025-10-16T10:32:51.110722Z",
          "shell.execute_reply.started": "2025-10-16T10:32:51.105141Z",
          "shell.execute_reply": "2025-10-16T10:32:51.109914Z"
        },
        "id": "jzpMlLL0kaDr"
      },
      "outputs": [],
      "execution_count": null
    },
    {
      "cell_type": "code",
      "source": [
        "plot_loss_curves(history_resNet_model)"
      ],
      "metadata": {
        "trusted": true,
        "execution": {
          "iopub.status.busy": "2025-10-16T10:32:55.634769Z",
          "iopub.execute_input": "2025-10-16T10:32:55.63504Z",
          "iopub.status.idle": "2025-10-16T10:32:56.166903Z",
          "shell.execute_reply.started": "2025-10-16T10:32:55.63502Z",
          "shell.execute_reply": "2025-10-16T10:32:56.166124Z"
        },
        "id": "aqjybpD-kaDr",
        "outputId": "c8117921-2667-4622-be29-4abfa7e61928"
      },
      "outputs": [
        {
          "output_type": "display_data",
          "data": {
            "text/plain": "<Figure size 640x480 with 1 Axes>",
            "image/png": "[encoded data removed]"
          },
          "metadata": {}
        },
        {
          "output_type": "display_data",
          "data": {
            "text/plain": "<Figure size 640x480 with 1 Axes>",
            "image/png": "[encoded data removed]"
          },
          "metadata": {}
        }
      ],
      "execution_count": null
    },
    {
      "cell_type": "code",
      "source": [
        "\n",
        "\n",
        "# Step 3: Wrap the SavedModel in a Keras Layer\n",
        "class EfficientNetLayer(keras.layers.Layer):\n",
        "    def __init__(self, resNet_feature_extractor_url, **kwargs):\n",
        "        super().__init__(**kwargs)\n",
        "        # create the hub layer inside init\n",
        "        self.resNet_feature_extractor_url = resNet_feature_extractor_url\n",
        "        self.resNet_feature_extractor = hub.KerasLayer(resNet_feature_extractor_url)\n",
        "\n",
        "    def call(self, inputs):\n",
        "        return self.resNet_feature_extractor(inputs)\n",
        "\n",
        "    def get_config(self):\n",
        "        config = super().get_config()\n",
        "        config.update({\n",
        "            \"efficientNet_feature_extractor_url\": self.resNet_feature_extractor_url\n",
        "        })\n",
        "        return config\n",
        "\n",
        "# Step 4: Build Sequential model\n",
        "num_classes = 10\n",
        "\n",
        "model = keras.Sequential([\n",
        "    keras.Input(shape=(224, 224, 3)),\n",
        "    data_augmentation,# input layer\n",
        "    EfficientNetLayer(\"https://tfhub.dev/tensorflow/efficientnet/b0/feature-vector/1\"),\n",
        "    # keras.layers.Dropout(0.5),  # regularization\n",
        "    keras.layers.Dense(num_classes, activation='softmax')  # classifier\n",
        "])\n",
        "\n",
        "# model.layers[0].resNet_feature_extractor.trainable = False # Freeze already learned patterns\n",
        "# Step 5: Compile the model\n",
        "model.compile(\n",
        "    optimizer='adam',\n",
        "    loss='categorical_crossentropy',\n",
        "    metrics=['accuracy']\n",
        ")\n",
        "\n",
        "\n"
      ],
      "metadata": {
        "id": "daS1lFA3_Ue0",
        "trusted": true,
        "execution": {
          "iopub.status.busy": "2025-10-16T10:38:09.932268Z",
          "iopub.execute_input": "2025-10-16T10:38:09.932546Z",
          "iopub.status.idle": "2025-10-16T10:38:33.115586Z",
          "shell.execute_reply.started": "2025-10-16T10:38:09.932526Z",
          "shell.execute_reply": "2025-10-16T10:38:33.11482Z"
        }
      },
      "outputs": [],
      "execution_count": null
    },
    {
      "cell_type": "code",
      "source": [
        "model_weights = model.get_weights()\n",
        "len(model_weights)\n"
      ],
      "metadata": {
        "id": "K52hD2uiKfJ4",
        "trusted": true,
        "execution": {
          "iopub.status.busy": "2025-10-16T10:38:33.134196Z",
          "iopub.execute_input": "2025-10-16T10:38:33.134437Z",
          "iopub.status.idle": "2025-10-16T10:38:33.143288Z",
          "shell.execute_reply.started": "2025-10-16T10:38:33.13442Z",
          "shell.execute_reply": "2025-10-16T10:38:33.1427Z"
        },
        "outputId": "b5e78ca3-5897-4f00-a382-062e8cb0db66"
      },
      "outputs": [
        {
          "execution_count": 29,
          "output_type": "execute_result",
          "data": {
            "text/plain": "2"
          },
          "metadata": {}
        }
      ],
      "execution_count": null
    },
    {
      "cell_type": "code",
      "source": [
        "efficient_history = model.fit(train_dataset_10_percent,\n",
        "          epochs=20,\n",
        "          steps_per_epoch=len(train_dataset_10_percent),\n",
        "          validation_data=test_dataset,\n",
        "          validation_steps=len(test_dataset),\n",
        "          callbacks=[create_tensorboard_callback(dir_name=\"TensorFlow_Hub\",experiment_name=\"EffiecientNet\")]\n",
        "          )"
      ],
      "metadata": {
        "id": "ccoipOOT8bk9",
        "trusted": true,
        "execution": {
          "iopub.status.busy": "2025-10-16T10:38:33.144124Z",
          "iopub.execute_input": "2025-10-16T10:38:33.144782Z",
          "iopub.status.idle": "2025-10-16T10:40:46.962765Z",
          "shell.execute_reply.started": "2025-10-16T10:38:33.144753Z",
          "shell.execute_reply": "2025-10-16T10:40:46.962038Z"
        },
        "outputId": "3ad843e0-1e13-4f69-b24c-2afb48043e5b"
      },
      "outputs": [
        {
          "name": "stdout",
          "text": "Saving TensorBoard log files to : TensorFlow_Hub/EffiecientNet/20251016-103833\nEpoch 1/20\n\u001b[1m24/24\u001b[0m \u001b[32m━━━━━━━━━━━━━━━━━━━━\u001b[0m\u001b[37m\u001b[0m \u001b[1m25s\u001b[0m 332ms/step - accuracy: 0.2172 - loss: 2.2118 - val_accuracy: 0.6572 - val_loss: 1.5043\nEpoch 2/20\n\u001b[1m24/24\u001b[0m \u001b[32m━━━━━━━━━━━━━━━━━━━━\u001b[0m\u001b[37m\u001b[0m \u001b[1m5s\u001b[0m 233ms/step - accuracy: 0.6178 - loss: 1.4681 - val_accuracy: 0.7660 - val_loss: 1.0595\nEpoch 3/20\n\u001b[1m24/24\u001b[0m \u001b[32m━━━━━━━━━━━━━━━━━━━━\u001b[0m\u001b[37m\u001b[0m \u001b[1m5s\u001b[0m 232ms/step - accuracy: 0.7269 - loss: 1.0839 - val_accuracy: 0.8024 - val_loss: 0.8456\nEpoch 4/20\n\u001b[1m24/24\u001b[0m \u001b[32m━━━━━━━━━━━━━━━━━━━━\u001b[0m\u001b[37m\u001b[0m \u001b[1m5s\u001b[0m 233ms/step - accuracy: 0.7909 - loss: 0.8854 - val_accuracy: 0.8216 - val_loss: 0.7301\nEpoch 5/20\n\u001b[1m24/24\u001b[0m \u001b[32m━━━━━━━━━━━━━━━━━━━━\u001b[0m\u001b[37m\u001b[0m \u001b[1m5s\u001b[0m 233ms/step - accuracy: 0.7879 - loss: 0.8155 - val_accuracy: 0.8324 - val_loss: 0.6561\nEpoch 6/20\n\u001b[1m24/24\u001b[0m \u001b[32m━━━━━━━━━━━━━━━━━━━━\u001b[0m\u001b[37m\u001b[0m \u001b[1m5s\u001b[0m 235ms/step - accuracy: 0.8427 - loss: 0.7104 - val_accuracy: 0.8348 - val_loss: 0.6098\nEpoch 7/20\n\u001b[1m24/24\u001b[0m \u001b[32m━━━━━━━━━━━━━━━━━━━━\u001b[0m\u001b[37m\u001b[0m \u001b[1m5s\u001b[0m 235ms/step - accuracy: 0.8404 - loss: 0.6508 - val_accuracy: 0.8476 - val_loss: 0.5697\nEpoch 8/20\n\u001b[1m24/24\u001b[0m \u001b[32m━━━━━━━━━━━━━━━━━━━━\u001b[0m\u001b[37m\u001b[0m \u001b[1m5s\u001b[0m 235ms/step - accuracy: 0.8497 - loss: 0.6049 - val_accuracy: 0.8492 - val_loss: 0.5471\nEpoch 9/20\n\u001b[1m24/24\u001b[0m \u001b[32m━━━━━━━━━━━━━━━━━━━━\u001b[0m\u001b[37m\u001b[0m \u001b[1m10s\u001b[0m 235ms/step - accuracy: 0.8657 - loss: 0.5483 - val_accuracy: 0.8512 - val_loss: 0.5259\nEpoch 10/20\n\u001b[1m24/24\u001b[0m \u001b[32m━━━━━━━━━━━━━━━━━━━━\u001b[0m\u001b[37m\u001b[0m \u001b[1m5s\u001b[0m 234ms/step - accuracy: 0.8688 - loss: 0.5394 - val_accuracy: 0.8528 - val_loss: 0.5112\nEpoch 11/20\n\u001b[1m24/24\u001b[0m \u001b[32m━━━━━━━━━━━━━━━━━━━━\u001b[0m\u001b[37m\u001b[0m \u001b[1m5s\u001b[0m 234ms/step - accuracy: 0.8883 - loss: 0.4831 - val_accuracy: 0.8552 - val_loss: 0.4963\nEpoch 12/20\n\u001b[1m24/24\u001b[0m \u001b[32m━━━━━━━━━━━━━━━━━━━━\u001b[0m\u001b[37m\u001b[0m \u001b[1m6s\u001b[0m 235ms/step - accuracy: 0.9001 - loss: 0.4737 - val_accuracy: 0.8576 - val_loss: 0.4871\nEpoch 13/20\n\u001b[1m24/24\u001b[0m \u001b[32m━━━━━━━━━━━━━━━━━━━━\u001b[0m\u001b[37m\u001b[0m \u001b[1m6s\u001b[0m 236ms/step - accuracy: 0.8838 - loss: 0.4899 - val_accuracy: 0.8596 - val_loss: 0.4824\nEpoch 14/20\n\u001b[1m24/24\u001b[0m \u001b[32m━━━━━━━━━━━━━━━━━━━━\u001b[0m\u001b[37m\u001b[0m \u001b[1m6s\u001b[0m 236ms/step - accuracy: 0.9177 - loss: 0.4215 - val_accuracy: 0.8624 - val_loss: 0.4654\nEpoch 15/20\n\u001b[1m24/24\u001b[0m \u001b[32m━━━━━━━━━━━━━━━━━━━━\u001b[0m\u001b[37m\u001b[0m \u001b[1m6s\u001b[0m 236ms/step - accuracy: 0.8984 - loss: 0.4343 - val_accuracy: 0.8632 - val_loss: 0.4589\nEpoch 16/20\n\u001b[1m24/24\u001b[0m \u001b[32m━━━━━━━━━━━━━━━━━━━━\u001b[0m\u001b[37m\u001b[0m \u001b[1m6s\u001b[0m 237ms/step - accuracy: 0.9254 - loss: 0.3735 - val_accuracy: 0.8620 - val_loss: 0.4548\nEpoch 17/20\n\u001b[1m24/24\u001b[0m \u001b[32m━━━━━━━━━━━━━━━━━━━━\u001b[0m\u001b[37m\u001b[0m \u001b[1m6s\u001b[0m 235ms/step - accuracy: 0.9045 - loss: 0.4011 - val_accuracy: 0.8628 - val_loss: 0.4520\nEpoch 18/20\n\u001b[1m24/24\u001b[0m \u001b[32m━━━━━━━━━━━━━━━━━━━━\u001b[0m\u001b[37m\u001b[0m \u001b[1m6s\u001b[0m 235ms/step - accuracy: 0.9126 - loss: 0.3648 - val_accuracy: 0.8624 - val_loss: 0.4432\nEpoch 19/20\n\u001b[1m24/24\u001b[0m \u001b[32m━━━━━━━━━━━━━━━━━━━━\u001b[0m\u001b[37m\u001b[0m \u001b[1m6s\u001b[0m 236ms/step - accuracy: 0.9291 - loss: 0.3493 - val_accuracy: 0.8660 - val_loss: 0.4362\nEpoch 20/20\n\u001b[1m24/24\u001b[0m \u001b[32m━━━━━━━━━━━━━━━━━━━━\u001b[0m\u001b[37m\u001b[0m \u001b[1m6s\u001b[0m 236ms/step - accuracy: 0.9354 - loss: 0.3162 - val_accuracy: 0.8640 - val_loss: 0.4354\n",
          "output_type": "stream"
        }
      ],
      "execution_count": null
    },
    {
      "cell_type": "code",
      "source": [
        "!pwd\n"
      ],
      "metadata": {
        "trusted": true,
        "execution": {
          "iopub.status.busy": "2025-10-16T10:41:32.699782Z",
          "iopub.execute_input": "2025-10-16T10:41:32.700495Z",
          "iopub.status.idle": "2025-10-16T10:41:32.909729Z",
          "shell.execute_reply.started": "2025-10-16T10:41:32.700466Z",
          "shell.execute_reply": "2025-10-16T10:41:32.908856Z"
        },
        "id": "Va47Wo1TkaDt",
        "outputId": "94fd7e4b-651e-4abe-a56e-536c8d366d88"
      },
      "outputs": [
        {
          "name": "stdout",
          "text": "/kaggle/working\n",
          "output_type": "stream"
        }
      ],
      "execution_count": null
    },
    {
      "cell_type": "code",
      "source": [
        "model.save(\"/kaggle/working/efficientNet.keras\")"
      ],
      "metadata": {
        "trusted": true,
        "execution": {
          "iopub.status.busy": "2025-10-16T10:48:35.182736Z",
          "iopub.execute_input": "2025-10-16T10:48:35.183307Z",
          "iopub.status.idle": "2025-10-16T10:48:35.226483Z",
          "shell.execute_reply.started": "2025-10-16T10:48:35.183284Z",
          "shell.execute_reply": "2025-10-16T10:48:35.225731Z"
        },
        "id": "he44afNtkaDt"
      },
      "outputs": [],
      "execution_count": null
    },
    {
      "cell_type": "code",
      "source": [
        "resNet_model.save(\"/kaggle/working/resNet_model.keras\")"
      ],
      "metadata": {
        "trusted": true,
        "execution": {
          "iopub.status.busy": "2025-10-16T10:49:00.686717Z",
          "iopub.execute_input": "2025-10-16T10:49:00.687011Z",
          "iopub.status.idle": "2025-10-16T10:49:00.721321Z",
          "shell.execute_reply.started": "2025-10-16T10:49:00.686989Z",
          "shell.execute_reply": "2025-10-16T10:49:00.720569Z"
        },
        "id": "or32BmsakaDu"
      },
      "outputs": [],
      "execution_count": null
    },
    {
      "cell_type": "markdown",
      "source": [
        "## Visualize the pre-trained model"
      ],
      "metadata": {
        "id": "fG_DUtUgYFF5"
      }
    },
    {
      "cell_type": "code",
      "source": [
        "plot_loss_curves(efficient_history)"
      ],
      "metadata": {
        "trusted": true,
        "execution": {
          "iopub.status.busy": "2025-10-16T10:49:11.461789Z",
          "iopub.execute_input": "2025-10-16T10:49:11.462099Z",
          "iopub.status.idle": "2025-10-16T10:49:11.907584Z",
          "shell.execute_reply.started": "2025-10-16T10:49:11.462076Z",
          "shell.execute_reply": "2025-10-16T10:49:11.906814Z"
        },
        "id": "IzsyFx3DkaDu",
        "outputId": "bac5c8f1-d4b4-47c2-ea05-89886a18ab71"
      },
      "outputs": [
        {
          "output_type": "display_data",
          "data": {
            "text/plain": "<Figure size 640x480 with 1 Axes>",
            "image/png": "[encoded data removed]"
          },
          "metadata": {}
        },
        {
          "output_type": "display_data",
          "data": {
            "text/plain": "<Figure size 640x480 with 1 Axes>",
            "image/png": "[encoded data removed]"
          },
          "metadata": {}
        }
      ],
      "execution_count": null
    },
    {
      "cell_type": "code",
      "source": [
        "!ls -la"
      ],
      "metadata": {
        "trusted": true,
        "execution": {
          "iopub.status.busy": "2025-10-16T10:53:16.074565Z",
          "iopub.execute_input": "2025-10-16T10:53:16.074881Z",
          "iopub.status.idle": "2025-10-16T10:53:16.289801Z",
          "shell.execute_reply.started": "2025-10-16T10:53:16.074853Z",
          "shell.execute_reply": "2025-10-16T10:53:16.289065Z"
        },
        "id": "XwWKDD-GkaDu",
        "outputId": "6140646f-af79-4f81-d55c-edab46e3a9a6"
      },
      "outputs": [
        {
          "name": "stdout",
          "text": "total 329552\ndrwxr-xr-x 6 root root      4096 Oct 16 10:49 .\ndrwxr-xr-x 5 root root      4096 Oct 16 09:34 ..\ndrwxr-xr-x 4 root root      4096 Oct 16 09:34 10_food_classes_10_percent\n-rw-r--r-- 1 root root 168546183 Feb 12  2021 10_food_classes_10_percent.zip\n-rw-r--r-- 1 root root 168546183 Feb 12  2021 10_food_classes_10_percent.zip.1\n-rw-r--r-- 1 root root    186701 Oct 16 10:48 efficientNet.keras\ndrwxr-xr-x 3 root root      4096 Oct 16 09:34 __MACOSX\n-rw-r--r-- 1 root root    153215 Oct 16 10:49 resNet_model.keras\ndrwxr-xr-x 4 root root      4096 Oct 16 10:38 TensorFlow_Hub\ndrwxr-xr-x 2 root root      4096 Oct 16 09:34 .virtual_documents\n",
          "output_type": "stream"
        }
      ],
      "execution_count": null
    },
    {
      "cell_type": "code",
      "source": [
        "from tensorflow.keras.utils import plot_model\n",
        "plot_model(model,show_shapes=True,expand_nested=True,show_layer_names=True)"
      ],
      "metadata": {
        "id": "TMlRWm5tKZpG",
        "trusted": true,
        "execution": {
          "iopub.status.busy": "2025-10-14T13:11:41.576903Z",
          "iopub.status.idle": "2025-10-14T13:11:41.577203Z",
          "shell.execute_reply.started": "2025-10-14T13:11:41.577034Z",
          "shell.execute_reply": "2025-10-14T13:11:41.577045Z"
        }
      },
      "outputs": [],
      "execution_count": null
    },
    {
      "cell_type": "markdown",
      "source": [
        "### Internal Archticture of EfficientNetBO Neural network"
      ],
      "metadata": {
        "id": "cjVnVvEXYNFL"
      }
    },
    {
      "cell_type": "code",
      "source": [
        "from tensorflow.keras.applications import EfficientNetB0\n",
        "\n",
        "feature_extractor = EfficientNetB0(\n",
        "    include_top=False, weights='imagenet', pooling='avg', input_shape=(224,224,3)\n",
        ")\n",
        "# feature_extractor.summary()\n"
      ],
      "metadata": {
        "id": "N8z44Q58LcZi",
        "trusted": true,
        "execution": {
          "iopub.status.busy": "2025-10-14T13:11:41.578814Z",
          "iopub.status.idle": "2025-10-14T13:11:41.579162Z",
          "shell.execute_reply.started": "2025-10-14T13:11:41.578986Z",
          "shell.execute_reply": "2025-10-14T13:11:41.578999Z"
        }
      },
      "outputs": [],
      "execution_count": null
    },
    {
      "cell_type": "code",
      "source": [
        "API_KEY = 'a0ac1d7bf9160805512283eb8f37ad7a757d8dd6'"
      ],
      "metadata": {
        "id": "KGDXnh2dLvF7",
        "trusted": true
      },
      "outputs": [],
      "execution_count": null
    },
    {
      "cell_type": "code",
      "source": [
        "import tensorflow as tf\n",
        "\n",
        "import tensorflow_hub as hub\n",
        "num_classes = 10\n",
        "m = tf.keras.Sequential([\n",
        "    hub.KerasLayer(\"https://www.kaggle.com/models/tensorflow/efficientnet/TensorFlow2/b0-feature-vector/1\",\n",
        "                   trainable=False),  # Can be True, see below.\n",
        "    tf.keras.layers.Dense(num_classes, activation='softmax')\n",
        "])\n",
        "m.build([None, 224, 224, 3])  # Batch input shape.\n"
      ],
      "metadata": {
        "id": "h4Sqa0B56XeL",
        "trusted": true,
        "execution": {
          "iopub.status.busy": "2025-10-14T13:11:41.580219Z",
          "iopub.status.idle": "2025-10-14T13:11:41.580495Z",
          "shell.execute_reply.started": "2025-10-14T13:11:41.580368Z",
          "shell.execute_reply": "2025-10-14T13:11:41.580388Z"
        }
      },
      "outputs": [],
      "execution_count": null
    },
    {
      "cell_type": "code",
      "source": [
        "!pip install wandb"
      ],
      "metadata": {
        "id": "lBiUlIAnHhB8",
        "trusted": true,
        "execution": {
          "iopub.status.busy": "2025-10-15T06:38:44.34264Z",
          "iopub.execute_input": "2025-10-15T06:38:44.342969Z",
          "iopub.status.idle": "2025-10-15T06:38:48.099212Z",
          "shell.execute_reply.started": "2025-10-15T06:38:44.342946Z",
          "shell.execute_reply": "2025-10-15T06:38:48.098245Z"
        },
        "outputId": "eeb06e86-0d5e-4974-9551-22da0d8ff320"
      },
      "outputs": [
        {
          "name": "stdout",
          "text": "Requirement already satisfied: wandb in /usr/local/lib/python3.11/dist-packages (0.20.1)\nRequirement already satisfied: click!=8.0.0,>=7.1 in /usr/local/lib/python3.11/dist-packages (from wandb) (8.2.1)\nRequirement already satisfied: gitpython!=3.1.29,>=1.0.0 in /usr/local/lib/python3.11/dist-packages (from wandb) (3.1.44)\nRequirement already satisfied: packaging in /usr/local/lib/python3.11/dist-packages (from wandb) (25.0)\nRequirement already satisfied: platformdirs in /usr/local/lib/python3.11/dist-packages (from wandb) (4.3.8)\nRequirement already satisfied: protobuf!=4.21.0,!=5.28.0,<7,>=3.19.0 in /usr/local/lib/python3.11/dist-packages (from wandb) (3.20.3)\nRequirement already satisfied: psutil>=5.0.0 in /usr/local/lib/python3.11/dist-packages (from wandb) (7.0.0)\nRequirement already satisfied: pydantic<3 in /usr/local/lib/python3.11/dist-packages (from wandb) (2.11.7)\nRequirement already satisfied: pyyaml in /usr/local/lib/python3.11/dist-packages (from wandb) (6.0.2)\nRequirement already satisfied: requests<3,>=2.0.0 in /usr/local/lib/python3.11/dist-packages (from wandb) (2.32.4)\nRequirement already satisfied: sentry-sdk>=2.0.0 in /usr/local/lib/python3.11/dist-packages (from wandb) (2.31.0)\nRequirement already satisfied: setproctitle in /usr/local/lib/python3.11/dist-packages (from wandb) (1.3.6)\nRequirement already satisfied: typing-extensions<5,>=4.8 in /usr/local/lib/python3.11/dist-packages (from wandb) (4.14.0)\nRequirement already satisfied: gitdb<5,>=4.0.1 in /usr/local/lib/python3.11/dist-packages (from gitpython!=3.1.29,>=1.0.0->wandb) (4.0.12)\nRequirement already satisfied: annotated-types>=0.6.0 in /usr/local/lib/python3.11/dist-packages (from pydantic<3->wandb) (0.7.0)\nRequirement already satisfied: pydantic-core==2.33.2 in /usr/local/lib/python3.11/dist-packages (from pydantic<3->wandb) (2.33.2)\nRequirement already satisfied: typing-inspection>=0.4.0 in /usr/local/lib/python3.11/dist-packages (from pydantic<3->wandb) (0.4.1)\nRequirement already satisfied: charset_normalizer<4,>=2 in /usr/local/lib/python3.11/dist-packages (from requests<3,>=2.0.0->wandb) (3.4.2)\nRequirement already satisfied: idna<4,>=2.5 in /usr/local/lib/python3.11/dist-packages (from requests<3,>=2.0.0->wandb) (3.10)\nRequirement already satisfied: urllib3<3,>=1.21.1 in /usr/local/lib/python3.11/dist-packages (from requests<3,>=2.0.0->wandb) (2.5.0)\nRequirement already satisfied: certifi>=2017.4.17 in /usr/local/lib/python3.11/dist-packages (from requests<3,>=2.0.0->wandb) (2025.6.15)\nRequirement already satisfied: smmap<6,>=3.0.1 in /usr/local/lib/python3.11/dist-packages (from gitdb<5,>=4.0.1->gitpython!=3.1.29,>=1.0.0->wandb) (5.0.2)\n",
          "output_type": "stream"
        }
      ],
      "execution_count": null
    },
    {
      "cell_type": "code",
      "source": [
        "import wandb\n",
        "wandb.login(key=\"a0ac1d7bf9160805512283eb8f37ad7a757d8dd6\")"
      ],
      "metadata": {
        "trusted": true,
        "execution": {
          "iopub.status.busy": "2025-10-15T06:47:14.420173Z",
          "iopub.execute_input": "2025-10-15T06:47:14.421023Z",
          "iopub.status.idle": "2025-10-15T06:47:14.511658Z",
          "shell.execute_reply.started": "2025-10-15T06:47:14.420992Z",
          "shell.execute_reply": "2025-10-15T06:47:14.511129Z"
        },
        "id": "3Fu043o6kaD1",
        "outputId": "60a88f14-a440-496f-b727-313fa46356db"
      },
      "outputs": [
        {
          "name": "stderr",
          "text": "\u001b[34m\u001b[1mwandb\u001b[0m: \u001b[33mWARNING\u001b[0m If you're specifying your api key in code, ensure this code is not shared publicly.\n\u001b[34m\u001b[1mwandb\u001b[0m: \u001b[33mWARNING\u001b[0m Consider setting the WANDB_API_KEY environment variable, or running `wandb login` from the command line.\n\u001b[34m\u001b[1mwandb\u001b[0m: No netrc file found, creating one.\n\u001b[34m\u001b[1mwandb\u001b[0m: Appending key for api.wandb.ai to your netrc file: /root/.netrc\n\u001b[34m\u001b[1mwandb\u001b[0m: Currently logged in as: \u001b[33mmogesastu2124\u001b[0m (\u001b[33mmoges-densatechnology\u001b[0m) to \u001b[32mhttps://api.wandb.ai\u001b[0m. Use \u001b[1m`wandb login --relogin`\u001b[0m to force relogin\n",
          "output_type": "stream"
        },
        {
          "execution_count": 33,
          "output_type": "execute_result",
          "data": {
            "text/plain": "True"
          },
          "metadata": {}
        }
      ],
      "execution_count": null
    },
    {
      "cell_type": "code",
      "source": [
        "!pwd"
      ],
      "metadata": {
        "trusted": true,
        "execution": {
          "iopub.status.busy": "2025-10-15T06:48:23.479856Z",
          "iopub.execute_input": "2025-10-15T06:48:23.480671Z",
          "iopub.status.idle": "2025-10-15T06:48:23.665086Z",
          "shell.execute_reply.started": "2025-10-15T06:48:23.480642Z",
          "shell.execute_reply": "2025-10-15T06:48:23.664332Z"
        },
        "id": "jVkKWlaAkaD2",
        "outputId": "c48d2d03-4d27-4c9d-eae2-70125cfb47c4"
      },
      "outputs": [
        {
          "name": "stdout",
          "text": "/kaggle/working\n",
          "output_type": "stream"
        }
      ],
      "execution_count": null
    },
    {
      "cell_type": "code",
      "source": [
        "!wandb sync --project model_comparision /kaggle/working/TensorFlow_Hub/"
      ],
      "metadata": {
        "trusted": true,
        "execution": {
          "iopub.status.busy": "2025-10-15T06:49:09.315553Z",
          "iopub.execute_input": "2025-10-15T06:49:09.31625Z",
          "iopub.status.idle": "2025-10-15T06:49:25.807144Z",
          "shell.execute_reply.started": "2025-10-15T06:49:09.316215Z",
          "shell.execute_reply": "2025-10-15T06:49:25.806374Z"
        },
        "id": "FVSc0mbzkaD2",
        "outputId": "38513c35-7762-446c-a160-109d77088a1f"
      },
      "outputs": [
        {
          "name": "stdout",
          "text": "Find logs at: /tmp/debug-cli.root.log\nFound 4 tfevent files in /kaggle/working/TensorFlow_Hub\n\u001b[34m\u001b[1mwandb\u001b[0m: \u001b[33mWARNING\u001b[0m Found 4 directories containing tfevent files. If these represent multiple experiments, sync them individually or pass a list of paths.\nSyncing: https://wandb.ai/moges-densatechnology/model_comparision/runs/5v18jmza ...\n2025-10-15 06:49:11.424147: E external/local_xla/xla/stream_executor/cuda/cuda_fft.cc:477] Unable to register cuFFT factory: Attempting to register factory for plugin cuFFT when one has already been registered\nWARNING: All log messages before absl::InitializeLog() is called are written to STDERR\nE0000 00:00:1760510951.449325    1081 cuda_dnn.cc:8310] Unable to register cuDNN factory: Attempting to register factory for plugin cuDNN when one has already been registered\nE0000 00:00:1760510951.457133    1081 cuda_blas.cc:1418] Unable to register cuBLAS factory: Attempting to register factory for plugin cuBLAS when one has already been registered\n\u001b[34m\u001b[1mwandb\u001b[0m: \\ Uploading data to wandb\r",
          "output_type": "stream"
        }
      ],
      "execution_count": null
    },
    {
      "cell_type": "code",
      "source": [],
      "metadata": {
        "trusted": true,
        "id": "X6bGawFWkaD2"
      },
      "outputs": [],
      "execution_count": null
    }
  ]
}