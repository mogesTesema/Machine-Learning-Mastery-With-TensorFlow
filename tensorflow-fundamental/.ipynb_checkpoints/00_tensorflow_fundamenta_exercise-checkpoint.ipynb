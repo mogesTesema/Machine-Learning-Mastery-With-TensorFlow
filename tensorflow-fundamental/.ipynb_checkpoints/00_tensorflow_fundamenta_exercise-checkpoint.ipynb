{
 "cells": [
  {
   "cell_type": "code",
   "execution_count": null,
   "metadata": {
    "colab": {
     "base_uri": "https://localhost:8080/"
    },
    "executionInfo": {
     "elapsed": 175,
     "status": "ok",
     "timestamp": 1753684690125,
     "user": {
      "displayName": "Moges Tesema",
      "userId": "14633968793904231207"
     },
     "user_tz": -180
    },
    "id": "B48OVQpYskui",
    "outputId": "c7cb6ed3-ab0b-43ae-e050-27b04197823a"
   },
   "outputs": [],
   "source": [
    "import tensorflow as tf\n",
    "print(tf.__version__)"
   ]
  },
  {
   "cell_type": "code",
   "execution_count": null,
   "metadata": {
    "colab": {
     "base_uri": "https://localhost:8080/"
    },
    "executionInfo": {
     "elapsed": 13,
     "status": "ok",
     "timestamp": 1753684690157,
     "user": {
      "displayName": "Moges Tesema",
      "userId": "14633968793904231207"
     },
     "user_tz": -180
    },
    "id": "R-0WNMsTtBFm",
    "outputId": "5c29e933-c201-424b-9854-9698117ed613"
   },
   "outputs": [],
   "source": [
    "tensor_one = tf.constant(4)\n",
    "tensor_one\n",
    "tensor_two = tf.constant([2,2,34,4])\n",
    "tensor_two"
   ]
  },
  {
   "cell_type": "code",
   "execution_count": null,
   "metadata": {
    "colab": {
     "base_uri": "https://localhost:8080/"
    },
    "executionInfo": {
     "elapsed": 32,
     "status": "ok",
     "timestamp": 1753686221788,
     "user": {
      "displayName": "Moges Tesema",
      "userId": "14633968793904231207"
     },
     "user_tz": -180
    },
    "id": "3v_Rzp-XtQpL",
    "outputId": "c875bb67-a83a-493e-f0f6-d8ad36599bcb"
   },
   "outputs": [],
   "source": [
    "tensor_three = tf.Variable([[2,2,2],\n",
    "                            [2,2,2],\n",
    "                            [2,2,4]])\n",
    "# tensor_three.ndim\n",
    "tensor_four = tf.constant(tensor_three)\n",
    "tensor_four.ndim"
   ]
  },
  {
   "cell_type": "code",
   "execution_count": null,
   "metadata": {
    "colab": {
     "base_uri": "https://localhost:8080/"
    },
    "executionInfo": {
     "elapsed": 33,
     "status": "ok",
     "timestamp": 1753686283759,
     "user": {
      "displayName": "Moges Tesema",
      "userId": "14633968793904231207"
     },
     "user_tz": -180
    },
    "id": "wXniHvYuxbx8",
    "outputId": "7709195a-ad4c-4545-ba8d-6d819e7faf16"
   },
   "outputs": [],
   "source": [
    "random_one = tf.random.Generator.from_seed(32)\n",
    "random_one = random_one.uniform(shape = [3,2,2])\n",
    "random_one\n",
    "#Greate things go incredably\n",
    "random_two = tf.random.Generator.from_seed(21).uniform(shape = [4,4],minval = 20, maxval =30)\n",
    "shuffle_random_two = tf.random.shuffle(random_two)\n",
    "random_two, shuffle_random_two, random_two == shuffle_random_two\n"
   ]
  }
 ],
 "metadata": {
  "colab": {
   "authorship_tag": "ABX9TyNjR16sPk1X0XqBo/NFqg3z",
   "provenance": []
  },
  "kernelspec": {
   "display_name": "Python 3",
   "name": "python3"
  },
  "language_info": {
   "codemirror_mode": {
    "name": "ipython",
    "version": 3
   },
   "file_extension": ".py",
   "mimetype": "text/x-python",
   "name": "python",
   "nbconvert_exporter": "python",
   "pygments_lexer": "ipython3",
   "version": "3.12.6"
  }
 },
 "nbformat": 4,
 "nbformat_minor": 0
}
