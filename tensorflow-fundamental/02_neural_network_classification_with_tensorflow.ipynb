{
 "cells": [
  {
   "cell_type": "code",
   "execution_count": null,
   "metadata": {
    "executionInfo": {
     "elapsed": 77,
     "status": "ok",
     "timestamp": 1757496359498,
     "user": {
      "displayName": "Moges Tesema",
      "userId": "14633968793904231207"
     },
     "user_tz": -180
    },
    "id": "DHzQmRoPPoIg"
   },
   "outputs": [],
   "source": [
    "# Introduction to neural ntework classification iwth TEnsorflow\n",
    "import tensorflow as tf\n"
   ]
  },
  {
   "cell_type": "markdown",
   "metadata": {
    "id": "O6UV3bCUQVE3"
   },
   "source": [
    "## Creating data to view and fit"
   ]
  },
  {
   "cell_type": "code",
   "execution_count": null,
   "metadata": {
    "executionInfo": {
     "elapsed": 12,
     "status": "ok",
     "timestamp": 1757496544692,
     "user": {
      "displayName": "Moges Tesema",
      "userId": "14633968793904231207"
     },
     "user_tz": -180
    },
    "id": "ZdYnJ1JaQZ_z"
   },
   "outputs": [],
   "source": [
    "from sklearn.datasets import make_circles\n",
    "n_samples = 1000\n",
    "# Create circles\n",
    "X,y = make_circles(n_samples,noise=0.03,random_state=42)\n",
    "#print(len(X),\"\\n\\n\\n\",len(y))"
   ]
  },
  {
   "cell_type": "code",
   "execution_count": null,
   "metadata": {
    "executionInfo": {
     "elapsed": 18,
     "status": "ok",
     "timestamp": 1757496273241,
     "user": {
      "displayName": "Moges Tesema",
      "userId": "14633968793904231207"
     },
     "user_tz": -180
    },
    "id": "XP1A66IRRW_R"
   },
   "outputs": [],
   "source": [
    "#Check out the features\n",
    "# print(X[:100], \"\\n\\n\")\n",
    "# print(X[:,0])\n",
    "# print(\"\\n\\nvs\\n\\n\")\n",
    "# print(X[:,1])\n"
   ]
  },
  {
   "cell_type": "markdown",
   "metadata": {
    "id": "7fW9f4pqR3GX"
   },
   "source": [
    "our data is a little hard to understand righ now.. let;s visualize it\n"
   ]
  },
  {
   "cell_type": "code",
   "execution_count": null,
   "metadata": {
    "colab": {
     "base_uri": "https://localhost:8080/",
     "height": 423
    },
    "executionInfo": {
     "elapsed": 466,
     "status": "ok",
     "timestamp": 1757496549924,
     "user": {
      "displayName": "Moges Tesema",
      "userId": "14633968793904231207"
     },
     "user_tz": -180
    },
    "id": "zv9n31PHR8_7",
    "outputId": "eded582c-90d3-4b47-b8d5-bcefc77f2cd3"
   },
   "outputs": [],
   "source": [
    "import pandas as pd\n",
    "circles = pd.DataFrame({\"X0\":X[:,0],\"X1\":X[:,1], \"label\":y})\n",
    "circles"
   ]
  },
  {
   "cell_type": "code",
   "execution_count": null,
   "metadata": {
    "colab": {
     "base_uri": "https://localhost:8080/",
     "height": 447
    },
    "executionInfo": {
     "elapsed": 580,
     "status": "ok",
     "timestamp": 1757496555677,
     "user": {
      "displayName": "Moges Tesema",
      "userId": "14633968793904231207"
     },
     "user_tz": -180
    },
    "id": "CnvWlJ9vUaL5",
    "outputId": "1de8f0b7-0246-4759-8482-08a60fc4e18d"
   },
   "outputs": [],
   "source": [
    "import matplotlib.pyplot as plt\n",
    "plt.scatter(X[:,0],X[:,1],c=y, cmap=plt.cm.RdYlBu)"
   ]
  },
  {
   "cell_type": "code",
   "execution_count": null,
   "metadata": {
    "colab": {
     "base_uri": "https://localhost:8080/"
    },
    "executionInfo": {
     "elapsed": 20,
     "status": "ok",
     "timestamp": 1757497993952,
     "user": {
      "displayName": "Moges Tesema",
      "userId": "14633968793904231207"
     },
     "user_tz": -180
    },
    "id": "07XBBa0m9fbi",
    "outputId": "99db7ae3-99c2-4262-83ce-bf92db94e45a"
   },
   "outputs": [],
   "source": [
    "#Input and output shapes\n",
    "X.shape, y.shape\n",
    "X[11], y[11]"
   ]
  },
  {
   "cell_type": "markdown",
   "metadata": {
    "id": "nNH3LBnsGvTd"
   },
   "source": [
    "## Steps in modelling\n",
    "The steps in modelling with Tensorflow are typically:\n",
    "1. Create or import a model\n",
    "2. compile teh model\n",
    "3. Fit the model\n",
    "4. Evaluate the model\n",
    "5. tweak the model\n",
    "6. Evaluate the model\n",
    "7. Tweak the model\n",
    "......"
   ]
  },
  {
   "cell_type": "code",
   "execution_count": null,
   "metadata": {
    "id": "NvQA6RrBCOds"
   },
   "outputs": [],
   "source": [
    "# set random seed\n",
    "tf.random.set_seed(42)\n",
    "# Create the model\n",
    "model_1 = tf.keras.Sequential([\n",
    "    tf.keras.layers.Dense(1)\n",
    "\n",
    "])\n",
    "# Compile the model\n",
    "\n",
    "model_1.compile(loss=tf.keras.losses.BinaryCrossentropy(),\n",
    "                optimizer=tf.keras.optimizers.SGD(),\n",
    "                metrics=[\"accuracy\"])\n",
    "# Fit the model\n",
    "model_1.fit(X,y,epochs=200)\n"
   ]
  },
  {
   "cell_type": "code",
   "execution_count": null,
   "metadata": {
    "id": "HSabub0gJ6ps"
   },
   "outputs": [],
   "source": []
  },
  {
   "cell_type": "code",
   "execution_count": null,
   "metadata": {
    "colab": {
     "base_uri": "https://localhost:8080/"
    },
    "executionInfo": {
     "elapsed": 250,
     "status": "ok",
     "timestamp": 1757499877935,
     "user": {
      "displayName": "Moges Tesema",
      "userId": "14633968793904231207"
     },
     "user_tz": -180
    },
    "id": "cawc-nN_GuFo",
    "outputId": "8cbafad3-0917-4150-c04c-ea2e43d27161"
   },
   "outputs": [],
   "source": [
    "model_1.evaluate(X,y)"
   ]
  },
  {
   "cell_type": "code",
   "execution_count": null,
   "metadata": {
    "colab": {
     "base_uri": "https://localhost:8080/"
    },
    "executionInfo": {
     "elapsed": 13889,
     "status": "ok",
     "timestamp": 1757500341353,
     "user": {
      "displayName": "Moges Tesema",
      "userId": "14633968793904231207"
     },
     "user_tz": -180
    },
    "id": "tTxt2Pp6KUlD",
    "outputId": "c0b14b8a-f9de-4364-e033-147d525dc61b"
   },
   "outputs": [],
   "source": [
    "# model_2\n",
    "# set random seed\n",
    "tf.random.set_seed(42)\n",
    "model_2 = tf.keras.Sequential([\n",
    "    tf.keras.layers.Dense(1),\n",
    "    tf.keras.layers.Dense(1, activation=\"sigmoid\")\n",
    "])\n",
    "# compile the model\n",
    "model_2.compile(loss=tf.keras.losses.BinaryCrossentropy(),\n",
    "                optimizer=tf.keras.optimizers.SGD(),\n",
    "                metrics=[\"accuracy\"])\n",
    "# fit the model\n",
    "model_2.fit(X,y,epochs=100)"
   ]
  },
  {
   "cell_type": "code",
   "execution_count": null,
   "metadata": {
    "colab": {
     "base_uri": "https://localhost:8080/"
    },
    "executionInfo": {
     "elapsed": 276,
     "status": "ok",
     "timestamp": 1757500344978,
     "user": {
      "displayName": "Moges Tesema",
      "userId": "14633968793904231207"
     },
     "user_tz": -180
    },
    "id": "cVdb3ceKLKPD",
    "outputId": "af516fa8-6b02-4cf6-b59b-100405555e61"
   },
   "outputs": [],
   "source": [
    "#evaluate the model\n",
    "model_2.evaluate(X,y)"
   ]
  },
  {
   "cell_type": "code",
   "execution_count": null,
   "metadata": {
    "executionInfo": {
     "elapsed": 13231,
     "status": "ok",
     "timestamp": 1757501743291,
     "user": {
      "displayName": "Moges Tesema",
      "userId": "14633968793904231207"
     },
     "user_tz": -180
    },
    "id": "QP-tHwdSLdka"
   },
   "outputs": [],
   "source": [
    "# set the random seed\n",
    "tf.random.set_seed(42)\n",
    "# 1. Create the model\n",
    "model_3 =tf.keras.Sequential([\n",
    "    tf.keras.layers.Dense(100),\n",
    "    tf.keras.layers.Dense(10),\n",
    "    tf.keras.layers.Dense(1,activation=\"sigmoid\")\n",
    "])\n",
    "# 2. compile the model\n",
    "model_3.compile(loss=tf.keras.losses.BinaryCrossentropy(),\n",
    "                optimizer=tf.keras.optimizers.Adam(),\n",
    "                metrics=[\"accuracy\"])\n",
    "# 3. fit the model\n",
    "history = model_3.fit(X,y,epochs=100,verbose=0)"
   ]
  },
  {
   "cell_type": "code",
   "execution_count": null,
   "metadata": {
    "colab": {
     "base_uri": "https://localhost:8080/",
     "height": 484
    },
    "executionInfo": {
     "elapsed": 303,
     "status": "ok",
     "timestamp": 1757502286090,
     "user": {
      "displayName": "Moges Tesema",
      "userId": "14633968793904231207"
     },
     "user_tz": -180
    },
    "id": "7o2lBYhBOo0h",
    "outputId": "d4f58e9f-e655-41ce-da9d-63478ae86097"
   },
   "outputs": [],
   "source": [
    "import matplotlib.pyplot as plt\n",
    "import pandas as pd\n",
    "pd.DataFrame(history.history).plot()\n",
    "plt.ylabel(\"loss\")\n",
    "plt.xlabel(\"epochs\")\n",
    "\n",
    "model_3.evaluate(X,y)"
   ]
  },
  {
   "cell_type": "code",
   "execution_count": null,
   "metadata": {
    "colab": {
     "base_uri": "https://localhost:8080/",
     "height": 450
    },
    "executionInfo": {
     "elapsed": 77,
     "status": "ok",
     "timestamp": 1757501188274,
     "user": {
      "displayName": "Moges Tesema",
      "userId": "14633968793904231207"
     },
     "user_tz": -180
    },
    "id": "O2LNNJyiO49I",
    "outputId": "02527ee9-3750-4d56-eb1a-dd80992aa048"
   },
   "outputs": [],
   "source": [
    "model_2.summary(), model_3.summary()"
   ]
  },
  {
   "cell_type": "code",
   "execution_count": null,
   "metadata": {
    "executionInfo": {
     "elapsed": 38,
     "status": "ok",
     "timestamp": 1757503247885,
     "user": {
      "displayName": "Moges Tesema",
      "userId": "14633968793904231207"
     },
     "user_tz": -180
    },
    "id": "-iKx7mmwPNy9"
   },
   "outputs": [],
   "source": [
    "# To visualize our model's prediction let's create a fucntion\n",
    "import numpy as np\n",
    "\n",
    "def plot_decision_boundary(model, X,y):\n",
    "  \"\"\"\n",
    "  plots the decision boundary created by a model predicting on X.\n",
    "  \"\"\"\n",
    "  x_min, x_max = X[:,0].min() - 0.1, X[:,0].max()+0.1\n",
    "  y_min, y_max = X[:,1].min() - 0.1, X[:,1].max()+0.1\n",
    "  xx,yy = np.meshgrid(np.linspace(x_min,x_max,100),np.linspace(y_min,y_max,100))\n",
    "  # create X value\n",
    "  x_in = np.c_[xx.ravel(),yy.ravel()]\n",
    "  y_pred = model.predict(x_in)\n",
    "  # check for multi-class\n",
    "  if len(y_pred) > 1:\n",
    "    print(\"doing multiclass classification\")\n",
    "    y_pred = np.argmax(y_pred,axis=1).reshape(xx.shape)\n",
    "  else:\n",
    "    print(\"doing binary classification\")\n",
    "    y_pred = np.round(y_pred).reshape(xx.shape)\n",
    "  # plot the decission boundary\n",
    "  plt.contourf(xx,yy,y_pred,cmap=plt.cm.RdYlBu,alpha=0.7)\n",
    "  plt.scatter(X[:,0],X[:,1],c=y,s=40,cmap=plt.cm.RdYlBu)\n",
    "  plt.xlim(xx.min(),xx.max())\n",
    "  plt.ylim(yy.min(),yy.max())\n",
    "\n"
   ]
  },
  {
   "cell_type": "code",
   "execution_count": null,
   "metadata": {
    "colab": {
     "base_uri": "https://localhost:8080/",
     "height": 465
    },
    "executionInfo": {
     "elapsed": 1129,
     "status": "ok",
     "timestamp": 1757503251297,
     "user": {
      "displayName": "Moges Tesema",
      "userId": "14633968793904231207"
     },
     "user_tz": -180
    },
    "id": "Q6NYY9gTVyAF",
    "outputId": "452518c6-7482-4aec-928b-a6664dc4a0e0"
   },
   "outputs": [],
   "source": [
    "# checkout the predictions our model is making\n",
    "plot_decision_boundary(model=model_3,X=X,y=y)"
   ]
  }
 ],
 "metadata": {
  "colab": {
   "authorship_tag": "ABX9TyP0CCt+ie8qC32R9M1cd7hK",
   "provenance": []
  },
  "kernelspec": {
   "display_name": "Python 3",
   "name": "python3"
  },
  "language_info": {
   "name": "python",
   "version": "3.13.0"
  }
 },
 "nbformat": 4,
 "nbformat_minor": 0
}
