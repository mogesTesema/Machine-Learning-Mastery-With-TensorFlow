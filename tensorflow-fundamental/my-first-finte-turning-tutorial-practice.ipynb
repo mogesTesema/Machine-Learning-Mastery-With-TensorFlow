{
 "cells": [
  {
   "cell_type": "markdown",
   "metadata": {
    "id": "Kw-Hkm15OKSD"
   },
   "source": [
    "# Fine-turning\n",
    "### my first time jumb into the world of fine-turning model which is the-art-of-state"
   ]
  },
  {
   "cell_type": "code",
   "execution_count": null,
   "metadata": {
    "colab": {
     "base_uri": "https://localhost:8080/"
    },
    "executionInfo": {
     "elapsed": 10137,
     "status": "ok",
     "timestamp": 1756730119743,
     "user": {
      "displayName": "Moges Tesema",
      "userId": "14633968793904231207"
     },
     "user_tz": -180
    },
    "id": "A2srSbeAggJc",
    "outputId": "f0c2008a-e5f5-4775-95f4-d39ed39a3c81"
   },
   "outputs": [],
   "source": [
    "# !pip install tensorflow"
   ]
  },
  {
   "cell_type": "code",
   "execution_count": null,
   "metadata": {
    "executionInfo": {
     "elapsed": 4927,
     "status": "ok",
     "timestamp": 1756730124683,
     "user": {
      "displayName": "Moges Tesema",
      "userId": "14633968793904231207"
     },
     "user_tz": -180
    },
    "id": "_cNaFLoQNu05"
   },
   "outputs": [],
   "source": [
    "# !pip install matplotlib numpy pandas\n",
    "import matplotlib.pyplot as plt\n",
    "import numpy as np\n",
    "import os\n",
    "import tensorflow as tf\n"
   ]
  },
  {
   "cell_type": "markdown",
   "metadata": {
    "id": "1Ff9eLKCOJMP"
   },
   "source": [
    "### download databases"
   ]
  },
  {
   "cell_type": "code",
   "execution_count": null,
   "metadata": {
    "colab": {
     "base_uri": "https://localhost:8080/"
    },
    "executionInfo": {
     "elapsed": 5908,
     "status": "ok",
     "timestamp": 1756730130588,
     "user": {
      "displayName": "Moges Tesema",
      "userId": "14633968793904231207"
     },
     "user_tz": -180
    },
    "id": "WKO3OP7gOB_y",
    "outputId": "cf6c0f9d-e3a0-40c2-db1b-4d1e0c1fb0d7"
   },
   "outputs": [],
   "source": [
    "import zipfile\n",
    "\n",
    "_URL = 'https://storage.googleapis.com/mledu-datasets/cats_and_dogs_filtered.zip'\n",
    "path_to_zip = tf.keras.utils.get_file('cats_and_dogs.zip', origin=_URL)\n",
    "\n",
    "# Extract manually to ensure folder exists\n",
    "with zipfile.ZipFile(path_to_zip, 'r') as zip_ref:\n",
    "    zip_ref.extractall(os.path.dirname(path_to_zip))\n",
    "\n",
    "PATH = os.path.join(os.path.dirname(path_to_zip), 'cats_and_dogs_filtered')\n",
    "\n",
    "train_dir = os.path.join(PATH, 'train')\n",
    "validation_dir = os.path.join(PATH, 'validation')\n"
   ]
  },
  {
   "cell_type": "markdown",
   "metadata": {
    "id": "CP1ea2nmOIQC"
   },
   "source": []
  },
  {
   "cell_type": "code",
   "execution_count": null,
   "metadata": {
    "colab": {
     "base_uri": "https://localhost:8080/"
    },
    "executionInfo": {
     "elapsed": 5454,
     "status": "ok",
     "timestamp": 1756730136076,
     "user": {
      "displayName": "Moges Tesema",
      "userId": "14633968793904231207"
     },
     "user_tz": -180
    },
    "id": "uuYe9tLrQxId",
    "outputId": "e7dc6c4d-c7e0-4b17-a5ad-997ca4c8c595"
   },
   "outputs": [],
   "source": [
    "BATCH_SIZE = 32\n",
    "IMG_SIZE = (160, 160)\n",
    "\n",
    "train_dataset = tf.keras.utils.image_dataset_from_directory(\n",
    "    train_dir,\n",
    "    shuffle=True,\n",
    "    batch_size=BATCH_SIZE,\n",
    "    image_size=IMG_SIZE\n",
    ")\n",
    "validation_dataset = tf.keras.utils.image_dataset_from_directory(validation_dir,\n",
    "                                                                 shuffle=True,\n",
    "                                                                 batch_size=BATCH_SIZE,\n",
    "                                                                 image_size=IMG_SIZE)"
   ]
  },
  {
   "cell_type": "code",
   "execution_count": null,
   "metadata": {
    "colab": {
     "base_uri": "https://localhost:8080/",
     "height": 731
    },
    "executionInfo": {
     "elapsed": 3033,
     "status": "ok",
     "timestamp": 1756730139116,
     "user": {
      "displayName": "Moges Tesema",
      "userId": "14633968793904231207"
     },
     "user_tz": -180
    },
    "id": "9TzhFCsjRgMY",
    "outputId": "ebe0aeaa-a425-43d5-f342-313adac35ec9"
   },
   "outputs": [],
   "source": [
    "class_names = train_dataset.class_names\n",
    "\n",
    "plt.figure(figsize=(10, 10))\n",
    "for images, labels in train_dataset.take(1):\n",
    "  for i in range(9):\n",
    "    ax = plt.subplot(3, 3, i + 1)\n",
    "    plt.imshow(images[i].numpy().astype(\"uint8\"))\n",
    "    plt.title(class_names[labels[i]])\n",
    "    plt.axis(\"off\")"
   ]
  },
  {
   "cell_type": "code",
   "execution_count": null,
   "metadata": {
    "executionInfo": {
     "elapsed": 9,
     "status": "ok",
     "timestamp": 1756730139143,
     "user": {
      "displayName": "Moges Tesema",
      "userId": "14633968793904231207"
     },
     "user_tz": -180
    },
    "id": "gco0rnjeR3Ad"
   },
   "outputs": [],
   "source": [
    "val_batches = tf.data.experimental.cardinality(validation_dataset)\n",
    "test_dataset = validation_dataset.take(val_batches // 5)\n",
    "validation_dataset = validation_dataset.skip(val_batches // 5)"
   ]
  },
  {
   "cell_type": "code",
   "execution_count": null,
   "metadata": {
    "colab": {
     "base_uri": "https://localhost:8080/"
    },
    "executionInfo": {
     "elapsed": 15,
     "status": "ok",
     "timestamp": 1756730139164,
     "user": {
      "displayName": "Moges Tesema",
      "userId": "14633968793904231207"
     },
     "user_tz": -180
    },
    "id": "sk3xKULQSHvX",
    "outputId": "0000197d-063e-426c-a65a-5a9d8fdb7ef3"
   },
   "outputs": [],
   "source": [
    "print('Number of validation batches: %d' % tf.data.experimental.cardinality(validation_dataset))\n",
    "print('Number of test batches: %d' % tf.data.experimental.cardinality(test_dataset))"
   ]
  },
  {
   "cell_type": "code",
   "execution_count": null,
   "metadata": {
    "executionInfo": {
     "elapsed": 4,
     "status": "ok",
     "timestamp": 1756730139171,
     "user": {
      "displayName": "Moges Tesema",
      "userId": "14633968793904231207"
     },
     "user_tz": -180
    },
    "id": "27ohUkYDSlJO"
   },
   "outputs": [],
   "source": [
    "AUTOTUNE = tf.data.AUTOTUNE\n",
    "\n",
    "train_dataset = train_dataset.prefetch(buffer_size=AUTOTUNE)\n",
    "validation_dataset = validation_dataset.prefetch(buffer_size=AUTOTUNE)\n",
    "test_dataset = test_dataset.prefetch(buffer_size=AUTOTUNE)"
   ]
  },
  {
   "cell_type": "code",
   "execution_count": null,
   "metadata": {
    "executionInfo": {
     "elapsed": 3,
     "status": "ok",
     "timestamp": 1756730139180,
     "user": {
      "displayName": "Moges Tesema",
      "userId": "14633968793904231207"
     },
     "user_tz": -180
    },
    "id": "-q5Mgf2ASmE9"
   },
   "outputs": [],
   "source": [
    "data_augmentation = tf.keras.Sequential([\n",
    "  tf.keras.layers.RandomFlip('horizontal'),\n",
    "  tf.keras.layers.RandomRotation(0.2),\n",
    "])"
   ]
  },
  {
   "cell_type": "code",
   "execution_count": null,
   "metadata": {
    "colab": {
     "base_uri": "https://localhost:8080/",
     "height": 711
    },
    "executionInfo": {
     "elapsed": 4148,
     "status": "ok",
     "timestamp": 1756730143333,
     "user": {
      "displayName": "Moges Tesema",
      "userId": "14633968793904231207"
     },
     "user_tz": -180
    },
    "id": "rwsdfuCeS30-",
    "outputId": "c85b9da0-9bab-4a51-eea7-0cc35a778612"
   },
   "outputs": [],
   "source": [
    "for image, _ in train_dataset.take(1):\n",
    "  plt.figure(figsize=(10, 10))\n",
    "  first_image = image[0]\n",
    "  for i in range(9):\n",
    "    ax = plt.subplot(3, 3, i + 1)\n",
    "    augmented_image = data_augmentation(tf.expand_dims(first_image, 0))\n",
    "    plt.imshow(augmented_image[0] / 255)\n",
    "    plt.axis('off')"
   ]
  },
  {
   "cell_type": "code",
   "execution_count": null,
   "metadata": {
    "executionInfo": {
     "elapsed": 5,
     "status": "ok",
     "timestamp": 1756730143350,
     "user": {
      "displayName": "Moges Tesema",
      "userId": "14633968793904231207"
     },
     "user_tz": -180
    },
    "id": "IJL24JaeUSd6"
   },
   "outputs": [],
   "source": [
    "preprocess_input = tf.keras.applications.mobilenet_v2.preprocess_input\n"
   ]
  },
  {
   "cell_type": "code",
   "execution_count": null,
   "metadata": {
    "executionInfo": {
     "elapsed": 9,
     "status": "ok",
     "timestamp": 1756730143364,
     "user": {
      "displayName": "Moges Tesema",
      "userId": "14633968793904231207"
     },
     "user_tz": -180
    },
    "id": "9v6dx5S0UWk5"
   },
   "outputs": [],
   "source": [
    "rescale = tf.keras.layers.Rescaling(1./127.5, offset=-1)"
   ]
  },
  {
   "cell_type": "code",
   "execution_count": null,
   "metadata": {
    "colab": {
     "base_uri": "https://localhost:8080/"
    },
    "executionInfo": {
     "elapsed": 2416,
     "status": "ok",
     "timestamp": 1756730145783,
     "user": {
      "displayName": "Moges Tesema",
      "userId": "14633968793904231207"
     },
     "user_tz": -180
    },
    "id": "1NtCJdl2UY4r",
    "outputId": "2f02232f-47d4-4139-9095-b4eb2e51383e"
   },
   "outputs": [],
   "source": [
    "# Create the base model from the pre-trained model MobileNet V2\n",
    "IMG_SHAPE = IMG_SIZE + (3,)\n",
    "base_model = tf.keras.applications.MobileNetV2(input_shape=IMG_SHAPE,\n",
    "                                               include_top=False,\n",
    "                                               weights='imagenet')"
   ]
  },
  {
   "cell_type": "code",
   "execution_count": null,
   "metadata": {
    "executionInfo": {
     "elapsed": 1453,
     "status": "ok",
     "timestamp": 1756730147238,
     "user": {
      "displayName": "Moges Tesema",
      "userId": "14633968793904231207"
     },
     "user_tz": -180
    },
    "id": "PuZtyadPWOqD"
   },
   "outputs": [],
   "source": [
    "image_batch, label_batch = next(iter(train_dataset))\n",
    "feature_batch = base_model(image_batch)\n",
    "# print(feature_batch)\n",
    "# print(feature_batch.shape)\n",
    "# print(label_batch)"
   ]
  },
  {
   "cell_type": "code",
   "execution_count": null,
   "metadata": {
    "colab": {
     "base_uri": "https://localhost:8080/",
     "height": 1000
    },
    "executionInfo": {
     "elapsed": 451,
     "status": "ok",
     "timestamp": 1756730147702,
     "user": {
      "displayName": "Moges Tesema",
      "userId": "14633968793904231207"
     },
     "user_tz": -180
    },
    "id": "d67XbcN2W6-b",
    "outputId": "47a5af26-14c4-4164-8530-54fc9aeda59c"
   },
   "outputs": [],
   "source": [
    "base_model.summary()"
   ]
  },
  {
   "cell_type": "code",
   "execution_count": null,
   "metadata": {
    "colab": {
     "base_uri": "https://localhost:8080/"
    },
    "executionInfo": {
     "elapsed": 8,
     "status": "ok",
     "timestamp": 1756730147720,
     "user": {
      "displayName": "Moges Tesema",
      "userId": "14633968793904231207"
     },
     "user_tz": -180
    },
    "id": "Uyqt-M9xYthF",
    "outputId": "b67c21bd-3427-41f3-b40f-6a282cfc2746"
   },
   "outputs": [],
   "source": [
    "global_average_layer = tf.keras.layers.GlobalAveragePooling2D()\n",
    "feature_batch_average = global_average_layer(feature_batch)\n",
    "print(feature_batch_average.shape)"
   ]
  },
  {
   "cell_type": "code",
   "execution_count": null,
   "metadata": {
    "colab": {
     "base_uri": "https://localhost:8080/"
    },
    "executionInfo": {
     "elapsed": 11,
     "status": "ok",
     "timestamp": 1756730147735,
     "user": {
      "displayName": "Moges Tesema",
      "userId": "14633968793904231207"
     },
     "user_tz": -180
    },
    "id": "0MqGkAQjZkPU",
    "outputId": "9cb93770-f328-41f6-bf77-9c14687bfd24"
   },
   "outputs": [],
   "source": [
    "prediction_layer = tf.keras.layers.Dense(1, activation='sigmoid')\n",
    "prediction_batch = prediction_layer(feature_batch_average)\n",
    "print(prediction_batch.shape)"
   ]
  },
  {
   "cell_type": "code",
   "execution_count": null,
   "metadata": {
    "executionInfo": {
     "elapsed": 2,
     "status": "ok",
     "timestamp": 1756730147744,
     "user": {
      "displayName": "Moges Tesema",
      "userId": "14633968793904231207"
     },
     "user_tz": -180
    },
    "id": "_zQZul1DZw8Q"
   },
   "outputs": [],
   "source": [
    "inputs = tf.keras.Input(shape=(160, 160, 3))\n",
    "x = data_augmentation(inputs)\n",
    "x = preprocess_input(x)\n",
    "x = base_model(x, training=False)\n",
    "x = global_average_layer(x)\n",
    "x = tf.keras.layers.Dropout(0.2)(x)\n",
    "outputs = prediction_layer(x)\n",
    "model = tf.keras.Model(inputs, outputs)"
   ]
  },
  {
   "cell_type": "code",
   "execution_count": null,
   "metadata": {
    "colab": {
     "base_uri": "https://localhost:8080/",
     "height": 417
    },
    "executionInfo": {
     "elapsed": 67,
     "status": "ok",
     "timestamp": 1756730147816,
     "user": {
      "displayName": "Moges Tesema",
      "userId": "14633968793904231207"
     },
     "user_tz": -180
    },
    "id": "NMMaioelavt7",
    "outputId": "5ce6cf88-5a53-4ffd-8c88-41912219fa47"
   },
   "outputs": [],
   "source": [
    "model.summary()"
   ]
  },
  {
   "cell_type": "code",
   "execution_count": null,
   "metadata": {
    "executionInfo": {
     "elapsed": 10,
     "status": "ok",
     "timestamp": 1756730147820,
     "user": {
      "displayName": "Moges Tesema",
      "userId": "14633968793904231207"
     },
     "user_tz": -180
    },
    "id": "h7YjJvvij8aW"
   },
   "outputs": [],
   "source": [
    "# !pip install pydot"
   ]
  },
  {
   "cell_type": "code",
   "execution_count": null,
   "metadata": {
    "colab": {
     "base_uri": "https://localhost:8080/",
     "height": 1000
    },
    "executionInfo": {
     "elapsed": 430,
     "status": "ok",
     "timestamp": 1756730148253,
     "user": {
      "displayName": "Moges Tesema",
      "userId": "14633968793904231207"
     },
     "user_tz": -180
    },
    "id": "6j1tvF7gax78",
    "outputId": "401f8203-5c96-42b8-9945-bcefdf7fd125"
   },
   "outputs": [],
   "source": [
    "\n",
    "tf.keras.utils.plot_model(model, show_shapes=True)"
   ]
  },
  {
   "cell_type": "code",
   "execution_count": null,
   "metadata": {
    "executionInfo": {
     "elapsed": 6,
     "status": "ok",
     "timestamp": 1756730148269,
     "user": {
      "displayName": "Moges Tesema",
      "userId": "14633968793904231207"
     },
     "user_tz": -180
    },
    "id": "nTI_NN0HdmDA"
   },
   "outputs": [],
   "source": [
    "base_learning_rate = 0.0001\n",
    "model.compile(optimizer=tf.keras.optimizers.Adam(learning_rate=base_learning_rate),\n",
    "              loss=tf.keras.losses.BinaryCrossentropy(),\n",
    "              metrics=[tf.keras.metrics.BinaryAccuracy(threshold=0.5, name='accuracy')])"
   ]
  },
  {
   "cell_type": "code",
   "execution_count": null,
   "metadata": {
    "colab": {
     "base_uri": "https://localhost:8080/"
    },
    "executionInfo": {
     "elapsed": 4524,
     "status": "ok",
     "timestamp": 1756730152801,
     "user": {
      "displayName": "Moges Tesema",
      "userId": "14633968793904231207"
     },
     "user_tz": -180
    },
    "id": "ta_7pzIqd0lH",
    "outputId": "3a8f6443-7c92-4d15-d5a8-06794b8f2787"
   },
   "outputs": [],
   "source": [
    "initial_epochs = 10\n",
    "\n",
    "loss0, accuracy0 = model.evaluate(validation_dataset)"
   ]
  },
  {
   "cell_type": "code",
   "execution_count": null,
   "metadata": {
    "colab": {
     "base_uri": "https://localhost:8080/"
    },
    "executionInfo": {
     "elapsed": 32,
     "status": "ok",
     "timestamp": 1756730152836,
     "user": {
      "displayName": "Moges Tesema",
      "userId": "14633968793904231207"
     },
     "user_tz": -180
    },
    "id": "ueE5pDfLeQPL",
    "outputId": "e05139b5-38aa-49c7-d6fd-022cbca96f49"
   },
   "outputs": [],
   "source": [
    "print(\"initial loss: {:.2f}\".format(loss0))\n",
    "print(\"initial accuracy: {:.2f}\".format(accuracy0))"
   ]
  },
  {
   "cell_type": "code",
   "execution_count": null,
   "metadata": {
    "colab": {
     "base_uri": "https://localhost:8080/"
    },
    "executionInfo": {
     "elapsed": 204686,
     "status": "ok",
     "timestamp": 1756730657349,
     "user": {
      "displayName": "Moges Tesema",
      "userId": "14633968793904231207"
     },
     "user_tz": -180
    },
    "id": "lyaEgY40fz5O",
    "outputId": "d891ce02-ea90-42bc-bb98-e46f743c0ecb"
   },
   "outputs": [],
   "source": [
    "history = model.fit(train_dataset,\n",
    "                    epochs=initial_epochs,\n",
    "                    validation_data=validation_dataset)"
   ]
  },
  {
   "cell_type": "code",
   "execution_count": null,
   "metadata": {
    "colab": {
     "base_uri": "https://localhost:8080/",
     "height": 715
    },
    "executionInfo": {
     "elapsed": 343,
     "status": "ok",
     "timestamp": 1756730445989,
     "user": {
      "displayName": "Moges Tesema",
      "userId": "14633968793904231207"
     },
     "user_tz": -180
    },
    "id": "wiOByF0tr7os",
    "outputId": "738bd8fb-98b4-4763-8241-c4a3178ada37"
   },
   "outputs": [],
   "source": [
    "acc = history.history['accuracy']\n",
    "val_acc = history.history['val_accuracy']\n",
    "\n",
    "loss = history.history['loss']\n",
    "val_loss = history.history['val_loss']\n",
    "\n",
    "plt.figure(figsize=(8, 8))\n",
    "plt.subplot(2, 1, 1)\n",
    "plt.plot(acc, label='Training Accuracy')\n",
    "plt.plot(val_acc, label='Validation Accuracy')\n",
    "plt.legend(loc='lower right')\n",
    "plt.ylabel('Accuracy')\n",
    "plt.ylim([min(plt.ylim()),1])\n",
    "plt.title('Training and Validation Accuracy')\n",
    "\n",
    "plt.subplot(2, 1, 2)\n",
    "plt.plot(loss, label='Training Loss')\n",
    "plt.plot(val_loss, label='Validation Loss')\n",
    "plt.legend(loc='upper right')\n",
    "plt.ylabel('Cross Entropy')\n",
    "plt.ylim([0,1.0])\n",
    "plt.title('Training and Validation Loss')\n",
    "plt.xlabel('epoch')\n",
    "plt.show()"
   ]
  }
 ],
 "metadata": {
  "accelerator": "GPU",
  "colab": {
   "authorship_tag": "ABX9TyNJ3pO0k4r9sI+QKgK8KaZT",
   "gpuType": "T4",
   "provenance": []
  },
  "kernelspec": {
   "display_name": "Python 3.10 (tf-env)",
   "language": "python",
   "name": "tf-env"
  },
  "language_info": {
   "codemirror_mode": {
    "name": "ipython",
    "version": 3
   },
   "file_extension": ".py",
   "mimetype": "text/x-python",
   "name": "python",
   "nbconvert_exporter": "python",
   "pygments_lexer": "ipython3",
   "version": "3.10.11"
  }
 },
 "nbformat": 4,
 "nbformat_minor": 0
}
