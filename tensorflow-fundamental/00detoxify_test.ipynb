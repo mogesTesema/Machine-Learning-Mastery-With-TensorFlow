{
 "cells": [
  {
   "cell_type": "markdown",
   "metadata": {
    "id": "63wTp0v56U-O"
   },
   "source": [
    "# detoxify model optimization\n",
    "### we are going to deploy model on free hosting service provider that give limited resource while detoxify model is exetremly resouce entensive model, here is where model optimization comes in to run the system on free plan efficiently."
   ]
  },
  {
   "cell_type": "code",
   "execution_count": null,
   "metadata": {
    "executionInfo": {
     "elapsed": 23,
     "status": "ok",
     "timestamp": 1754939245156,
     "user": {
      "displayName": "Moges Tesema",
      "userId": "14633968793904231207"
     },
     "user_tz": -180
    },
    "id": "ZGu_jItIvaMJ"
   },
   "outputs": [],
   "source": [
    "# !pip install torch detoxify\n",
    "\n",
    "import torch\n",
    "from detoxify import Detoxify\n",
    "import time"
   ]
  },
  {
   "cell_type": "code",
   "execution_count": null,
   "metadata": {
    "colab": {
     "base_uri": "https://localhost:8080/"
    },
    "executionInfo": {
     "elapsed": 3575,
     "status": "ok",
     "timestamp": 1754939445432,
     "user": {
      "displayName": "Moges Tesema",
      "userId": "14633968793904231207"
     },
     "user_tz": -180
    },
    "id": "mFPXIXRpwo7x",
    "outputId": "f1158d4a-154e-46aa-c64f-cec3ba176ad7"
   },
   "outputs": [],
   "source": [
    "time_one = time.perf_counter()\n",
    "unbiased_model = Detoxify(\"unbiased\")\n",
    "time_one_end = time.perf_counter()\n",
    "time_two_start = time.perf_counter()\n",
    "unbiased_small_model = Detoxify(\"unbiased-small\")\n",
    "print(\"Happy birth day!\",unbiased_model.predict(\"happy bearth day!\"))\n",
    "time_two_end = time.perf_counter()\n",
    "print(f\"unbiased model take to load: {time_one_end-time_one} \")\n",
    "print(f\"unbiased small model take to load: {time_two_end - time_two_start}\")\n"
   ]
  },
  {
   "cell_type": "code",
   "execution_count": null,
   "metadata": {
    "executionInfo": {
     "elapsed": 8,
     "status": "ok",
     "timestamp": 1754939289531,
     "user": {
      "displayName": "Moges Tesema",
      "userId": "14633968793904231207"
     },
     "user_tz": -180
    },
    "id": "O-Z10MDs4lx2"
   },
   "outputs": [],
   "source": []
  },
  {
   "cell_type": "code",
   "execution_count": null,
   "metadata": {
    "colab": {
     "base_uri": "https://localhost:8080/"
    },
    "executionInfo": {
     "elapsed": 5588,
     "status": "ok",
     "timestamp": 1754939413417,
     "user": {
      "displayName": "Moges Tesema",
      "userId": "14633968793904231207"
     },
     "user_tz": -180
    },
    "id": "9MOUMX6xwuGp",
    "outputId": "83137cb9-dccb-4907-d065-1de8870ea176"
   },
   "outputs": [],
   "source": [
    "time_one_start = time.perf_counter()\n",
    "result_unbiased_model = unbiased_model.predict([\"I am so a stupid guy in the world, no one such stupid guy like me.\", \"thank you!\", \"you are the best guy I have seen so far in my life\"])\n",
    "time_one_end =time.perf_counter()\n",
    "time_two_start = time.perf_counter()\n",
    "result_unbiased_small_model = unbiased_small_model.predict([\"I am so a stupid guy in the world, no one such stupid guy like me.\",\"thank you!\", \"you are the best guy I have seen so far in my life\"])\n",
    "time_two_end = time.perf_counter()\n",
    "print(\"Happy birth day!\",unbiased_model.predict(\"happy bearth day!\"))\n",
    "print(result_unbiased_model,\"\\n\\n\", result_unbiased_small_model)\n",
    "print(f\"unbiased model take to process: {time_one_end - time_one_start} \")\n",
    "print(f\"unbiased small model take to preoess: {time_two_end - time_two_start}\")\n"
   ]
  },
  {
   "cell_type": "code",
   "execution_count": null,
   "metadata": {
    "executionInfo": {
     "elapsed": 184,
     "status": "ok",
     "timestamp": 1754939290253,
     "user": {
      "displayName": "Moges Tesema",
      "userId": "14633968793904231207"
     },
     "user_tz": -180
    },
    "id": "FSQOxpAzyK3D"
   },
   "outputs": [],
   "source": []
  },
  {
   "cell_type": "markdown",
   "metadata": {
    "id": "avsmR0jBDio-"
   },
   "source": [
    "### converting the model to float16"
   ]
  },
  {
   "cell_type": "code",
   "execution_count": null,
   "metadata": {
    "colab": {
     "base_uri": "https://localhost:8080/"
    },
    "executionInfo": {
     "elapsed": 1234,
     "status": "ok",
     "timestamp": 1754939291495,
     "user": {
      "displayName": "Moges Tesema",
      "userId": "14633968793904231207"
     },
     "user_tz": -180
    },
    "id": "O2Y0_xbpzFIo",
    "outputId": "189da621-488b-4c07-ff53-b1fd4241fadc"
   },
   "outputs": [],
   "source": [
    "unbiased_model.model.to(torch.float16)\n",
    "unbiased_small_model.model.to(torch.float16)\n",
    "time_one_start = time.perf_counter()\n",
    "result_unbiased_model = unbiased_model.predict(\"I am so a stupid guy in the world, no one such stupid guy like me.\")\n",
    "print(result_unbiased_model)\n",
    "time_one_end =time.perf_counter()\n",
    "print(f\"unbiased model take to process: {time_one_end - time_one_start} \\n\\n\")\n",
    "\n",
    "# test unbiased-small model after converting to float16 precision.\n",
    "\n",
    "time_two_start = time.perf_counter()\n",
    "result_unbiased_small_model = unbiased_small_model.predict(\"I am so a stupid guy in the world, no one such stupid guy like me.\")\n",
    "print(result_unbiased_model)\n",
    "time_two_end =time.perf_counter()\n",
    "print(result_unbiased_small_model)\n",
    "print(f\"unbiased small model take to process: {time_one_end - time_one_start} \")\n"
   ]
  },
  {
   "cell_type": "code",
   "execution_count": null,
   "metadata": {
    "executionInfo": {
     "elapsed": 6,
     "status": "ok",
     "timestamp": 1754939291525,
     "user": {
      "displayName": "Moges Tesema",
      "userId": "14633968793904231207"
     },
     "user_tz": -180
    },
    "id": "RFf2uFFrFBVK"
   },
   "outputs": [],
   "source": []
  }
 ],
 "metadata": {
  "colab": {
   "authorship_tag": "ABX9TyMbKGTK525va4gtoTXtzK31",
   "provenance": []
  },
  "kernelspec": {
   "display_name": "Python 3.10 (tf-env)",
   "language": "python",
   "name": "tf-env"
  }
 },
 "nbformat": 4,
 "nbformat_minor": 0
}
