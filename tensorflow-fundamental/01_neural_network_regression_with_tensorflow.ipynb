{
 "cells": [
  {
   "cell_type": "markdown",
   "metadata": {
    "id": "GG_gugn60CnQ"
   },
   "source": [
    "# Introduction to regression with neural network in TensorFlow\n",
    "There are many defintions for a regression problem but in our case, we're going to simplify it: predicting a numerical variable based on some other combination of variables, even shorter ... predicting a number."
   ]
  },
  {
   "cell_type": "code",
   "execution_count": null,
   "metadata": {
    "colab": {
     "base_uri": "https://localhost:8080/"
    },
    "executionInfo": {
     "elapsed": 30,
     "status": "ok",
     "timestamp": 1757399025585,
     "user": {
      "displayName": "Moges Tesema",
      "userId": "14633968793904231207"
     },
     "user_tz": -180
    },
    "id": "eEwb_nY30skj",
    "outputId": "0b0a78a3-e8b7-4674-86fa-e255001032e4"
   },
   "outputs": [],
   "source": [
    "import tensorflow as tf\n",
    "print(tf.__version__)"
   ]
  },
  {
   "cell_type": "markdown",
   "metadata": {
    "id": "dnbinkQI1Iv7"
   },
   "source": []
  },
  {
   "cell_type": "markdown",
   "metadata": {
    "id": "Zb9UAC8B1U15"
   },
   "source": [
    "### creating data to view and fit\n"
   ]
  },
  {
   "cell_type": "code",
   "execution_count": null,
   "metadata": {
    "colab": {
     "base_uri": "https://localhost:8080/",
     "height": 452
    },
    "executionInfo": {
     "elapsed": 11,
     "status": "ok",
     "timestamp": 1757399025599,
     "user": {
      "displayName": "Moges Tesema",
      "userId": "14633968793904231207"
     },
     "user_tz": -180
    },
    "id": "IKFdkgjD0zIO",
    "outputId": "6e3c23e8-5b94-46a4-9a31-a04dc0bf35a1"
   },
   "outputs": [],
   "source": [
    "import numpy as np\n",
    "import matplotlib.pyplot as plt\n",
    "\n",
    "\n",
    "# create features\n",
    "X = np.array([-7.0, -4.0, -1.0, 2.0, 5.0, 8.0,11.0, 14.0])\n",
    "# create labels\n",
    "y = np.array([3.0, 6.0, 9.0, 12.0, 15.0, 18.0, 21.0,24.0])\n",
    "plt.scatter(X,y)"
   ]
  },
  {
   "cell_type": "code",
   "execution_count": null,
   "metadata": {
    "executionInfo": {
     "elapsed": 4,
     "status": "ok",
     "timestamp": 1757399025608,
     "user": {
      "displayName": "Moges Tesema",
      "userId": "14633968793904231207"
     },
     "user_tz": -180
    },
    "id": "RSaQSIXK-Ost"
   },
   "outputs": [],
   "source": [
    "# #create random number\n",
    "# X = tf.random.uniform([2,3,4,2,23], minval = -100, maxval = 20)\n",
    "# X =np.array(X)\n",
    "# y = tf.random.uniform([2,3,4,23,2], minval = 10 , maxval = 200)\n",
    "# y = np.array(y)\n",
    "# plt.scatter(X,y)\n"
   ]
  },
  {
   "cell_type": "code",
   "execution_count": null,
   "metadata": {
    "colab": {
     "base_uri": "https://localhost:8080/"
    },
    "executionInfo": {
     "elapsed": 18,
     "status": "ok",
     "timestamp": 1757399025629,
     "user": {
      "displayName": "Moges Tesema",
      "userId": "14633968793904231207"
     },
     "user_tz": -180
    },
    "id": "RlCV4mOpCHwK",
    "outputId": "d6096eb7-9d71-4b05-8cd6-80377967b9ce"
   },
   "outputs": [],
   "source": [
    "#  Create a demo tensor for out housing price prediction problem\n",
    "house_info = tf.constant([\"bedroom\", \"bathroom\", \"garage\"])\n",
    "house_price = tf.constant(939700)\n",
    "house_info, house_price"
   ]
  },
  {
   "cell_type": "code",
   "execution_count": null,
   "metadata": {
    "colab": {
     "base_uri": "https://localhost:8080/"
    },
    "executionInfo": {
     "elapsed": 11,
     "status": "ok",
     "timestamp": 1757399025643,
     "user": {
      "displayName": "Moges Tesema",
      "userId": "14633968793904231207"
     },
     "user_tz": -180
    },
    "id": "FQiczpylCy2x",
    "outputId": "0945db79-6f56-4905-f4c8-3ebc711f257e"
   },
   "outputs": [],
   "source": [
    "input_shape = X.shape\n",
    "output_shape = y.shape\n",
    "input_shape,output_shape, print(\"\\n\"), X, y\n",
    "\n",
    "X = tf.constant(X)\n",
    "y = tf.constant(y)\n",
    "X, y\n"
   ]
  },
  {
   "cell_type": "code",
   "execution_count": null,
   "metadata": {
    "executionInfo": {
     "elapsed": 2,
     "status": "ok",
     "timestamp": 1757399025647,
     "user": {
      "displayName": "Moges Tesema",
      "userId": "14633968793904231207"
     },
     "user_tz": -180
    },
    "id": "ihoAG9zTQvqJ"
   },
   "outputs": [],
   "source": []
  },
  {
   "cell_type": "markdown",
   "metadata": {
    "id": "rzvBAeEZE99s"
   },
   "source": [
    "## steps in modelling with TensorFlow\n",
    "1.  **Creating a model** - define the input and output layers, as well as the hidden layers of a deep learning model.\n",
    "2. **Compiling a model** - define the loss function ( in other words, the function which tells our model how wrong it is) and the optimizer (tells our model how to improve the patterns its learning) and evaluation metrics ( what we can use to interpret the performance of our model).\n",
    "3. **Fitting a model** - letting the model try to find patterns between X & y (features and labels).\n"
   ]
  },
  {
   "cell_type": "markdown",
   "metadata": {
    "id": "es3VSRHPUEuh"
   },
   "source": []
  },
  {
   "cell_type": "code",
   "execution_count": null,
   "metadata": {
    "colab": {
     "base_uri": "https://localhost:8080/",
     "height": 373
    },
    "executionInfo": {
     "elapsed": 63,
     "status": "error",
     "timestamp": 1757399194165,
     "user": {
      "displayName": "Moges Tesema",
      "userId": "14633968793904231207"
     },
     "user_tz": -180
    },
    "id": "6xoJ7tOEEl3D",
    "outputId": "0f72738c-800d-4258-94f4-74264fbc04fe"
   },
   "outputs": [],
   "source": [
    "# set random seed\n",
    "tf.random.set_seed(42)\n",
    "# 1. create a model using the sequential API\n",
    "model = tf.keras.Sequential([\n",
    "    tf.keras.layers.Dense(1),\n",
    "    tf.keras.layers.Dense(100, activation=\"relu\"),\n",
    "    tf.keras.layers.Dense(200,activation='relu'),\n",
    "    tf.keras.layers.Dense(300,activation='relu'),\n",
    "    tf.keras.layers.Dense(10,activation='relu'),\n",
    "    tf.keras.layers.Dense(1)\n",
    "])\n",
    "# 2. Compile the model\n",
    "model.compile(loss=tf.keras.losses.mae,\n",
    "              optimizer=tf.keras.optimizers.Adam(learning_rate = 0.01),\n",
    "              metrics=[\"mae\"])\n",
    " # Fit the model\n",
    "X = tf.constant(np.array(X).reshape(-1,1))\n",
    "# print(X,\"\\nVS\\n\",y)\n",
    "model.fit(X,y,epochs=100,verbose=0)"
   ]
  },
  {
   "cell_type": "code",
   "execution_count": null,
   "metadata": {
    "colab": {
     "base_uri": "https://localhost:8080/",
     "height": 1000
    },
    "executionInfo": {
     "elapsed": 407,
     "status": "ok",
     "timestamp": 1757399032953,
     "user": {
      "displayName": "Moges Tesema",
      "userId": "14633968793904231207"
     },
     "user_tz": -180
    },
    "id": "5os9xLwm15xH",
    "outputId": "33ca8d28-bd97-47c0-d4c3-e47e05948949"
   },
   "outputs": [],
   "source": [
    "from tensorflow.keras.utils import plot_model\n",
    "plot_model(model,show_shapes=True)"
   ]
  },
  {
   "cell_type": "code",
   "execution_count": null,
   "metadata": {
    "colab": {
     "base_uri": "https://localhost:8080/"
    },
    "executionInfo": {
     "elapsed": 50,
     "status": "ok",
     "timestamp": 1757399033005,
     "user": {
      "displayName": "Moges Tesema",
      "userId": "14633968793904231207"
     },
     "user_tz": -180
    },
    "id": "P8Xk6ojWE3-b",
    "outputId": "575315a2-c8bb-4e31-cf71-67fe91b8cd22"
   },
   "outputs": [],
   "source": [
    "# print(X,y)\n",
    "test = tf.constant(10., shape=[1,1])\n",
    "model.predict(test)"
   ]
  },
  {
   "cell_type": "markdown",
   "metadata": {
    "id": "kKp_acn52Xrx"
   },
   "source": [
    "# how we can improve the model\n",
    "We can improve our model, by altering the steps we took to creat a model.\n",
    "1. **Creating a model** - here we might add more layers, increases the number of hidden units(all called neurons)\n",
    "within each of the hidden layes, change the activation function  of each layer.\n",
    "2. **Compiling a model** - here we might change the optimization function or perhaps the ***learning rate*** of the optimization function.\n",
    "3. **Fitting a model** - here we mgiht fit a model for more **epochs** (leave it training for longer) or on more data (give the model more examples to learn from).\n"
   ]
  },
  {
   "cell_type": "markdown",
   "metadata": {
    "id": "BHIjfMAeAdqc"
   },
   "source": []
  },
  {
   "cell_type": "markdown",
   "metadata": {
    "id": "CdwlX5rCEdrd"
   },
   "source": [
    "## Let's rebuild our model"
   ]
  },
  {
   "cell_type": "code",
   "execution_count": null,
   "metadata": {
    "colab": {
     "base_uri": "https://localhost:8080/"
    },
    "executionInfo": {
     "elapsed": 8992,
     "status": "ok",
     "timestamp": 1757399041969,
     "user": {
      "displayName": "Moges Tesema",
      "userId": "14633968793904231207"
     },
     "user_tz": -180
    },
    "id": "gVm63-4I2gWy",
    "outputId": "8d23ab25-f3c2-461f-e3a0-b24bb09a6662"
   },
   "outputs": [],
   "source": [
    "# Create the model\n",
    "model = tf.keras.Sequential([\n",
    "    tf.keras.layers.Dense(1),\n",
    "    tf.keras.layers.Dense(100, activation='relu'),\n",
    "    tf.keras.layers.Dense(100, activation='relu'),\n",
    "    tf.keras.layers.Dense(100, activation='relu'),\n",
    "    tf.keras.layers.Dense(1)\n",
    "\n",
    "\n",
    "])\n",
    "# Compile the model\n",
    "model.compile(loss='mae',\n",
    "              optimizer=tf.keras.optimizers.Adam(0.005),\n",
    "              metrics= ['mae'])\n",
    "# fit the model\n",
    "model.fit(X,y, epochs=100)"
   ]
  },
  {
   "cell_type": "markdown",
   "metadata": {
    "id": "CavVkNzCNLHF"
   },
   "source": [
    "###Literally to improve model performance try to adjust the following stuffs\n",
    "* `adding layers`\n",
    "* `increase the number of hidden units`\n",
    "* `change the activation functions`\n",
    "* `change the optimization function`\n",
    "* `change the learning rate`\n",
    "* `fitting on more data`\n",
    "* `fitting for longer`"
   ]
  },
  {
   "cell_type": "code",
   "execution_count": null,
   "metadata": {
    "colab": {
     "base_uri": "https://localhost:8080/"
    },
    "executionInfo": {
     "elapsed": 137,
     "status": "ok",
     "timestamp": 1757399042108,
     "user": {
      "displayName": "Moges Tesema",
      "userId": "14633968793904231207"
     },
     "user_tz": -180
    },
    "id": "QpRS_auAG3GN",
    "outputId": "b03e5e22-2255-4d75-9141-be038edd1c17"
   },
   "outputs": [],
   "source": [
    "print(X,y)\n",
    "a = 10\n",
    "test =tf.constant(a,shape=[1,1])\n",
    "model.predict(test)"
   ]
  },
  {
   "cell_type": "markdown",
   "metadata": {
    "id": "XHJ6VyaZOcvT"
   },
   "source": [
    "# Evaluating the model"
   ]
  },
  {
   "cell_type": "markdown",
   "metadata": {
    "id": "nHhYPymZ2f39"
   },
   "source": []
  },
  {
   "cell_type": "markdown",
   "metadata": {
    "id": "de2pGOctOhD7"
   },
   "source": []
  },
  {
   "cell_type": "code",
   "execution_count": null,
   "metadata": {
    "colab": {
     "base_uri": "https://localhost:8080/"
    },
    "executionInfo": {
     "elapsed": 13,
     "status": "ok",
     "timestamp": 1757399042124,
     "user": {
      "displayName": "Moges Tesema",
      "userId": "14633968793904231207"
     },
     "user_tz": -180
    },
    "id": "uiWkkG7dnQWB",
    "outputId": "24c1232a-d78b-4926-cf59-8279df934df1"
   },
   "outputs": [],
   "source": [
    "# Make a bigger dataset\n",
    "X = tf.range(-100,100,4)\n",
    "X"
   ]
  },
  {
   "cell_type": "code",
   "execution_count": null,
   "metadata": {
    "colab": {
     "base_uri": "https://localhost:8080/",
     "height": 447
    },
    "executionInfo": {
     "elapsed": 185,
     "status": "ok",
     "timestamp": 1757399042329,
     "user": {
      "displayName": "Moges Tesema",
      "userId": "14633968793904231207"
     },
     "user_tz": -180
    },
    "id": "xyo5oW0WqeYb",
    "outputId": "e317fca8-88df-4d0f-a505-196cf698f1ed"
   },
   "outputs": [],
   "source": [
    "y = X + 10\n",
    "y\n",
    "plt.scatter(X,y)"
   ]
  },
  {
   "cell_type": "code",
   "execution_count": null,
   "metadata": {
    "executionInfo": {
     "elapsed": 4,
     "status": "ok",
     "timestamp": 1757399042338,
     "user": {
      "displayName": "Moges Tesema",
      "userId": "14633968793904231207"
     },
     "user_tz": -180
    },
    "id": "jH1SIovrq765"
   },
   "outputs": [],
   "source": []
  },
  {
   "cell_type": "markdown",
   "metadata": {
    "id": "k0QFtJeQq-jQ"
   },
   "source": [
    "### The 3 sets...\n",
    "* **Training set** - the model learns from this data, which is typically 70-80% of the total data you have available.\n",
    "* **Validation set**   - the model gets tuned on this data, which is typically 10-15% of the data available.\n",
    "* **Test set** - the model gets evaluated on this data to test what it has learned, this set is typically 10-15% of the total data available.\n",
    "\n"
   ]
  },
  {
   "cell_type": "code",
   "execution_count": null,
   "metadata": {
    "colab": {
     "base_uri": "https://localhost:8080/"
    },
    "executionInfo": {
     "elapsed": 48,
     "status": "ok",
     "timestamp": 1757399322203,
     "user": {
      "displayName": "Moges Tesema",
      "userId": "14633968793904231207"
     },
     "user_tz": -180
    },
    "id": "U4TU9ZRav97I",
    "outputId": "426fe85e-7a5e-401e-cc50-1b85a6b56731"
   },
   "outputs": [],
   "source": [
    "# check the length of how many samples we have\n",
    "len(X)\n",
    "# split the data into train and test sets\n",
    "X_train = X[:40]\n",
    "y_train = y[:40]\n",
    "X_test = X[40:]\n",
    "y_test = y[40:]\n",
    "len(X_train), len(y_train), len(X_test),len( y_test)\n",
    "\n"
   ]
  },
  {
   "cell_type": "code",
   "execution_count": null,
   "metadata": {
    "colab": {
     "base_uri": "https://localhost:8080/",
     "height": 1000
    },
    "executionInfo": {
     "elapsed": 247,
     "status": "error",
     "timestamp": 1757399330098,
     "user": {
      "displayName": "Moges Tesema",
      "userId": "14633968793904231207"
     },
     "user_tz": -180
    },
    "id": "UWy06i6fxhgr",
    "outputId": "0bf4817f-5686-418a-dc91-6d8de1cfec8d"
   },
   "outputs": [],
   "source": [
    "# Visualing the data\n",
    "plt.figure(figsize=(20,20))\n",
    "plt.scatter(X_train,y_train, c=\"b\",label=\"Training datat\")\n",
    "plt.scatter(X_test,y_test,c=\"g\",label = \"Testing data\")\n",
    "plt.legend()"
   ]
  },
  {
   "cell_type": "code",
   "execution_count": null,
   "metadata": {
    "colab": {
     "base_uri": "https://localhost:8080/",
     "height": 296
    },
    "executionInfo": {
     "elapsed": 6417,
     "status": "ok",
     "timestamp": 1757399049044,
     "user": {
      "displayName": "Moges Tesema",
      "userId": "14633968793904231207"
     },
     "user_tz": -180
    },
    "id": "J6j8twNVzGT2",
    "outputId": "0ee99a9f-ca6e-4a5b-b1f8-2ee4a252af83"
   },
   "outputs": [],
   "source": [
    "from os import name\n",
    "\n",
    "\n",
    "# Create a model\n",
    "tf.keras.backend.clear_session()\n",
    "model = tf.keras.Sequential([\n",
    "    tf.keras.layers.Dense(1, input_shape=[1],name=\"input_layers\"),\n",
    "    tf.keras.layers.Dense(100,name=\"hidden_layers\"),\n",
    "    tf.keras.layers.Dense(1, name=\"output_layers\")],\n",
    "    name=\"model_1\")\n",
    "# compile the model\n",
    "model.compile(loss = tf.keras.losses.huber,\n",
    "              optimizer=tf.keras.optimizers.Adam(learning_rate=0.01),\n",
    "              metrics =[\"mae\"]\n",
    "              )\n",
    "# fit the model\n",
    "model.fit(X_train, y_train, epochs=100,verbose=0)\n",
    "model.summary()\n"
   ]
  },
  {
   "cell_type": "code",
   "execution_count": null,
   "metadata": {
    "colab": {
     "base_uri": "https://localhost:8080/"
    },
    "executionInfo": {
     "elapsed": 251,
     "status": "ok",
     "timestamp": 1757399049290,
     "user": {
      "displayName": "Moges Tesema",
      "userId": "14633968793904231207"
     },
     "user_tz": -180
    },
    "id": "o9ncrePxzkkO",
    "outputId": "a6a45828-7de5-4a3f-b7e1-15432bcf14b8"
   },
   "outputs": [],
   "source": [
    "test = tf.constant(120.0, shape=[1,1])\n",
    "model.predict(test)"
   ]
  },
  {
   "cell_type": "code",
   "execution_count": null,
   "metadata": {
    "colab": {
     "base_uri": "https://localhost:8080/",
     "height": 776
    },
    "executionInfo": {
     "elapsed": 227,
     "status": "ok",
     "timestamp": 1757399049518,
     "user": {
      "displayName": "Moges Tesema",
      "userId": "14633968793904231207"
     },
     "user_tz": -180
    },
    "id": "FphlSMOmVlrp",
    "outputId": "7626c7f8-d03b-4fc2-a81c-8f260f573fcf"
   },
   "outputs": [],
   "source": [
    "from tensorflow.keras.utils import plot_model\n",
    "plot_model(model=model,show_shapes=True,show_layer_names=True )"
   ]
  },
  {
   "cell_type": "code",
   "execution_count": null,
   "metadata": {
    "colab": {
     "base_uri": "https://localhost:8080/"
    },
    "executionInfo": {
     "elapsed": 129,
     "status": "ok",
     "timestamp": 1757399049654,
     "user": {
      "displayName": "Moges Tesema",
      "userId": "14633968793904231207"
     },
     "user_tz": -180
    },
    "id": "2X4esMjXV-xT",
    "outputId": "5bfcc4e3-c60a-44ba-d3c8-747d3080c439"
   },
   "outputs": [],
   "source": [
    "y_pred = model.predict(y_test)\n",
    "y_pred"
   ]
  },
  {
   "cell_type": "code",
   "execution_count": null,
   "metadata": {
    "colab": {
     "base_uri": "https://localhost:8080/"
    },
    "executionInfo": {
     "elapsed": 32,
     "status": "ok",
     "timestamp": 1757399049689,
     "user": {
      "displayName": "Moges Tesema",
      "userId": "14633968793904231207"
     },
     "user_tz": -180
    },
    "id": "KB60O-ggcbHZ",
    "outputId": "8b7d60fa-97c5-499d-b7d2-e2e63e0401a1"
   },
   "outputs": [],
   "source": [
    "y_test"
   ]
  },
  {
   "cell_type": "code",
   "execution_count": null,
   "metadata": {
    "colab": {
     "base_uri": "https://localhost:8080/",
     "height": 447
    },
    "executionInfo": {
     "elapsed": 205,
     "status": "ok",
     "timestamp": 1757399049896,
     "user": {
      "displayName": "Moges Tesema",
      "userId": "14633968793904231207"
     },
     "user_tz": -180
    },
    "id": "W0s2BkyfdLkZ",
    "outputId": "58813640-e64f-4c96-e0ec-a4d205cb06a0"
   },
   "outputs": [],
   "source": [
    "import matplotlib.pyplot as plt\n",
    "plt.scatter(y_pred,y_test)"
   ]
  },
  {
   "cell_type": "markdown",
   "metadata": {
    "id": "1GQqnBRDL5zh"
   },
   "source": []
  },
  {
   "cell_type": "code",
   "execution_count": null,
   "metadata": {
    "executionInfo": {
     "elapsed": 8,
     "status": "ok",
     "timestamp": 1757399049931,
     "user": {
      "displayName": "Moges Tesema",
      "userId": "14633968793904231207"
     },
     "user_tz": -180
    },
    "id": "kvgSQ2Umdj6j"
   },
   "outputs": [],
   "source": []
  },
  {
   "cell_type": "markdown",
   "metadata": {
    "id": "OT4pKx-DMGI4"
   },
   "source": [
    "### Visualizeing our model's predictions\n",
    "To visualize predictions, it's a good idea to plot them against the ground truth labels.\n",
    "Often you'll see this in the form of `y_test` or `ytrue` versus `y_pred` ( ground truth verssus you model)"
   ]
  },
  {
   "cell_type": "code",
   "execution_count": null,
   "metadata": {
    "colab": {
     "base_uri": "https://localhost:8080/"
    },
    "executionInfo": {
     "elapsed": 100,
     "status": "ok",
     "timestamp": 1757399050055,
     "user": {
      "displayName": "Moges Tesema",
      "userId": "14633968793904231207"
     },
     "user_tz": -180
    },
    "id": "CbOLV8y9MjpI",
    "outputId": "6a0f28b1-dc89-43ea-d24a-a120308f4db3"
   },
   "outputs": [],
   "source": [
    "y_pred = model.predict(X_test)\n",
    "y_pred,y_test"
   ]
  },
  {
   "cell_type": "code",
   "execution_count": null,
   "metadata": {
    "colab": {
     "base_uri": "https://localhost:8080/",
     "height": 948
    },
    "executionInfo": {
     "elapsed": 140,
     "status": "error",
     "timestamp": 1757399501900,
     "user": {
      "displayName": "Moges Tesema",
      "userId": "14633968793904231207"
     },
     "user_tz": -180
    },
    "id": "MgKNaf1uMuhC",
    "outputId": "06b3f9d9-2b5d-4da2-b117-4a46d75410ed"
   },
   "outputs": [],
   "source": [
    "def plot_predictions(train_data=X_train,\n",
    "                     train_labels=y_train,\n",
    "                     test_data=X_test,\n",
    "                     test_labels=y_test,\n",
    "                     predictions=y_pred):\n",
    "  plt.figure(figsize=(10,7))\n",
    "  plt.scatter(train_data,train_labels,c=\"b\",label=\"training data\")\n",
    "  plt.scatter(test_data,test_labels,c=\"g\",label=\"Testing data\")\n",
    "  plt.scatter(test_data,predictions,c=\"r\",label=\"Predictions\")\n",
    "  plt.legend();\n",
    "plot_predictions()\n",
    "\n",
    "\n"
   ]
  },
  {
   "cell_type": "code",
   "execution_count": null,
   "metadata": {
    "colab": {
     "base_uri": "https://localhost:8080/"
    },
    "executionInfo": {
     "elapsed": 263,
     "status": "ok",
     "timestamp": 1757399050767,
     "user": {
      "displayName": "Moges Tesema",
      "userId": "14633968793904231207"
     },
     "user_tz": -180
    },
    "id": "Z6sA8KxKOU4R",
    "outputId": "7345d5ed-aff8-40b5-ecb3-f054277ca94e"
   },
   "outputs": [],
   "source": [
    "# Evaluate the model on the test\n",
    "model.evaluate(X_test,y_test)"
   ]
  },
  {
   "cell_type": "code",
   "execution_count": null,
   "metadata": {
    "colab": {
     "base_uri": "https://localhost:8080/"
    },
    "executionInfo": {
     "elapsed": 147,
     "status": "ok",
     "timestamp": 1757399050913,
     "user": {
      "displayName": "Moges Tesema",
      "userId": "14633968793904231207"
     },
     "user_tz": -180
    },
    "id": "m-8vM18LRKCQ",
    "outputId": "5add6047-5820-4d81-9470-9a930663c759"
   },
   "outputs": [],
   "source": [
    "test = tf.constant(4.0, shape=(1,1))\n",
    "model.predict(test)"
   ]
  },
  {
   "cell_type": "code",
   "execution_count": null,
   "metadata": {
    "colab": {
     "base_uri": "https://localhost:8080/"
    },
    "executionInfo": {
     "elapsed": 9,
     "status": "ok",
     "timestamp": 1757399050925,
     "user": {
      "displayName": "Moges Tesema",
      "userId": "14633968793904231207"
     },
     "user_tz": -180
    },
    "id": "PHRPAfOJTdM2",
    "outputId": "387a87c1-a3de-4d4a-bcd6-6d27d9707a6a"
   },
   "outputs": [],
   "source": [
    "mean_error = tf.keras.losses.MAE(y_test,y_pred).numpy()\n",
    "sum(mean_error)/10\n"
   ]
  },
  {
   "cell_type": "code",
   "execution_count": null,
   "metadata": {
    "colab": {
     "base_uri": "https://localhost:8080/"
    },
    "executionInfo": {
     "elapsed": 78,
     "status": "ok",
     "timestamp": 1757399051002,
     "user": {
      "displayName": "Moges Tesema",
      "userId": "14633968793904231207"
     },
     "user_tz": -180
    },
    "id": "qshG3YAjVIGK",
    "outputId": "f201ca69-31f0-4afc-b33d-f9815674f232"
   },
   "outputs": [],
   "source": [
    "m = tf.keras.metrics.MeanAbsoluteError()\n",
    "m.update_state(y_test,y_pred)\n",
    "m.result(),\"mae object itself: \", m\n"
   ]
  },
  {
   "cell_type": "markdown",
   "metadata": {
    "id": "HQCoyN_lYUK_"
   },
   "source": []
  },
  {
   "cell_type": "code",
   "execution_count": null,
   "metadata": {
    "colab": {
     "base_uri": "https://localhost:8080/"
    },
    "executionInfo": {
     "elapsed": 9,
     "status": "ok",
     "timestamp": 1757399051017,
     "user": {
      "displayName": "Moges Tesema",
      "userId": "14633968793904231207"
     },
     "user_tz": -180
    },
    "id": "HeocsrJnbakT",
    "outputId": "98e1a668-b56a-4495-c95b-0f1b671380b2"
   },
   "outputs": [],
   "source": [
    "# Calculate the mean squeare error\n",
    "mse = tf.keras.metrics.MeanSquaredError()\n",
    "mse.update_state(y_test,y_pred)\n",
    "mse.result(), mse\n",
    "# or we can impliment the the following way as well.\n",
    "tf.keras.losses.MSE(y_true=y_test,y_pred=tf.squeeze(y_pred))\n"
   ]
  },
  {
   "cell_type": "markdown",
   "metadata": {
    "id": "zaH0TkHNbaCQ"
   },
   "source": []
  },
  {
   "cell_type": "code",
   "execution_count": null,
   "metadata": {
    "colab": {
     "base_uri": "https://localhost:8080/"
    },
    "executionInfo": {
     "elapsed": 14,
     "status": "ok",
     "timestamp": 1757399051056,
     "user": {
      "displayName": "Moges Tesema",
      "userId": "14633968793904231207"
     },
     "user_tz": -180
    },
    "id": "sEr-j7w1WCJe",
    "outputId": "91722a46-077d-4a55-feb4-e830d676efc9"
   },
   "outputs": [],
   "source": [
    "# Make some function to reuse MAe and MSE\n",
    "def mae(y_true, y_pred):\n",
    "  mae = tf.keras.metrics.MeanAbsoluteError()\n",
    "  mae.update_state(y_true,y_pred)\n",
    "  return mae.result()\n",
    "def mse(y_true, y_pred):\n",
    "  mse = tf.keras.metrics.MeanSquaredError()\n",
    "  mse.update_state(y_true,y_pred)\n",
    "  return mse.result()\n",
    "mae(y_test,y_pred),\"vs\", mse(y_test,y_pred)"
   ]
  },
  {
   "cell_type": "markdown",
   "metadata": {
    "id": "SGFpwFxAdkP_"
   },
   "source": []
  },
  {
   "cell_type": "markdown",
   "metadata": {
    "id": "U__eOwZZgKz1"
   },
   "source": [
    "## Running experiments to imporove our model\n",
    "```\n",
    "Build a model -> fit it -> evaluate it -> tweak it -> fit it -> evaluate it -> tweak it -> fit it -> evaluate it ...\n",
    "```\n",
    "1. Get more data\n",
    "2. Make your model larger\n",
    "3. Train for longer\n",
    "\n",
    "Let's do 3 modelling experiments:\n",
    "1. `model_1` - same as the original mdoel, 1 layer, trained for 100 epochs\n",
    "2. `model_2` - 2 layers, trained for 100 epochs\n",
    "3. `model_3` - 2 layers, trained for 500 epochs\n",
    "4. `model_4`\n",
    "5. `model_5`\n",
    "**Build Model_1**\n"
   ]
  },
  {
   "cell_type": "markdown",
   "metadata": {
    "id": "w0CHvjlZdXDl"
   },
   "source": []
  },
  {
   "cell_type": "code",
   "execution_count": null,
   "metadata": {
    "colab": {
     "base_uri": "https://localhost:8080/",
     "height": 35
    },
    "executionInfo": {
     "elapsed": 5567,
     "status": "ok",
     "timestamp": 1757399056625,
     "user": {
      "displayName": "Moges Tesema",
      "userId": "14633968793904231207"
     },
     "user_tz": -180
    },
    "id": "kbq2AjQ6f3vv",
    "outputId": "4b8f67aa-4827-4b49-e400-8ca4be3b6d5a"
   },
   "outputs": [],
   "source": [
    "# SET RANDOM SEED\n",
    "tf.random.set_seed(42)\n",
    "\n",
    "# 1.create the model\n",
    "model_1 = tf.keras.Sequential([\n",
    "    tf.keras.layers.Dense(1)],\n",
    "    name=\"model_1\")\n",
    "# 2. Compile the model\n",
    "model_1.compile(loss=tf.keras.losses.mae,\n",
    "                optimizer=tf.keras.optimizers.SGD(),\n",
    "                metrics=['mae'])\n",
    "# 3. fit the model\n",
    "X_train = tf.reshape(X_train,shape=(40,1))\n",
    "y_train = tf.reshape(y_train,shape=(40,1))\n",
    "model_1.fit(X_train,y_train,epochs=100,verbose=0)\n",
    "# let's visualize our training data\n",
    "'''print(X_train,y_train)\n",
    "print(\"\\n Dimenssions: \",X_train.ndim,y_train.ndim)\n",
    "'''\n",
    "\n",
    "\n"
   ]
  },
  {
   "cell_type": "code",
   "execution_count": null,
   "metadata": {
    "colab": {
     "base_uri": "https://localhost:8080/",
     "height": 606
    },
    "executionInfo": {
     "elapsed": 405,
     "status": "ok",
     "timestamp": 1757399057034,
     "user": {
      "displayName": "Moges Tesema",
      "userId": "14633968793904231207"
     },
     "user_tz": -180
    },
    "id": "tEE5jLuxkZjZ",
    "outputId": "1c0de130-41eb-4267-a792-edf6e1ccd269"
   },
   "outputs": [],
   "source": [
    "y_preds_1 = model_1.predict(X_test)\n",
    "plot_predictions(predictions=y_preds_1)"
   ]
  },
  {
   "cell_type": "code",
   "execution_count": null,
   "metadata": {
    "colab": {
     "base_uri": "https://localhost:8080/"
    },
    "executionInfo": {
     "elapsed": 14,
     "status": "ok",
     "timestamp": 1757399057094,
     "user": {
      "displayName": "Moges Tesema",
      "userId": "14633968793904231207"
     },
     "user_tz": -180
    },
    "id": "Y0-l5ciqpugI",
    "outputId": "905e3fd5-620b-45fa-f409-095323c7bf15"
   },
   "outputs": [],
   "source": [
    "# Calculate model_1 evaluation metrics\n",
    "mae_1 = mae(y_test,y_preds_1)\n",
    "mse_1 = mse(y_test,y_preds_1)\n",
    "mae_1, mse_1\n"
   ]
  },
  {
   "cell_type": "markdown",
   "metadata": {
    "id": "IIkGdkwYQqhs"
   },
   "source": [
    "**Build `model_2`**\n",
    "* 2 dense layers - trainded for 100 epochs"
   ]
  },
  {
   "cell_type": "code",
   "execution_count": null,
   "metadata": {
    "colab": {
     "base_uri": "https://localhost:8080/",
     "height": 637
    },
    "executionInfo": {
     "elapsed": 16904,
     "status": "ok",
     "timestamp": 1757399074075,
     "user": {
      "displayName": "Moges Tesema",
      "userId": "14633968793904231207"
     },
     "user_tz": -180
    },
    "id": "sgFQPpTCqTlp",
    "outputId": "64612efb-0acc-499b-abfd-f435a9c74d09"
   },
   "outputs": [],
   "source": [
    "# set random seed\n",
    "tf.random.set_seed(42)\n",
    "# Create a model\n",
    "model_2 = tf.keras.Sequential([\n",
    "    tf.keras.layers.Dense(100),\n",
    "    tf.keras.layers.Dense(200),\n",
    "    tf.keras.layers.Dense(300),\n",
    "    tf.keras.layers.Dense(200),\n",
    "    tf.keras.layers.Dense(100),\n",
    "\n",
    "    tf.keras.layers.Dense(1)\n",
    "\n",
    "    ], name=\"model_2\")\n",
    "# compile the model\n",
    "model_2.compile(loss=tf.keras.losses.mae,\n",
    "                optimizer=tf.keras.optimizers.Adam(learning_rate=0.007),\n",
    "                metrics=[\"mae\"])\n",
    "# Fit the model\n",
    "\n",
    "model_2.fit(X_train,y_train,epochs=250,verbose=0)\n",
    "y_preds_2 = model_2.predict(X_test)\n",
    "# print(f\"training Data: {tf.squeeze(X_train), tf.shape(X_train)} \")\n",
    "print(tf.size(y_preds_2),\"vs\",tf.size(X_test),\"vs\", tf.size(y_test))\n",
    "\n",
    "plot_predictions(train_data=tf.squeeze(X_train),\n",
    "                 train_labels=tf.squeeze(y_train),\n",
    "                 test_data=tf.squeeze(X_test),\n",
    "                 test_labels=tf.squeeze(y_test),\n",
    "                 predictions=tf.squeeze(y_preds_2))"
   ]
  },
  {
   "cell_type": "code",
   "execution_count": null,
   "metadata": {
    "colab": {
     "base_uri": "https://localhost:8080/"
    },
    "executionInfo": {
     "elapsed": 19,
     "status": "ok",
     "timestamp": 1757399074101,
     "user": {
      "displayName": "Moges Tesema",
      "userId": "14633968793904231207"
     },
     "user_tz": -180
    },
    "id": "Pwd4bNMuSkCr",
    "outputId": "190a5bbb-3a79-412c-ac5c-fb55e8e0e407"
   },
   "outputs": [],
   "source": [
    "mae_2 = mae(y_test,y_preds_2)\n",
    "mse_2 = mse(y_test,y_preds_2)\n",
    "mae_2,mse_2"
   ]
  },
  {
   "cell_type": "code",
   "execution_count": null,
   "metadata": {
    "colab": {
     "base_uri": "https://localhost:8080/",
     "height": 606
    },
    "executionInfo": {
     "elapsed": 27101,
     "status": "ok",
     "timestamp": 1757399101205,
     "user": {
      "displayName": "Moges Tesema",
      "userId": "14633968793904231207"
     },
     "user_tz": -180
    },
    "id": "kaYsfRu9Tv-7",
    "outputId": "a63bf9d1-6e87-432d-e6dc-29ab6ca08302"
   },
   "outputs": [],
   "source": [
    "# set ranodm seed\n",
    "tf.random.set_seed(42)\n",
    "# create a model\n",
    "model_3 = tf.keras.Sequential([\n",
    "    tf.keras.layers.Dense(10),\n",
    "    tf.keras.layers.Dense(1)\n",
    "], name=\"model_3\")\n",
    "# compile the model\n",
    "model_3.compile(loss=tf.keras.losses.mae,\n",
    "                optimizer=tf.keras.optimizers.SGD(),\n",
    "                metrics=['mae'])\n",
    "# fit the model\n",
    "model_3.fit(X_train, y_train, epochs=500,verbose=0)\n",
    "\n",
    "# test the model\n",
    "y_preds_3 = model_3.predict(X_test)\n",
    "plot_predictions(predictions=y_preds_3)\n"
   ]
  },
  {
   "cell_type": "code",
   "execution_count": null,
   "metadata": {
    "colab": {
     "base_uri": "https://localhost:8080/"
    },
    "executionInfo": {
     "elapsed": 125,
     "status": "ok",
     "timestamp": 1757399101336,
     "user": {
      "displayName": "Moges Tesema",
      "userId": "14633968793904231207"
     },
     "user_tz": -180
    },
    "id": "JRX0drqelnJN",
    "outputId": "289e8370-bd64-4bc0-d677-433e78f36967"
   },
   "outputs": [],
   "source": [
    "mae_3 = mae(y_test,y_preds_3)\n",
    "mse_3 = mse(y_test,y_preds_3)\n",
    "mae_3,mse_3"
   ]
  },
  {
   "cell_type": "code",
   "execution_count": null,
   "metadata": {
    "executionInfo": {
     "elapsed": 58,
     "status": "ok",
     "timestamp": 1757399101337,
     "user": {
      "displayName": "Moges Tesema",
      "userId": "14633968793904231207"
     },
     "user_tz": -180
    },
    "id": "abtIngM4nRI9"
   },
   "outputs": [],
   "source": [
    "# Let's compare our model's results using a pandas DataFrame\n",
    "import pandas as pd\n",
    "model_results = [[\"model_1\",mae_1.numpy(),mse_1.numpy()],\n",
    "                 [\"model_2\",mae_2.numpy(),mse_2.numpy()],\n",
    "                 [\"model_3\",mae_3.numpy(),mse_3.numpy()]]"
   ]
  },
  {
   "cell_type": "code",
   "execution_count": null,
   "metadata": {
    "colab": {
     "base_uri": "https://localhost:8080/",
     "height": 143
    },
    "executionInfo": {
     "elapsed": 17,
     "status": "ok",
     "timestamp": 1757399101346,
     "user": {
      "displayName": "Moges Tesema",
      "userId": "14633968793904231207"
     },
     "user_tz": -180
    },
    "id": "IEnfMTXtou-B",
    "outputId": "c455216c-d688-418c-aaab-9b9d58df50b9"
   },
   "outputs": [],
   "source": [
    "all_results = pd.DataFrame(model_results,columns=[\"model\",\"mae\",\"mse\"])\n",
    "all_results"
   ]
  },
  {
   "cell_type": "code",
   "execution_count": null,
   "metadata": {
    "colab": {
     "base_uri": "https://localhost:8080/",
     "height": 706
    },
    "executionInfo": {
     "elapsed": 82,
     "status": "ok",
     "timestamp": 1757399101430,
     "user": {
      "displayName": "Moges Tesema",
      "userId": "14633968793904231207"
     },
     "user_tz": -180
    },
    "id": "Ji1cbEuDpHJN",
    "outputId": "9ab31444-5c56-419a-f20d-3d120df95dfa"
   },
   "outputs": [],
   "source": [
    "model_1.summary(),model_2.summary(),model_3.summary()\n"
   ]
  },
  {
   "cell_type": "markdown",
   "metadata": {
    "id": "U6A1ZLLTXZCi"
   },
   "source": [
    "## Saving our models\n",
    "saving our models allows us to use them outside of google colab( or wherever they were traained, web app or mobile app)\n",
    "There are two main formats we can save our model's too:\n",
    "\n",
    "1. The SavedModel format\n",
    "2. The HDF5 format\n"
   ]
  },
  {
   "cell_type": "code",
   "execution_count": null,
   "metadata": {
    "colab": {
     "base_uri": "https://localhost:8080/"
    },
    "executionInfo": {
     "elapsed": 48,
     "status": "ok",
     "timestamp": 1757399101522,
     "user": {
      "displayName": "Moges Tesema",
      "userId": "14633968793904231207"
     },
     "user_tz": -180
    },
    "id": "jRaZ0oqiqV3z",
    "outputId": "3f8a91c4-c3d1-4958-acf0-2a93000bcaaf"
   },
   "outputs": [],
   "source": [
    "# Save model using the SavedModel format\n",
    "model_2.save(\"best_model_SavedModel_format.keras\")\n",
    "# save model using the HDF5 format\n",
    "model_2.save(\"best_model_HDF5_format.h5\")\n",
    "\n"
   ]
  },
  {
   "cell_type": "markdown",
   "metadata": {
    "id": "Y6I_ZGDdoNbY"
   },
   "source": [
    "\n",
    "## Loadding a saved model\n"
   ]
  },
  {
   "cell_type": "code",
   "execution_count": null,
   "metadata": {
    "colab": {
     "base_uri": "https://localhost:8080/",
     "height": 374
    },
    "executionInfo": {
     "elapsed": 111,
     "status": "ok",
     "timestamp": 1757399101630,
     "user": {
      "displayName": "Moges Tesema",
      "userId": "14633968793904231207"
     },
     "user_tz": -180
    },
    "id": "ZlIGIdUUoNDW",
    "outputId": "04220c57-b3c3-40cb-b951-782690761cfe"
   },
   "outputs": [],
   "source": [
    "saved_model_2_HDF5 = tf.keras.models.load_model(\"best_model_HDF5_format.h5\")\n",
    "saved_model_2_HDF5.summary()"
   ]
  },
  {
   "cell_type": "code",
   "execution_count": null,
   "metadata": {
    "colab": {
     "base_uri": "https://localhost:8080/",
     "height": 337
    },
    "executionInfo": {
     "elapsed": 86,
     "status": "ok",
     "timestamp": 1757399101749,
     "user": {
      "displayName": "Moges Tesema",
      "userId": "14633968793904231207"
     },
     "user_tz": -180
    },
    "id": "SrxNhaA6fHZa",
    "outputId": "9dd3b6f2-6764-4d76-a09f-a548f3dcc208"
   },
   "outputs": [],
   "source": [
    "# Loadding a saved model\n",
    "loaded_model_2 = tf.keras.models.load_model(\"best_model_SavedModel_format.keras\")\n",
    "loaded_model_2.summary()"
   ]
  },
  {
   "cell_type": "code",
   "execution_count": null,
   "metadata": {
    "colab": {
     "base_uri": "https://localhost:8080/",
     "height": 337
    },
    "executionInfo": {
     "elapsed": 8,
     "status": "ok",
     "timestamp": 1757399101759,
     "user": {
      "displayName": "Moges Tesema",
      "userId": "14633968793904231207"
     },
     "user_tz": -180
    },
    "id": "_atnbnT-nnH9",
    "outputId": "64d5983e-d0a2-439a-d58e-7d6c705dfa55"
   },
   "outputs": [],
   "source": [
    "model_2.summary()"
   ]
  },
  {
   "cell_type": "markdown",
   "metadata": {
    "id": "XQHocRETqp0U"
   },
   "source": []
  },
  {
   "cell_type": "code",
   "execution_count": null,
   "metadata": {
    "colab": {
     "base_uri": "https://localhost:8080/"
    },
    "executionInfo": {
     "elapsed": 241,
     "status": "ok",
     "timestamp": 1757399102005,
     "user": {
      "displayName": "Moges Tesema",
      "userId": "14633968793904231207"
     },
     "user_tz": -180
    },
    "id": "NArVOOb7qzSO",
    "outputId": "aac9194b-4282-40ee-99d9-efb3e7daccb1"
   },
   "outputs": [],
   "source": [
    "# Compare model_2 predictions with savedModel format model predictions\n",
    "model_2_preds = model_2.predict(X_test)\n",
    "loaded_model_2_preds = loaded_model_2.predict(X_test)\n",
    "model_2_preds == loaded_model_2_preds\n"
   ]
  },
  {
   "cell_type": "markdown",
   "metadata": {
    "id": "-Bv1pAo1t2hg"
   },
   "source": [
    "## Download a model ( or any other file) from google colab\n",
    "If you want to download your files from Google colab:\n",
    "1. You can go to the \"files\" tab and right click on th file you're after and click \"download\"\n",
    "2. Use code(see the cell below)\n",
    "3. Save it to Google drive by connecting Google drive and copying it there (see the 2nd cell code below)\n"
   ]
  },
  {
   "cell_type": "code",
   "execution_count": null,
   "metadata": {
    "executionInfo": {
     "elapsed": 147,
     "status": "ok",
     "timestamp": 1757399102158,
     "user": {
      "displayName": "Moges Tesema",
      "userId": "14633968793904231207"
     },
     "user_tz": -180
    },
    "id": "2Li7Sn78sQSH"
   },
   "outputs": [],
   "source": [
    "# Download a file from Google colab\n",
    "from google.colab import files\n",
    "# files.download(\"/content/best_model_HDF5_format.h5\")\n"
   ]
  },
  {
   "cell_type": "code",
   "execution_count": null,
   "metadata": {
    "executionInfo": {
     "elapsed": 35,
     "status": "ok",
     "timestamp": 1757399102161,
     "user": {
      "displayName": "Moges Tesema",
      "userId": "14633968793904231207"
     },
     "user_tz": -180
    },
    "id": "DGawTeFZyElE"
   },
   "outputs": [],
   "source": [
    "# Save a fiel from google colab to Google Drive ( requires mounting Google Drive)\n",
    "# !cp \"/content/best_model_HDF5_format.h5\" \"/content/drive/MyDrive/tensorflow_models\"\n"
   ]
  },
  {
   "cell_type": "markdown",
   "metadata": {
    "id": "hc3ulf6m7eig"
   },
   "source": [
    "## A larger example\n"
   ]
  },
  {
   "cell_type": "code",
   "execution_count": null,
   "metadata": {
    "executionInfo": {
     "elapsed": 27,
     "status": "ok",
     "timestamp": 1757399102164,
     "user": {
      "displayName": "Moges Tesema",
      "userId": "14633968793904231207"
     },
     "user_tz": -180
    },
    "id": "w9_3ZfavGwlS"
   },
   "outputs": [],
   "source": [
    "# Import required libraries\n",
    "import tensorflow as tf\n",
    "import pandas as pd\n",
    "import matplotlib.pyplot as plt\n"
   ]
  },
  {
   "cell_type": "code",
   "execution_count": null,
   "metadata": {
    "colab": {
     "base_uri": "https://localhost:8080/",
     "height": 423
    },
    "executionInfo": {
     "elapsed": 197,
     "status": "ok",
     "timestamp": 1757399102363,
     "user": {
      "displayName": "Moges Tesema",
      "userId": "14633968793904231207"
     },
     "user_tz": -180
    },
    "id": "Ij8fVDfI2RC4",
    "outputId": "20c09389-2f6d-4fe9-8dc4-ff85793dbed8"
   },
   "outputs": [],
   "source": [
    "# Read in the insurance dataset\n",
    "insurance = pd.read_csv(\"https://raw.githubusercontent.com/stedy/Machine-Learning-with-R-datasets/refs/heads/master/insurance.csv\")\n",
    "insurance"
   ]
  },
  {
   "cell_type": "code",
   "execution_count": null,
   "metadata": {
    "colab": {
     "base_uri": "https://localhost:8080/"
    },
    "executionInfo": {
     "elapsed": 71,
     "status": "ok",
     "timestamp": 1757399102391,
     "user": {
      "displayName": "Moges Tesema",
      "userId": "14633968793904231207"
     },
     "user_tz": -180
    },
    "id": "Q12C-0VDHXCz",
    "outputId": "f6d2d99b-d787-40a3-e1f9-00469a92ba95"
   },
   "outputs": [],
   "source": [
    "insurance[\"sex\"], insurance[\"age\"]"
   ]
  },
  {
   "cell_type": "code",
   "execution_count": null,
   "metadata": {
    "colab": {
     "base_uri": "https://localhost:8080/",
     "height": 443
    },
    "executionInfo": {
     "elapsed": 115,
     "status": "ok",
     "timestamp": 1757399102468,
     "user": {
      "displayName": "Moges Tesema",
      "userId": "14633968793904231207"
     },
     "user_tz": -180
    },
    "id": "WeL0nGxBIeQr",
    "outputId": "fb107aec-0b21-4e55-aa0e-c1b6fe6eb619"
   },
   "outputs": [],
   "source": [
    "# Let's try one-hot ecode our DataFrame so it's all numbers\n",
    "insurance = pd.get_dummies(insurance,dtype=int)\n",
    "insurance"
   ]
  },
  {
   "cell_type": "code",
   "execution_count": null,
   "metadata": {
    "colab": {
     "base_uri": "https://localhost:8080/"
    },
    "executionInfo": {
     "elapsed": 33,
     "status": "ok",
     "timestamp": 1757399102503,
     "user": {
      "displayName": "Moges Tesema",
      "userId": "14633968793904231207"
     },
     "user_tz": -180
    },
    "id": "7XCHvuZsLXJc",
    "outputId": "0a5b5588-e60f-457e-d262-626caf383f88"
   },
   "outputs": [],
   "source": [
    "# Create X & y values (features and labeles)\n",
    "# Create training and test sets\n",
    "# Build a neural network (sort of like model_2 above)\n",
    "\n",
    "\n",
    "y_train = tf.constant(insurance[\"charges\"][:1070])\n",
    "y_test = tf.constant(insurance[\"charges\"][1070:])\n",
    "print(f\"total no of predicted dataset: {len(y)} \\ntotal no of train predicted dataset: {len(y_train)}\\ntotal no of predicted test dataset: {len(y_test)} \")\n",
    "print(y_train,\"\\nvs\\n\",y_test)"
   ]
  },
  {
   "cell_type": "code",
   "execution_count": null,
   "metadata": {
    "colab": {
     "base_uri": "https://localhost:8080/"
    },
    "executionInfo": {
     "elapsed": 44,
     "status": "ok",
     "timestamp": 1757399102550,
     "user": {
      "displayName": "Moges Tesema",
      "userId": "14633968793904231207"
     },
     "user_tz": -180
    },
    "id": "WJj0jNR6qJV5",
    "outputId": "7f8a443b-b707-4860-e852-ca72721da68e"
   },
   "outputs": [],
   "source": [
    "# Create X_train, X_test datasets\n",
    "\n",
    "X = insurance.drop(columns=[\"charges\"])\n",
    "print(X)\n",
    "X_train = tf.constant(X[:1070])\n",
    "X_test = tf.constant(X[1070:])\n",
    "# print(f\"total no of X train: {len(X_train)}\\ntotal no of X test: {len(X_test)}\")\n",
    "# print(\"\\n\\n\\n\\n\")\n",
    "# print(X_train)\n",
    "# print(\"\\n\\n\\n\\n\")\n",
    "# print(X_test)\n",
    "len(X_train[0])\n"
   ]
  },
  {
   "cell_type": "code",
   "execution_count": null,
   "metadata": {
    "colab": {
     "base_uri": "https://localhost:8080/"
    },
    "executionInfo": {
     "elapsed": 12448,
     "status": "ok",
     "timestamp": 1757399115001,
     "user": {
      "displayName": "Moges Tesema",
      "userId": "14633968793904231207"
     },
     "user_tz": -180
    },
    "id": "aLK2AeROupXZ",
    "outputId": "1292d95c-9491-465e-931c-57c4814a5dc4"
   },
   "outputs": [],
   "source": [
    "# Build neural network to train insurance dataset in order to predict future insurance of any guy\n",
    "insurance_model = tf.keras.Sequential([\n",
    "    tf.keras.layers.Dense(11, activation='relu'),\n",
    "    tf.keras.layers.Dense(10,activation='relu'),\n",
    "    tf.keras.layers.Dense(5,activation='relu'),\n",
    "    tf.keras.layers.Dense(1, activation='relu')\n",
    "\n",
    "\n",
    "  ],\"insurance_model\")\n",
    "\n",
    "\n",
    "# Compile the model\n",
    "insurance_model.compile(loss=tf.keras.losses.mae,\n",
    "                        optimizer=tf.keras.optimizers.SGD(learning_rate=0.006),\n",
    "                        metrics=[\"mae\"])\n",
    "# Fit the model\n",
    "\n",
    "insurance_model.fit(X_train,y_train,epochs=100, verbose=0)\n",
    "\n"
   ]
  },
  {
   "cell_type": "code",
   "execution_count": null,
   "metadata": {
    "colab": {
     "base_uri": "https://localhost:8080/"
    },
    "executionInfo": {
     "elapsed": 45,
     "status": "ok",
     "timestamp": 1757399115002,
     "user": {
      "displayName": "Moges Tesema",
      "userId": "14633968793904231207"
     },
     "user_tz": -180
    },
    "id": "We3uQs6zOhxd",
    "outputId": "e9cf27d1-040d-4cc9-b1bd-2620d7c53971"
   },
   "outputs": [],
   "source": [
    "# retrain the model with shuffled dataset\n",
    "print(insurance)\n"
   ]
  },
  {
   "cell_type": "code",
   "execution_count": null,
   "metadata": {
    "colab": {
     "base_uri": "https://localhost:8080/",
     "height": 443
    },
    "executionInfo": {
     "elapsed": 45,
     "status": "ok",
     "timestamp": 1757399115042,
     "user": {
      "displayName": "Moges Tesema",
      "userId": "14633968793904231207"
     },
     "user_tz": -180
    },
    "id": "MvEnF-RTQVa3",
    "outputId": "10e2678e-ff4d-4abc-80a9-764387b7e2da"
   },
   "outputs": [],
   "source": [
    "# Create X & y values (features and labels)\n",
    "X = insurance.drop(\"charges\", axis=1)\n",
    "y = insurance[\"charges\"]\n",
    "# view X\n",
    "X.head()\n",
    "# view y\n",
    "y.head()\n",
    "\n",
    "# Create training and test datasets\n",
    "from sklearn.model_selection import  train_test_split\n",
    "X_train, X_test, y_train, y_pred = train_test_split(X,y, test_size=0.2,random_state=42)\n",
    "len(X),len(X_train),len(X_test),len(y), len(y_train),len(y_test)\n",
    "X_train\n"
   ]
  },
  {
   "cell_type": "code",
   "execution_count": null,
   "metadata": {
    "colab": {
     "base_uri": "https://localhost:8080/"
    },
    "executionInfo": {
     "elapsed": 14616,
     "status": "ok",
     "timestamp": 1757399129661,
     "user": {
      "displayName": "Moges Tesema",
      "userId": "14633968793904231207"
     },
     "user_tz": -180
    },
    "id": "t6dDoeOVU_2q",
    "outputId": "e86da192-d401-4f8b-fdf8-6cb51da12de2"
   },
   "outputs": [],
   "source": [
    "# build a neural network (sort of like model_2 above)\n",
    "tf.random.set_seed(42)\n",
    "# 1. Create the model\n",
    "insurance_model = tf.keras.Sequential([\n",
    "    tf.keras.layers.Dense(10),\n",
    "    tf.keras.layers.Dense(1)\n",
    "])\n",
    "# 2. Compile the model\n",
    "insurance_model.compile(loss=tf.keras.losses.mae,\n",
    "                        optimizer=tf.keras.optimizers.SGD(),\n",
    "                        metrics=['mae']\n",
    "                        )\n",
    "# 3. Fit the model\n",
    "insurance_model.fit(X_train,y_train, epochs=100)"
   ]
  },
  {
   "cell_type": "markdown",
   "metadata": {
    "id": "lOZghCLr7BUc"
   },
   "source": [
    "Right now ti looks like our model isn't performing too well... Let's try and improve it!"
   ]
  },
  {
   "cell_type": "code",
   "execution_count": null,
   "metadata": {
    "colab": {
     "base_uri": "https://localhost:8080/"
    },
    "executionInfo": {
     "elapsed": 404,
     "status": "ok",
     "timestamp": 1757399130069,
     "user": {
      "displayName": "Moges Tesema",
      "userId": "14633968793904231207"
     },
     "user_tz": -180
    },
    "id": "g41xnceCWhTU",
    "outputId": "ec2ac1c3-886c-43ae-b777-5c0d6a88fe8a"
   },
   "outputs": [],
   "source": [
    "# Check the results of the insurance model on the test data\n",
    "insurance_model.evaluate(X_test, y_test)"
   ]
  },
  {
   "cell_type": "code",
   "execution_count": null,
   "metadata": {
    "colab": {
     "base_uri": "https://localhost:8080/"
    },
    "executionInfo": {
     "elapsed": 16394,
     "status": "ok",
     "timestamp": 1757399146469,
     "user": {
      "displayName": "Moges Tesema",
      "userId": "14633968793904231207"
     },
     "user_tz": -180
    },
    "id": "YMdqiSQwY-tx",
    "outputId": "9ba96620-84f7-47f1-fd76-db16ceb9b3de"
   },
   "outputs": [],
   "source": [
    "# set random seed\n",
    "tf.random.set_seed(42)\n",
    "\n",
    "# 1. Create the model\n",
    "insurance_model_2 = tf.keras.Sequential([\n",
    "    tf.keras.layers.Dense(100),\n",
    "    tf.keras.layers.Dense(10),\n",
    "    tf.keras.layers.Dense(1)\n",
    "])\n",
    "\n",
    "# 2. Compile the model\n",
    "insurance_model_2.compile(loss=tf.keras.losses.mae,\n",
    "                          optimizer=tf.keras.optimizers.Adam(),\n",
    "                          metrics=[\"mae\"])\n",
    "# 3. Fit the model\n",
    "insurance_model_2.fit(X_train, y_train, epochs=100, verbose=1)"
   ]
  },
  {
   "cell_type": "code",
   "execution_count": null,
   "metadata": {
    "colab": {
     "base_uri": "https://localhost:8080/"
    },
    "executionInfo": {
     "elapsed": 214,
     "status": "ok",
     "timestamp": 1757399146688,
     "user": {
      "displayName": "Moges Tesema",
      "userId": "14633968793904231207"
     },
     "user_tz": -180
    },
    "id": "ABw7ryc0aY4c",
    "outputId": "0742dd21-4f4c-4bd1-cd4e-617e9776c3cf"
   },
   "outputs": [],
   "source": [
    "# Evaluate the larger model\n",
    "insurance_model_2.evaluate(X_test,y_test)"
   ]
  },
  {
   "cell_type": "code",
   "execution_count": null,
   "metadata": {
    "colab": {
     "base_uri": "https://localhost:8080/"
    },
    "executionInfo": {
     "elapsed": 163,
     "status": "ok",
     "timestamp": 1757399146867,
     "user": {
      "displayName": "Moges Tesema",
      "userId": "14633968793904231207"
     },
     "user_tz": -180
    },
    "id": "Kq5S69lEbkPP",
    "outputId": "98341a84-635b-4a82-a730-bce1d5909b0d"
   },
   "outputs": [],
   "source": [
    "insurance_model.evaluate(X_test, y_test)"
   ]
  },
  {
   "cell_type": "code",
   "execution_count": null,
   "metadata": {
    "colab": {
     "base_uri": "https://localhost:8080/"
    },
    "executionInfo": {
     "elapsed": 31886,
     "status": "ok",
     "timestamp": 1757399178756,
     "user": {
      "displayName": "Moges Tesema",
      "userId": "14633968793904231207"
     },
     "user_tz": -180
    },
    "id": "st0mf0Sfb-Z0",
    "outputId": "afc05a21-5f79-4569-cf14-64024d688ef6"
   },
   "outputs": [],
   "source": [
    "# Set random seed\n",
    "tf.random.set_seed(42)\n",
    "# 1. Create the model\n",
    "insurance_model_3 = tf.keras.Sequential([\n",
    "    tf.keras.layers.Dense(100),\n",
    "    tf.keras.layers.Dense(10),\n",
    "    tf.keras.layers.Dense(1)\n",
    "])\n",
    "# 2. Compile the model\n",
    "insurance_model_3.compile(loss=tf.keras.losses.mae,\n",
    "                          optimizer=tf.keras.optimizers.Adam(),\n",
    "                          metrics=['mae'])\n",
    "# 3. Fit the model\n",
    "history = insurance_model_3.fit(X_train, y_train, epochs=200)"
   ]
  },
  {
   "cell_type": "code",
   "execution_count": null,
   "metadata": {
    "colab": {
     "base_uri": "https://localhost:8080/"
    },
    "executionInfo": {
     "elapsed": 14,
     "status": "ok",
     "timestamp": 1757399178773,
     "user": {
      "displayName": "Moges Tesema",
      "userId": "14633968793904231207"
     },
     "user_tz": -180
    },
    "id": "bbFOOvvwdWj9",
    "outputId": "89d67cfa-bd8c-4114-ad19-78d66767daa0"
   },
   "outputs": [],
   "source": [
    "# Evaluate our thrid model\n",
    "insurance_model_3.evaluate(X_test, y_test)"
   ]
  },
  {
   "cell_type": "code",
   "execution_count": null,
   "metadata": {
    "colab": {
     "base_uri": "https://localhost:8080/"
    },
    "executionInfo": {
     "elapsed": 10,
     "status": "ok",
     "timestamp": 1757399178785,
     "user": {
      "displayName": "Moges Tesema",
      "userId": "14633968793904231207"
     },
     "user_tz": -180
    },
    "id": "jqy8tZ18diwD",
    "outputId": "5bdc5d1d-cbe8-4b3c-ed11-7a62320260d5"
   },
   "outputs": [],
   "source": [
    "insurance_model_2.evaluate(X_test,y_test)"
   ]
  },
  {
   "cell_type": "code",
   "execution_count": null,
   "metadata": {
    "colab": {
     "base_uri": "https://localhost:8080/",
     "height": 466
    },
    "executionInfo": {
     "elapsed": 13,
     "status": "ok",
     "timestamp": 1757399178800,
     "user": {
      "displayName": "Moges Tesema",
      "userId": "14633968793904231207"
     },
     "user_tz": -180
    },
    "id": "c6wvdqE5ePPK",
    "outputId": "9e6e65a9-f038-4244-ffff-59e0cb613324"
   },
   "outputs": [],
   "source": [
    "pd.DataFrame(history.history).plot()\n",
    "plt.ylabel('loss')\n",
    "plt.xlabel('epochs')"
   ]
  },
  {
   "cell_type": "markdown",
   "metadata": {
    "id": "UlNNzdYWeOwd"
   },
   "source": []
  },
  {
   "cell_type": "markdown",
   "metadata": {
    "id": "uM9-Xy81faIV"
   },
   "source": [
    "> **Question:** How long should you train for?\n",
    "It depends Really... it depends on the problem you're working on. many people have asked this question before... so Tensorflow has a solution! It's called [`EarlyStopping`](google.com) callback"
   ]
  },
  {
   "cell_type": "markdown",
   "metadata": {
    "id": "XXdTCiGfiJin"
   },
   "source": [
    "## Preprocessing data (normalization and standardization)\n",
    "In terms of scaling values, neural networks tend to prefer normalization.\n",
    "if you're not sure on which to use, you could try both and see which performse better."
   ]
  },
  {
   "cell_type": "code",
   "execution_count": null,
   "metadata": {
    "colab": {
     "base_uri": "https://localhost:8080/",
     "height": 423
    },
    "executionInfo": {
     "elapsed": 15,
     "status": "ok",
     "timestamp": 1757399178820,
     "user": {
      "displayName": "Moges Tesema",
      "userId": "14633968793904231207"
     },
     "user_tz": -180
    },
    "id": "GJE7sfb0f-iw",
    "outputId": "0d7d2b6f-c93a-4450-8e93-99e888924a43"
   },
   "outputs": [],
   "source": [
    "import pandas as pd\n",
    "import tensorflow as tf\n",
    "import matplotlib.pyplot as plt\n",
    "insurance = pd.read_csv(\"https://raw.githubusercontent.com/stedy/Machine-Learning-with-R-datasets/refs/heads/master/insurance.csv\")\n",
    "insurance\n"
   ]
  },
  {
   "cell_type": "code",
   "execution_count": null,
   "metadata": {
    "executionInfo": {
     "elapsed": 11,
     "status": "ok",
     "timestamp": 1757399178823,
     "user": {
      "displayName": "Moges Tesema",
      "userId": "14633968793904231207"
     },
     "user_tz": -180
    },
    "id": "QqQkXgFwbKdn"
   },
   "outputs": [],
   "source": []
  },
  {
   "cell_type": "markdown",
   "metadata": {
    "id": "b2nLtrf0cM6-"
   },
   "source": [
    "## Tp preprocess data we will borrow some functions from skitlearn"
   ]
  },
  {
   "cell_type": "code",
   "execution_count": null,
   "metadata": {
    "executionInfo": {
     "elapsed": 12,
     "status": "ok",
     "timestamp": 1757399178837,
     "user": {
      "displayName": "Moges Tesema",
      "userId": "14633968793904231207"
     },
     "user_tz": -180
    },
    "id": "7FSS-fYvcUho"
   },
   "outputs": [],
   "source": [
    "from sklearn.compose import make_column_transformer\n",
    "from sklearn.preprocessing import MinMaxScaler, OneHotEncoder\n",
    "from sklearn.model_selection import train_test_split\n",
    "# Create a column transformer\n",
    "ct = make_column_transformer(\n",
    "    (MinMaxScaler(),[\"age\",\"bmi\",\"children\"]), # turn all values in these columns between 0 and 1\n",
    "    (OneHotEncoder(handle_unknown=\"ignore\"),[\"sex\",\"smoker\",\"region\"])\n",
    ")\n",
    "# Create X and y values\n",
    "X = insurance.drop(\"charges\",axis=1)\n",
    "y = insurance[\"charges\"]\n",
    "#build our train and test sets\n",
    "\n",
    "X_train, X_test, y_train, y_test = train_test_split(X,y, test_size= 0.2, random_state=42)\n",
    "\n",
    "# Fit the column transformer to our training data\n",
    "ct.fit(X_train)\n",
    "# Transform training and test data with normalization (MinMaxScalar) and OneHotEncoder\n",
    "X_train_normal = ct.transform(X_train)\n",
    "X_test_normal = ct.transform(X_test)\n",
    "# print(\"\\n\\n\\n X train: \\n\", X_train_normal)\n",
    "# print(\"\\n\\n\\n X test: \\n\", X_test_normal)\n",
    "# tf.shape(X_train_normal), len(X_train_normal), len(X_train_normal[0])"
   ]
  },
  {
   "cell_type": "code",
   "execution_count": null,
   "metadata": {
    "colab": {
     "base_uri": "https://localhost:8080/",
     "height": 272
    },
    "executionInfo": {
     "elapsed": 48,
     "status": "ok",
     "timestamp": 1757399178893,
     "user": {
      "displayName": "Moges Tesema",
      "userId": "14633968793904231207"
     },
     "user_tz": -180
    },
    "id": "4En08NqFgagr",
    "outputId": "c669c095-c665-468b-d635-83b5c686ce27"
   },
   "outputs": [],
   "source": [
    "X_train.loc[0]"
   ]
  },
  {
   "cell_type": "code",
   "execution_count": null,
   "metadata": {
    "colab": {
     "base_uri": "https://localhost:8080/"
    },
    "executionInfo": {
     "elapsed": 12,
     "status": "ok",
     "timestamp": 1757399178909,
     "user": {
      "displayName": "Moges Tesema",
      "userId": "14633968793904231207"
     },
     "user_tz": -180
    },
    "id": "hZOXgIuRgqtv",
    "outputId": "427a2936-9035-46c3-cbb1-4617696f3f47"
   },
   "outputs": [],
   "source": [
    "X_train_normal[100]"
   ]
  },
  {
   "cell_type": "markdown",
   "metadata": {
    "id": "3s6TQEWuhehQ"
   },
   "source": [
    "### Our data has been normalized and one hot encoded. Now let's build a neural network model on it and see how it goes."
   ]
  },
  {
   "cell_type": "code",
   "execution_count": null,
   "metadata": {
    "colab": {
     "base_uri": "https://localhost:8080/"
    },
    "executionInfo": {
     "elapsed": 14638,
     "status": "ok",
     "timestamp": 1757399193550,
     "user": {
      "displayName": "Moges Tesema",
      "userId": "14633968793904231207"
     },
     "user_tz": -180
    },
    "id": "U4YGuHnghc85",
    "outputId": "88b9a3a7-e3b6-4f6c-d25b-54869db222a8"
   },
   "outputs": [],
   "source": [
    "# Build a neural network model to fit on our normalized data\n",
    "tf.random.set_seed(42)\n",
    "\n",
    "# 1. Crate the model\n",
    "insurance_model_4 = tf.keras.Sequential([\n",
    "    tf.keras.layers.Dense(100),\n",
    "    tf.keras.layers.Dense(10),\n",
    "    tf.keras.layers.Dense(1)\n",
    "])\n",
    "\n",
    "# 2. Compile the model\n",
    "insurance_model_4.compile(loss=tf.keras.losses.mae,\n",
    "                          optimizer=tf.keras.optimizers.Adam(),\n",
    "                          metrics=[\"mae\"])\n",
    "# 3. Fit the model\n",
    "\n",
    "history = insurance_model_4.fit(X_train_normal,y_train, epochs=100)\n"
   ]
  },
  {
   "cell_type": "code",
   "execution_count": null,
   "metadata": {
    "colab": {
     "base_uri": "https://localhost:8080/",
     "height": 484
    },
    "executionInfo": {
     "elapsed": 382,
     "status": "ok",
     "timestamp": 1757399193935,
     "user": {
      "displayName": "Moges Tesema",
      "userId": "14633968793904231207"
     },
     "user_tz": -180
    },
    "id": "qfdbB5ubm3T3",
    "outputId": "4aa68f23-2c2f-4b8a-dc28-6fab6157c309"
   },
   "outputs": [],
   "source": [
    "insurance_model_4.evaluate(X_test_normal,y_test)\n",
    "pd.DataFrame(history.history).plot()\n",
    "plt.ylabel(\"loss\")\n",
    "plt.xlabel(\"epochs\")"
   ]
  },
  {
   "cell_type": "code",
   "execution_count": null,
   "metadata": {
    "executionInfo": {
     "elapsed": 5,
     "status": "ok",
     "timestamp": 1757399193979,
     "user": {
      "displayName": "Moges Tesema",
      "userId": "14633968793904231207"
     },
     "user_tz": -180
    },
    "id": "ws5dVdLgon8x"
   },
   "outputs": [],
   "source": []
  }
 ],
 "metadata": {
  "colab": {
   "authorship_tag": "ABX9TyNnyR5fxdh1f8Boujm87fXx",
   "mount_file_id": "115ju5FUr6svkcRlNgcc1FRrI0YQGF93r",
   "provenance": [],
   "toc_visible": true
  },
  "kernelspec": {
   "display_name": "Python 3",
   "name": "python3"
  },
  "language_info": {
   "name": "python",
   "version": "3.12.6"
  }
 },
 "nbformat": 4,
 "nbformat_minor": 0
}
